{
 "cells": [
  {
   "cell_type": "markdown",
   "metadata": {
    "lang": "zh-cn"
   },
   "source": [
    "Python外壳\n",
    "=============\n",
    "\n",
    "IDLE\n",
    "----\n",
    "\n",
    "IDLE随每个Python发行版一起提供，是日常编程的有用工具。其编辑器提供语法高亮显示。\n",
    "\n",
    "例如，您可能要使用另一个Python Shell有两个原因：\n",
    "\n",
    "-使用Python提示符时，您喜欢变量名称，文件名和命令的自动完成。在这种情况下，*IPython*是您选择的工具（请参见下文）。 IPython不提供编辑器，但是您可以继续使用IDLE编辑器来编辑文件，或者使用您喜欢的任何其他编辑器。\n",
    "\n",
    "IPython为经验丰富的Python程序员提供了许多不错的功能，包括便捷的代码配置文件（请参见<http://ipython.scipy.org>）。\n",
    "\n",
    "最近，一些自动完成功能也已添加到“空闲”中（键入对象名称和关键字的前几个字母后，按Tab键）。"
   ]
  },
  {
   "cell_type": "markdown",
   "metadata": {
    "lang": "zh-cn"
   },
   "source": [
    "Python（命令行）\n",
    "---------------------\n",
    "\n",
    "这是Python Shell最基本的外观。它与IDLE中的Python提示符非常相似，但是没有可单击的菜单，也没有编辑文件的功能。"
   ]
  },
  {
   "cell_type": "markdown",
   "metadata": {
    "lang": "zh-cn"
   },
   "source": [
    "交互式Python（IPython）\n",
    "----------------------------\n",
    "\n",
    "### IPython控制台\n",
    "\n",
    "IPython是Python命令行的改进版本。它是一种有价值的工具，值得探索其功能（请参阅<http://ipython.org/ipython-doc/stable/interactive/qtconsole.html>）\n",
    "\n",
    "您会发现以下功能非常有用：\n",
    "\n",
    "- 自动完成\n",
    "    假设您要输入<span>`a = range（10）`</span>。不用输入所有字母，只需输入<span>`a = ra`</span>并按“ Tab”键即可。 Ipython现在将显示所有以<span>`ra`</span>开头的命令（和变量名）。如果您输入第三个字母（此处是<span>`n`</span>），然后再次按“ Tab”，则Ipython将自动完成并自动添加<span>`ge`</span>。\n",
    "    这也适用于变量名称和模块。\n",
    "\n",
    "- 要获得有关命令的帮助，我们可以使用Python的help命令。例如：<span>`help（range）`</span>。 Ipython提供了一个快捷方式。要达到相同的目的，只需键入命令后跟问号即可：<span>`range？`</span>\n",
    "\n",
    "- 您可以相对轻松地浏览计算机上的目录。例如，\n",
    "\n",
    "    -<span> `!dir`</span>列出当前目录的内容（与<span>`ls`</span>相同）\n",
    "\n",
    "    -<span>`pwd`</span>显示当前工作目录\n",
    "\n",
    "    -<span>`cd`</span>允许更改目录"
   ]
  },
  {
   "cell_type": "markdown",
   "metadata": {
    "lang": "zh-cn"
   },
   "source": [
    "- 通常，在命令前使用感叹号会将命令传递到外壳程序（而不是Python解释器）。\n",
    "\n",
    "- 您可以使用<span>`%run`</span>从ipython执行Python程序。假设您在当前目录中有一个文件“ hello.py”。然后可以通过键入以下内容来执行它：<span>`%run hello`</span>\n",
    "\n",
    "   请注意，这与在IDLE中执行python程序不同：IDLE重新启动Python解释程序会话，因此在执行开始之前删除所有现有对象。 ipython中的<span>`run`</span>命令不是这种情况（使用Emacs Python模式从Emacs执行大块Python代码时也是如此）。特别是如果需要设置一些对象来测试一个人正在处理的代码，这将非常有用。使用ipython的<span>`run`</span>或Emacs代替IDLE可以将这些对象保留在解释器会话中，并且仅更新正在开发的函数/类/ ...等。\n",
    "\n",
    "- 允许对命令历史记录进行多行编辑\n",
    "\n",
    "- 提供即时语法高亮显示\n",
    "\n",
    "- 即时显示文档字符串\n",
    "\n",
    "- 可以内联matplotlib图形（如果以`％matplotlib inline`开头，则激活模式）\n",
    "\n",
    "- `%load`从磁盘或表单URL加载文件以进行编辑\n",
    "\n",
    "- `%timeit`衡量给定语句的执行时间\n",
    "\n",
    "- …还有更多。\n",
    "\n",
    "- 在<http://ipython.org/ipython-doc/dev/interactive/qtconsole.html>阅读更多\n",
    "\n",
    "如果可以访问此Shell，则可能需要将其视为默认的Python提示符。"
   ]
  },
  {
   "cell_type": "markdown",
   "metadata": {
    "lang": "zh-cn"
   },
   "source": [
    "### Jupyter Notebook\n",
    "\n",
    "Jupyter Notebook（以前的IPython Notebook）使您能够执行，存储，加载，重新执行一系列Python命令，并在两者之间包含解释性文本，图像和其他媒体。\n",
    "\n",
    "这是一个令人兴奋的新近发展，它有可能发展成为具有重要意义的工具，例如\n",
    "\n",
    "- 记录计算和数据处理\n",
    "\n",
    "- 支持学与教\n",
    "\n",
    "    - Python本身\n",
    "\n",
    "    - 统计方法\n",
    "\n",
    "    - 常规数据后处理\n",
    "\n",
    "    - …\n",
    "\n",
    "- 文档新代码\n",
    "\n",
    "- 通过重新运行ipython笔记本并将存储的输出与计算的输出进行比较来进行自动回归测试\n",
    "\n",
    "**进一步阅读**\n",
    "\n",
    "- Jupyter笔记本（<http://jupyter-notebook.readthedocs.io/en/latest/>）。\n",
    "\n",
    "- IPython（<http://ipython.org>）。"
   ]
  },
  {
   "cell_type": "markdown",
   "metadata": {
    "lang": "zh-cn"
   },
   "source": [
    "Spyder\n",
    "------\n",
    "\n",
    "Spyder是科学PYthon开发环境：得益于IPython（增强的交互式Python解释器）和流行的Python库（例如， NumPy（线性代数），SciPy（信号和图像处理）或matplotlib（交互式2D / 3D绘图）。有关更多信息，请参见<http://pythonhosted.org/spyder/>。\n",
    "\n",
    "Spyder的一些重要功能：\n",
    "\n",
    "- 在Spyder中，IPython控制台是默认的Python解释器，并且\n",
    "\n",
    "- 编辑器中的代码可以在此缓冲区中完全或部分执行。\n",
    "\n",
    "- 编辑器支持使用pyflakes自动检查Python错误，并且\n",
    "\n",
    "- 如果代码格式偏离PEP8样式指南，则编辑器会警告（如果需要）。\n",
    "\n",
    "- 可以激活Ipython调试器，并且\n",
    "\n",
    "- 提供了一个探查器。\n",
    "\n",
    "- 对象浏览器会即时显示有关功能，方法等的文档，\n",
    "\n",
    "- 变量浏览器显示数字变量的名称，大小和值。\n",
    "\n",
    "Spyder目前（截至2014年）正致力于发展成为强大而健壮的多平台集成环境以进行Python开发，尤其是针对科学计算和工程的Python。\n",
    "\n",
    "编者\n",
    "-------\n",
    "\n",
    "用于编程的所有主要编辑器都提供Python模式（例如Emacs，Vim，Sublime Text），一些集成开发环境（IDE）附带了自己的编辑器（Spyder，Eclipse）。其中哪一个最好，部分取决于选择。\n",
    "\n",
    "对于初学者来说，Spyder似乎是一个明智的选择，因为它提供了IDE，可以在解释器会话中执行代码块，并且易于提取。"
   ]
  }
 ],
 "metadata": {
  "kernelspec": {
   "display_name": "Python 3",
   "language": "python",
   "name": "python3"
  },
  "language_info": {
   "codemirror_mode": {
    "name": "ipython",
    "version": 3
   },
   "file_extension": ".py",
   "mimetype": "text/x-python",
   "name": "python",
   "nbconvert_exporter": "python",
   "pygments_lexer": "ipython3",
   "version": "3.7.6"
  },
  "nbTranslate": {
   "displayLangs": [
    "zh-cn",
    "en"
   ],
   "hotkey": "alt-t",
   "langInMainMenu": true,
   "sourceLang": "en",
   "targetLang": "zh-cn",
   "useGoogleTranslate": true
  }
 },
 "nbformat": 4,
 "nbformat_minor": 1
}

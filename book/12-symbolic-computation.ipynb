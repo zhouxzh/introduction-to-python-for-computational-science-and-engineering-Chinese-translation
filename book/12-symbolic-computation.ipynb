{
 "cells": [
  {
   "cell_type": "markdown",
   "metadata": {
    "lang": "zh-cn"
   },
   "source": [
    "符号计算\n",
    "====================\n",
    "\n",
    "象征\n",
    "-----\n",
    "\n",
    "在本节中，我们介绍SymPy（SYMbolic Python）库的一些基本功能。与数值计算（涉及数字）相反，在符号计算中，我们正在处理和转换通用变量。\n",
    "\n",
    "SymPy主页为<http://sympy.org/>，并提供此库的完整（最新）文档。\n",
    "\n",
    "与浮点运算相比，符号计算非常慢（例如，请参见[小数符号计算]（13-numeric-computation.ipynb＃Symbolic-calculation）），因此通常不用于直接仿真。但是，它是支持编写代码和符号工作的强大工具。有时，在执行模拟之前，我们会在模拟中使用符号运算来计算出最有效的数字代码。\n",
    "\n",
    "### 输出\n",
    "\n",
    "在开始使用sympy之前，我们将调用`init_printing`。这告诉sympy以更好的格式显示表达式。"
   ]
  },
  {
   "cell_type": "code",
   "execution_count": 1,
   "metadata": {},
   "outputs": [],
   "source": [
    "import sympy\n",
    "sympy.init_printing()"
   ]
  },
  {
   "cell_type": "markdown",
   "metadata": {
    "lang": "zh-cn"
   },
   "source": [
    "### 符号\n",
    "\n",
    "在执行任何符号操作之前，我们需要使用SymPy的`Symbol`函数创建符号变量："
   ]
  },
  {
   "cell_type": "code",
   "execution_count": 2,
   "metadata": {},
   "outputs": [
    {
     "data": {
      "text/plain": [
       "sympy.core.symbol.Symbol"
      ]
     },
     "execution_count": 2,
     "metadata": {},
     "output_type": "execute_result"
    }
   ],
   "source": [
    "from sympy import Symbol\n",
    "x = Symbol('x')\n",
    "type(x)"
   ]
  },
  {
   "cell_type": "code",
   "execution_count": 3,
   "metadata": {},
   "outputs": [
    {
     "data": {
      "image/png": "[encoded data removed]",
      "text/latex": [
       "$$x$$"
      ],
      "text/plain": [
       "x"
      ]
     },
     "execution_count": 3,
     "metadata": {},
     "output_type": "execute_result"
    }
   ],
   "source": [
    "y = Symbol('y')\n",
    "2 * x - x"
   ]
  },
  {
   "cell_type": "code",
   "execution_count": 4,
   "metadata": {},
   "outputs": [
    {
     "data": {
      "image/png": "[encoded data removed]",
      "text/latex": [
       "$$2 x + 11 y$$"
      ],
      "text/plain": [
       "2⋅x + 11⋅y"
      ]
     },
     "execution_count": 4,
     "metadata": {},
     "output_type": "execute_result"
    }
   ],
   "source": [
    "x + y + x + 10*y"
   ]
  },
  {
   "cell_type": "code",
   "execution_count": 5,
   "metadata": {},
   "outputs": [
    {
     "data": {
      "image/png": "[encoded data removed]",
      "text/latex": [
       "$$x + 10$$"
      ],
      "text/plain": [
       "x + 10"
      ]
     },
     "execution_count": 5,
     "metadata": {},
     "output_type": "execute_result"
    }
   ],
   "source": [
    "y + x - y + 10"
   ]
  },
  {
   "cell_type": "markdown",
   "metadata": {
    "lang": "zh-cn"
   },
   "source": [
    "我们可以使用`symbols`函数来简化多个符号变量的创建。例如，要创建符号变量`x`，`y`和`z`，我们可以使用"
   ]
  },
  {
   "cell_type": "code",
   "execution_count": 6,
   "metadata": {},
   "outputs": [
    {
     "data": {
      "image/png": "[encoded data removed]",
      "text/latex": [
       "$$2 y + 3 z$$"
      ],
      "text/plain": [
       "2⋅y + 3⋅z"
      ]
     },
     "execution_count": 6,
     "metadata": {},
     "output_type": "execute_result"
    }
   ],
   "source": [
    "import sympy\n",
    "x, y, z = sympy.symbols('x,y,z')\n",
    "x + 2*y + 3*z - x"
   ]
  },
  {
   "cell_type": "markdown",
   "metadata": {
    "lang": "zh-cn"
   },
   "source": [
    "完成术语处理后，有时我们希望为变量插入数字。可以使用`subs`方法来完成。"
   ]
  },
  {
   "cell_type": "code",
   "execution_count": 7,
   "metadata": {},
   "outputs": [
    {
     "data": {
      "image/png": "[encoded data removed]",
      "text/latex": [
       "$$x + 2 y$$"
      ],
      "text/plain": [
       "x + 2⋅y"
      ]
     },
     "execution_count": 7,
     "metadata": {},
     "output_type": "execute_result"
    }
   ],
   "source": [
    "from sympy import symbols\n",
    "x, y = symbols('x,y')\n",
    "x + 2*y"
   ]
  },
  {
   "cell_type": "code",
   "execution_count": 8,
   "metadata": {},
   "outputs": [
    {
     "data": {
      "image/png": "[encoded data removed]",
      "text/latex": [
       "$$x + 2 y$$"
      ],
      "text/plain": [
       "x + 2⋅y"
      ]
     },
     "execution_count": 8,
     "metadata": {},
     "output_type": "execute_result"
    }
   ],
   "source": [
    "x + 2*y.subs(x, 10)"
   ]
  },
  {
   "cell_type": "code",
   "execution_count": 9,
   "metadata": {},
   "outputs": [
    {
     "data": {
      "image/png": "[encoded data removed]",
      "text/latex": [
       "$$2 y + 10$$"
      ],
      "text/plain": [
       "2⋅y + 10"
      ]
     },
     "execution_count": 9,
     "metadata": {},
     "output_type": "execute_result"
    }
   ],
   "source": [
    "(x + 2*y).subs(x, 10)"
   ]
  },
  {
   "cell_type": "code",
   "execution_count": 10,
   "metadata": {},
   "outputs": [
    {
     "data": {
      "image/png": "[encoded data removed]",
      "text/latex": [
       "$$16$$"
      ],
      "text/plain": [
       "16"
      ]
     },
     "execution_count": 10,
     "metadata": {},
     "output_type": "execute_result"
    }
   ],
   "source": [
    "(x + 2*y).subs(x, 10).subs(y, 3)"
   ]
  },
  {
   "cell_type": "code",
   "execution_count": 11,
   "metadata": {},
   "outputs": [
    {
     "data": {
      "image/png": "[encoded data removed]",
      "text/latex": [
       "$$16$$"
      ],
      "text/plain": [
       "16"
      ]
     },
     "execution_count": 11,
     "metadata": {},
     "output_type": "execute_result"
    }
   ],
   "source": [
    "(x + 2*y).subs({x:10, y:3})"
   ]
  },
  {
   "cell_type": "markdown",
   "metadata": {
    "lang": "zh-cn"
   },
   "source": [
    "我们还可以将符号变量替换为另一个变量，例如在本示例中，在将`x`替换为数字`2`之前，将`y`替换为`x`。"
   ]
  },
  {
   "cell_type": "code",
   "execution_count": 12,
   "metadata": {},
   "outputs": [
    {
     "data": {
      "image/png": "[encoded data removed]",
      "text/latex": [
       "$$3 x + y^{2}$$"
      ],
      "text/plain": [
       "       2\n",
       "3⋅x + y "
      ]
     },
     "execution_count": 12,
     "metadata": {},
     "output_type": "execute_result"
    }
   ],
   "source": [
    "myterm = 3*x + y**2\n",
    "myterm"
   ]
  },
  {
   "cell_type": "code",
   "execution_count": 13,
   "metadata": {},
   "outputs": [
    {
     "data": {
      "image/png": "[encoded data removed]",
      "text/latex": [
       "$$y^{2} + 3 y$$"
      ],
      "text/plain": [
       " 2      \n",
       "y  + 3⋅y"
      ]
     },
     "execution_count": 13,
     "metadata": {},
     "output_type": "execute_result"
    }
   ],
   "source": [
    "myterm.subs(x, y)"
   ]
  },
  {
   "cell_type": "code",
   "execution_count": 14,
   "metadata": {},
   "outputs": [
    {
     "data": {
      "image/png": "[encoded data removed]",
      "text/latex": [
       "$$10$$"
      ],
      "text/plain": [
       "10"
      ]
     },
     "execution_count": 14,
     "metadata": {},
     "output_type": "execute_result"
    }
   ],
   "source": [
    "myterm.subs(x, y).subs(y, 2)"
   ]
  },
  {
   "cell_type": "markdown",
   "metadata": {
    "lang": "zh-cn"
   },
   "source": [
    "从现在开始，我们介绍的一些代码片段和示例将假定所需的符号已经定义。如果您尝试一个示例，而SymPy给出类似` NameError：name'x'not defined`的消息，则可能是因为您需要使用上述方法之一来定义符号。"
   ]
  },
  {
   "cell_type": "markdown",
   "metadata": {
    "lang": "zh-cn"
   },
   "source": [
    "### isympy\n",
    "\n",
    "`isympy`可执行文件是ipython的包装器，它创建符号（实数）变量`x`，`y`和`z`，符号整数变量`k`，`m`和`n`以及符号函数变量。 `f`，`g`和`h`，并从SymPy顶层导入所有对象。\n",
    "\n",
    "这很容易找出新功能或进行交互式实验\n",
    "\n",
    "    $> isympy\n",
    "    适用于SymPy 0.6.7的Python 2.6.5控制台\n",
    "\n",
    "    这些命令已执行：\n",
    "    >>>来自__未来__进口部门\n",
    "    >>>从sympy导入*\n",
    "    >>> x，y，z =符号（'xyz'）\n",
    "    >>> k，m，n =符号（'kmn'，整数= True）\n",
    "    >>> f，g，h = map（Function，'fgh'）\n",
    "\n",
    "    可以在http://sympy.org/找到文档。\n",
    "\n",
    "    在[1]中："
   ]
  },
  {
   "cell_type": "markdown",
   "metadata": {
    "lang": "zh-cn"
   },
   "source": [
    "### 数值类型\n",
    "\n",
    "SymPy具有数字类型` Rational` 和 `RealNumber`。有理数类将有理数表示为两个整数对：分子和分母，因此，`Rational（1,2）`代表`1/2`，`Rational（5,2）`代表`5/2`等等。"
   ]
  },
  {
   "cell_type": "code",
   "execution_count": 15,
   "metadata": {},
   "outputs": [],
   "source": [
    "from sympy import Rational"
   ]
  },
  {
   "cell_type": "code",
   "execution_count": 16,
   "metadata": {},
   "outputs": [
    {
     "data": {
      "image/png": "[encoded data removed]",
      "text/latex": [
       "$$\\frac{1}{10}$$"
      ],
      "text/plain": [
       "1/10"
      ]
     },
     "execution_count": 16,
     "metadata": {},
     "output_type": "execute_result"
    }
   ],
   "source": [
    "a = Rational(1, 10)\n",
    "a"
   ]
  },
  {
   "cell_type": "code",
   "execution_count": 17,
   "metadata": {},
   "outputs": [
    {
     "data": {
      "image/png": "[encoded data removed]",
      "text/latex": [
       "$$\\frac{45}{67}$$"
      ],
      "text/plain": [
       "45\n",
       "──\n",
       "67"
      ]
     },
     "execution_count": 17,
     "metadata": {},
     "output_type": "execute_result"
    }
   ],
   "source": [
    "b = Rational(45, 67)\n",
    "b"
   ]
  },
  {
   "cell_type": "code",
   "execution_count": 18,
   "metadata": {},
   "outputs": [
    {
     "data": {
      "image/png": "[encoded data removed]",
      "text/latex": [
       "$$\\frac{9}{134}$$"
      ],
      "text/plain": [
       "9/134"
      ]
     },
     "execution_count": 18,
     "metadata": {},
     "output_type": "execute_result"
    }
   ],
   "source": [
    "a * b"
   ]
  },
  {
   "cell_type": "code",
   "execution_count": 19,
   "metadata": {},
   "outputs": [
    {
     "data": {
      "image/png": "[encoded data removed]",
      "text/latex": [
       "$$- \\frac{383}{670}$$"
      ],
      "text/plain": [
       "-383 \n",
       "─────\n",
       " 670 "
      ]
     },
     "execution_count": 19,
     "metadata": {},
     "output_type": "execute_result"
    }
   ],
   "source": [
    "a - b"
   ]
  },
  {
   "cell_type": "code",
   "execution_count": 20,
   "metadata": {},
   "outputs": [
    {
     "data": {
      "image/png": "[encoded data removed]",
      "text/latex": [
       "$$\\frac{517}{670}$$"
      ],
      "text/plain": [
       "517\n",
       "───\n",
       "670"
      ]
     },
     "execution_count": 20,
     "metadata": {},
     "output_type": "execute_result"
    }
   ],
   "source": [
    "a + b"
   ]
  },
  {
   "cell_type": "markdown",
   "metadata": {
    "lang": "zh-cn"
   },
   "source": [
    "请注意，Rational类与*exactly*有理表达式一起使用。这与Python的标准 `float` 数据类型相反，后者使用浮点表示法表示*近似*（有理数）。\n",
    "\n",
    "我们可以使用`float`或Rational对象的`evalf`方法将`sympy.Rational`类型转换为Python浮点变量。`evalf`方法可以使用一个参数，该参数指定应为浮点近似计算多少个数字（当然，并非所有这些数字都可以由Python的浮点类型使用）。"
   ]
  },
  {
   "cell_type": "code",
   "execution_count": 21,
   "metadata": {},
   "outputs": [
    {
     "data": {
      "image/png": "[encoded data removed]",
      "text/latex": [
       "$$\\frac{2}{3}$$"
      ],
      "text/plain": [
       "2/3"
      ]
     },
     "execution_count": 21,
     "metadata": {},
     "output_type": "execute_result"
    }
   ],
   "source": [
    "c = Rational(2, 3)\n",
    "c"
   ]
  },
  {
   "cell_type": "code",
   "execution_count": 22,
   "metadata": {},
   "outputs": [
    {
     "data": {
      "image/png": "[encoded data removed]",
      "text/latex": [
       "$$0.6666666666666666$$"
      ],
      "text/plain": [
       "0.6666666666666666"
      ]
     },
     "execution_count": 22,
     "metadata": {},
     "output_type": "execute_result"
    }
   ],
   "source": [
    "float(c)"
   ]
  },
  {
   "cell_type": "code",
   "execution_count": 23,
   "metadata": {},
   "outputs": [
    {
     "data": {
      "image/png": "[encoded data removed]",
      "text/latex": [
       "$$0.666666666666667$$"
      ],
      "text/plain": [
       "0.666666666666667"
      ]
     },
     "execution_count": 23,
     "metadata": {},
     "output_type": "execute_result"
    }
   ],
   "source": [
    "c.evalf()"
   ]
  },
  {
   "cell_type": "code",
   "execution_count": 24,
   "metadata": {},
   "outputs": [
    {
     "data": {
      "image/png": "[encoded data removed]",
      "text/latex": [
       "$$0.66666666666666666666666666666666666666666666666667$$"
      ],
      "text/plain": [
       "0.66666666666666666666666666666666666666666666666667"
      ]
     },
     "execution_count": 24,
     "metadata": {},
     "output_type": "execute_result"
    }
   ],
   "source": [
    "c.evalf(50)"
   ]
  },
  {
   "cell_type": "markdown",
   "metadata": {
    "lang": "zh-cn"
   },
   "source": [
    "### 差异化与整合\n",
    "\n",
    "SymPy能够执行许多功能的区分和集成："
   ]
  },
  {
   "cell_type": "code",
   "execution_count": 25,
   "metadata": {},
   "outputs": [
    {
     "data": {
      "image/png": "[encoded data removed]",
      "text/latex": [
       "$$\\cos{\\left (x \\right )}$$"
      ],
      "text/plain": [
       "cos(x)"
      ]
     },
     "execution_count": 25,
     "metadata": {},
     "output_type": "execute_result"
    }
   ],
   "source": [
    "from sympy import Symbol, exp, sin, sqrt, diff\n",
    "x = Symbol('x')\n",
    "y = Symbol('y')\n",
    "diff(sin(x), x)"
   ]
  },
  {
   "cell_type": "code",
   "execution_count": 26,
   "metadata": {},
   "outputs": [
    {
     "data": {
      "image/png": "[encoded data removed]",
      "text/latex": [
       "$$0$$"
      ],
      "text/plain": [
       "0"
      ]
     },
     "execution_count": 26,
     "metadata": {},
     "output_type": "execute_result"
    }
   ],
   "source": [
    "diff(sin(x), y)"
   ]
  },
  {
   "cell_type": "code",
   "execution_count": 27,
   "metadata": {},
   "outputs": [
    {
     "data": {
      "image/png": "[encoded data removed]",
      "text/latex": [
       "$$9 x^{8} + 20 x + 3$$"
      ],
      "text/plain": [
       "   8           \n",
       "9⋅x  + 20⋅x + 3"
      ]
     },
     "execution_count": 27,
     "metadata": {},
     "output_type": "execute_result"
    }
   ],
   "source": [
    "diff(10 + 3*x + 4*y + 10*x**2 + x**9, x)"
   ]
  },
  {
   "cell_type": "code",
   "execution_count": 28,
   "metadata": {},
   "outputs": [
    {
     "data": {
      "image/png": "[encoded data removed]",
      "text/latex": [
       "$$4$$"
      ],
      "text/plain": [
       "4"
      ]
     },
     "execution_count": 28,
     "metadata": {},
     "output_type": "execute_result"
    }
   ],
   "source": [
    "diff(10 + 3*x + 4*y + 10*x**2 + x**9, y)"
   ]
  },
  {
   "cell_type": "code",
   "execution_count": 29,
   "metadata": {},
   "outputs": [
    {
     "data": {
      "image/png": "[encoded data removed]",
      "text/latex": [
       "$$32$$"
      ],
      "text/plain": [
       "32"
      ]
     },
     "execution_count": 29,
     "metadata": {},
     "output_type": "execute_result"
    }
   ],
   "source": [
    "diff(10 + 3*x + 4*y + 10*x**2 + x**9, x).subs(x,1)"
   ]
  },
  {
   "cell_type": "code",
   "execution_count": 30,
   "metadata": {},
   "outputs": [
    {
     "data": {
      "image/png": "[encoded data removed]",
      "text/latex": [
       "$$263.66015625$$"
      ],
      "text/plain": [
       "263.660156250000"
      ]
     },
     "execution_count": 30,
     "metadata": {},
     "output_type": "execute_result"
    }
   ],
   "source": [
    "diff(10 + 3*x + 4*y + 10*x**2 + x**9, x).subs(x,1.5)"
   ]
  },
  {
   "cell_type": "code",
   "execution_count": 31,
   "metadata": {},
   "outputs": [
    {
     "data": {
      "image/png": "[encoded data removed]",
      "text/latex": [
       "$$e^{x}$$"
      ],
      "text/plain": [
       " x\n",
       "ℯ "
      ]
     },
     "execution_count": 31,
     "metadata": {},
     "output_type": "execute_result"
    }
   ],
   "source": [
    "diff(exp(x), x)"
   ]
  },
  {
   "cell_type": "code",
   "execution_count": 32,
   "metadata": {},
   "outputs": [
    {
     "data": {
      "image/png": "[encoded data removed]",
      "text/latex": [
       "$$- x e^{- \\frac{x^{2}}{2}}$$"
      ],
      "text/plain": [
       "      2 \n",
       "    -x  \n",
       "    ────\n",
       "     2  \n",
       "-x⋅ℯ    "
      ]
     },
     "execution_count": 32,
     "metadata": {},
     "output_type": "execute_result"
    }
   ],
   "source": [
    "diff(exp(-x ** 2 / 2), x)"
   ]
  },
  {
   "cell_type": "markdown",
   "metadata": {
    "lang": "zh-cn"
   },
   "source": [
    "SymPy`diff（）`函数至少接受两个参数：要微分的函数和要进行微分的变量。高阶导数可以通过指定其他变量或添加可选的整数参数来计算："
   ]
  },
  {
   "cell_type": "code",
   "execution_count": 33,
   "metadata": {},
   "outputs": [
    {
     "data": {
      "image/png": "[encoded data removed]",
      "text/latex": [
       "$$12 x^{3}$$"
      ],
      "text/plain": [
       "    3\n",
       "12⋅x "
      ]
     },
     "execution_count": 33,
     "metadata": {},
     "output_type": "execute_result"
    }
   ],
   "source": [
    "diff(3*x**4, x)"
   ]
  },
  {
   "cell_type": "code",
   "execution_count": 34,
   "metadata": {},
   "outputs": [
    {
     "data": {
      "image/png": "[encoded data removed]",
      "text/latex": [
       "$$72 x$$"
      ],
      "text/plain": [
       "72⋅x"
      ]
     },
     "execution_count": 34,
     "metadata": {},
     "output_type": "execute_result"
    }
   ],
   "source": [
    "diff(3*x**4, x, x, x)"
   ]
  },
  {
   "cell_type": "code",
   "execution_count": 35,
   "metadata": {},
   "outputs": [
    {
     "data": {
      "image/png": "[encoded data removed]",
      "text/latex": [
       "$$72 x$$"
      ],
      "text/plain": [
       "72⋅x"
      ]
     },
     "execution_count": 35,
     "metadata": {},
     "output_type": "execute_result"
    }
   ],
   "source": [
    "diff(3*x**4, x, 3)"
   ]
  },
  {
   "cell_type": "code",
   "execution_count": 36,
   "metadata": {},
   "outputs": [
    {
     "data": {
      "image/png": "[encoded data removed]",
      "text/latex": [
       "$$1512 x^{2} y^{5}$$"
      ],
      "text/plain": [
       "      2  5\n",
       "1512⋅x ⋅y "
      ]
     },
     "execution_count": 36,
     "metadata": {},
     "output_type": "execute_result"
    }
   ],
   "source": [
    "diff(3*x**4*y**7, x, 2, y, 2)"
   ]
  },
  {
   "cell_type": "code",
   "execution_count": 37,
   "metadata": {},
   "outputs": [
    {
     "data": {
      "image/png": "[encoded data removed]",
      "text/latex": [
       "$$1512 x^{2} y^{5}$$"
      ],
      "text/plain": [
       "      2  5\n",
       "1512⋅x ⋅y "
      ]
     },
     "execution_count": 37,
     "metadata": {},
     "output_type": "execute_result"
    }
   ],
   "source": [
    "diff(diff(3*x**4*y**7, x, x), y, y)"
   ]
  },
  {
   "cell_type": "markdown",
   "metadata": {
    "lang": "zh-cn"
   },
   "source": [
    "有时，SymPy可能会以不熟悉的形式返回结果。例如，如果您希望使用SymPy来检查是否正确区分了某些内容，则可能有用的技术是从结果中减去SymPy的结果，并检查答案是否为零。\n",
    "\n",
    "以一个多平方径向基函数，带有$r=\\sqrt{x^2+y^2}$和*σ*为常数的$\\phi(r)=\\sqrt{r^2+\\sigma^2}$的简单示例为例，我们可以验证*x*中的一阶导数是$\\partial\\phi/\\partial x=x/\\sqrt{r^2+\\sigma^2}$。\n",
    "\n",
    "在此示例中，我们首先要求SymPy打印派生词。看到它以与我们的试验导数不同的形式印刷，但是减法验证它们是相同的："
   ]
  },
  {
   "cell_type": "code",
   "execution_count": 38,
   "metadata": {},
   "outputs": [
    {
     "name": "stdout",
     "output_type": "stream",
     "text": [
      "x/sqrt(x**2 + y**2 + σ**2)\n"
     ]
    }
   ],
   "source": [
    "r = sqrt(x**2 + y**2)\n",
    "sigma = Symbol('σ')\n",
    "def phi(x,y,sigma):\n",
    "    return sqrt(x**2 + y**2 + sigma**2)\n",
    "\n",
    "mydfdx= x / sqrt(r**2 + sigma**2)\n",
    "print(diff(phi(x, y, sigma), x))"
   ]
  },
  {
   "cell_type": "code",
   "execution_count": 39,
   "metadata": {},
   "outputs": [
    {
     "name": "stdout",
     "output_type": "stream",
     "text": [
      "0\n"
     ]
    }
   ],
   "source": [
    "print(mydfdx - diff(phi(x, y, sigma), x))"
   ]
  },
  {
   "cell_type": "markdown",
   "metadata": {
    "lang": "zh-cn"
   },
   "source": [
    "在没有SymPy的帮助下，告诉我们表达式是相同的，这很简单，但是在更复杂的示例中，可能会有更多的术语，并且试图将我们的试验导数和SymPy的答案重新排列成越来越困难，费时且容易出错。相同的形式。在这种情况下，这种减法技术最为有用。\n",
    "\n",
    "集成使用类似的语法。对于不确定的情况，请指定要执行积分的函数和变量："
   ]
  },
  {
   "cell_type": "code",
   "execution_count": 40,
   "metadata": {},
   "outputs": [
    {
     "data": {
      "image/png": "[encoded data removed]",
      "text/latex": [
       "$$\\frac{x^{3}}{3}$$"
      ],
      "text/plain": [
       " 3\n",
       "x \n",
       "──\n",
       "3 "
      ]
     },
     "execution_count": 40,
     "metadata": {},
     "output_type": "execute_result"
    }
   ],
   "source": [
    "from sympy import integrate\n",
    "integrate(x**2, x)"
   ]
  },
  {
   "cell_type": "code",
   "execution_count": 41,
   "metadata": {},
   "outputs": [
    {
     "data": {
      "image/png": "[encoded data removed]",
      "text/latex": [
       "$$x^{2} y$$"
      ],
      "text/plain": [
       " 2  \n",
       "x ⋅y"
      ]
     },
     "execution_count": 41,
     "metadata": {},
     "output_type": "execute_result"
    }
   ],
   "source": [
    "integrate(x**2, y)"
   ]
  },
  {
   "cell_type": "code",
   "execution_count": 42,
   "metadata": {},
   "outputs": [
    {
     "data": {
      "image/png": "[encoded data removed]",
      "text/latex": [
       "$$y \\sin{\\left (x \\right )}$$"
      ],
      "text/plain": [
       "y⋅sin(x)"
      ]
     },
     "execution_count": 42,
     "metadata": {},
     "output_type": "execute_result"
    }
   ],
   "source": [
    "integrate(sin(x), y)"
   ]
  },
  {
   "cell_type": "code",
   "execution_count": 43,
   "metadata": {},
   "outputs": [
    {
     "data": {
      "image/png": "[encoded data removed]",
      "text/latex": [
       "$$- \\cos{\\left (x \\right )}$$"
      ],
      "text/plain": [
       "-cos(x)"
      ]
     },
     "execution_count": 43,
     "metadata": {},
     "output_type": "execute_result"
    }
   ],
   "source": [
    "integrate(sin(x), x)"
   ]
  },
  {
   "cell_type": "code",
   "execution_count": 44,
   "metadata": {},
   "outputs": [
    {
     "data": {
      "image/png": "[encoded data removed]",
      "text/latex": [
       "$$e^{- \\frac{x^{2}}{2}}$$"
      ],
      "text/plain": [
       "   2 \n",
       " -x  \n",
       " ────\n",
       "  2  \n",
       "ℯ    "
      ]
     },
     "execution_count": 44,
     "metadata": {},
     "output_type": "execute_result"
    }
   ],
   "source": [
    "integrate(-x*exp(-x**2/2), x)"
   ]
  },
  {
   "cell_type": "markdown",
   "metadata": {
    "lang": "zh-cn"
   },
   "source": [
    "我们可以通过向 `integrate（）` 提供一个包含感兴趣变量，上下限的元组来计算定积分。如果指定了多个变量，则执行多次积分。当SymPy返回 `Rational` 类中的结果时，可以以任何所需的精度将其评估为浮点表示形式（请参阅[数字类型](#Numeric-types)）。"
   ]
  },
  {
   "cell_type": "code",
   "execution_count": 45,
   "metadata": {},
   "outputs": [
    {
     "data": {
      "image/png": "[encoded data removed]",
      "text/latex": [
       "$$1$$"
      ],
      "text/plain": [
       "1"
      ]
     },
     "execution_count": 45,
     "metadata": {},
     "output_type": "execute_result"
    }
   ],
   "source": [
    "integrate(x*2, (x, 0, 1))"
   ]
  },
  {
   "cell_type": "code",
   "execution_count": 46,
   "metadata": {},
   "outputs": [
    {
     "data": {
      "image/png": "[encoded data removed]",
      "text/latex": [
       "$$\\frac{x^{3}}{3}$$"
      ],
      "text/plain": [
       " 3\n",
       "x \n",
       "──\n",
       "3 "
      ]
     },
     "execution_count": 46,
     "metadata": {},
     "output_type": "execute_result"
    }
   ],
   "source": [
    "integrate(x**2, x)"
   ]
  },
  {
   "cell_type": "code",
   "execution_count": 47,
   "metadata": {},
   "outputs": [
    {
     "data": {
      "image/png": "[encoded data removed]",
      "text/latex": [
       "$$\\frac{x^{4}}{12}$$"
      ],
      "text/plain": [
       " 4\n",
       "x \n",
       "──\n",
       "12"
      ]
     },
     "execution_count": 47,
     "metadata": {},
     "output_type": "execute_result"
    }
   ],
   "source": [
    "integrate(x**2, x, x)"
   ]
  },
  {
   "cell_type": "code",
   "execution_count": 48,
   "metadata": {},
   "outputs": [
    {
     "data": {
      "image/png": "[encoded data removed]",
      "text/latex": [
       "$$\\frac{x^{4} y}{12}$$"
      ],
      "text/plain": [
       " 4  \n",
       "x ⋅y\n",
       "────\n",
       " 12 "
      ]
     },
     "execution_count": 48,
     "metadata": {},
     "output_type": "execute_result"
    }
   ],
   "source": [
    "integrate(x**2, x, x, y)"
   ]
  },
  {
   "cell_type": "code",
   "execution_count": 49,
   "metadata": {},
   "outputs": [
    {
     "data": {
      "image/png": "[encoded data removed]",
      "text/latex": [
       "$$\\frac{8}{3}$$"
      ],
      "text/plain": [
       "8/3"
      ]
     },
     "execution_count": 49,
     "metadata": {},
     "output_type": "execute_result"
    }
   ],
   "source": [
    "integrate(x**2, (x, 0, 2))"
   ]
  },
  {
   "cell_type": "code",
   "execution_count": 50,
   "metadata": {},
   "outputs": [
    {
     "data": {
      "image/png": "[encoded data removed]",
      "text/latex": [
       "$$\\frac{16}{3}$$"
      ],
      "text/plain": [
       "16/3"
      ]
     },
     "execution_count": 50,
     "metadata": {},
     "output_type": "execute_result"
    }
   ],
   "source": [
    "integrate(x**2, (x, 0, 2), (x, 0, 2), (y, 0, 1))"
   ]
  },
  {
   "cell_type": "code",
   "execution_count": 51,
   "metadata": {},
   "outputs": [
    {
     "data": {
      "image/png": "[encoded data removed]",
      "text/latex": [
       "$$2.6666666666666665$$"
      ],
      "text/plain": [
       "2.6666666666666665"
      ]
     },
     "execution_count": 51,
     "metadata": {},
     "output_type": "execute_result"
    }
   ],
   "source": [
    "float(integrate(x**2, (x, 0, 2)))"
   ]
  },
  {
   "cell_type": "code",
   "execution_count": 52,
   "metadata": {},
   "outputs": [
    {
     "data": {
      "text/plain": [
       "sympy.core.numbers.Rational"
      ]
     },
     "execution_count": 52,
     "metadata": {},
     "output_type": "execute_result"
    }
   ],
   "source": [
    "type(integrate(x**2, (x, 0, 2)))"
   ]
  },
  {
   "cell_type": "code",
   "execution_count": 53,
   "metadata": {},
   "outputs": [
    {
     "data": {
      "image/png": "[encoded data removed]",
      "text/latex": [
       "$$2.66666666666667$$"
      ],
      "text/plain": [
       "2.66666666666667"
      ]
     },
     "execution_count": 53,
     "metadata": {},
     "output_type": "execute_result"
    }
   ],
   "source": [
    "result_rational=integrate(x**2, (x, 0, 2))\n",
    "result_rational.evalf()"
   ]
  },
  {
   "cell_type": "code",
   "execution_count": 54,
   "metadata": {},
   "outputs": [
    {
     "data": {
      "image/png": "[encoded data removed]",
      "text/latex": [
       "$$2.6666666666666666666666666666666666666666666666667$$"
      ],
      "text/plain": [
       "2.6666666666666666666666666666666666666666666666667"
      ]
     },
     "execution_count": 54,
     "metadata": {},
     "output_type": "execute_result"
    }
   ],
   "source": [
    "result_rational.evalf(50)"
   ]
  },
  {
   "cell_type": "markdown",
   "metadata": {
    "lang": "zh-cn"
   },
   "source": [
    "### 常微分方程\n",
    "\n",
    "SymPy通过其 `dsolve` 命令内置了对多种常微分方程求解的支持。我们需要设置ODE并将其作为第一个参数 `eq`传递。第二个参数是要求解的函数 `f（x）`。可选的第三个参数 `hint` 会影响 `dsolve` 使用的方法：某些方法更适合某些ODE类，或者比其他方法更简单地表示该解决方案。\n",
    "\n",
    "要设置ODE求解器，我们需要一种方法来引用我们要为其求解的未知函数及其派生函数。`Function`和`Derivative`类有助于实现这一点："
   ]
  },
  {
   "cell_type": "code",
   "execution_count": 55,
   "metadata": {},
   "outputs": [
    {
     "data": {
      "image/png": "[encoded data removed]",
      "text/latex": [
       "$$y{\\left (x \\right )} = C_{1} e^{- 5 x}$$"
      ],
      "text/plain": [
       "           -5⋅x\n",
       "y(x) = C₁⋅ℯ    "
      ]
     },
     "execution_count": 55,
     "metadata": {},
     "output_type": "execute_result"
    }
   ],
   "source": [
    "from sympy import Symbol, dsolve, Function, Derivative, Eq\n",
    "y = Function(\"y\")\n",
    "x = Symbol('x')\n",
    "y_ = Derivative(y(x), x)\n",
    "dsolve(y_ + 5*y(x), y(x))"
   ]
  },
  {
   "cell_type": "markdown",
   "metadata": {
    "lang": "zh-cn"
   },
   "source": [
    "注意`dsolve`是如何引入积分常数`C1`的。它会引入所需数量的常量，它们都将被命名为`Cn`，其中`n`是整数。还要注意，除非我们使用`Eq()`函数指定否则，`dsolve`的第一个参数将被视为等于零。"
   ]
  },
  {
   "cell_type": "code",
   "execution_count": 56,
   "metadata": {},
   "outputs": [
    {
     "data": {
      "image/png": "[encoded data removed]",
      "text/latex": [
       "$$y{\\left (x \\right )} = C_{1} e^{- 5 x}$$"
      ],
      "text/plain": [
       "           -5⋅x\n",
       "y(x) = C₁⋅ℯ    "
      ]
     },
     "execution_count": 56,
     "metadata": {},
     "output_type": "execute_result"
    }
   ],
   "source": [
    "dsolve(y_ + 5*y(x), y(x))"
   ]
  },
  {
   "cell_type": "code",
   "execution_count": 57,
   "metadata": {},
   "outputs": [
    {
     "data": {
      "image/png": "[encoded data removed]",
      "text/latex": [
       "$$y{\\left (x \\right )} = C_{1} e^{- 5 x}$$"
      ],
      "text/plain": [
       "           -5⋅x\n",
       "y(x) = C₁⋅ℯ    "
      ]
     },
     "execution_count": 57,
     "metadata": {},
     "output_type": "execute_result"
    }
   ],
   "source": [
    "dsolve(Eq(y_ + 5*y(x), 0), y(x))"
   ]
  },
  {
   "cell_type": "code",
   "execution_count": 58,
   "metadata": {},
   "outputs": [
    {
     "data": {
      "image/png": "[encoded data removed]",
      "text/latex": [
       "$$y{\\left (x \\right )} = \\frac{C_{1} e^{- 5 x}}{5} + \\frac{12}{5}$$"
      ],
      "text/plain": [
       "           -5⋅x     \n",
       "       C₁⋅ℯ       12\n",
       "y(x) = ──────── + ──\n",
       "          5       5 "
      ]
     },
     "execution_count": 58,
     "metadata": {},
     "output_type": "execute_result"
    }
   ],
   "source": [
    "dsolve(Eq(y_ + 5*y(x), 12), y(x))"
   ]
  },
  {
   "cell_type": "markdown",
   "metadata": {
    "lang": "zh-cn"
   },
   "source": [
    "`dsolve`的结果是`Equality`类的一个实例。当我们希望对函数进行数值评估并在其他地方使用结果（例如，如果要绘制*y*（*x*）对*x*的结果（*e.g.* ）时，会产生后果），因为即使在使用了`subs（）`和`evalf（）`之后，我们仍然有一个`Equality`，而不是任何标量。将函数评估为数字的方法是通过`Equality`的`rhs`属性。\n",
    "\n",
    "请注意，这里我们使用`z`来存储`dsolve`返回的`Equality`，即使它是名为`y（x）`的函数的表达式，也要强调`Equality`本身与它包含的数据。"
   ]
  },
  {
   "cell_type": "code",
   "execution_count": 59,
   "metadata": {},
   "outputs": [
    {
     "data": {
      "image/png": "[encoded data removed]",
      "text/latex": [
       "$$y{\\left (x \\right )} = C_{1} e^{- 5 x}$$"
      ],
      "text/plain": [
       "           -5⋅x\n",
       "y(x) = C₁⋅ℯ    "
      ]
     },
     "execution_count": 59,
     "metadata": {},
     "output_type": "execute_result"
    }
   ],
   "source": [
    "z = dsolve(y_ + 5*y(x), y(x))\n",
    "z"
   ]
  },
  {
   "cell_type": "code",
   "execution_count": 60,
   "metadata": {},
   "outputs": [
    {
     "data": {
      "text/plain": [
       "sympy.core.relational.Equality"
      ]
     },
     "execution_count": 60,
     "metadata": {},
     "output_type": "execute_result"
    }
   ],
   "source": [
    "type(z)"
   ]
  },
  {
   "cell_type": "code",
   "execution_count": 61,
   "metadata": {},
   "outputs": [
    {
     "data": {
      "image/png": "[encoded data removed]",
      "text/latex": [
       "$$C_{1} e^{- 5 x}$$"
      ],
      "text/plain": [
       "    -5⋅x\n",
       "C₁⋅ℯ    "
      ]
     },
     "execution_count": 61,
     "metadata": {},
     "output_type": "execute_result"
    }
   ],
   "source": [
    "z.rhs"
   ]
  },
  {
   "cell_type": "code",
   "execution_count": 62,
   "metadata": {},
   "outputs": [
    {
     "data": {
      "image/png": "[encoded data removed]",
      "text/latex": [
       "$$y{\\left (3 \\right )} = \\frac{2}{e^{15}}$$"
      ],
      "text/plain": [
       "          -15\n",
       "y(3) = 2⋅ℯ   "
      ]
     },
     "execution_count": 62,
     "metadata": {},
     "output_type": "execute_result"
    }
   ],
   "source": [
    "C1=Symbol('C1')\n",
    "y3 = z.subs({C1:2, x:3})\n",
    "y3"
   ]
  },
  {
   "cell_type": "code",
   "execution_count": 63,
   "metadata": {},
   "outputs": [
    {
     "data": {
      "image/png": "[encoded data removed]",
      "text/latex": [
       "$$y{\\left (3 \\right )} = 6.11804641 \\cdot 10^{-7}$$"
      ],
      "text/plain": [
       "y(3) = 6.11804641e-7"
      ]
     },
     "execution_count": 63,
     "metadata": {},
     "output_type": "execute_result"
    }
   ],
   "source": [
    "y3.evalf(10)"
   ]
  },
  {
   "cell_type": "code",
   "execution_count": 64,
   "metadata": {},
   "outputs": [
    {
     "data": {
      "image/png": "[encoded data removed]",
      "text/latex": [
       "$$\\frac{2}{e^{15}}$$"
      ],
      "text/plain": [
       "   -15\n",
       "2⋅ℯ   "
      ]
     },
     "execution_count": 64,
     "metadata": {},
     "output_type": "execute_result"
    }
   ],
   "source": [
    "y3.rhs"
   ]
  },
  {
   "cell_type": "code",
   "execution_count": 65,
   "metadata": {},
   "outputs": [
    {
     "data": {
      "image/png": "[encoded data removed]",
      "text/latex": [
       "$$6.11804641 \\cdot 10^{-7}$$"
      ],
      "text/plain": [
       "6.118046410e-7"
      ]
     },
     "execution_count": 65,
     "metadata": {},
     "output_type": "execute_result"
    }
   ],
   "source": [
    "y3.rhs.evalf(10)"
   ]
  },
  {
   "cell_type": "code",
   "execution_count": 66,
   "metadata": {},
   "outputs": [
    {
     "data": {
      "image/png": "[encoded data removed]",
      "text/latex": [
       "$$4.122307245 \\cdot 10^{-9}$$"
      ],
      "text/plain": [
       "4.122307245e-9"
      ]
     },
     "execution_count": 66,
     "metadata": {},
     "output_type": "execute_result"
    }
   ],
   "source": [
    "z.rhs.subs({C1:2, x:4}).evalf(10)"
   ]
  },
  {
   "cell_type": "code",
   "execution_count": 67,
   "metadata": {},
   "outputs": [
    {
     "data": {
      "image/png": "[encoded data removed]",
      "text/latex": [
       "$$2.777588773 \\cdot 10^{-11}$$"
      ],
      "text/plain": [
       "2.777588773e-11"
      ]
     },
     "execution_count": 67,
     "metadata": {},
     "output_type": "execute_result"
    }
   ],
   "source": [
    "z.rhs.subs({C1:2, x:5}).evalf(10)"
   ]
  },
  {
   "cell_type": "code",
   "execution_count": 68,
   "metadata": {},
   "outputs": [
    {
     "data": {
      "text/plain": [
       "sympy.core.numbers.Float"
      ]
     },
     "execution_count": 68,
     "metadata": {},
     "output_type": "execute_result"
    }
   ],
   "source": [
    "type(z.rhs.subs({C1:2, x:5}).evalf(10))"
   ]
  },
  {
   "cell_type": "markdown",
   "metadata": {
    "lang": "zh-cn"
   },
   "source": [
    "有时，`dsolve`可能会返回过于笼统的解决方案。一个示例是当某些系数可能很复杂时。例如，如果我们知道它们始终是真实的和肯定的，那么我们可以提供`dsolve`信息，以避免解决方案变得不必要的复杂："
   ]
  },
  {
   "cell_type": "code",
   "execution_count": 69,
   "metadata": {},
   "outputs": [
    {
     "data": {
      "image/png": "[encoded data removed]",
      "text/latex": [
       "$$f{\\left (x \\right )} = C_{1} e^{- i a^{2} x} + C_{2} e^{i a^{2} x}$$"
      ],
      "text/plain": [
       "               2            2  \n",
       "           -ⅈ⋅a ⋅x       ⅈ⋅a ⋅x\n",
       "f(x) = C₁⋅ℯ        + C₂⋅ℯ      "
      ]
     },
     "execution_count": 69,
     "metadata": {},
     "output_type": "execute_result"
    }
   ],
   "source": [
    "from sympy import *\n",
    "a, x = symbols('a,x')\n",
    "f = Function('f')\n",
    "dsolve(Derivative(f(x), x, 2) + a**4*f(x), f(x))"
   ]
  },
  {
   "cell_type": "code",
   "execution_count": 70,
   "metadata": {},
   "outputs": [
    {
     "data": {
      "image/png": "[encoded data removed]",
      "text/latex": [
       "$$f{\\left (x \\right )} = C_{1} \\sin{\\left (a^{2} x \\right )} + C_{2} \\cos{\\left (a^{2} x \\right )}$$"
      ],
      "text/plain": [
       "             ⎛ 2  ⎞         ⎛ 2  ⎞\n",
       "f(x) = C₁⋅sin⎝a ⋅x⎠ + C₂⋅cos⎝a ⋅x⎠"
      ]
     },
     "execution_count": 70,
     "metadata": {},
     "output_type": "execute_result"
    }
   ],
   "source": [
    "a = Symbol('a',real=True,positive=True)\n",
    "dsolve(Derivative(f(x), x, 2)+a**4*f(x), f(x))"
   ]
  },
  {
   "cell_type": "markdown",
   "metadata": {
    "lang": "zh-cn"
   },
   "source": [
    "### 系列扩展和绘图\n",
    "\n",
    "可以将许多SymPy表达式扩展为泰勒级数。 `series`方法使这一过程变得简单。至少，我们必须指定表达式以及在其中进行扩展的变量。 （可选）我们还可以指定扩展点，最大术语数和扩展方向（有关更多信息，请尝试`help（Basic.series）`）。"
   ]
  },
  {
   "cell_type": "code",
   "execution_count": 71,
   "metadata": {},
   "outputs": [
    {
     "data": {
      "image/png": "[encoded data removed]",
      "text/latex": [
       "$$x - \\frac{x^{3}}{6} + \\frac{x^{5}}{120} + O\\left(x^{6}\\right)$$"
      ],
      "text/plain": [
       "     3     5        \n",
       "    x     x     ⎛ 6⎞\n",
       "x - ── + ─── + O⎝x ⎠\n",
       "    6    120        "
      ]
     },
     "execution_count": 71,
     "metadata": {},
     "output_type": "execute_result"
    }
   ],
   "source": [
    "from sympy import *\n",
    "x = Symbol('x')\n",
    "sin(x).series(x, 0)"
   ]
  },
  {
   "cell_type": "code",
   "execution_count": 72,
   "metadata": {},
   "outputs": [
    {
     "data": {
      "image/png": "[encoded data removed]",
      "text/latex": [
       "$$x - \\frac{x^{3}}{6} + \\frac{x^{5}}{120} + O\\left(x^{6}\\right)$$"
      ],
      "text/plain": [
       "     3     5        \n",
       "    x     x     ⎛ 6⎞\n",
       "x - ── + ─── + O⎝x ⎠\n",
       "    6    120        "
      ]
     },
     "execution_count": 72,
     "metadata": {},
     "output_type": "execute_result"
    }
   ],
   "source": [
    "series(sin(x), x, 0)"
   ]
  },
  {
   "cell_type": "code",
   "execution_count": 73,
   "metadata": {},
   "outputs": [
    {
     "data": {
      "image/png": "[encoded data removed]",
      "text/latex": [
       "$$1.11729533119247 - 0.438791280945186 \\left(x - 0.5\\right)^{2} + 0.0799042564340338 \\left(x - 0.5\\right)^{3} + 0.0365659400787655 \\left(x - 0.5\\right)^{4} - 0.00399521282170169 \\left(x - 0.5\\right)^{5} - 0.00121886466929218 \\left(x - 0.5\\right)^{6} + 9.51241148024212 \\cdot 10^{-5} \\left(x - 0.5\\right)^{7} + 2.17654405230747 \\cdot 10^{-5} \\left(x - 0.5\\right)^{8} - 1.32116826114474 \\cdot 10^{-6} \\left(x - 0.5\\right)^{9} - 0.479425538604203 x + O\\left(\\left(x - 0.5\\right)^{10}; x\\rightarrow 0.5\\right)$$"
      ],
      "text/plain": [
       "                                              2                               \n",
       "1.11729533119247 - 0.438791280945186⋅(x - 0.5)  + 0.0799042564340338⋅(x - 0.5)\n",
       "\n",
       "3                               4                                5            \n",
       "  + 0.0365659400787655⋅(x - 0.5)  - 0.00399521282170169⋅(x - 0.5)  - 0.0012188\n",
       "\n",
       "                    6                                7                        \n",
       "6466929218⋅(x - 0.5)  + 9.51241148024212e-5⋅(x - 0.5)  + 2.17654405230747e-5⋅(\n",
       "\n",
       "        8                                9                          ⎛         \n",
       "x - 0.5)  - 1.32116826114474e-6⋅(x - 0.5)  - 0.479425538604203⋅x + O⎝(x - 0.5)\n",
       "\n",
       "10         ⎞\n",
       "  ; x → 0.5⎠"
      ]
     },
     "execution_count": 73,
     "metadata": {},
     "output_type": "execute_result"
    }
   ],
   "source": [
    "# NBVAL_IGNORE_OUTPUT\n",
    "cos(x).series(x, 0.5, 10)"
   ]
  },
  {
   "cell_type": "markdown",
   "metadata": {},
   "source": [
    "在某些情况下，特别是数值计算和绘制结果时，有必要去除尾随的`O（n）`项："
   ]
  },
  {
   "cell_type": "code",
   "execution_count": 74,
   "metadata": {},
   "outputs": [
    {
     "data": {
      "image/png": "[encoded data removed]",
      "text/latex": [
       "$$- 0.479425538604203 x - 1.32116826114474 \\cdot 10^{-6} \\left(x - 0.5\\right)^{9} + 2.17654405230747 \\cdot 10^{-5} \\left(x - 0.5\\right)^{8} + 9.51241148024212 \\cdot 10^{-5} \\left(x - 0.5\\right)^{7} - 0.00121886466929218 \\left(x - 0.5\\right)^{6} - 0.00399521282170169 \\left(x - 0.5\\right)^{5} + 0.0365659400787655 \\left(x - 0.5\\right)^{4} + 0.0799042564340338 \\left(x - 0.5\\right)^{3} - 0.438791280945186 \\left(x - 0.5\\right)^{2} + 1.11729533119247$$"
      ],
      "text/plain": [
       "                                                    9                         \n",
       "-0.479425538604203⋅x - 1.32116826114474e-6⋅(x - 0.5)  + 2.17654405230747e-5⋅(x\n",
       "\n",
       "       8                                7                                6    \n",
       " - 0.5)  + 9.51241148024212e-5⋅(x - 0.5)  - 0.00121886466929218⋅(x - 0.5)  - 0\n",
       "\n",
       "                            5                               4                 \n",
       ".00399521282170169⋅(x - 0.5)  + 0.0365659400787655⋅(x - 0.5)  + 0.079904256434\n",
       "\n",
       "              3                              2                   \n",
       "0338⋅(x - 0.5)  - 0.438791280945186⋅(x - 0.5)  + 1.11729533119247"
      ]
     },
     "execution_count": 74,
     "metadata": {},
     "output_type": "execute_result"
    }
   ],
   "source": [
    "# NBVAL_IGNORE_OUTPUT\n",
    "cos(x).series(x, 0.5, 10).removeO()"
   ]
  },
  {
   "cell_type": "markdown",
   "metadata": {
    "lang": "zh-cn"
   },
   "source": [
    "SymPy提供了两个内置的绘图功能，分别来自 `sympy.plotting` 模块的 `Plot（）` 和来自 `sympy.mpmath.visualization` 的 `plot`。在撰写本文时，这些功能缺乏向绘图添加键的功能，这意味着它们不适合我们的大多数需求。尽管如此，如果您希望使用它们，它们的`help（）`文本将很有用。\n",
    "\n",
    "对于我们的大多数目的，Matplotlib应该是首选的绘图工具。详情见第章[cha:可视化数据]. 这里我们只提供一个例子来说明如何绘制一个SymPy计算的结果。"
   ]
  },
  {
   "cell_type": "code",
   "execution_count": 75,
   "metadata": {},
   "outputs": [],
   "source": [
    "%matplotlib inline"
   ]
  },
  {
   "cell_type": "code",
   "execution_count": 76,
   "metadata": {},
   "outputs": [
    {
     "data": {
      "text/plain": [
       "<Figure size 432x288 with 0 Axes>"
      ]
     },
     "execution_count": 76,
     "metadata": {},
     "output_type": "execute_result"
    },
    {
     "data": {
      "text/plain": [
       "<Figure size 432x288 with 0 Axes>"
      ]
     },
     "metadata": {},
     "output_type": "display_data"
    }
   ],
   "source": [
    "from sympy import sin,series,Symbol\n",
    "import pylab\n",
    "x = Symbol('x')\n",
    "s10 = sin(x).series(x,0,10).removeO()\n",
    "s20 = sin(x).series(x,0,20).removeO()\n",
    "s = sin(x)\n",
    "xx = []\n",
    "y10 = []\n",
    "y20 = []\n",
    "y = []\n",
    "for i in range(1000):\n",
    "  xx.append(i / 100.0)\n",
    "  y10.append(float(s10.subs({x:i/100.0})))\n",
    "  y20.append(float(s20.subs({x:i/100.0})))\n",
    "  y.append(float(s.subs({x:i/100.0})))\n",
    "\n",
    "pylab.figure()"
   ]
  },
  {
   "cell_type": "code",
   "execution_count": 77,
   "metadata": {},
   "outputs": [
    {
     "data": {
      "text/plain": [
       "<matplotlib.legend.Legend at 0x7fe14d105390>"
      ]
     },
     "execution_count": 77,
     "metadata": {},
     "output_type": "execute_result"
    },
    {
     "data": {
      "image/png": "[encoded data removed]",
      "text/plain": [
       "<Figure size 432x288 with 1 Axes>"
      ]
     },
     "metadata": {
      "needs_background": "light"
     },
     "output_type": "display_data"
    }
   ],
   "source": [
    "pylab.plot(xx, y10, label='O(10)')\n",
    "pylab.plot(xx, y20, label='O(20)')\n",
    "pylab.plot(xx, y, label='sin(x)')\n",
    "\n",
    "pylab.axis([0, 10, -4, 4])\n",
    "pylab.xlabel('x')\n",
    "pylab.ylabel('f(x)')\n",
    "\n",
    "pylab.legend()"
   ]
  },
  {
   "cell_type": "markdown",
   "metadata": {
    "lang": "zh-cn"
   },
   "source": [
    "### 线性方程和矩阵求逆\n",
    "\n",
    "SymPy具有Matrix类和相关函数，这些函数允许线性方程组的符号解（当然，我们可以使用`subs（）`和`evalf（）`获得数值答案）。我们将考虑以下简单线性方程对的示例：\n",
    "\n",
    "$$\\begin{aligned}\n",
    "3x + 7y&= 12z\\\\\n",
    "4x - 2y&= 5z\\end{aligned}$$\n",
    "\n",
    " 我们可以用$A\\vec{x}=\\vec{b}$的形式编写此系统（如果要验证是否可以恢复原始方程式，请用$\\vec{x}$乘以*A*），其中\n",
    "\n",
    "$$A=\\left(\\begin{array}{cc}\n",
    "3 & 7\\\\\n",
    "4 & -2 \\end{array} \\right),\\qquad\n",
    "\\vec{x}=\\left(\\begin{array}{c}\n",
    "x\\\\\n",
    "y \\end{array}\\right),\\qquad\n",
    "\\vec{b}=\\left( \\begin{array}{c}\n",
    "12z\\\\\n",
    "5z \\end{array}\\right).$$\n",
    "\n",
    "在这里，我们在右侧添加了一个符号*z*，以演示符号将传播到解决方案中。在许多情况下，我们会有*z* = 1，但是即使在解决方案不包含任何符号的情况下，也可以使用SymPy而不是数值求解器，因为它可以返回精确的分数而不是近似的`floats`。\n",
    "\n",
    "解决$\\vec{x}$的一种策略是将矩阵*A*求逆并预乘以*，即* $A^{-1}A\\vec{x}=\\vec{x}=A^{-1}\\vec{b}$。 SymPy的`Matrix`类具有一个`inv（）`方法，使我们能够找到逆函数，而`*`可以在适当时为我们执行矩阵乘法："
   ]
  },
  {
   "cell_type": "code",
   "execution_count": 78,
   "metadata": {},
   "outputs": [
    {
     "data": {
      "text/latex": [
       "$$\\left[\\begin{matrix}3 & 7\\\\4 & -2\\end{matrix}\\right]$$"
      ],
      "text/plain": [
       "⎡3  7 ⎤\n",
       "⎢     ⎥\n",
       "⎣4  -2⎦"
      ]
     },
     "execution_count": 78,
     "metadata": {},
     "output_type": "execute_result"
    }
   ],
   "source": [
    "from sympy import symbols,Matrix\n",
    "x, y, z = symbols('x,y,z')\n",
    "A = Matrix(([3, 7], [4, -2]))\n",
    "A"
   ]
  },
  {
   "cell_type": "code",
   "execution_count": 79,
   "metadata": {},
   "outputs": [
    {
     "data": {
      "text/latex": [
       "$$\\left[\\begin{matrix}\\frac{1}{17} & \\frac{7}{34}\\\\\\frac{2}{17} & - \\frac{3}{34}\\end{matrix}\\right]$$"
      ],
      "text/plain": [
       "⎡1/17  7/34 ⎤\n",
       "⎢           ⎥\n",
       "⎣2/17  -3/34⎦"
      ]
     },
     "execution_count": 79,
     "metadata": {},
     "output_type": "execute_result"
    }
   ],
   "source": [
    "A.inv()"
   ]
  },
  {
   "cell_type": "code",
   "execution_count": 80,
   "metadata": {},
   "outputs": [
    {
     "data": {
      "text/latex": [
       "$$\\left[\\begin{matrix}12 z\\\\5 z\\end{matrix}\\right]$$"
      ],
      "text/plain": [
       "⎡12⋅z⎤\n",
       "⎢    ⎥\n",
       "⎣5⋅z ⎦"
      ]
     },
     "execution_count": 80,
     "metadata": {},
     "output_type": "execute_result"
    }
   ],
   "source": [
    "b = Matrix(( 12*z,5*z  ))\n",
    "b"
   ]
  },
  {
   "cell_type": "code",
   "execution_count": 81,
   "metadata": {},
   "outputs": [
    {
     "data": {
      "text/latex": [
       "$$\\left[\\begin{matrix}\\frac{59 z}{34}\\\\\\frac{33 z}{34}\\end{matrix}\\right]$$"
      ],
      "text/plain": [
       "⎡59⋅z⎤\n",
       "⎢────⎥\n",
       "⎢ 34 ⎥\n",
       "⎢    ⎥\n",
       "⎢33⋅z⎥\n",
       "⎢────⎥\n",
       "⎣ 34 ⎦"
      ]
     },
     "execution_count": 81,
     "metadata": {},
     "output_type": "execute_result"
    }
   ],
   "source": [
    "x = A.inv()*b\n",
    "x"
   ]
  },
  {
   "cell_type": "code",
   "execution_count": 82,
   "metadata": {},
   "outputs": [
    {
     "data": {
      "text/latex": [
       "$$\\left[\\begin{matrix}5.726\\\\3.203\\end{matrix}\\right]$$"
      ],
      "text/plain": [
       "⎡5.726⎤\n",
       "⎢     ⎥\n",
       "⎣3.203⎦"
      ]
     },
     "execution_count": 82,
     "metadata": {},
     "output_type": "execute_result"
    }
   ],
   "source": [
    "x.subs({z:3.3}).evalf(4)"
   ]
  },
  {
   "cell_type": "code",
   "execution_count": 83,
   "metadata": {},
   "outputs": [
    {
     "data": {
      "text/plain": [
       "sympy.matrices.dense.MutableDenseMatrix"
      ]
     },
     "execution_count": 83,
     "metadata": {},
     "output_type": "execute_result"
    }
   ],
   "source": [
    "type(x)"
   ]
  },
  {
   "cell_type": "markdown",
   "metadata": {
    "lang": "zh-cn"
   },
   "source": [
    "解决相同问题的另一种方法是将系统构造为增强形式的矩阵。这是通过将（在我们的示例中）*A*和$\\vec{b}$的列附加在一起获得的形式。扩充矩阵为[1]：\n",
    "\n",
    "$$(A|\\vec{b})=\\left(\\begin{array}{cc|c}\n",
    "3 & 7 & 12z\\\\\n",
    "4 & -2 & 5z\\end{array} \\right),$$\n",
    "\n",
    " 像以前一样，将其构造为SymPy矩阵对象，但在这种情况下，我们将其传递给`solve_linear_system()`函数："
   ]
  },
  {
   "cell_type": "code",
   "execution_count": 84,
   "metadata": {},
   "outputs": [
    {
     "data": {
      "text/latex": [
       "$$\\left[\\begin{matrix}3 & 7 & 12 z\\\\4 & -2 & 5 z\\end{matrix}\\right]$$"
      ],
      "text/plain": [
       "⎡3  7   12⋅z⎤\n",
       "⎢           ⎥\n",
       "⎣4  -2  5⋅z ⎦"
      ]
     },
     "execution_count": 84,
     "metadata": {},
     "output_type": "execute_result"
    }
   ],
   "source": [
    "from sympy import Matrix, symbols, solve_linear_system\n",
    "x, y, z = symbols('x,y,z')\n",
    "system = Matrix(([3, 7, 12*z],[4, -2, 5*z]))\n",
    "system"
   ]
  },
  {
   "cell_type": "code",
   "execution_count": 85,
   "metadata": {},
   "outputs": [
    {
     "data": {
      "image/png": "[encoded data removed]",
      "text/latex": [
       "$$\\left \\{ x : \\frac{59 z}{34}, \\quad y : \\frac{33 z}{34}\\right \\}$$"
      ],
      "text/plain": [
       "⎧   59⋅z     33⋅z⎫\n",
       "⎨x: ────, y: ────⎬\n",
       "⎩    34       34 ⎭"
      ]
     },
     "execution_count": 85,
     "metadata": {},
     "output_type": "execute_result"
    }
   ],
   "source": [
    "sol = solve_linear_system(system,x,y)\n",
    "sol"
   ]
  },
  {
   "cell_type": "code",
   "execution_count": 86,
   "metadata": {},
   "outputs": [
    {
     "data": {
      "text/plain": [
       "dict"
      ]
     },
     "execution_count": 86,
     "metadata": {},
     "output_type": "execute_result"
    }
   ],
   "source": [
    "type(sol)"
   ]
  },
  {
   "cell_type": "code",
   "execution_count": 87,
   "metadata": {},
   "outputs": [
    {
     "name": "stdout",
     "output_type": "stream",
     "text": [
      "x = 5.726\n",
      "y = 3.203\n"
     ]
    }
   ],
   "source": [
    "# NBVAL_IGNORE_OUTPUT\n",
    "for k in sol.keys():\n",
    "    print(k,'=',sol[k].subs({z:3.3}).evalf(4))"
   ]
  },
  {
   "cell_type": "markdown",
   "metadata": {
    "lang": "zh-cn"
   },
   "source": [
    "第三种选择是 `solve（）` 方法，其参数包括单个符号方程式，而不是任何矩阵。像`dsolve（）`（参见[ODEs](#Ordinary-differential-equations)）一样，`solve（）`期望的表达式将假定为零，或者期望使用` Equality`对象，我们可以使用`Eq（）`："
   ]
  },
  {
   "cell_type": "code",
   "execution_count": 88,
   "metadata": {},
   "outputs": [
    {
     "data": {
      "image/png": "[encoded data removed]",
      "text/latex": [
       "$$\\left \\{ x : \\frac{59 z}{34}, \\quad y : \\frac{33 z}{34}\\right \\}$$"
      ],
      "text/plain": [
       "⎧   59⋅z     33⋅z⎫\n",
       "⎨x: ────, y: ────⎬\n",
       "⎩    34       34 ⎭"
      ]
     },
     "execution_count": 88,
     "metadata": {},
     "output_type": "execute_result"
    }
   ],
   "source": [
    "from sympy import symbols,solve,Eq\n",
    "x, y, z = symbols('x,y,z')\n",
    "solve((Eq(3*x+7*y,12*z), Eq(4*x-2*y,5*z)), x, y)"
   ]
  },
  {
   "cell_type": "code",
   "execution_count": 89,
   "metadata": {},
   "outputs": [
    {
     "data": {
      "image/png": "[encoded data removed]",
      "text/latex": [
       "$$\\left \\{ x : \\frac{59 z}{34}, \\quad y : \\frac{33 z}{34}\\right \\}$$"
      ],
      "text/plain": [
       "⎧   59⋅z     33⋅z⎫\n",
       "⎨x: ────, y: ────⎬\n",
       "⎩    34       34 ⎭"
      ]
     },
     "execution_count": 89,
     "metadata": {},
     "output_type": "execute_result"
    }
   ],
   "source": [
    "solve((3*x+7*y-12*z, 4*x-2*y-5*z), x, y)"
   ]
  },
  {
   "cell_type": "markdown",
   "metadata": {
    "lang": "zh-cn"
   },
   "source": [
    "有关更多信息，请参见`help（solve）`和`help（solve _linear_ system）`。\n",
    "\n",
    "### 非线性方程\n",
    "\n",
    "让我们解决一个简单的方程式，例如\n",
    "$x = x^2$。有两个明显的解决方案：*x* = 0和*x* = 1.我们如何要求Sympy为我们计算这些？"
   ]
  },
  {
   "cell_type": "code",
   "execution_count": 90,
   "metadata": {},
   "outputs": [],
   "source": [
    "import sympy\n",
    "x, y, z = sympy.symbols('x, y, z')        # create some symbols\n",
    "eq = x - x ** 2                           # define the equation"
   ]
  },
  {
   "cell_type": "code",
   "execution_count": 91,
   "metadata": {},
   "outputs": [
    {
     "data": {
      "image/png": "[encoded data removed]",
      "text/latex": [
       "$$\\left [ 0, \\quad 1\\right ]$$"
      ],
      "text/plain": [
       "[0, 1]"
      ]
     },
     "execution_count": 91,
     "metadata": {},
     "output_type": "execute_result"
    }
   ],
   "source": [
    "sympy.solve(eq, x)                        # solve eq = 0"
   ]
  },
  {
   "cell_type": "markdown",
   "metadata": {
    "lang": "zh-cn"
   },
   "source": [
    "`solve（）`函数需要一个表示要求解的表达式，以便其求值为零。对于我们的示例，我们重写\n",
    "\n",
    "*x* = *x*<sup>2</sup>\n",
    " 如\n",
    "*x* − *x*<sup>2</sup> = 0\n",
    " 然后将其传递给solve函数。\n",
    "\n",
    "让我们对方程式重复相同的操作：\n",
    "*x* = *x*<sup>3</sup>\n",
    " 并解决"
   ]
  },
  {
   "cell_type": "code",
   "execution_count": 92,
   "metadata": {},
   "outputs": [
    {
     "data": {
      "image/png": "[encoded data removed]",
      "text/latex": [
       "$$\\left [ -1, \\quad 0, \\quad 1\\right ]$$"
      ],
      "text/plain": [
       "[-1, 0, 1]"
      ]
     },
     "execution_count": 92,
     "metadata": {},
     "output_type": "execute_result"
    }
   ],
   "source": [
    "eq = x - x ** 3                           # define the equation\n",
    "sympy.solve(eq, x)                        # solve eq = 0"
   ]
  },
  {
   "cell_type": "markdown",
   "metadata": {
    "lang": "zh-cn"
   },
   "source": [
    "### 输出：LaTeX界面和精美打印\n",
    "\n",
    "与许多计算机代数系统一样，SymPy能够将其输出格式化为LaTeX代码，以便轻松包含到文档中。\n",
    "\n",
    "在本章开始时，我们调用：\n",
    "\n",
    "```python\n",
    "sympy.init_printing()\n",
    "```\n",
    "\n",
    "Sympy检测到它在Jupyter中，并启用了Latex输出。 Jupyter Notebook支持（某些）Latex，因此这为我们提供了格式精美的输出。\n",
    "\n",
    "我们还可以看到Sympy的纯文本输出以及它创建的原始Latex代码："
   ]
  },
  {
   "cell_type": "code",
   "execution_count": 1,
   "metadata": {},
   "outputs": [
    {
     "ename": "NameError",
     "evalue": "name 'series' is not defined",
     "output_type": "error",
     "traceback": [
      "\u001b[1;31m---------------------------------------------------------------------------\u001b[0m",
      "\u001b[1;31mNameError\u001b[0m                                 Traceback (most recent call last)",
      "\u001b[1;32m<ipython-input-1-9134a2fd7f67>\u001b[0m in \u001b[0;36m<module>\u001b[1;34m\u001b[0m\n\u001b[1;32m----> 1\u001b[1;33m \u001b[0mprint\u001b[0m\u001b[1;33m(\u001b[0m\u001b[0mseries\u001b[0m\u001b[1;33m(\u001b[0m\u001b[1;36m1\u001b[0m\u001b[1;33m/\u001b[0m\u001b[1;33m(\u001b[0m\u001b[0mx\u001b[0m\u001b[1;33m+\u001b[0m\u001b[0my\u001b[0m\u001b[1;33m)\u001b[0m\u001b[1;33m,\u001b[0m \u001b[0my\u001b[0m\u001b[1;33m,\u001b[0m \u001b[1;36m0\u001b[0m\u001b[1;33m,\u001b[0m \u001b[1;36m3\u001b[0m\u001b[1;33m)\u001b[0m\u001b[1;33m)\u001b[0m\u001b[1;33m\u001b[0m\u001b[1;33m\u001b[0m\u001b[0m\n\u001b[0m",
      "\u001b[1;31mNameError\u001b[0m: name 'series' is not defined"
     ]
    }
   ],
   "source": [
    "print(series(1/(x+y), y, 0, 3))"
   ]
  },
  {
   "cell_type": "code",
   "execution_count": 94,
   "metadata": {},
   "outputs": [
    {
     "name": "stdout",
     "output_type": "stream",
     "text": [
      "\\frac{y^{2}}{x^{3}} - \\frac{y}{x^{2}} + \\frac{1}{x} + O\\left(y^{3}\\right)\n"
     ]
    }
   ],
   "source": [
    "print(latex(series(1/(x+y), y, 0, 3)))"
   ]
  },
  {
   "cell_type": "code",
   "execution_count": 95,
   "metadata": {},
   "outputs": [
    {
     "name": "stdout",
     "output_type": "stream",
     "text": [
      "$\\frac{y^{2}}{x^{3}} - \\frac{y}{x^{2}} + 1 / x + O\\left(y^{3}\\right)$\n"
     ]
    }
   ],
   "source": [
    "print(latex(series(1/(x+y), y, 0, 3), mode='inline'))"
   ]
  },
  {
   "cell_type": "markdown",
   "metadata": {
    "lang": "zh-cn"
   },
   "source": [
    "请注意，在默认模式下，`latex（）`输出的代码要求通过文档序言中的`\\backslashusepackage{amsmath}`命令加载`amsmath`包。\n",
    "\n",
    "SymPy还支持“漂亮打印”（`pprint（）`）输出例程，该输出例程比默认打印例程产生格式更好的文本输出，如下所示。注意特征，例如名称形式为T_n的数组元素的下标，斜体常量*e*，用于乘法的垂直居中点以及格式良好的矩阵边界和分数。\n",
    "\n",
    "<img src=\"static/images/sympy.png\" alt=\"Nicely-formatted output from pprint().\" style=\"width:60.0%\" />\n",
    "\n",
    "最后，SymPy提供了`preview（）`，它会在屏幕上显示渲染的输出（有关详细信息，请查看`help（preview）`）。"
   ]
  },
  {
   "cell_type": "markdown",
   "metadata": {
    "lang": "zh-cn"
   },
   "source": [
    "### 自动生成C代码\n",
    "\n",
    "许多符号库的优点是它们可以将符号表达式转换为C代码（或其他代码），然后可以对其进行编译以提高执行速度。这是一个演示此的示例："
   ]
  },
  {
   "cell_type": "code",
   "execution_count": 96,
   "metadata": {},
   "outputs": [
    {
     "data": {
      "image/png": "[encoded data removed]",
      "text/latex": [
       "$$x - \\frac{x^{3}}{6} + \\frac{x^{5}}{120} + O\\left(x^{6}\\right)$$"
      ],
      "text/plain": [
       "     3     5        \n",
       "    x     x     ⎛ 6⎞\n",
       "x - ── + ─── + O⎝x ⎠\n",
       "    6    120        "
      ]
     },
     "execution_count": 96,
     "metadata": {},
     "output_type": "execute_result"
    }
   ],
   "source": [
    "from sympy import *                                                                                    \n",
    "from sympy.utilities.codegen import codegen                                                                            \n",
    "x = Symbol('x')                                                                                                          \n",
    "sin(x).series(x, 0, 6)"
   ]
  },
  {
   "cell_type": "code",
   "execution_count": 97,
   "metadata": {},
   "outputs": [
    {
     "name": "stdout",
     "output_type": "stream",
     "text": [
      "/******************************************************************************\n",
      " *                       Code generated with sympy 1.2                        *\n",
      " *                                                                            *\n",
      " *              See http://www.sympy.org/ for more information.               *\n",
      " *                                                                            *\n",
      " *                       This file is part of 'project'                       *\n",
      " ******************************************************************************/\n",
      "#include \"taylor_sine.h\"\n",
      "#include <math.h>\n",
      "\n",
      "double taylor_sine(double x) {\n",
      "\n",
      "   double taylor_sine_result;\n",
      "   taylor_sine_result = x - 1.0/6.0*pow(x, 3) + (1.0/120.0)*pow(x, 5) + O(x**6);\n",
      "   return taylor_sine_result;\n",
      "\n",
      "}\n",
      "\n"
     ]
    }
   ],
   "source": [
    "# NBVAL_IGNORE_OUTPUT\n",
    "print(codegen((\"taylor_sine\",sin(x).series(x,0,6)), language='C')[0][1])"
   ]
  },
  {
   "cell_type": "markdown",
   "metadata": {
    "lang": "zh-cn"
   },
   "source": [
    "相关工具\n",
    "-------------\n",
    "\n",
    "值得注意的是，SAGE<http://www.sagemath.org/>试图“创建可行的免费开源替代Magma，Maple，Mathematica和Matlab”,包括SymPy库等。它的符号功能比SymPy更强大，但是SymPy功能已经可以满足科学和工程领域的许多需求。 SAGE包括计算机代数系统Maxima，也可以从<http://maxima.sourceforge.net/>独立获得。"
   ]
  }
 ],
 "metadata": {
  "anaconda-cloud": {},
  "kernelspec": {
   "display_name": "Python 3",
   "language": "python",
   "name": "python3"
  },
  "language_info": {
   "codemirror_mode": {
    "name": "ipython",
    "version": 3
   },
   "file_extension": ".py",
   "mimetype": "text/x-python",
   "name": "python",
   "nbconvert_exporter": "python",
   "pygments_lexer": "ipython3",
   "version": "3.7.6"
  },
  "nbTranslate": {
   "displayLangs": [
    "en",
    "zh-cn"
   ],
   "hotkey": "alt-t",
   "langInMainMenu": true,
   "sourceLang": "en",
   "targetLang": "zh-cn",
   "useGoogleTranslate": true
  }
 },
 "nbformat": 4,
 "nbformat_minor": 1
}

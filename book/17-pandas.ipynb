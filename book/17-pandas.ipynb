{
 "cells": [
  {
   "cell_type": "markdown",
   "metadata": {
    "lang": "zh-cn"
   },
   "source": [
    "# Pandas-基于Python的数据科学"
   ]
  },
  {
   "cell_type": "markdown",
   "metadata": {
    "lang": "zh-cn"
   },
   "source": [
    "对于类似于矢量、矩阵（和高维张量）的数值数据，Numpy和numpy数组是我们的首选工具。\n",
    "\n",
    "从实验中收集数据的地方，尤其是我们要从不同数据源的组合中提取有意义的数据，以及对于数据经常有不完整的地方等问题，pandas库提供了许多有用的工具（并已成为数据科学家的标准工具）。\n",
    "\n",
    "在本节中，我们介绍Pandas的基础知识。\n",
    "\n",
    "特别是，我们介绍了Pandas中的两种关键数据类型：Series和DataFrame对象。"
   ]
  },
  {
   "cell_type": "markdown",
   "metadata": {
    "lang": "zh-cn"
   },
   "source": [
    "按照惯例，`pandas`库以`pd`的名称导入（与`numpy`以`np`的名称导入相同："
   ]
  },
  {
   "cell_type": "code",
   "execution_count": 1,
   "metadata": {
    "collapsed": true
   },
   "outputs": [],
   "source": [
    "import pandas as pd"
   ]
  },
  {
   "cell_type": "markdown",
   "metadata": {
    "lang": "zh-cn"
   },
   "source": [
    "## 示例（Series）"
   ]
  },
  {
   "cell_type": "markdown",
   "metadata": {
    "lang": "zh-cn"
   },
   "source": [
    "假设我们正在为蔬菜水果商或超市开发软件，并且需要跟踪超市中可用的苹果（apple，10），橙子（Orange，3）和香蕉（Banana，22）的数量。\n",
    "\n",
    "我们可以使用python列表（或numpy数组）来跟踪这些数字："
   ]
  },
  {
   "cell_type": "code",
   "execution_count": 2,
   "metadata": {
    "collapsed": true
   },
   "outputs": [],
   "source": [
    "stock = [10, 3, 22]"
   ]
  },
  {
   "cell_type": "markdown",
   "metadata": {
    "lang": "zh-cn"
   },
   "source": [
    "但是，我们需要单独记住条目的顺序是苹果、橙子和香蕉。这需要通过第二个列表来实现："
   ]
  },
  {
   "cell_type": "code",
   "execution_count": 3,
   "metadata": {
    "collapsed": true
   },
   "outputs": [],
   "source": [
    "stocklabels = ['apple', 'orange', 'banana']"
   ]
  },
  {
   "cell_type": "code",
   "execution_count": 4,
   "metadata": {},
   "outputs": [
    {
     "name": "stdout",
     "output_type": "stream",
     "text": [
      "apple      :   10\n",
      "orange     :    3\n",
      "banana     :   22\n"
     ]
    }
   ],
   "source": [
    "assert len(stocklabels) == len(stock)  # check labels and \n",
    "                                       # stock are consistent\n",
    "for label, count in zip(stocklabels, stock):\n",
    "    print(f'{label:10s} : {count:4d}')"
   ]
  },
  {
   "cell_type": "markdown",
   "metadata": {
    "lang": "zh-cn"
   },
   "source": [
    "上面的2列表解决方案在两个方面有点尴尬：首先，我们使用两个列表来描述一组数据（例如需要谨慎地同时更新它们），其次对列表的访问给定标签的数据很不方便：我们需要找到带有一个列表的标签索引，然后将其用作另一个列表的索引，例如"
   ]
  },
  {
   "cell_type": "code",
   "execution_count": 5,
   "metadata": {},
   "outputs": [
    {
     "name": "stdout",
     "output_type": "stream",
     "text": [
      "There are 22 bananas [index=2].\n"
     ]
    }
   ],
   "source": [
    "index = stocklabels.index('banana')\n",
    "bananas = stock[index]\n",
    "print(f\"There are {bananas} bananas [index={index}].\")"
   ]
  },
  {
   "cell_type": "markdown",
   "metadata": {
    "lang": "zh-cn"
   },
   "source": [
    "在“字典”部分中，我们遇到了类似的示例。字典确实是一种更方便的解决方案："
   ]
  },
  {
   "cell_type": "code",
   "execution_count": 6,
   "metadata": {
    "collapsed": true
   },
   "outputs": [],
   "source": [
    "stock_dic = {'apple': 10, \n",
    "             'orange': 3,\n",
    "             'banana': 22}"
   ]
  },
  {
   "cell_type": "markdown",
   "metadata": {
    "lang": "zh-cn"
   },
   "source": [
    "在某种程度上，字典的键包含商品标签，而值包含实际价格："
   ]
  },
  {
   "cell_type": "code",
   "execution_count": 7,
   "metadata": {},
   "outputs": [
    {
     "data": {
      "text/plain": [
       "dict_keys(['apple', 'orange', 'banana'])"
      ]
     },
     "execution_count": 7,
     "metadata": {},
     "output_type": "execute_result"
    }
   ],
   "source": [
    "stock_dic.keys()"
   ]
  },
  {
   "cell_type": "code",
   "execution_count": 8,
   "metadata": {},
   "outputs": [
    {
     "data": {
      "text/plain": [
       "dict_values([10, 3, 22])"
      ]
     },
     "execution_count": 8,
     "metadata": {},
     "output_type": "execute_result"
    }
   ],
   "source": [
    "stock_dic.values()"
   ]
  },
  {
   "cell_type": "markdown",
   "metadata": {
    "lang": "zh-cn"
   },
   "source": [
    "要检索（或更改）`apple`的值，我们使用`apple`作为键，并通过字典的索引符号检索该值："
   ]
  },
  {
   "cell_type": "code",
   "execution_count": 9,
   "metadata": {},
   "outputs": [
    {
     "data": {
      "text/plain": [
       "10"
      ]
     },
     "execution_count": 9,
     "metadata": {},
     "output_type": "execute_result"
    }
   ],
   "source": [
    "stock_dic['apple']"
   ]
  },
  {
   "cell_type": "markdown",
   "metadata": {
    "lang": "zh-cn"
   },
   "source": [
    "我们可以将库存总结如下："
   ]
  },
  {
   "cell_type": "code",
   "execution_count": 10,
   "metadata": {},
   "outputs": [
    {
     "name": "stdout",
     "output_type": "stream",
     "text": [
      "apple      :   10\n",
      "orange     :    3\n",
      "banana     :   22\n"
     ]
    }
   ],
   "source": [
    "for label in stock_dic:\n",
    "    print(f'{label:10s} : {stock_dic[label]:4d}')"
   ]
  },
  {
   "cell_type": "markdown",
   "metadata": {
    "lang": "zh-cn"
   },
   "source": [
    "与2列表解决方案相比，这是一个巨大的改进：（i）我们仅维护一个结构，该结构包含每个键的值-因此我们无需检查列表的长度是否相同。 （ii）我们可以通过标签访问单个元素（使用它作为字典的键）。"
   ]
  },
  {
   "cell_type": "markdown",
   "metadata": {
    "lang": "zh-cn"
   },
   "source": [
    "Pandas的Series对象解决了上面的需求。它类似于字典，但是针对给定的问题进行了改进：\n",
    "\n",
    "* 保持项目顺序\n",
    "* 值必须具有相同的类型（更高的执行性能）\n",
    "* 大量便利功能，例如处理丢失的数据、时间序列、排序、绘图等"
   ]
  },
  {
   "cell_type": "markdown",
   "metadata": {
    "lang": "zh-cn"
   },
   "source": [
    "### 库存示例-`Series`"
   ]
  },
  {
   "cell_type": "markdown",
   "metadata": {
    "lang": "zh-cn"
   },
   "source": [
    "我们可以从字典中创建一个“系列”对象，例如："
   ]
  },
  {
   "cell_type": "code",
   "execution_count": 11,
   "metadata": {
    "collapsed": true
   },
   "outputs": [],
   "source": [
    "stock = pd.Series({'apple': 10, \n",
    "                   'orange': 3,\n",
    "                   'banana': 22})"
   ]
  },
  {
   "cell_type": "markdown",
   "metadata": {
    "lang": "zh-cn"
   },
   "source": [
    "默认显示方式是每行显示一个条目，标签在左侧，值在右侧。"
   ]
  },
  {
   "cell_type": "code",
   "execution_count": 12,
   "metadata": {},
   "outputs": [
    {
     "data": {
      "text/plain": [
       "pandas.core.series.Series"
      ]
     },
     "execution_count": 12,
     "metadata": {},
     "output_type": "execute_result"
    }
   ],
   "source": [
    "type(stock)"
   ]
  },
  {
   "cell_type": "code",
   "execution_count": 13,
   "metadata": {},
   "outputs": [
    {
     "data": {
      "text/plain": [
       "apple     10\n",
       "orange     3\n",
       "banana    22\n",
       "dtype: int64"
      ]
     },
     "execution_count": 13,
     "metadata": {},
     "output_type": "execute_result"
    }
   ],
   "source": [
    "stock"
   ]
  },
  {
   "cell_type": "markdown",
   "metadata": {
    "lang": "zh-cn"
   },
   "source": [
    "左侧的项目称为“Series”的`索引`，可以作为`Series`对象的`索引`属性使用："
   ]
  },
  {
   "cell_type": "code",
   "execution_count": 14,
   "metadata": {},
   "outputs": [
    {
     "data": {
      "text/plain": [
       "Index(['apple', 'orange', 'banana'], dtype='object')"
      ]
     },
     "execution_count": 14,
     "metadata": {},
     "output_type": "execute_result"
    }
   ],
   "source": [
    "stock.index"
   ]
  },
  {
   "cell_type": "code",
   "execution_count": 15,
   "metadata": {},
   "outputs": [
    {
     "data": {
      "text/plain": [
       "pandas.core.indexes.base.Index"
      ]
     },
     "execution_count": 15,
     "metadata": {},
     "output_type": "execute_result"
    }
   ],
   "source": [
    "type(stock.index)"
   ]
  },
  {
   "cell_type": "markdown",
   "metadata": {
    "lang": "zh-cn"
   },
   "source": [
    "我们还可以使用`values`属性访问每个项目的值列表："
   ]
  },
  {
   "cell_type": "code",
   "execution_count": 16,
   "metadata": {},
   "outputs": [
    {
     "data": {
      "text/plain": [
       "array([10,  3, 22])"
      ]
     },
     "execution_count": 16,
     "metadata": {},
     "output_type": "execute_result"
    }
   ],
   "source": [
    "stock.values"
   ]
  },
  {
   "cell_type": "markdown",
   "metadata": {
    "lang": "zh-cn"
   },
   "source": [
    "关于数据访问，` Series`对象的行为类似于字典："
   ]
  },
  {
   "cell_type": "code",
   "execution_count": 17,
   "metadata": {},
   "outputs": [
    {
     "data": {
      "text/plain": [
       "10"
      ]
     },
     "execution_count": 17,
     "metadata": {},
     "output_type": "execute_result"
    }
   ],
   "source": [
    "stock['apple']"
   ]
  },
  {
   "cell_type": "code",
   "execution_count": 18,
   "metadata": {
    "collapsed": true
   },
   "outputs": [],
   "source": [
    "stock['potato'] = 101    # adding more values\n",
    "stock['cucumber'] = 1\n"
   ]
  },
  {
   "cell_type": "code",
   "execution_count": 19,
   "metadata": {},
   "outputs": [
    {
     "name": "stdout",
     "output_type": "stream",
     "text": [
      "apple        10\n",
      "orange        3\n",
      "banana       22\n",
      "potato      101\n",
      "cucumber      1\n",
      "dtype: int64\n"
     ]
    }
   ],
   "source": [
    "print(stock)"
   ]
  },
  {
   "cell_type": "code",
   "execution_count": 20,
   "metadata": {},
   "outputs": [
    {
     "data": {
      "text/plain": [
       "apple        10\n",
       "orange        3\n",
       "banana       22\n",
       "potato      101\n",
       "cucumber      1\n",
       "dtype: int64"
      ]
     },
     "execution_count": 20,
     "metadata": {},
     "output_type": "execute_result"
    }
   ],
   "source": [
    "stock"
   ]
  },
  {
   "cell_type": "markdown",
   "metadata": {
    "lang": "zh-cn"
   },
   "source": [
    "我们可以将数据绘制为条形图："
   ]
  },
  {
   "cell_type": "code",
   "execution_count": 21,
   "metadata": {},
   "outputs": [
    {
     "data": {
      "text/plain": [
       "<matplotlib.axes._subplots.AxesSubplot at 0x7f6ae80a0748>"
      ]
     },
     "execution_count": 21,
     "metadata": {},
     "output_type": "execute_result"
    },
    {
     "data": {
      "image/png": "[encoded data removed]",
      "text/plain": [
       "<Figure size 432x288 with 1 Axes>"
      ]
     },
     "metadata": {
      "needs_background": "light"
     },
     "output_type": "display_data"
    }
   ],
   "source": [
    "%matplotlib inline\n",
    "stock.plot(kind='bar')"
   ]
  },
  {
   "cell_type": "markdown",
   "metadata": {
    "lang": "zh-cn"
   },
   "source": [
    "我们可以根据“Series”中的值对数据进行排序（然后绘图以可视化）："
   ]
  },
  {
   "cell_type": "code",
   "execution_count": 22,
   "metadata": {},
   "outputs": [
    {
     "data": {
      "text/plain": [
       "<matplotlib.axes._subplots.AxesSubplot at 0x7f6ae345ab38>"
      ]
     },
     "execution_count": 22,
     "metadata": {},
     "output_type": "execute_result"
    },
    {
     "data": {
      "image/png": "[encoded data removed]",
      "text/plain": [
       "<Figure size 432x288 with 1 Axes>"
      ]
     },
     "metadata": {
      "needs_background": "light"
     },
     "output_type": "display_data"
    }
   ],
   "source": [
    "stock.sort_values().plot(kind='bar')"
   ]
  },
  {
   "cell_type": "markdown",
   "metadata": {
    "lang": "zh-cn"
   },
   "source": [
    "或对索引进行排序以获得我们的水果和蔬菜的字母顺序："
   ]
  },
  {
   "cell_type": "code",
   "execution_count": 23,
   "metadata": {},
   "outputs": [
    {
     "data": {
      "text/plain": [
       "<matplotlib.axes._subplots.AxesSubplot at 0x7f6ae13c20f0>"
      ]
     },
     "execution_count": 23,
     "metadata": {},
     "output_type": "execute_result"
    },
    {
     "data": {
      "image/png": "[encoded data removed]",
      "text/plain": [
       "<Figure size 432x288 with 1 Axes>"
      ]
     },
     "metadata": {
      "needs_background": "light"
     },
     "output_type": "display_data"
    }
   ],
   "source": [
    "stock.sort_index().plot(kind='bar')"
   ]
  },
  {
   "cell_type": "markdown",
   "metadata": {
    "lang": "zh-cn"
   },
   "source": [
    "`Series`对象具有许多可用的数值方法，包括`求平均值`和`求和`："
   ]
  },
  {
   "cell_type": "code",
   "execution_count": 24,
   "metadata": {},
   "outputs": [
    {
     "data": {
      "text/plain": [
       "137"
      ]
     },
     "execution_count": 24,
     "metadata": {},
     "output_type": "execute_result"
    }
   ],
   "source": [
    "stock.sum()"
   ]
  },
  {
   "cell_type": "code",
   "execution_count": 25,
   "metadata": {},
   "outputs": [
    {
     "data": {
      "text/plain": [
       "27.4"
      ]
     },
     "execution_count": 25,
     "metadata": {},
     "output_type": "execute_result"
    }
   ],
   "source": [
    "stock.mean()"
   ]
  },
  {
   "cell_type": "markdown",
   "metadata": {
    "lang": "zh-cn"
   },
   "source": [
    "它的行为也像一个序列，因为`len`函数返回Series对象中的数据点数："
   ]
  },
  {
   "cell_type": "code",
   "execution_count": 26,
   "metadata": {},
   "outputs": [
    {
     "data": {
      "text/plain": [
       "5"
      ]
     },
     "execution_count": 26,
     "metadata": {},
     "output_type": "execute_result"
    }
   ],
   "source": [
    "len(stock)"
   ]
  },
  {
   "cell_type": "markdown",
   "metadata": {
    "lang": "zh-cn"
   },
   "source": [
    "### 内存使用情况"
   ]
  },
  {
   "cell_type": "markdown",
   "metadata": {
    "lang": "zh-cn"
   },
   "source": [
    "对于较大的数据集，知道存储Series的字节数可能很重要。存储实际Series数据所需的字节可作为"
   ]
  },
  {
   "cell_type": "code",
   "execution_count": 27,
   "metadata": {},
   "outputs": [
    {
     "data": {
      "text/plain": [
       "40"
      ]
     },
     "execution_count": 27,
     "metadata": {},
     "output_type": "execute_result"
    }
   ],
   "source": [
    "stock.nbytes"
   ]
  },
  {
   "cell_type": "markdown",
   "metadata": {
    "lang": "zh-cn"
   },
   "source": [
    "或直接从基础的numpy数组："
   ]
  },
  {
   "cell_type": "code",
   "execution_count": 28,
   "metadata": {},
   "outputs": [
    {
     "data": {
      "text/plain": [
       "40"
      ]
     },
     "execution_count": 28,
     "metadata": {},
     "output_type": "execute_result"
    }
   ],
   "source": [
    "stock.values.nbytes"
   ]
  },
  {
   "cell_type": "markdown",
   "metadata": {
    "lang": "zh-cn"
   },
   "source": [
    "它是40个字节，因为我们有5个元素存储为int64（每个元素需要8个字节）："
   ]
  },
  {
   "cell_type": "code",
   "execution_count": 29,
   "metadata": {},
   "outputs": [
    {
     "data": {
      "text/plain": [
       "dtype('int64')"
      ]
     },
     "execution_count": 29,
     "metadata": {},
     "output_type": "execute_result"
    }
   ],
   "source": [
    "stock.dtype"
   ]
  },
  {
   "cell_type": "markdown",
   "metadata": {
    "lang": "zh-cn"
   },
   "source": [
    "Series对象需要额外的内存。可以使用以下查询："
   ]
  },
  {
   "cell_type": "code",
   "execution_count": 30,
   "metadata": {},
   "outputs": [
    {
     "data": {
      "text/plain": [
       "240"
      ]
     },
     "execution_count": 30,
     "metadata": {},
     "output_type": "execute_result"
    }
   ],
   "source": [
    "stock.memory_usage()"
   ]
  },
  {
   "cell_type": "markdown",
   "metadata": {
    "lang": "zh-cn"
   },
   "source": [
    "### 统计"
   ]
  },
  {
   "cell_type": "markdown",
   "metadata": {
    "lang": "zh-cn"
   },
   "source": [
    "使用`describe（）`可以获得`库存`Series对象中数据的许多统计描述："
   ]
  },
  {
   "cell_type": "code",
   "execution_count": 31,
   "metadata": {},
   "outputs": [
    {
     "data": {
      "text/plain": [
       "count      5.000000\n",
       "mean      27.400000\n",
       "std       41.955929\n",
       "min        1.000000\n",
       "25%        3.000000\n",
       "50%       10.000000\n",
       "75%       22.000000\n",
       "max      101.000000\n",
       "dtype: float64"
      ]
     },
     "execution_count": 31,
     "metadata": {},
     "output_type": "execute_result"
    }
   ],
   "source": [
    "stock.describe()"
   ]
  },
  {
   "cell_type": "markdown",
   "metadata": {
    "lang": "zh-cn"
   },
   "source": [
    "和往常一样，文档字符串提供文档（`help（stock.describe）`），而pandas主页（`https：// pandas.pydata.org`）提供指向Pandas文档的链接。"
   ]
  },
  {
   "cell_type": "markdown",
   "metadata": {
    "lang": "zh-cn"
   },
   "source": [
    "## 从列表创建系列\n",
    "\n",
    "在上面的示例中，我们展示了如何从字典创建系列，其中字典条目的键用作Series对象的索引。\n",
    "\n",
    "我们还可以从一个列表创建一个Series，提供一个附加索引："
   ]
  },
  {
   "cell_type": "code",
   "execution_count": 32,
   "metadata": {
    "collapsed": true
   },
   "outputs": [],
   "source": [
    "stock = pd.Series([10, 3, 22], index=['apple', 'orange', 'banana'])"
   ]
  },
  {
   "cell_type": "code",
   "execution_count": 33,
   "metadata": {},
   "outputs": [
    {
     "data": {
      "text/plain": [
       "apple     10\n",
       "orange     3\n",
       "banana    22\n",
       "dtype: int64"
      ]
     },
     "execution_count": 33,
     "metadata": {},
     "output_type": "execute_result"
    }
   ],
   "source": [
    "stock"
   ]
  },
  {
   "cell_type": "markdown",
   "metadata": {
    "lang": "zh-cn"
   },
   "source": [
    "如果我们省略`index`参数，那么Series将采用整数索引："
   ]
  },
  {
   "cell_type": "code",
   "execution_count": 34,
   "metadata": {
    "collapsed": true
   },
   "outputs": [],
   "source": [
    "stock = pd.Series([10, 3, 22])"
   ]
  },
  {
   "cell_type": "code",
   "execution_count": 35,
   "metadata": {},
   "outputs": [
    {
     "data": {
      "text/plain": [
       "0    10\n",
       "1     3\n",
       "2    22\n",
       "dtype: int64"
      ]
     },
     "execution_count": 35,
     "metadata": {},
     "output_type": "execute_result"
    }
   ],
   "source": [
    "stock"
   ]
  },
  {
   "cell_type": "markdown",
   "metadata": {
    "lang": "zh-cn"
   },
   "source": [
    "但是，可以随后添加索引："
   ]
  },
  {
   "cell_type": "code",
   "execution_count": 36,
   "metadata": {
    "collapsed": true
   },
   "outputs": [],
   "source": [
    "stock.index = ['apple', 'orange', 'banana']"
   ]
  },
  {
   "cell_type": "code",
   "execution_count": 37,
   "metadata": {},
   "outputs": [
    {
     "data": {
      "text/plain": [
       "apple     10\n",
       "orange     3\n",
       "banana    22\n",
       "dtype: int64"
      ]
     },
     "execution_count": 37,
     "metadata": {},
     "output_type": "execute_result"
    }
   ],
   "source": [
    "stock\n"
   ]
  },
  {
   "cell_type": "markdown",
   "metadata": {
    "lang": "zh-cn"
   },
   "source": [
    "## 绘制数据"
   ]
  },
  {
   "cell_type": "markdown",
   "metadata": {
    "lang": "zh-cn"
   },
   "source": [
    "通过Series对象的`plot()`方法可以轻松访问常用的绘图。我们已经在上方看到条形图。 `Series.plot()`方法接受诸如`kind =“bar”`之类的参数`kind`，但是有一个等效的`Series.plot.bar()`方法可用。\n",
    "\n",
    "进一步的例子："
   ]
  },
  {
   "cell_type": "code",
   "execution_count": 38,
   "metadata": {},
   "outputs": [
    {
     "data": {
      "text/plain": [
       "<matplotlib.axes._subplots.AxesSubplot at 0x7f6ae133d710>"
      ]
     },
     "execution_count": 38,
     "metadata": {},
     "output_type": "execute_result"
    },
    {
     "data": {
      "image/png": "[encoded data removed]",
      "text/plain": [
       "<Figure size 432x288 with 1 Axes>"
      ]
     },
     "metadata": {},
     "output_type": "display_data"
    }
   ],
   "source": [
    "stock.plot.pie()\n"
   ]
  },
  {
   "cell_type": "markdown",
   "metadata": {
    "lang": "zh-cn"
   },
   "source": [
    "为了定制图，我们可以获取轴对象并随后对其进行修改："
   ]
  },
  {
   "cell_type": "code",
   "execution_count": 39,
   "metadata": {},
   "outputs": [
    {
     "data": {
      "image/png": "[encoded data removed]",
      "text/plain": [
       "<Figure size 432x288 with 1 Axes>"
      ]
     },
     "metadata": {},
     "output_type": "display_data"
    }
   ],
   "source": [
    "ax = stock.plot.pie()\n",
    "ax.set_aspect(1)\n",
    "ax.set_ylabel(None);\n",
    "ax.set_title(None);"
   ]
  },
  {
   "cell_type": "code",
   "execution_count": 40,
   "metadata": {},
   "outputs": [
    {
     "data": {
      "image/png": "[encoded data removed]",
      "text/plain": [
       "<Figure size 648x216 with 1 Axes>"
      ]
     },
     "metadata": {
      "needs_background": "light"
     },
     "output_type": "display_data"
    }
   ],
   "source": [
    "import matplotlib.pyplot as plt\n",
    "fig, ax = plt.subplots(1, 1, figsize=(9, 3))\n",
    "stock.plot.bar(ax=ax)\n",
    "ax.set_title(\"Current stock\");"
   ]
  },
  {
   "cell_type": "markdown",
   "metadata": {
    "lang": "zh-cn"
   },
   "source": [
    "我们还可以从系列中获取数据并自己“手动”绘图："
   ]
  },
  {
   "cell_type": "code",
   "execution_count": 41,
   "metadata": {},
   "outputs": [
    {
     "data": {
      "image/png": "[encoded data removed]",
      "text/plain": [
       "<Figure size 648x216 with 1 Axes>"
      ]
     },
     "metadata": {
      "needs_background": "light"
     },
     "output_type": "display_data"
    }
   ],
   "source": [
    "import matplotlib.pyplot as plt\n",
    "\n",
    "names = list(stock.index)\n",
    "values = list(stock.values)\n",
    "\n",
    "fig, ax = plt.subplots(1, 1, figsize=(9, 3))\n",
    "ax.bar(names, values)\n",
    "ax.set_title('Stock');"
   ]
  },
  {
   "cell_type": "markdown",
   "metadata": {
    "lang": "zh-cn"
   },
   "source": [
    "## 缺少的数值\n",
    "\n",
    "“真实”数据集往往不完整。处理缺失的值是数据科学中的重要主题。在Pandas中达成的协议是，特殊的浮点值“ NaN”（代表`N`ot`a` `N`umber）代表丢失的数据点。例如，如果我们有一张库存表，但不知道`apple`的值，则可以将其替换为“ NaN”。\n",
    "\n",
    "如果导入了numpy模块，则可以使用float（'nan'）或numpy.nan来创建Python中的特殊Nan值。"
   ]
  },
  {
   "cell_type": "code",
   "execution_count": 42,
   "metadata": {
    "collapsed": true
   },
   "outputs": [],
   "source": [
    "stock['apple'] = float('nan')"
   ]
  },
  {
   "cell_type": "code",
   "execution_count": 43,
   "metadata": {},
   "outputs": [
    {
     "data": {
      "text/plain": [
       "apple      NaN\n",
       "orange     3.0\n",
       "banana    22.0\n",
       "dtype: float64"
      ]
     },
     "execution_count": 43,
     "metadata": {},
     "output_type": "execute_result"
    }
   ],
   "source": [
    "stock"
   ]
  },
  {
   "cell_type": "markdown",
   "metadata": {
    "lang": "zh-cn"
   },
   "source": [
    "请注意，当我们将`NaN`分配给`apple`时，`stock`系列对象的`dtype`已从`int64`更改为`float64`：整个系列已转换为float，因为仅定义了`NaN`用于浮点数。\n",
    "\n",
    "（有建议创建一个`NaN`对象作为pandas的一部分-这样可以克服上述限制。）\n",
    "\n",
    "假设我们需要使用`sum`函数计算总共有多少库存商品："
   ]
  },
  {
   "cell_type": "code",
   "execution_count": 44,
   "metadata": {},
   "outputs": [
    {
     "data": {
      "text/plain": [
       "array([nan,  3., 22.])"
      ]
     },
     "execution_count": 44,
     "metadata": {},
     "output_type": "execute_result"
    }
   ],
   "source": [
    "stock.values"
   ]
  },
  {
   "cell_type": "markdown",
   "metadata": {
    "lang": "zh-cn"
   },
   "source": [
    "常见的情况是我们有一个不完整的Series或DataFrame（它们是具有相同索引的多个Series），我们希望进行分析，但是要以特殊的方式处理缺失的值。"
   ]
  },
  {
   "cell_type": "code",
   "execution_count": 45,
   "metadata": {},
   "outputs": [
    {
     "data": {
      "text/plain": [
       "25.0"
      ]
     },
     "execution_count": 45,
     "metadata": {},
     "output_type": "execute_result"
    }
   ],
   "source": [
    "stock.sum()"
   ]
  },
  {
   "cell_type": "markdown",
   "metadata": {
    "lang": "zh-cn"
   },
   "source": [
    "上面的示例`sum`显示了`NaN`值被简单地忽略了，这很方便。"
   ]
  },
  {
   "cell_type": "markdown",
   "metadata": {
    "lang": "zh-cn"
   },
   "source": [
    "我们还可以通过删除所有具有`NaN`值的条目来“整理” Series对象："
   ]
  },
  {
   "cell_type": "code",
   "execution_count": 46,
   "metadata": {},
   "outputs": [
    {
     "data": {
      "text/plain": [
       "orange     3.0\n",
       "banana    22.0\n",
       "dtype: float64"
      ]
     },
     "execution_count": 46,
     "metadata": {},
     "output_type": "execute_result"
    }
   ],
   "source": [
    "stock.dropna()"
   ]
  },
  {
   "cell_type": "markdown",
   "metadata": {
    "lang": "zh-cn"
   },
   "source": [
    "## 系列数据访问：显式和隐式（`loc`和`iloc`）"
   ]
  },
  {
   "cell_type": "code",
   "execution_count": 47,
   "metadata": {
    "collapsed": true
   },
   "outputs": [],
   "source": [
    "stock = pd.Series({'apple': 10, \n",
    "                   'orange': 3,\n",
    "                   'banana': 22,\n",
    "                   'cucumber' : 1,\n",
    "                   'potato' : 110})"
   ]
  },
  {
   "cell_type": "code",
   "execution_count": 48,
   "metadata": {},
   "outputs": [
    {
     "data": {
      "text/plain": [
       "apple        10\n",
       "orange        3\n",
       "banana       22\n",
       "cucumber      1\n",
       "potato      110\n",
       "dtype: int64"
      ]
     },
     "execution_count": 48,
     "metadata": {},
     "output_type": "execute_result"
    }
   ],
   "source": [
    "stock"
   ]
  },
  {
   "cell_type": "markdown",
   "metadata": {
    "lang": "zh-cn"
   },
   "source": [
    "### 索引\n",
    "\n",
    "我们可以通过它们的索引访问单个值，就像stock Series对象将是一个字典一样："
   ]
  },
  {
   "cell_type": "code",
   "execution_count": 49,
   "metadata": {},
   "outputs": [
    {
     "data": {
      "text/plain": [
       "22"
      ]
     },
     "execution_count": 49,
     "metadata": {},
     "output_type": "execute_result"
    }
   ],
   "source": [
    "stock['banana']"
   ]
  },
  {
   "cell_type": "markdown",
   "metadata": {
    "lang": "zh-cn"
   },
   "source": [
    "有一种等效且推荐的方法，可以使用`loc`（用于LOCation？）属性使用此检索："
   ]
  },
  {
   "cell_type": "code",
   "execution_count": 50,
   "metadata": {},
   "outputs": [
    {
     "data": {
      "text/plain": [
       "22"
      ]
     },
     "execution_count": 50,
     "metadata": {},
     "output_type": "execute_result"
    }
   ],
   "source": [
    "stock.loc['banana']"
   ]
  },
  {
   "cell_type": "markdown",
   "metadata": {
    "lang": "zh-cn"
   },
   "source": [
    "为了方便起见，pandas（！）还允许我们在Series对象中使用整数索引。之所以称为*隐式*索引，是因为对象系列不使用整数作为索引，而是使用水果的名称。\n",
    "\n",
    "例如，我们还可以通过其隐式索引2来检索“香蕉”的值，因为它位于Series对象的第3行中（从0开始计数，它需要索引2）："
   ]
  },
  {
   "cell_type": "code",
   "execution_count": 51,
   "metadata": {},
   "outputs": [
    {
     "data": {
      "text/plain": [
       "22"
      ]
     },
     "execution_count": 51,
     "metadata": {},
     "output_type": "execute_result"
    }
   ],
   "source": [
    "stock[2]"
   ]
  },
  {
   "cell_type": "markdown",
   "metadata": {
    "lang": "zh-cn"
   },
   "source": [
    "在此示例中，此方法工作正常并且看起来很方便，但是如果对象的实际索引由整数组成，则会变得非常混乱。因此，使用间接索引的显式（推荐方法）是通过`iloc`（ImplicitLOCation）属性进行的："
   ]
  },
  {
   "cell_type": "code",
   "execution_count": 52,
   "metadata": {},
   "outputs": [
    {
     "data": {
      "text/plain": [
       "22"
      ]
     },
     "execution_count": 52,
     "metadata": {},
     "output_type": "execute_result"
    }
   ],
   "source": [
    "stock.iloc[2]"
   ]
  },
  {
   "cell_type": "markdown",
   "metadata": {
    "lang": "en"
   },
   "source": [
    "### Slicing"
   ]
  },
  {
   "cell_type": "markdown",
   "metadata": {
    "lang": "zh-cn"
   },
   "source": [
    "### 切片"
   ]
  },
  {
   "cell_type": "code",
   "execution_count": 53,
   "metadata": {},
   "outputs": [
    {
     "data": {
      "text/plain": [
       "apple        10\n",
       "orange        3\n",
       "banana       22\n",
       "cucumber      1\n",
       "potato      110\n",
       "dtype: int64"
      ]
     },
     "execution_count": 53,
     "metadata": {},
     "output_type": "execute_result"
    }
   ],
   "source": [
    "stock"
   ]
  },
  {
   "cell_type": "markdown",
   "metadata": {
    "lang": "zh-cn"
   },
   "source": [
    "我们还可以切片该系列："
   ]
  },
  {
   "cell_type": "code",
   "execution_count": 54,
   "metadata": {},
   "outputs": [
    {
     "data": {
      "text/plain": [
       "orange        3\n",
       "banana       22\n",
       "cucumber      1\n",
       "potato      110\n",
       "dtype: int64"
      ]
     },
     "execution_count": 54,
     "metadata": {},
     "output_type": "execute_result"
    }
   ],
   "source": [
    "stock['orange':'potato']"
   ]
  },
  {
   "cell_type": "markdown",
   "metadata": {
    "lang": "zh-cn"
   },
   "source": [
    "或跳过第二个条目："
   ]
  },
  {
   "cell_type": "code",
   "execution_count": 55,
   "metadata": {},
   "outputs": [
    {
     "data": {
      "text/plain": [
       "orange      3\n",
       "cucumber    1\n",
       "dtype: int64"
      ]
     },
     "execution_count": 55,
     "metadata": {},
     "output_type": "execute_result"
    }
   ],
   "source": [
    "stock['orange':'potato':2]"
   ]
  },
  {
   "cell_type": "markdown",
   "metadata": {
    "lang": "zh-cn"
   },
   "source": [
    "### 数据操作"
   ]
  },
  {
   "cell_type": "markdown",
   "metadata": {
    "lang": "zh-cn"
   },
   "source": [
    "可以同时处理所有数据值，以处理numpy数组的方式对系列对象进行数值运算："
   ]
  },
  {
   "cell_type": "code",
   "execution_count": 56,
   "metadata": {},
   "outputs": [
    {
     "data": {
      "text/plain": [
       "apple      -19.2\n",
       "orange     -26.2\n",
       "banana      -7.2\n",
       "cucumber   -28.2\n",
       "potato      80.8\n",
       "dtype: float64"
      ]
     },
     "execution_count": 56,
     "metadata": {},
     "output_type": "execute_result"
    }
   ],
   "source": [
    "stock - stock.mean()"
   ]
  },
  {
   "cell_type": "code",
   "execution_count": 57,
   "metadata": {
    "collapsed": true
   },
   "outputs": [],
   "source": [
    "import numpy as np"
   ]
  },
  {
   "cell_type": "code",
   "execution_count": 58,
   "metadata": {},
   "outputs": [
    {
     "data": {
      "text/plain": [
       "apple        3.162278\n",
       "orange       1.732051\n",
       "banana       4.690416\n",
       "cucumber     1.000000\n",
       "potato      10.488088\n",
       "dtype: float64"
      ]
     },
     "execution_count": 58,
     "metadata": {},
     "output_type": "execute_result"
    }
   ],
   "source": [
    "np.sqrt(stock)"
   ]
  },
  {
   "cell_type": "markdown",
   "metadata": {
    "lang": "zh-cn"
   },
   "source": [
    "在需要的地方，我们可以提取numpy数组并进行处理："
   ]
  },
  {
   "cell_type": "code",
   "execution_count": 59,
   "metadata": {
    "collapsed": true
   },
   "outputs": [],
   "source": [
    "data = stock.values"
   ]
  },
  {
   "cell_type": "code",
   "execution_count": 60,
   "metadata": {},
   "outputs": [
    {
     "data": {
      "text/plain": [
       "numpy.ndarray"
      ]
     },
     "execution_count": 60,
     "metadata": {},
     "output_type": "execute_result"
    }
   ],
   "source": [
    "type(data)"
   ]
  },
  {
   "cell_type": "code",
   "execution_count": 61,
   "metadata": {},
   "outputs": [
    {
     "data": {
      "text/plain": [
       "array([-19.2, -26.2,  -7.2, -28.2,  80.8])"
      ]
     },
     "execution_count": 61,
     "metadata": {},
     "output_type": "execute_result"
    }
   ],
   "source": [
    "data - data.mean()"
   ]
  },
  {
   "cell_type": "markdown",
   "metadata": {
    "lang": "en"
   },
   "source": [
    "### Import and Export\n",
    "\n",
    "Pandas (and its objects `Series` and `DataFrame`) support export to and import from a number of useful formats.\n",
    "\n",
    "For example, we can write a `Series` object into a comma separated value file:"
   ]
  },
  {
   "cell_type": "markdown",
   "metadata": {
    "lang": "zh-cn"
   },
   "source": [
    "### 输入与输出\n",
    "\n",
    "Pandas（及其对象`系列`和`数据框架`）支持多种有用格式的导出和导入。\n",
    "\n",
    "例如，我们可以将`Series`对象写入以逗号分隔的值文件中："
   ]
  },
  {
   "cell_type": "code",
   "execution_count": 62,
   "metadata": {
    "collapsed": true
   },
   "outputs": [],
   "source": [
    "stock.to_csv('stock.csv', header=False)"
   ]
  },
  {
   "cell_type": "code",
   "execution_count": 63,
   "metadata": {},
   "outputs": [
    {
     "name": "stdout",
     "output_type": "stream",
     "text": [
      "apple,10\r\n",
      "orange,3\r\n",
      "banana,22\r\n",
      "cucumber,1\r\n",
      "potato,110\r\n"
     ]
    }
   ],
   "source": [
    "#NBVAL_IGNORE_OUTPUT\n",
    "!cat stock.csv"
   ]
  },
  {
   "cell_type": "markdown",
   "metadata": {
    "lang": "zh-cn"
   },
   "source": [
    "我们还可以创建表的$\\LaTeX$表示形式："
   ]
  },
  {
   "cell_type": "code",
   "execution_count": 64,
   "metadata": {},
   "outputs": [
    {
     "data": {
      "text/plain": [
       "'\\\\begin{tabular}{lr}\\n\\\\toprule\\n{} &    0 \\\\\\\\\\n\\\\midrule\\napple    &   10 \\\\\\\\\\norange   &    3 \\\\\\\\\\nbanana   &   22 \\\\\\\\\\ncucumber &    1 \\\\\\\\\\npotato   &  110 \\\\\\\\\\n\\\\bottomrule\\n\\\\end{tabular}\\n'"
      ]
     },
     "execution_count": 64,
     "metadata": {},
     "output_type": "execute_result"
    }
   ],
   "source": [
    "stock.to_latex()"
   ]
  },
  {
   "cell_type": "markdown",
   "metadata": {
    "lang": "zh-cn"
   },
   "source": [
    "我们将回到读取`DataFrame`部分中的文件的方法。"
   ]
  },
  {
   "cell_type": "markdown",
   "metadata": {
    "lang": "zh-cn"
   },
   "source": [
    "## 数据框"
   ]
  },
  {
   "cell_type": "markdown",
   "metadata": {
    "lang": "zh-cn"
   },
   "source": [
    "### 库存示例-`DataFrame`"
   ]
  },
  {
   "cell_type": "markdown",
   "metadata": {
    "lang": "zh-cn"
   },
   "source": [
    "在介绍完上述`Series`对象之后，我们将重点介绍熊猫中的第二种重要类型：`DataFrame`。\n",
    "\n",
    "首先，我们可以说`DataFrame`类似于（2d）电子表格：它包含行和列。\n",
    "\n",
    "我们上面研究的系列对象是`DataFrame`的特例，其中`DataFrame`只有一列。\n",
    "\n",
    "我们将继续我们的库存示例："
   ]
  },
  {
   "cell_type": "code",
   "execution_count": 65,
   "metadata": {},
   "outputs": [
    {
     "data": {
      "text/plain": [
       "apple        10\n",
       "orange        3\n",
       "banana       22\n",
       "cucumber      1\n",
       "potato      110\n",
       "dtype: int64"
      ]
     },
     "execution_count": 65,
     "metadata": {},
     "output_type": "execute_result"
    }
   ],
   "source": [
    "stock"
   ]
  },
  {
   "cell_type": "markdown",
   "metadata": {
    "lang": "zh-cn"
   },
   "source": [
    "除了跟踪我们库存的每种类型的对象数之外，我们还有另一个Series对象，该对象提供每件商品的销售价格："
   ]
  },
  {
   "cell_type": "code",
   "execution_count": 66,
   "metadata": {},
   "outputs": [
    {
     "data": {
      "text/plain": [
       "apple       0.55\n",
       "banana      0.50\n",
       "cucumber    0.99\n",
       "potato      0.17\n",
       "orange      1.76\n",
       "dtype: float64"
      ]
     },
     "execution_count": 66,
     "metadata": {},
     "output_type": "execute_result"
    }
   ],
   "source": [
    "price = pd.Series({'apple': 0.55, 'banana': 0.50, 'cucumber' : 0.99, 'potato' : 0.17, 'orange': 1.76})\n",
    "price"
   ]
  },
  {
   "cell_type": "markdown",
   "metadata": {
    "lang": "zh-cn"
   },
   "source": [
    "`DataFrame`对象允许我们将两个系列一起对待。实际上，创建`DataFrame`对象的一种便捷方法是组合一系列series，如下所示："
   ]
  },
  {
   "cell_type": "code",
   "execution_count": 67,
   "metadata": {},
   "outputs": [
    {
     "data": {
      "text/html": [
       "<div>\n",
       "<style scoped>\n",
       "    .dataframe tbody tr th:only-of-type {\n",
       "        vertical-align: middle;\n",
       "    }\n",
       "\n",
       "    .dataframe tbody tr th {\n",
       "        vertical-align: top;\n",
       "    }\n",
       "\n",
       "    .dataframe thead th {\n",
       "        text-align: right;\n",
       "    }\n",
       "</style>\n",
       "<table border=\"1\" class=\"dataframe\">\n",
       "  <thead>\n",
       "    <tr style=\"text-align: right;\">\n",
       "      <th></th>\n",
       "      <th>stock</th>\n",
       "      <th>price</th>\n",
       "    </tr>\n",
       "  </thead>\n",
       "  <tbody>\n",
       "    <tr>\n",
       "      <th>apple</th>\n",
       "      <td>10</td>\n",
       "      <td>0.55</td>\n",
       "    </tr>\n",
       "    <tr>\n",
       "      <th>banana</th>\n",
       "      <td>22</td>\n",
       "      <td>0.50</td>\n",
       "    </tr>\n",
       "    <tr>\n",
       "      <th>cucumber</th>\n",
       "      <td>1</td>\n",
       "      <td>0.99</td>\n",
       "    </tr>\n",
       "    <tr>\n",
       "      <th>orange</th>\n",
       "      <td>3</td>\n",
       "      <td>1.76</td>\n",
       "    </tr>\n",
       "    <tr>\n",
       "      <th>potato</th>\n",
       "      <td>110</td>\n",
       "      <td>0.17</td>\n",
       "    </tr>\n",
       "  </tbody>\n",
       "</table>\n",
       "</div>"
      ],
      "text/plain": [
       "          stock  price\n",
       "apple        10   0.55\n",
       "banana       22   0.50\n",
       "cucumber      1   0.99\n",
       "orange        3   1.76\n",
       "potato      110   0.17"
      ]
     },
     "execution_count": 67,
     "metadata": {},
     "output_type": "execute_result"
    }
   ],
   "source": [
    "shop = pd.DataFrame({'stock' : stock, 'price' : price})\n",
    "shop"
   ]
  },
  {
   "cell_type": "markdown",
   "metadata": {
    "lang": "zh-cn"
   },
   "source": [
    "由于两个`Series`对象都具有相同的`index`元素，因此即使数据以`价格`和`库存`的存储顺序不同，我们的数据也可以在名称为`shop`的`DataFrame`中很好地对齐。"
   ]
  },
  {
   "cell_type": "markdown",
   "metadata": {
    "lang": "zh-cn"
   },
   "source": [
    "如果一个系列缺少数据点，pandas将在该字段中插入一个`NaN`条目："
   ]
  },
  {
   "cell_type": "code",
   "execution_count": 68,
   "metadata": {
    "collapsed": true
   },
   "outputs": [],
   "source": [
    "price2 = price.copy()"
   ]
  },
  {
   "cell_type": "code",
   "execution_count": 69,
   "metadata": {},
   "outputs": [
    {
     "data": {
      "text/plain": [
       "apple         0.55\n",
       "banana        0.50\n",
       "cucumber      0.99\n",
       "potato        0.17\n",
       "orange        1.76\n",
       "grapefruit    1.99\n",
       "dtype: float64"
      ]
     },
     "execution_count": 69,
     "metadata": {},
     "output_type": "execute_result"
    }
   ],
   "source": [
    "price2['grapefruit'] = 1.99\n",
    "price2"
   ]
  },
  {
   "cell_type": "code",
   "execution_count": 70,
   "metadata": {},
   "outputs": [
    {
     "data": {
      "text/html": [
       "<div>\n",
       "<style scoped>\n",
       "    .dataframe tbody tr th:only-of-type {\n",
       "        vertical-align: middle;\n",
       "    }\n",
       "\n",
       "    .dataframe tbody tr th {\n",
       "        vertical-align: top;\n",
       "    }\n",
       "\n",
       "    .dataframe thead th {\n",
       "        text-align: right;\n",
       "    }\n",
       "</style>\n",
       "<table border=\"1\" class=\"dataframe\">\n",
       "  <thead>\n",
       "    <tr style=\"text-align: right;\">\n",
       "      <th></th>\n",
       "      <th>stock</th>\n",
       "      <th>price</th>\n",
       "    </tr>\n",
       "  </thead>\n",
       "  <tbody>\n",
       "    <tr>\n",
       "      <th>apple</th>\n",
       "      <td>10.0</td>\n",
       "      <td>0.55</td>\n",
       "    </tr>\n",
       "    <tr>\n",
       "      <th>banana</th>\n",
       "      <td>22.0</td>\n",
       "      <td>0.50</td>\n",
       "    </tr>\n",
       "    <tr>\n",
       "      <th>cucumber</th>\n",
       "      <td>1.0</td>\n",
       "      <td>0.99</td>\n",
       "    </tr>\n",
       "    <tr>\n",
       "      <th>grapefruit</th>\n",
       "      <td>NaN</td>\n",
       "      <td>1.99</td>\n",
       "    </tr>\n",
       "    <tr>\n",
       "      <th>orange</th>\n",
       "      <td>3.0</td>\n",
       "      <td>1.76</td>\n",
       "    </tr>\n",
       "    <tr>\n",
       "      <th>potato</th>\n",
       "      <td>110.0</td>\n",
       "      <td>0.17</td>\n",
       "    </tr>\n",
       "  </tbody>\n",
       "</table>\n",
       "</div>"
      ],
      "text/plain": [
       "            stock  price\n",
       "apple        10.0   0.55\n",
       "banana       22.0   0.50\n",
       "cucumber      1.0   0.99\n",
       "grapefruit    NaN   1.99\n",
       "orange        3.0   1.76\n",
       "potato      110.0   0.17"
      ]
     },
     "execution_count": 70,
     "metadata": {},
     "output_type": "execute_result"
    }
   ],
   "source": [
    "pd.DataFrame({'stock' : stock, 'price' : price2})"
   ]
  },
  {
   "cell_type": "markdown",
   "metadata": {
    "lang": "zh-cn"
   },
   "source": [
    "### 访问DataFramea中的数据"
   ]
  },
  {
   "cell_type": "code",
   "execution_count": 71,
   "metadata": {},
   "outputs": [
    {
     "data": {
      "text/html": [
       "<div>\n",
       "<style scoped>\n",
       "    .dataframe tbody tr th:only-of-type {\n",
       "        vertical-align: middle;\n",
       "    }\n",
       "\n",
       "    .dataframe tbody tr th {\n",
       "        vertical-align: top;\n",
       "    }\n",
       "\n",
       "    .dataframe thead th {\n",
       "        text-align: right;\n",
       "    }\n",
       "</style>\n",
       "<table border=\"1\" class=\"dataframe\">\n",
       "  <thead>\n",
       "    <tr style=\"text-align: right;\">\n",
       "      <th></th>\n",
       "      <th>stock</th>\n",
       "      <th>price</th>\n",
       "    </tr>\n",
       "  </thead>\n",
       "  <tbody>\n",
       "    <tr>\n",
       "      <th>apple</th>\n",
       "      <td>10</td>\n",
       "      <td>0.55</td>\n",
       "    </tr>\n",
       "    <tr>\n",
       "      <th>banana</th>\n",
       "      <td>22</td>\n",
       "      <td>0.50</td>\n",
       "    </tr>\n",
       "    <tr>\n",
       "      <th>cucumber</th>\n",
       "      <td>1</td>\n",
       "      <td>0.99</td>\n",
       "    </tr>\n",
       "    <tr>\n",
       "      <th>orange</th>\n",
       "      <td>3</td>\n",
       "      <td>1.76</td>\n",
       "    </tr>\n",
       "    <tr>\n",
       "      <th>potato</th>\n",
       "      <td>110</td>\n",
       "      <td>0.17</td>\n",
       "    </tr>\n",
       "  </tbody>\n",
       "</table>\n",
       "</div>"
      ],
      "text/plain": [
       "          stock  price\n",
       "apple        10   0.55\n",
       "banana       22   0.50\n",
       "cucumber      1   0.99\n",
       "orange        3   1.76\n",
       "potato      110   0.17"
      ]
     },
     "execution_count": 71,
     "metadata": {},
     "output_type": "execute_result"
    }
   ],
   "source": [
    "shop"
   ]
  },
  {
   "cell_type": "markdown",
   "metadata": {
    "lang": "zh-cn"
   },
   "source": [
    "数据框具有*index*，所有列均相同，并在最左侧的列中以粗体显示。我们也可以要求它："
   ]
  },
  {
   "cell_type": "code",
   "execution_count": 72,
   "metadata": {},
   "outputs": [
    {
     "data": {
      "text/plain": [
       "Index(['apple', 'banana', 'cucumber', 'orange', 'potato'], dtype='object')"
      ]
     },
     "execution_count": 72,
     "metadata": {},
     "output_type": "execute_result"
    }
   ],
   "source": [
    "shop.index"
   ]
  },
  {
   "cell_type": "markdown",
   "metadata": {
    "lang": "zh-cn"
   },
   "source": [
    "每列都有名称（此处为`库存`和`价格`）："
   ]
  },
  {
   "cell_type": "code",
   "execution_count": 73,
   "metadata": {},
   "outputs": [
    {
     "data": {
      "text/plain": [
       "Index(['stock', 'price'], dtype='object')"
      ]
     },
     "execution_count": 73,
     "metadata": {},
     "output_type": "execute_result"
    }
   ],
   "source": [
    "shop.columns"
   ]
  },
  {
   "cell_type": "markdown",
   "metadata": {
    "lang": "zh-cn"
   },
   "source": [
    "### 提取数据列\n",
    "\n",
    "使用列名，我们可以使用索引运算符（`[]`）将一列提取到Series对象中："
   ]
  },
  {
   "cell_type": "code",
   "execution_count": 74,
   "metadata": {},
   "outputs": [
    {
     "data": {
      "text/plain": [
       "apple        10\n",
       "banana       22\n",
       "cucumber      1\n",
       "orange        3\n",
       "potato      110\n",
       "Name: stock, dtype: int64"
      ]
     },
     "execution_count": 74,
     "metadata": {},
     "output_type": "execute_result"
    }
   ],
   "source": [
    "shop['stock']"
   ]
  },
  {
   "cell_type": "code",
   "execution_count": 75,
   "metadata": {},
   "outputs": [
    {
     "data": {
      "text/plain": [
       "apple       0.55\n",
       "banana      0.50\n",
       "cucumber    0.99\n",
       "orange      1.76\n",
       "potato      0.17\n",
       "Name: price, dtype: float64"
      ]
     },
     "execution_count": 75,
     "metadata": {},
     "output_type": "execute_result"
    }
   ],
   "source": [
    "shop['price']"
   ]
  },
  {
   "cell_type": "markdown",
   "metadata": {
    "lang": "zh-cn"
   },
   "source": [
    "### 提取数据行"
   ]
  },
  {
   "cell_type": "markdown",
   "metadata": {
    "lang": "zh-cn"
   },
   "source": [
    "我们有两种选择来提取一行数据。\n",
    "\n",
    "首先，使用该行中的索引标签进行显式索引："
   ]
  },
  {
   "cell_type": "code",
   "execution_count": 76,
   "metadata": {},
   "outputs": [
    {
     "data": {
      "text/plain": [
       "stock    10.00\n",
       "price     0.55\n",
       "Name: apple, dtype: float64"
      ]
     },
     "execution_count": 76,
     "metadata": {},
     "output_type": "execute_result"
    }
   ],
   "source": [
    "shop.loc['apple']             # single row is returned as series"
   ]
  },
  {
   "cell_type": "code",
   "execution_count": 77,
   "metadata": {},
   "outputs": [
    {
     "data": {
      "text/html": [
       "<div>\n",
       "<style scoped>\n",
       "    .dataframe tbody tr th:only-of-type {\n",
       "        vertical-align: middle;\n",
       "    }\n",
       "\n",
       "    .dataframe tbody tr th {\n",
       "        vertical-align: top;\n",
       "    }\n",
       "\n",
       "    .dataframe thead th {\n",
       "        text-align: right;\n",
       "    }\n",
       "</style>\n",
       "<table border=\"1\" class=\"dataframe\">\n",
       "  <thead>\n",
       "    <tr style=\"text-align: right;\">\n",
       "      <th></th>\n",
       "      <th>stock</th>\n",
       "      <th>price</th>\n",
       "    </tr>\n",
       "  </thead>\n",
       "  <tbody>\n",
       "    <tr>\n",
       "      <th>banana</th>\n",
       "      <td>22</td>\n",
       "      <td>0.50</td>\n",
       "    </tr>\n",
       "    <tr>\n",
       "      <th>cucumber</th>\n",
       "      <td>1</td>\n",
       "      <td>0.99</td>\n",
       "    </tr>\n",
       "  </tbody>\n",
       "</table>\n",
       "</div>"
      ],
      "text/plain": [
       "          stock  price\n",
       "banana       22   0.50\n",
       "cucumber      1   0.99"
      ]
     },
     "execution_count": 77,
     "metadata": {},
     "output_type": "execute_result"
    }
   ],
   "source": [
    "shop.loc['banana':'cucumber']  # multiple rows are returned as DataFrame"
   ]
  },
  {
   "cell_type": "markdown",
   "metadata": {
    "lang": "zh-cn"
   },
   "source": [
    "其次，我们可以使用隐式索引（对于Series对象）："
   ]
  },
  {
   "cell_type": "code",
   "execution_count": 78,
   "metadata": {},
   "outputs": [
    {
     "data": {
      "text/plain": [
       "stock    10.00\n",
       "price     0.55\n",
       "Name: apple, dtype: float64"
      ]
     },
     "execution_count": 78,
     "metadata": {},
     "output_type": "execute_result"
    }
   ],
   "source": [
    "shop.iloc[0]"
   ]
  },
  {
   "cell_type": "code",
   "execution_count": 79,
   "metadata": {},
   "outputs": [
    {
     "data": {
      "text/html": [
       "<div>\n",
       "<style scoped>\n",
       "    .dataframe tbody tr th:only-of-type {\n",
       "        vertical-align: middle;\n",
       "    }\n",
       "\n",
       "    .dataframe tbody tr th {\n",
       "        vertical-align: top;\n",
       "    }\n",
       "\n",
       "    .dataframe thead th {\n",
       "        text-align: right;\n",
       "    }\n",
       "</style>\n",
       "<table border=\"1\" class=\"dataframe\">\n",
       "  <thead>\n",
       "    <tr style=\"text-align: right;\">\n",
       "      <th></th>\n",
       "      <th>stock</th>\n",
       "      <th>price</th>\n",
       "    </tr>\n",
       "  </thead>\n",
       "  <tbody>\n",
       "    <tr>\n",
       "      <th>banana</th>\n",
       "      <td>22</td>\n",
       "      <td>0.50</td>\n",
       "    </tr>\n",
       "    <tr>\n",
       "      <th>cucumber</th>\n",
       "      <td>1</td>\n",
       "      <td>0.99</td>\n",
       "    </tr>\n",
       "  </tbody>\n",
       "</table>\n",
       "</div>"
      ],
      "text/plain": [
       "          stock  price\n",
       "banana       22   0.50\n",
       "cucumber      1   0.99"
      ]
     },
     "execution_count": 79,
     "metadata": {},
     "output_type": "execute_result"
    }
   ],
   "source": [
    "shop.iloc[1:3]"
   ]
  },
  {
   "cell_type": "markdown",
   "metadata": {
    "lang": "en"
   },
   "source": [
    "#### Warning\n",
    "\n",
    "Note that there are some inconsistencies here: the explicit slicing with index labels (such as `.loc['banana':'cucumber']`) is inclusive of `cucumber`, whereas in the implicit slicing (such as `.iloc[1:3]`) the row with index `3` is *not* included.\n",
    "\n",
    "The behaviour of `.loc` is convenient and a good design choice if labels such as strings in our `stock` example are used. The behaviour of `.iloc` is reflecting the normal Python behaviour.\n",
    "\n",
    "It is thus understandable how we have arrived at the situation.\n",
    "\n"
   ]
  },
  {
   "cell_type": "markdown",
   "metadata": {
    "lang": "zh-cn"
   },
   "source": [
    "#### 警告\n",
    "\n",
    "注意这里存在一些不一致：带有索引标签的显式切片（例如`.loc ['banana'：'cucumber']`）包含`cucumber`，而在隐式切片中（例如`.iloc [ 1：3]`）索引号为`3`的行不包括在内。\n",
    "\n",
    "如果在我们的`stock`示例中使用了诸如字符串之类的标签，则`.loc`的行为很方便并且是一个不错的设计选择。 `.iloc`的行为反映了正常的Python行为。\n",
    "\n",
    "因此，我们如何到达局势是可以理解的。"
   ]
  },
  {
   "cell_type": "markdown",
   "metadata": {
    "lang": "zh-cn"
   },
   "source": [
    "### 使用`shop`进行数据操作"
   ]
  },
  {
   "cell_type": "markdown",
   "metadata": {
    "lang": "zh-cn"
   },
   "source": [
    "DataFrames的真正优势在于我们可以继续方便地处理数据。\n",
    "\n",
    "例如，我们可以计算出库存中物品的财务价值，并将其添加为额外的列："
   ]
  },
  {
   "cell_type": "code",
   "execution_count": 80,
   "metadata": {},
   "outputs": [
    {
     "data": {
      "text/html": [
       "<div>\n",
       "<style scoped>\n",
       "    .dataframe tbody tr th:only-of-type {\n",
       "        vertical-align: middle;\n",
       "    }\n",
       "\n",
       "    .dataframe tbody tr th {\n",
       "        vertical-align: top;\n",
       "    }\n",
       "\n",
       "    .dataframe thead th {\n",
       "        text-align: right;\n",
       "    }\n",
       "</style>\n",
       "<table border=\"1\" class=\"dataframe\">\n",
       "  <thead>\n",
       "    <tr style=\"text-align: right;\">\n",
       "      <th></th>\n",
       "      <th>stock</th>\n",
       "      <th>price</th>\n",
       "      <th>value</th>\n",
       "    </tr>\n",
       "  </thead>\n",
       "  <tbody>\n",
       "    <tr>\n",
       "      <th>apple</th>\n",
       "      <td>10</td>\n",
       "      <td>0.55</td>\n",
       "      <td>5.50</td>\n",
       "    </tr>\n",
       "    <tr>\n",
       "      <th>banana</th>\n",
       "      <td>22</td>\n",
       "      <td>0.50</td>\n",
       "      <td>11.00</td>\n",
       "    </tr>\n",
       "    <tr>\n",
       "      <th>cucumber</th>\n",
       "      <td>1</td>\n",
       "      <td>0.99</td>\n",
       "      <td>0.99</td>\n",
       "    </tr>\n",
       "    <tr>\n",
       "      <th>orange</th>\n",
       "      <td>3</td>\n",
       "      <td>1.76</td>\n",
       "      <td>5.28</td>\n",
       "    </tr>\n",
       "    <tr>\n",
       "      <th>potato</th>\n",
       "      <td>110</td>\n",
       "      <td>0.17</td>\n",
       "      <td>18.70</td>\n",
       "    </tr>\n",
       "  </tbody>\n",
       "</table>\n",
       "</div>"
      ],
      "text/plain": [
       "          stock  price  value\n",
       "apple        10   0.55   5.50\n",
       "banana       22   0.50  11.00\n",
       "cucumber      1   0.99   0.99\n",
       "orange        3   1.76   5.28\n",
       "potato      110   0.17  18.70"
      ]
     },
     "execution_count": 80,
     "metadata": {},
     "output_type": "execute_result"
    }
   ],
   "source": [
    "shop['value'] = shop['price'] * shop['stock']\n",
    "shop"
   ]
  },
  {
   "cell_type": "markdown",
   "metadata": {
    "lang": "zh-cn"
   },
   "source": [
    "当然，我们可以计算总和，例如，估算总库存的价值："
   ]
  },
  {
   "cell_type": "code",
   "execution_count": 81,
   "metadata": {},
   "outputs": [
    {
     "data": {
      "text/plain": [
       "41.47"
      ]
     },
     "execution_count": 81,
     "metadata": {},
     "output_type": "execute_result"
    }
   ],
   "source": [
    "shop['value'].sum()"
   ]
  },
  {
   "cell_type": "markdown",
   "metadata": {
    "lang": "zh-cn"
   },
   "source": [
    "如果出于某种原因，我们想用行交换列，我们可以像一个numpy数组一样`转置`数据框："
   ]
  },
  {
   "cell_type": "code",
   "execution_count": 82,
   "metadata": {},
   "outputs": [
    {
     "data": {
      "text/html": [
       "<div>\n",
       "<style scoped>\n",
       "    .dataframe tbody tr th:only-of-type {\n",
       "        vertical-align: middle;\n",
       "    }\n",
       "\n",
       "    .dataframe tbody tr th {\n",
       "        vertical-align: top;\n",
       "    }\n",
       "\n",
       "    .dataframe thead th {\n",
       "        text-align: right;\n",
       "    }\n",
       "</style>\n",
       "<table border=\"1\" class=\"dataframe\">\n",
       "  <thead>\n",
       "    <tr style=\"text-align: right;\">\n",
       "      <th></th>\n",
       "      <th>apple</th>\n",
       "      <th>banana</th>\n",
       "      <th>cucumber</th>\n",
       "      <th>orange</th>\n",
       "      <th>potato</th>\n",
       "    </tr>\n",
       "  </thead>\n",
       "  <tbody>\n",
       "    <tr>\n",
       "      <th>stock</th>\n",
       "      <td>10.00</td>\n",
       "      <td>22.0</td>\n",
       "      <td>1.00</td>\n",
       "      <td>3.00</td>\n",
       "      <td>110.00</td>\n",
       "    </tr>\n",
       "    <tr>\n",
       "      <th>price</th>\n",
       "      <td>0.55</td>\n",
       "      <td>0.5</td>\n",
       "      <td>0.99</td>\n",
       "      <td>1.76</td>\n",
       "      <td>0.17</td>\n",
       "    </tr>\n",
       "    <tr>\n",
       "      <th>value</th>\n",
       "      <td>5.50</td>\n",
       "      <td>11.0</td>\n",
       "      <td>0.99</td>\n",
       "      <td>5.28</td>\n",
       "      <td>18.70</td>\n",
       "    </tr>\n",
       "  </tbody>\n",
       "</table>\n",
       "</div>"
      ],
      "text/plain": [
       "       apple  banana  cucumber  orange  potato\n",
       "stock  10.00    22.0      1.00    3.00  110.00\n",
       "price   0.55     0.5      0.99    1.76    0.17\n",
       "value   5.50    11.0      0.99    5.28   18.70"
      ]
     },
     "execution_count": 82,
     "metadata": {},
     "output_type": "execute_result"
    }
   ],
   "source": [
    "shop.transpose()"
   ]
  },
  {
   "cell_type": "markdown",
   "metadata": {
    "lang": "zh-cn"
   },
   "source": [
    "## 范例：2017年欧洲人口\n",
    "\n",
    "这是第二个示例，以演示pandas DataFrame的一些用例。"
   ]
  },
  {
   "cell_type": "markdown",
   "metadata": {
    "lang": "zh-cn"
   },
   "source": [
    "首先，我们得到数据。它最初来自EUROSTAT（参考“ demo_gind”）"
   ]
  },
  {
   "cell_type": "code",
   "execution_count": 83,
   "metadata": {},
   "outputs": [
    {
     "name": "stdout",
     "output_type": "stream",
     "text": [
      "--2019-10-28 08:30:12--  https://fangohr.github.io/data/eurostat/population2017/eu-pop-2017.csv\r\n",
      "Resolving fangohr.github.io (fangohr.github.io)... 185.199.111.153, 185.199.108.153, 185.199.109.153, ...\r\n",
      "Connecting to fangohr.github.io (fangohr.github.io)|185.199.111.153|:443... connected.\r\n",
      "HTTP request sent, awaiting response... 200 OK\r\n",
      "Length: 1087 (1.1K) [text/csv]\r\n",
      "Saving to: 'eu-pop-2017.csv.2'\r\n",
      "\r\n",
      "eu-pop-2017.csv.2   100%[===================>]   1.06K  --.-KB/s    in 0s      \r\n",
      "\r\n",
      "2019-10-28 08:30:12 (50.1 MB/s) - 'eu-pop-2017.csv.2' saved [1087/1087]\r\n",
      "\r\n"
     ]
    }
   ],
   "source": [
    "#NBVAL_IGNORE_OUTPUT\n",
    "!wget https://fangohr.github.io/data/eurostat/population2017/eu-pop-2017.csv"
   ]
  },
  {
   "cell_type": "markdown",
   "metadata": {
    "lang": "zh-cn"
   },
   "source": [
    "数据源是一个逗号分隔值文件（CSV），如下所示："
   ]
  },
  {
   "cell_type": "code",
   "execution_count": 84,
   "metadata": {},
   "outputs": [
    {
     "name": "stdout",
     "output_type": "stream",
     "text": [
      "geo,pop17,pop18,births,deaths\r\n",
      "Belgium ,11351727,11413058,119690,109666\r\n",
      "Bulgaria,7101859,7050034,63955,109791\r\n",
      "Czechia,10578820,10610055,114405,111443\r\n",
      "Denmark,5748769,5781190,61397,53261\r\n",
      "Germany,82521653,82850000,785000,933000\r\n",
      "Estonia ,1315634,1319133,13784,15543\r\n",
      "Ireland,4784383,4838259,62084,30324\r\n",
      "Greece,10768193,10738868,88523,124530\r\n",
      "Spain,46527039,46659302,390024,421269\r\n"
     ]
    }
   ],
   "source": [
    "#NBVAL_IGNORE_OUTPUT\n",
    "!head eu-pop-2017.csv"
   ]
  },
  {
   "cell_type": "markdown",
   "metadata": {
    "lang": "zh-cn"
   },
   "source": [
    "Pandas具有非常强的支持能力，可以读取各种格式的文件，包括MS Excel，CSV，HDF5等。每个阅读例程都有许多选项可以定制过程。\n",
    "\n",
    "许多数据科学项目将数据保留在其原始文件中，并使用几行Python代码将其导入。"
   ]
  },
  {
   "cell_type": "code",
   "execution_count": 85,
   "metadata": {
    "collapsed": true
   },
   "outputs": [],
   "source": [
    "df = pd.read_csv('eu-pop-2017.csv')"
   ]
  },
  {
   "cell_type": "code",
   "execution_count": 86,
   "metadata": {},
   "outputs": [
    {
     "data": {
      "text/html": [
       "<div>\n",
       "<style scoped>\n",
       "    .dataframe tbody tr th:only-of-type {\n",
       "        vertical-align: middle;\n",
       "    }\n",
       "\n",
       "    .dataframe tbody tr th {\n",
       "        vertical-align: top;\n",
       "    }\n",
       "\n",
       "    .dataframe thead th {\n",
       "        text-align: right;\n",
       "    }\n",
       "</style>\n",
       "<table border=\"1\" class=\"dataframe\">\n",
       "  <thead>\n",
       "    <tr style=\"text-align: right;\">\n",
       "      <th></th>\n",
       "      <th>geo</th>\n",
       "      <th>pop17</th>\n",
       "      <th>pop18</th>\n",
       "      <th>births</th>\n",
       "      <th>deaths</th>\n",
       "    </tr>\n",
       "  </thead>\n",
       "  <tbody>\n",
       "    <tr>\n",
       "      <th>0</th>\n",
       "      <td>Belgium</td>\n",
       "      <td>11351727</td>\n",
       "      <td>11413058</td>\n",
       "      <td>119690</td>\n",
       "      <td>109666</td>\n",
       "    </tr>\n",
       "    <tr>\n",
       "      <th>1</th>\n",
       "      <td>Bulgaria</td>\n",
       "      <td>7101859</td>\n",
       "      <td>7050034</td>\n",
       "      <td>63955</td>\n",
       "      <td>109791</td>\n",
       "    </tr>\n",
       "    <tr>\n",
       "      <th>2</th>\n",
       "      <td>Czechia</td>\n",
       "      <td>10578820</td>\n",
       "      <td>10610055</td>\n",
       "      <td>114405</td>\n",
       "      <td>111443</td>\n",
       "    </tr>\n",
       "    <tr>\n",
       "      <th>3</th>\n",
       "      <td>Denmark</td>\n",
       "      <td>5748769</td>\n",
       "      <td>5781190</td>\n",
       "      <td>61397</td>\n",
       "      <td>53261</td>\n",
       "    </tr>\n",
       "    <tr>\n",
       "      <th>4</th>\n",
       "      <td>Germany</td>\n",
       "      <td>82521653</td>\n",
       "      <td>82850000</td>\n",
       "      <td>785000</td>\n",
       "      <td>933000</td>\n",
       "    </tr>\n",
       "    <tr>\n",
       "      <th>5</th>\n",
       "      <td>Estonia</td>\n",
       "      <td>1315634</td>\n",
       "      <td>1319133</td>\n",
       "      <td>13784</td>\n",
       "      <td>15543</td>\n",
       "    </tr>\n",
       "    <tr>\n",
       "      <th>6</th>\n",
       "      <td>Ireland</td>\n",
       "      <td>4784383</td>\n",
       "      <td>4838259</td>\n",
       "      <td>62084</td>\n",
       "      <td>30324</td>\n",
       "    </tr>\n",
       "    <tr>\n",
       "      <th>7</th>\n",
       "      <td>Greece</td>\n",
       "      <td>10768193</td>\n",
       "      <td>10738868</td>\n",
       "      <td>88523</td>\n",
       "      <td>124530</td>\n",
       "    </tr>\n",
       "    <tr>\n",
       "      <th>8</th>\n",
       "      <td>Spain</td>\n",
       "      <td>46527039</td>\n",
       "      <td>46659302</td>\n",
       "      <td>390024</td>\n",
       "      <td>421269</td>\n",
       "    </tr>\n",
       "    <tr>\n",
       "      <th>9</th>\n",
       "      <td>France</td>\n",
       "      <td>66989083</td>\n",
       "      <td>67221943</td>\n",
       "      <td>767691</td>\n",
       "      <td>603141</td>\n",
       "    </tr>\n",
       "    <tr>\n",
       "      <th>10</th>\n",
       "      <td>Croatia</td>\n",
       "      <td>4154212</td>\n",
       "      <td>4105493</td>\n",
       "      <td>36556</td>\n",
       "      <td>53477</td>\n",
       "    </tr>\n",
       "    <tr>\n",
       "      <th>11</th>\n",
       "      <td>Italy</td>\n",
       "      <td>60589445</td>\n",
       "      <td>60483973</td>\n",
       "      <td>458151</td>\n",
       "      <td>649061</td>\n",
       "    </tr>\n",
       "    <tr>\n",
       "      <th>12</th>\n",
       "      <td>Cyprus</td>\n",
       "      <td>854802</td>\n",
       "      <td>864236</td>\n",
       "      <td>9229</td>\n",
       "      <td>5997</td>\n",
       "    </tr>\n",
       "    <tr>\n",
       "      <th>13</th>\n",
       "      <td>Latvia</td>\n",
       "      <td>1950116</td>\n",
       "      <td>1934379</td>\n",
       "      <td>20828</td>\n",
       "      <td>28757</td>\n",
       "    </tr>\n",
       "    <tr>\n",
       "      <th>14</th>\n",
       "      <td>Lithuania</td>\n",
       "      <td>2847904</td>\n",
       "      <td>2808901</td>\n",
       "      <td>28696</td>\n",
       "      <td>40142</td>\n",
       "    </tr>\n",
       "    <tr>\n",
       "      <th>15</th>\n",
       "      <td>Luxembourg</td>\n",
       "      <td>590667</td>\n",
       "      <td>602005</td>\n",
       "      <td>6174</td>\n",
       "      <td>4263</td>\n",
       "    </tr>\n",
       "    <tr>\n",
       "      <th>16</th>\n",
       "      <td>Hungary</td>\n",
       "      <td>9797561</td>\n",
       "      <td>9778371</td>\n",
       "      <td>94646</td>\n",
       "      <td>131877</td>\n",
       "    </tr>\n",
       "    <tr>\n",
       "      <th>17</th>\n",
       "      <td>Malta</td>\n",
       "      <td>460297</td>\n",
       "      <td>475701</td>\n",
       "      <td>4319</td>\n",
       "      <td>3571</td>\n",
       "    </tr>\n",
       "    <tr>\n",
       "      <th>18</th>\n",
       "      <td>Netherlands</td>\n",
       "      <td>17081507</td>\n",
       "      <td>17181084</td>\n",
       "      <td>169200</td>\n",
       "      <td>150027</td>\n",
       "    </tr>\n",
       "    <tr>\n",
       "      <th>19</th>\n",
       "      <td>Austria</td>\n",
       "      <td>8772865</td>\n",
       "      <td>8822267</td>\n",
       "      <td>87633</td>\n",
       "      <td>83270</td>\n",
       "    </tr>\n",
       "    <tr>\n",
       "      <th>20</th>\n",
       "      <td>Poland</td>\n",
       "      <td>37972964</td>\n",
       "      <td>37976687</td>\n",
       "      <td>401982</td>\n",
       "      <td>402852</td>\n",
       "    </tr>\n",
       "    <tr>\n",
       "      <th>21</th>\n",
       "      <td>Portugal</td>\n",
       "      <td>10309573</td>\n",
       "      <td>10291027</td>\n",
       "      <td>86154</td>\n",
       "      <td>109586</td>\n",
       "    </tr>\n",
       "    <tr>\n",
       "      <th>22</th>\n",
       "      <td>Romania</td>\n",
       "      <td>19644350</td>\n",
       "      <td>19523621</td>\n",
       "      <td>189474</td>\n",
       "      <td>260599</td>\n",
       "    </tr>\n",
       "    <tr>\n",
       "      <th>23</th>\n",
       "      <td>Slovenia</td>\n",
       "      <td>2065895</td>\n",
       "      <td>2066880</td>\n",
       "      <td>20241</td>\n",
       "      <td>20509</td>\n",
       "    </tr>\n",
       "    <tr>\n",
       "      <th>24</th>\n",
       "      <td>Slovakia</td>\n",
       "      <td>5435343</td>\n",
       "      <td>5443120</td>\n",
       "      <td>57969</td>\n",
       "      <td>53914</td>\n",
       "    </tr>\n",
       "    <tr>\n",
       "      <th>25</th>\n",
       "      <td>Finland</td>\n",
       "      <td>5503297</td>\n",
       "      <td>5513130</td>\n",
       "      <td>50321</td>\n",
       "      <td>53722</td>\n",
       "    </tr>\n",
       "    <tr>\n",
       "      <th>26</th>\n",
       "      <td>Sweden</td>\n",
       "      <td>9995153</td>\n",
       "      <td>10120242</td>\n",
       "      <td>115416</td>\n",
       "      <td>91972</td>\n",
       "    </tr>\n",
       "    <tr>\n",
       "      <th>27</th>\n",
       "      <td>United Kingdom</td>\n",
       "      <td>65808573</td>\n",
       "      <td>66238007</td>\n",
       "      <td>755043</td>\n",
       "      <td>607172</td>\n",
       "    </tr>\n",
       "  </tbody>\n",
       "</table>\n",
       "</div>"
      ],
      "text/plain": [
       "               geo     pop17     pop18  births  deaths\n",
       "0         Belgium   11351727  11413058  119690  109666\n",
       "1         Bulgaria   7101859   7050034   63955  109791\n",
       "2          Czechia  10578820  10610055  114405  111443\n",
       "3          Denmark   5748769   5781190   61397   53261\n",
       "4          Germany  82521653  82850000  785000  933000\n",
       "5         Estonia    1315634   1319133   13784   15543\n",
       "6          Ireland   4784383   4838259   62084   30324\n",
       "7           Greece  10768193  10738868   88523  124530\n",
       "8            Spain  46527039  46659302  390024  421269\n",
       "9          France   66989083  67221943  767691  603141\n",
       "10         Croatia   4154212   4105493   36556   53477\n",
       "11           Italy  60589445  60483973  458151  649061\n",
       "12          Cyprus    854802    864236    9229    5997\n",
       "13          Latvia   1950116   1934379   20828   28757\n",
       "14       Lithuania   2847904   2808901   28696   40142\n",
       "15      Luxembourg    590667    602005    6174    4263\n",
       "16         Hungary   9797561   9778371   94646  131877\n",
       "17           Malta    460297    475701    4319    3571\n",
       "18     Netherlands  17081507  17181084  169200  150027\n",
       "19         Austria   8772865   8822267   87633   83270\n",
       "20          Poland  37972964  37976687  401982  402852\n",
       "21        Portugal  10309573  10291027   86154  109586\n",
       "22         Romania  19644350  19523621  189474  260599\n",
       "23        Slovenia   2065895   2066880   20241   20509\n",
       "24        Slovakia   5435343   5443120   57969   53914\n",
       "25         Finland   5503297   5513130   50321   53722\n",
       "26          Sweden   9995153  10120242  115416   91972\n",
       "27  United Kingdom  65808573  66238007  755043  607172"
      ]
     },
     "execution_count": 86,
     "metadata": {},
     "output_type": "execute_result"
    }
   ],
   "source": [
    "df"
   ]
  },
  {
   "cell_type": "markdown",
   "metadata": {
    "lang": "zh-cn"
   },
   "source": [
    "我们按原样查看数据框，并使用“ head（）”命令，该命令仅显示数据的前5行："
   ]
  },
  {
   "cell_type": "code",
   "execution_count": 87,
   "metadata": {},
   "outputs": [
    {
     "data": {
      "text/html": [
       "<div>\n",
       "<style scoped>\n",
       "    .dataframe tbody tr th:only-of-type {\n",
       "        vertical-align: middle;\n",
       "    }\n",
       "\n",
       "    .dataframe tbody tr th {\n",
       "        vertical-align: top;\n",
       "    }\n",
       "\n",
       "    .dataframe thead th {\n",
       "        text-align: right;\n",
       "    }\n",
       "</style>\n",
       "<table border=\"1\" class=\"dataframe\">\n",
       "  <thead>\n",
       "    <tr style=\"text-align: right;\">\n",
       "      <th></th>\n",
       "      <th>geo</th>\n",
       "      <th>pop17</th>\n",
       "      <th>pop18</th>\n",
       "      <th>births</th>\n",
       "      <th>deaths</th>\n",
       "    </tr>\n",
       "  </thead>\n",
       "  <tbody>\n",
       "    <tr>\n",
       "      <th>0</th>\n",
       "      <td>Belgium</td>\n",
       "      <td>11351727</td>\n",
       "      <td>11413058</td>\n",
       "      <td>119690</td>\n",
       "      <td>109666</td>\n",
       "    </tr>\n",
       "    <tr>\n",
       "      <th>1</th>\n",
       "      <td>Bulgaria</td>\n",
       "      <td>7101859</td>\n",
       "      <td>7050034</td>\n",
       "      <td>63955</td>\n",
       "      <td>109791</td>\n",
       "    </tr>\n",
       "    <tr>\n",
       "      <th>2</th>\n",
       "      <td>Czechia</td>\n",
       "      <td>10578820</td>\n",
       "      <td>10610055</td>\n",
       "      <td>114405</td>\n",
       "      <td>111443</td>\n",
       "    </tr>\n",
       "    <tr>\n",
       "      <th>3</th>\n",
       "      <td>Denmark</td>\n",
       "      <td>5748769</td>\n",
       "      <td>5781190</td>\n",
       "      <td>61397</td>\n",
       "      <td>53261</td>\n",
       "    </tr>\n",
       "    <tr>\n",
       "      <th>4</th>\n",
       "      <td>Germany</td>\n",
       "      <td>82521653</td>\n",
       "      <td>82850000</td>\n",
       "      <td>785000</td>\n",
       "      <td>933000</td>\n",
       "    </tr>\n",
       "  </tbody>\n",
       "</table>\n",
       "</div>"
      ],
      "text/plain": [
       "        geo     pop17     pop18  births  deaths\n",
       "0  Belgium   11351727  11413058  119690  109666\n",
       "1  Bulgaria   7101859   7050034   63955  109791\n",
       "2   Czechia  10578820  10610055  114405  111443\n",
       "3   Denmark   5748769   5781190   61397   53261\n",
       "4   Germany  82521653  82850000  785000  933000"
      ]
     },
     "execution_count": 87,
     "metadata": {},
     "output_type": "execute_result"
    }
   ],
   "source": [
    "df.head()"
   ]
  },
  {
   "cell_type": "markdown",
   "metadata": {
    "lang": "zh-cn"
   },
   "source": [
    "列的含义，我们必须从元数据中获取。在这种情况下，我们对数据进行以下描述：\n",
    "\n",
    "- **geo**：相关国家\n",
    "- **pop17**：截至2017年1月1日该国的人口总数\n",
    "- **pop18**：截至2018年1月1日该国的人口总数\n",
    "- **出生**：2017年该国（活）的出生人数\n",
    "- **死亡**：该国2017年的死亡人数\n",
    "\n",
    "该数据是针对所有28个欧盟成员国（截至2017年）提供的。"
   ]
  },
  {
   "cell_type": "markdown",
   "metadata": {
    "lang": "zh-cn"
   },
   "source": [
    "我们想使用国家作为国家名称作为索引。我们可以通过以下方式实现"
   ]
  },
  {
   "cell_type": "code",
   "execution_count": 88,
   "metadata": {
    "collapsed": true
   },
   "outputs": [],
   "source": [
    "df2 = df.set_index('geo')"
   ]
  },
  {
   "cell_type": "code",
   "execution_count": 89,
   "metadata": {},
   "outputs": [
    {
     "data": {
      "text/html": [
       "<div>\n",
       "<style scoped>\n",
       "    .dataframe tbody tr th:only-of-type {\n",
       "        vertical-align: middle;\n",
       "    }\n",
       "\n",
       "    .dataframe tbody tr th {\n",
       "        vertical-align: top;\n",
       "    }\n",
       "\n",
       "    .dataframe thead th {\n",
       "        text-align: right;\n",
       "    }\n",
       "</style>\n",
       "<table border=\"1\" class=\"dataframe\">\n",
       "  <thead>\n",
       "    <tr style=\"text-align: right;\">\n",
       "      <th></th>\n",
       "      <th>pop17</th>\n",
       "      <th>pop18</th>\n",
       "      <th>births</th>\n",
       "      <th>deaths</th>\n",
       "    </tr>\n",
       "    <tr>\n",
       "      <th>geo</th>\n",
       "      <th></th>\n",
       "      <th></th>\n",
       "      <th></th>\n",
       "      <th></th>\n",
       "    </tr>\n",
       "  </thead>\n",
       "  <tbody>\n",
       "    <tr>\n",
       "      <th>Belgium</th>\n",
       "      <td>11351727</td>\n",
       "      <td>11413058</td>\n",
       "      <td>119690</td>\n",
       "      <td>109666</td>\n",
       "    </tr>\n",
       "    <tr>\n",
       "      <th>Bulgaria</th>\n",
       "      <td>7101859</td>\n",
       "      <td>7050034</td>\n",
       "      <td>63955</td>\n",
       "      <td>109791</td>\n",
       "    </tr>\n",
       "    <tr>\n",
       "      <th>Czechia</th>\n",
       "      <td>10578820</td>\n",
       "      <td>10610055</td>\n",
       "      <td>114405</td>\n",
       "      <td>111443</td>\n",
       "    </tr>\n",
       "    <tr>\n",
       "      <th>Denmark</th>\n",
       "      <td>5748769</td>\n",
       "      <td>5781190</td>\n",
       "      <td>61397</td>\n",
       "      <td>53261</td>\n",
       "    </tr>\n",
       "    <tr>\n",
       "      <th>Germany</th>\n",
       "      <td>82521653</td>\n",
       "      <td>82850000</td>\n",
       "      <td>785000</td>\n",
       "      <td>933000</td>\n",
       "    </tr>\n",
       "  </tbody>\n",
       "</table>\n",
       "</div>"
      ],
      "text/plain": [
       "             pop17     pop18  births  deaths\n",
       "geo                                         \n",
       "Belgium   11351727  11413058  119690  109666\n",
       "Bulgaria   7101859   7050034   63955  109791\n",
       "Czechia   10578820  10610055  114405  111443\n",
       "Denmark    5748769   5781190   61397   53261\n",
       "Germany   82521653  82850000  785000  933000"
      ]
     },
     "execution_count": 89,
     "metadata": {},
     "output_type": "execute_result"
    }
   ],
   "source": [
    "df2.head()"
   ]
  },
  {
   "cell_type": "markdown",
   "metadata": {
    "lang": "zh-cn"
   },
   "source": [
    "注意，我们不能在给定的DataFrame中更改索引，因此`set_index（）`方法将返回一个新的DataFrame。 （许多操作都会发生这种情况。）\n",
    "\n",
    "作为替代方案，我们还可以修改import语句以指示我们要用作索引的列："
   ]
  },
  {
   "cell_type": "code",
   "execution_count": 90,
   "metadata": {
    "collapsed": true
   },
   "outputs": [],
   "source": [
    "df = pd.read_csv('eu-pop-2017.csv', index_col=\"geo\")"
   ]
  },
  {
   "cell_type": "code",
   "execution_count": 91,
   "metadata": {},
   "outputs": [
    {
     "data": {
      "text/html": [
       "<div>\n",
       "<style scoped>\n",
       "    .dataframe tbody tr th:only-of-type {\n",
       "        vertical-align: middle;\n",
       "    }\n",
       "\n",
       "    .dataframe tbody tr th {\n",
       "        vertical-align: top;\n",
       "    }\n",
       "\n",
       "    .dataframe thead th {\n",
       "        text-align: right;\n",
       "    }\n",
       "</style>\n",
       "<table border=\"1\" class=\"dataframe\">\n",
       "  <thead>\n",
       "    <tr style=\"text-align: right;\">\n",
       "      <th></th>\n",
       "      <th>pop17</th>\n",
       "      <th>pop18</th>\n",
       "      <th>births</th>\n",
       "      <th>deaths</th>\n",
       "    </tr>\n",
       "    <tr>\n",
       "      <th>geo</th>\n",
       "      <th></th>\n",
       "      <th></th>\n",
       "      <th></th>\n",
       "      <th></th>\n",
       "    </tr>\n",
       "  </thead>\n",
       "  <tbody>\n",
       "    <tr>\n",
       "      <th>Belgium</th>\n",
       "      <td>11351727</td>\n",
       "      <td>11413058</td>\n",
       "      <td>119690</td>\n",
       "      <td>109666</td>\n",
       "    </tr>\n",
       "    <tr>\n",
       "      <th>Bulgaria</th>\n",
       "      <td>7101859</td>\n",
       "      <td>7050034</td>\n",
       "      <td>63955</td>\n",
       "      <td>109791</td>\n",
       "    </tr>\n",
       "    <tr>\n",
       "      <th>Czechia</th>\n",
       "      <td>10578820</td>\n",
       "      <td>10610055</td>\n",
       "      <td>114405</td>\n",
       "      <td>111443</td>\n",
       "    </tr>\n",
       "    <tr>\n",
       "      <th>Denmark</th>\n",
       "      <td>5748769</td>\n",
       "      <td>5781190</td>\n",
       "      <td>61397</td>\n",
       "      <td>53261</td>\n",
       "    </tr>\n",
       "    <tr>\n",
       "      <th>Germany</th>\n",
       "      <td>82521653</td>\n",
       "      <td>82850000</td>\n",
       "      <td>785000</td>\n",
       "      <td>933000</td>\n",
       "    </tr>\n",
       "  </tbody>\n",
       "</table>\n",
       "</div>"
      ],
      "text/plain": [
       "             pop17     pop18  births  deaths\n",
       "geo                                         \n",
       "Belgium   11351727  11413058  119690  109666\n",
       "Bulgaria   7101859   7050034   63955  109791\n",
       "Czechia   10578820  10610055  114405  111443\n",
       "Denmark    5748769   5781190   61397   53261\n",
       "Germany   82521653  82850000  785000  933000"
      ]
     },
     "execution_count": 91,
     "metadata": {},
     "output_type": "execute_result"
    }
   ],
   "source": [
    "df.head()"
   ]
  },
  {
   "cell_type": "markdown",
   "metadata": {
    "lang": "zh-cn"
   },
   "source": [
    "我们通过绘制一些数据来探索数据："
   ]
  },
  {
   "cell_type": "code",
   "execution_count": 92,
   "metadata": {},
   "outputs": [
    {
     "data": {
      "text/plain": [
       "<matplotlib.axes._subplots.AxesSubplot at 0x7f6ae12256d8>"
      ]
     },
     "execution_count": 92,
     "metadata": {},
     "output_type": "execute_result"
    },
    {
     "data": {
      "image/png": "[encoded data removed]",
      "text/plain": [
       "<Figure size 432x288 with 1 Axes>"
      ]
     },
     "metadata": {
      "needs_background": "light"
     },
     "output_type": "display_data"
    }
   ],
   "source": [
    "df.plot(kind='bar', y='pop17')"
   ]
  },
  {
   "cell_type": "markdown",
   "metadata": {
    "lang": "zh-cn"
   },
   "source": [
    "上面显示了截至2017年1月1日的人口。\n",
    "\n",
    "我们将尝试通过两种方式对此进行改进：\n",
    "\n",
    "- 我们想以百万计。我们可以通过将所有数据除以$10^6$来实现。\n",
    "\n",
    "- 对该国家/地区按大小顺序进行排序会很有趣。"
   ]
  },
  {
   "cell_type": "code",
   "execution_count": 93,
   "metadata": {
    "collapsed": true
   },
   "outputs": [],
   "source": [
    "df_millions = df / 1e6"
   ]
  },
  {
   "cell_type": "code",
   "execution_count": 94,
   "metadata": {},
   "outputs": [
    {
     "data": {
      "text/plain": [
       "<matplotlib.axes._subplots.AxesSubplot at 0x7f6ae0abe710>"
      ]
     },
     "execution_count": 94,
     "metadata": {},
     "output_type": "execute_result"
    },
    {
     "data": {
      "image/png": "[encoded data removed]",
      "text/plain": [
       "<Figure size 432x288 with 1 Axes>"
      ]
     },
     "metadata": {
      "needs_background": "light"
     },
     "output_type": "display_data"
    }
   ],
   "source": [
    "df_millions['pop17'].sort_values(ascending=False).plot(kind='bar')"
   ]
  },
  {
   "cell_type": "markdown",
   "metadata": {
    "lang": "zh-cn"
   },
   "source": [
    "上面的示例从数据帧（`['pop17'`）中选择一列，并返回一个`Series`对象。然后，根据值（即每个国家/地区的人数），使用`sort_values()`对这个Series对象进行排序，然后进行绘制。"
   ]
  },
  {
   "cell_type": "markdown",
   "metadata": {
    "lang": "zh-cn"
   },
   "source": [
    "另外，我们也可以为整个数据帧创建一个图，但是说`pop17`是用于排序的列，而我们只想绘制带有`pop17`的列："
   ]
  },
  {
   "cell_type": "code",
   "execution_count": 95,
   "metadata": {},
   "outputs": [
    {
     "data": {
      "text/plain": [
       "<matplotlib.axes._subplots.AxesSubplot at 0x7f6ae0ba1550>"
      ]
     },
     "execution_count": 95,
     "metadata": {},
     "output_type": "execute_result"
    },
    {
     "data": {
      "image/png": "[encoded data removed]",
      "text/plain": [
       "<Figure size 432x288 with 1 Axes>"
      ]
     },
     "metadata": {
      "needs_background": "light"
     },
     "output_type": "display_data"
    }
   ],
   "source": [
    "df_millions.sort_values(by='pop17').plot(kind='bar', y='pop17')"
   ]
  },
  {
   "cell_type": "markdown",
   "metadata": {
    "lang": "zh-cn"
   },
   "source": [
    "我们还可以同时绘制多个列："
   ]
  },
  {
   "cell_type": "code",
   "execution_count": 96,
   "metadata": {},
   "outputs": [
    {
     "data": {
      "image/png": "[encoded data removed]",
      "text/plain": [
       "<Figure size 432x288 with 1 Axes>"
      ]
     },
     "metadata": {
      "needs_background": "light"
     },
     "output_type": "display_data"
    }
   ],
   "source": [
    "ax = df_millions.sort_values(by='pop17').plot(kind='bar', y=['pop17', 'pop18'])"
   ]
  },
  {
   "cell_type": "markdown",
   "metadata": {
    "lang": "zh-cn"
   },
   "source": [
    "我们还可以使用通常的`matplotlib`命令微调该图："
   ]
  },
  {
   "cell_type": "code",
   "execution_count": 97,
   "metadata": {},
   "outputs": [
    {
     "data": {
      "image/png": "[encoded data removed]",
      "text/plain": [
       "<Figure size 720x288 with 1 Axes>"
      ]
     },
     "metadata": {
      "needs_background": "light"
     },
     "output_type": "display_data"
    }
   ],
   "source": [
    "ax = df_millions.sort_values(by='pop17').plot(kind='bar', y='pop17', figsize=(10, 4))\n",
    "ax.set_ylabel(\"population 2017 [in millions]\")\n",
    "ax.grid()\n",
    "ax.set_xlabel(None);  # get rid of default label for x-axis ('geo')"
   ]
  },
  {
   "cell_type": "markdown",
   "metadata": {
    "lang": "zh-cn"
   },
   "source": [
    "根据出生和死亡人数，我们可以计算每个国家2017年的人口变化。这有时被称为“自然变化”："
   ]
  },
  {
   "cell_type": "code",
   "execution_count": 98,
   "metadata": {
    "collapsed": true
   },
   "outputs": [],
   "source": [
    "df['natural-change'] = df['births'] - df['deaths']"
   ]
  },
  {
   "cell_type": "code",
   "execution_count": 99,
   "metadata": {},
   "outputs": [
    {
     "data": {
      "text/plain": [
       "geo\n",
       "Italy            -190910\n",
       "Germany          -148000\n",
       "Romania           -71125\n",
       "Bulgaria          -45836\n",
       "Hungary           -37231\n",
       "Greece            -36007\n",
       "Spain             -31245\n",
       "Portugal          -23432\n",
       "Croatia           -16921\n",
       "Lithuania         -11446\n",
       "Latvia             -7929\n",
       "Finland            -3401\n",
       "Estonia            -1759\n",
       "Poland              -870\n",
       "Slovenia            -268\n",
       "Malta                748\n",
       "Luxembourg          1911\n",
       "Czechia             2962\n",
       "Cyprus              3232\n",
       "Slovakia            4055\n",
       "Austria             4363\n",
       "Denmark             8136\n",
       "Belgium            10024\n",
       "Netherlands        19173\n",
       "Sweden             23444\n",
       "Ireland            31760\n",
       "United Kingdom    147871\n",
       "France            164550\n",
       "Name: natural-change, dtype: int64"
      ]
     },
     "execution_count": 99,
     "metadata": {},
     "output_type": "execute_result"
    }
   ],
   "source": [
    "df['natural-change'].sort_values()"
   ]
  },
  {
   "cell_type": "markdown",
   "metadata": {
    "lang": "zh-cn"
   },
   "source": [
    "由此可见，意大利和德国因出生和死亡而造成的人口变化绝对值下降幅度最大。"
   ]
  },
  {
   "cell_type": "markdown",
   "metadata": {
    "lang": "zh-cn"
   },
   "source": [
    "为了将其与总人口规模联系起来，人们经常使用该国每年和每千人的比率，例如每千居民的出生率[1]（以及相应的死亡率）：\n",
    "\n",
    "[1] https://zh.wikipedia.org/wiki/出生率"
   ]
  },
  {
   "cell_type": "code",
   "execution_count": 100,
   "metadata": {
    "collapsed": true
   },
   "outputs": [],
   "source": [
    "df['birth-rate'] = df['births'] / df['pop17'] * 1000\n",
    "df['death-rate'] = df['deaths'] / df['pop17'] * 1000\n",
    "df['natural-change-rate'] = df['natural-change'] / df['pop17'] * 1000"
   ]
  },
  {
   "cell_type": "code",
   "execution_count": 101,
   "metadata": {},
   "outputs": [
    {
     "data": {
      "text/html": [
       "<div>\n",
       "<style scoped>\n",
       "    .dataframe tbody tr th:only-of-type {\n",
       "        vertical-align: middle;\n",
       "    }\n",
       "\n",
       "    .dataframe tbody tr th {\n",
       "        vertical-align: top;\n",
       "    }\n",
       "\n",
       "    .dataframe thead th {\n",
       "        text-align: right;\n",
       "    }\n",
       "</style>\n",
       "<table border=\"1\" class=\"dataframe\">\n",
       "  <thead>\n",
       "    <tr style=\"text-align: right;\">\n",
       "      <th></th>\n",
       "      <th>pop17</th>\n",
       "      <th>pop18</th>\n",
       "      <th>births</th>\n",
       "      <th>deaths</th>\n",
       "      <th>natural-change</th>\n",
       "      <th>birth-rate</th>\n",
       "      <th>death-rate</th>\n",
       "      <th>natural-change-rate</th>\n",
       "    </tr>\n",
       "    <tr>\n",
       "      <th>geo</th>\n",
       "      <th></th>\n",
       "      <th></th>\n",
       "      <th></th>\n",
       "      <th></th>\n",
       "      <th></th>\n",
       "      <th></th>\n",
       "      <th></th>\n",
       "      <th></th>\n",
       "    </tr>\n",
       "  </thead>\n",
       "  <tbody>\n",
       "    <tr>\n",
       "      <th>Belgium</th>\n",
       "      <td>11351727</td>\n",
       "      <td>11413058</td>\n",
       "      <td>119690</td>\n",
       "      <td>109666</td>\n",
       "      <td>10024</td>\n",
       "      <td>10.543770</td>\n",
       "      <td>9.660733</td>\n",
       "      <td>0.883037</td>\n",
       "    </tr>\n",
       "    <tr>\n",
       "      <th>Bulgaria</th>\n",
       "      <td>7101859</td>\n",
       "      <td>7050034</td>\n",
       "      <td>63955</td>\n",
       "      <td>109791</td>\n",
       "      <td>-45836</td>\n",
       "      <td>9.005389</td>\n",
       "      <td>15.459473</td>\n",
       "      <td>-6.454085</td>\n",
       "    </tr>\n",
       "    <tr>\n",
       "      <th>Czechia</th>\n",
       "      <td>10578820</td>\n",
       "      <td>10610055</td>\n",
       "      <td>114405</td>\n",
       "      <td>111443</td>\n",
       "      <td>2962</td>\n",
       "      <td>10.814533</td>\n",
       "      <td>10.534540</td>\n",
       "      <td>0.279993</td>\n",
       "    </tr>\n",
       "    <tr>\n",
       "      <th>Denmark</th>\n",
       "      <td>5748769</td>\n",
       "      <td>5781190</td>\n",
       "      <td>61397</td>\n",
       "      <td>53261</td>\n",
       "      <td>8136</td>\n",
       "      <td>10.680026</td>\n",
       "      <td>9.264766</td>\n",
       "      <td>1.415260</td>\n",
       "    </tr>\n",
       "    <tr>\n",
       "      <th>Germany</th>\n",
       "      <td>82521653</td>\n",
       "      <td>82850000</td>\n",
       "      <td>785000</td>\n",
       "      <td>933000</td>\n",
       "      <td>-148000</td>\n",
       "      <td>9.512655</td>\n",
       "      <td>11.306123</td>\n",
       "      <td>-1.793469</td>\n",
       "    </tr>\n",
       "  </tbody>\n",
       "</table>\n",
       "</div>"
      ],
      "text/plain": [
       "             pop17     pop18  births  deaths  natural-change  birth-rate  \\\n",
       "geo                                                                        \n",
       "Belgium   11351727  11413058  119690  109666           10024   10.543770   \n",
       "Bulgaria   7101859   7050034   63955  109791          -45836    9.005389   \n",
       "Czechia   10578820  10610055  114405  111443            2962   10.814533   \n",
       "Denmark    5748769   5781190   61397   53261            8136   10.680026   \n",
       "Germany   82521653  82850000  785000  933000         -148000    9.512655   \n",
       "\n",
       "          death-rate  natural-change-rate  \n",
       "geo                                        \n",
       "Belgium     9.660733             0.883037  \n",
       "Bulgaria   15.459473            -6.454085  \n",
       "Czechia    10.534540             0.279993  \n",
       "Denmark     9.264766             1.415260  \n",
       "Germany    11.306123            -1.793469  "
      ]
     },
     "execution_count": 101,
     "metadata": {},
     "output_type": "execute_result"
    }
   ],
   "source": [
    "df.head()"
   ]
  },
  {
   "cell_type": "markdown",
   "metadata": {
    "lang": "zh-cn"
   },
   "source": [
    "现在，我们可以查看每个国家的人口自然变化率，该变化率已由该国的人口归一化。"
   ]
  },
  {
   "cell_type": "code",
   "execution_count": 102,
   "metadata": {},
   "outputs": [
    {
     "data": {
      "image/png": "[encoded data removed]",
      "text/plain": [
       "<Figure size 720x288 with 1 Axes>"
      ]
     },
     "metadata": {
      "needs_background": "light"
     },
     "output_type": "display_data"
    }
   ],
   "source": [
    "ax = df.sort_values(by='natural-change-rate').plot(kind='bar', y='natural-change-rate', figsize=(10, 4))\n",
    "ax.set_title(\"Natural change due to births and deaths per 1000 in 2017\");"
   ]
  },
  {
   "cell_type": "markdown",
   "metadata": {
    "lang": "zh-cn"
   },
   "source": [
    "我们可以将数据与基础出生率和死亡率数据一起显示："
   ]
  },
  {
   "cell_type": "code",
   "execution_count": 103,
   "metadata": {},
   "outputs": [
    {
     "data": {
      "text/plain": [
       "<matplotlib.axes._subplots.AxesSubplot at 0x7f6ae067e0b8>"
      ]
     },
     "execution_count": 103,
     "metadata": {},
     "output_type": "execute_result"
    },
    {
     "data": {
      "image/png": "[encoded data removed]",
      "text/plain": [
       "<Figure size 864x432 with 2 Axes>"
      ]
     },
     "metadata": {
      "needs_background": "light"
     },
     "output_type": "display_data"
    }
   ],
   "source": [
    "tmp = df.sort_values(by='natural-change-rate')\n",
    "\n",
    "fig, axes = plt.subplots(2, 1, figsize=(12, 6))\n",
    "\n",
    "tmp.plot(kind='bar', y=['natural-change-rate'], sharex=True, ax=axes[0])\n",
    "axes[0].set_title(\"Population change per 1000 in 2017\")\n",
    "tmp.plot(kind='bar', y=['death-rate', 'birth-rate'], sharex=True, ax=axes[1])\n"
   ]
  },
  {
   "cell_type": "markdown",
   "metadata": {
    "lang": "zh-cn"
   },
   "source": [
    "我们尚未使用我们截至2018年1月1日的人口信息。\n",
    "\n",
    "我们首先根据2017年1月1日和2018年1月1日的（人口普查？）数据来看一下人口的绝对变化："
   ]
  },
  {
   "cell_type": "code",
   "execution_count": 104,
   "metadata": {
    "collapsed": true
   },
   "outputs": [],
   "source": [
    "df['change'] = df['pop18'] - df['pop17']"
   ]
  },
  {
   "cell_type": "code",
   "execution_count": 105,
   "metadata": {},
   "outputs": [
    {
     "data": {
      "image/png": "[encoded data removed]",
      "text/plain": [
       "<Figure size 432x288 with 1 Axes>"
      ]
     },
     "metadata": {
      "needs_background": "light"
     },
     "output_type": "display_data"
    }
   ],
   "source": [
    "ax = df.sort_values(by='change').plot(y='change', kind='bar')\n",
    "ax.set_title(\"Total change in population per country in 2017\");"
   ]
  },
  {
   "cell_type": "markdown",
   "metadata": {
    "lang": "zh-cn"
   },
   "source": [
    "利用这些信息，我们可以估计迁移。 （需要注意的是，此估计数量还将吸收原始数据中称为“统计调整”的所有不准确或数据收集方法的更改。）"
   ]
  },
  {
   "cell_type": "code",
   "execution_count": 106,
   "metadata": {
    "collapsed": true
   },
   "outputs": [],
   "source": [
    "df['migration'] = df['change'] - df['natural-change']"
   ]
  },
  {
   "cell_type": "code",
   "execution_count": 107,
   "metadata": {},
   "outputs": [
    {
     "data": {
      "text/html": [
       "<div>\n",
       "<style scoped>\n",
       "    .dataframe tbody tr th:only-of-type {\n",
       "        vertical-align: middle;\n",
       "    }\n",
       "\n",
       "    .dataframe tbody tr th {\n",
       "        vertical-align: top;\n",
       "    }\n",
       "\n",
       "    .dataframe thead th {\n",
       "        text-align: right;\n",
       "    }\n",
       "</style>\n",
       "<table border=\"1\" class=\"dataframe\">\n",
       "  <thead>\n",
       "    <tr style=\"text-align: right;\">\n",
       "      <th></th>\n",
       "      <th>pop17</th>\n",
       "      <th>pop18</th>\n",
       "      <th>births</th>\n",
       "      <th>deaths</th>\n",
       "      <th>natural-change</th>\n",
       "      <th>birth-rate</th>\n",
       "      <th>death-rate</th>\n",
       "      <th>natural-change-rate</th>\n",
       "      <th>change</th>\n",
       "      <th>migration</th>\n",
       "    </tr>\n",
       "    <tr>\n",
       "      <th>geo</th>\n",
       "      <th></th>\n",
       "      <th></th>\n",
       "      <th></th>\n",
       "      <th></th>\n",
       "      <th></th>\n",
       "      <th></th>\n",
       "      <th></th>\n",
       "      <th></th>\n",
       "      <th></th>\n",
       "      <th></th>\n",
       "    </tr>\n",
       "  </thead>\n",
       "  <tbody>\n",
       "    <tr>\n",
       "      <th>Belgium</th>\n",
       "      <td>11351727</td>\n",
       "      <td>11413058</td>\n",
       "      <td>119690</td>\n",
       "      <td>109666</td>\n",
       "      <td>10024</td>\n",
       "      <td>10.543770</td>\n",
       "      <td>9.660733</td>\n",
       "      <td>0.883037</td>\n",
       "      <td>61331</td>\n",
       "      <td>51307</td>\n",
       "    </tr>\n",
       "    <tr>\n",
       "      <th>Bulgaria</th>\n",
       "      <td>7101859</td>\n",
       "      <td>7050034</td>\n",
       "      <td>63955</td>\n",
       "      <td>109791</td>\n",
       "      <td>-45836</td>\n",
       "      <td>9.005389</td>\n",
       "      <td>15.459473</td>\n",
       "      <td>-6.454085</td>\n",
       "      <td>-51825</td>\n",
       "      <td>-5989</td>\n",
       "    </tr>\n",
       "    <tr>\n",
       "      <th>Czechia</th>\n",
       "      <td>10578820</td>\n",
       "      <td>10610055</td>\n",
       "      <td>114405</td>\n",
       "      <td>111443</td>\n",
       "      <td>2962</td>\n",
       "      <td>10.814533</td>\n",
       "      <td>10.534540</td>\n",
       "      <td>0.279993</td>\n",
       "      <td>31235</td>\n",
       "      <td>28273</td>\n",
       "    </tr>\n",
       "    <tr>\n",
       "      <th>Denmark</th>\n",
       "      <td>5748769</td>\n",
       "      <td>5781190</td>\n",
       "      <td>61397</td>\n",
       "      <td>53261</td>\n",
       "      <td>8136</td>\n",
       "      <td>10.680026</td>\n",
       "      <td>9.264766</td>\n",
       "      <td>1.415260</td>\n",
       "      <td>32421</td>\n",
       "      <td>24285</td>\n",
       "    </tr>\n",
       "    <tr>\n",
       "      <th>Germany</th>\n",
       "      <td>82521653</td>\n",
       "      <td>82850000</td>\n",
       "      <td>785000</td>\n",
       "      <td>933000</td>\n",
       "      <td>-148000</td>\n",
       "      <td>9.512655</td>\n",
       "      <td>11.306123</td>\n",
       "      <td>-1.793469</td>\n",
       "      <td>328347</td>\n",
       "      <td>476347</td>\n",
       "    </tr>\n",
       "  </tbody>\n",
       "</table>\n",
       "</div>"
      ],
      "text/plain": [
       "             pop17     pop18  births  deaths  natural-change  birth-rate  \\\n",
       "geo                                                                        \n",
       "Belgium   11351727  11413058  119690  109666           10024   10.543770   \n",
       "Bulgaria   7101859   7050034   63955  109791          -45836    9.005389   \n",
       "Czechia   10578820  10610055  114405  111443            2962   10.814533   \n",
       "Denmark    5748769   5781190   61397   53261            8136   10.680026   \n",
       "Germany   82521653  82850000  785000  933000         -148000    9.512655   \n",
       "\n",
       "          death-rate  natural-change-rate  change  migration  \n",
       "geo                                                           \n",
       "Belgium     9.660733             0.883037   61331      51307  \n",
       "Bulgaria   15.459473            -6.454085  -51825      -5989  \n",
       "Czechia    10.534540             0.279993   31235      28273  \n",
       "Denmark     9.264766             1.415260   32421      24285  \n",
       "Germany    11.306123            -1.793469  328347     476347  "
      ]
     },
     "execution_count": 107,
     "metadata": {},
     "output_type": "execute_result"
    }
   ],
   "source": [
    "df.head()"
   ]
  },
  {
   "cell_type": "markdown",
   "metadata": {
    "lang": "zh-cn"
   },
   "source": [
    "让我们在最上面的子图中绘制每个国家的总人口变化，在最下面的子图中绘制自然变化和移民的贡献："
   ]
  },
  {
   "cell_type": "code",
   "execution_count": 108,
   "metadata": {},
   "outputs": [
    {
     "data": {
      "image/png": "[encoded data removed]",
      "text/plain": [
       "<Figure size 864x432 with 2 Axes>"
      ]
     },
     "metadata": {
      "needs_background": "light"
     },
     "output_type": "display_data"
    }
   ],
   "source": [
    "tmp = df.sort_values(by='change')\n",
    "fig, axes = plt.subplots(2, 1, figsize=(12, 6))\n",
    "\n",
    "tmp.plot(kind='bar', y=['change'], sharex=True, ax=axes[0])\n",
    "axes[0].set_title(\"Population changes in 2017\")\n",
    "axes[0].legend(['total change of population (migration + natural change due to deaths and births'])\n",
    "tmp.plot(kind='bar', y=['migration', 'natural-change'], sharex=True, ax=axes[1])\n",
    "axes[1].legend(['Migration', \"natural change due to deaths and births\"])\n",
    "axes[1].set_xlabel(None);"
   ]
  },
  {
   "cell_type": "markdown",
   "metadata": {
    "lang": "zh-cn"
   },
   "source": [
    "## 进一步阅读\n",
    "\n",
    "关于Pandas还有更多的话要说。以下资源可能有用，但还有无数其他可用的资源："
   ]
  },
  {
   "cell_type": "markdown",
   "metadata": {
    "lang": "zh-cn"
   },
   "source": [
    "- 从Ted Petrou的`[]`，`.loc []`和`.iloc []`上进一步阅读 [Jupyter Notebook]( https://github.com/tdpetrou/Learn-Pandas/blob/master/Learn-Pandas/Selecting%20Subsets/01%20Selecting%20Subsets%20with%20%5B%20%5D%2C%20.loc%20and%20.iloc.ipynb) 和 [blog entry](https://medium.com/dunder-data/selecting-subsets-of-data-in-pandas-6fcd0170be9c)。\n",
    "\n",
    "- Jake VanderPlas：Python数据科学手册[online](https://jakevdp.github.io/PythonDataScienceHandbook/)"
   ]
  }
 ],
 "metadata": {
  "anaconda-cloud": {},
  "kernelspec": {
   "display_name": "Python 3",
   "language": "python",
   "name": "python3"
  },
  "language_info": {
   "codemirror_mode": {
    "name": "ipython",
    "version": 3
   },
   "file_extension": ".py",
   "mimetype": "text/x-python",
   "name": "python",
   "nbconvert_exporter": "python",
   "pygments_lexer": "ipython3",
   "version": "3.7.6"
  },
  "nbTranslate": {
   "displayLangs": [
    "en",
    "zh-cn"
   ],
   "hotkey": "alt-t",
   "langInMainMenu": true,
   "sourceLang": "en",
   "targetLang": "zh-cn",
   "useGoogleTranslate": true
  }
 },
 "nbformat": 4,
 "nbformat_minor": 2
}

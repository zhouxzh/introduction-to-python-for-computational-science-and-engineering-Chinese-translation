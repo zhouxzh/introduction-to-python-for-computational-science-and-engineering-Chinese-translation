{
 "cells": [
  {
   "cell_type": "markdown",
   "metadata": {
    "lang": "zh-cn"
   },
   "source": [
    "常见任务\n",
    "============\n",
    "\n",
    "在这里，我们提供了一些小型示例程序，可以解决一些常见任务，并且仅提供一些更多的Python代码，如果寻求灵感来解决特定问题，这些代码可以阅读。\n",
    "\n",
    "计算序列的多种方法\n",
    "-----------------------------\n",
    "\n",
    "例如，我们以不同的方式计算奇数之和。"
   ]
  },
  {
   "cell_type": "code",
   "execution_count": 1,
   "metadata": {},
   "outputs": [
    {
     "name": "stdout",
     "output_type": "stream",
     "text": [
      "this result is 12, expected to be 12\n"
     ]
    }
   ],
   "source": [
    "def compute_sum1(n):\n",
    "    \"\"\"computes and returns the sum of 2,4,6, ..., m\n",
    "    where m is the largest even number smaller than n.\n",
    "\n",
    "    For example, with n = 7, we compute 0+2+4+6 = 12.\n",
    "\n",
    "    This implementation uses a variable 'mysum' that is\n",
    "    increased in every iteration of the for-loop.\"\"\"\n",
    "\n",
    "    mysum = 0\n",
    "    for i in range(0, n, 2):\n",
    "        mysum = mysum + i\n",
    "    return mysum\n",
    "\n",
    "\n",
    "def compute_sum2(n):\n",
    "    \"\"\"computes and returns ...\n",
    "\n",
    "    This implementation uses a while-loop:\n",
    "    \"\"\"\n",
    "\n",
    "    counter = 0\n",
    "    mysum = 0\n",
    "    while counter < n:\n",
    "        mysum = mysum + counter\n",
    "        counter = counter + 2\n",
    "\n",
    "    return mysum\n",
    "\n",
    "\n",
    "def compute_sum3(n, startfrom=0):\n",
    "    \"\"\"computes and returns ...\n",
    "\n",
    "    This is a recursive implementation:\"\"\"\n",
    "\n",
    "    if n <= startfrom:\n",
    "        return 0\n",
    "    else:\n",
    "        return startfrom + compute_sum3(n, startfrom + 2)\n",
    "\n",
    "\n",
    "def compute_sum4a(n):\n",
    "    \"\"\"A functional approach ... this seems to be\n",
    "    the shortest and most concise code.\n",
    "    \"\"\"\n",
    "    return sum(range(0, n, 2))\n",
    "\n",
    "\n",
    "from functools import reduce\n",
    "def compute_sum4b(n):\n",
    "    \"\"\"A functional approach ... not making use of 'sum' which\n",
    "    happens to exist and is of course convenient here.\n",
    "    \"\"\"\n",
    "    return reduce(lambda a, b: a + b, range(0, n, 2))\n",
    "\n",
    "\n",
    "def compute_sum4c(n):\n",
    "    \"\"\"A functional approach ... a bit faster than compute_sum4b\n",
    "    as we avoid using lambda.\n",
    "    \"\"\"\n",
    "    import operator\n",
    "    return reduce(operator.__add__, range(0, n, 2))\n",
    "\n",
    "\n",
    "def compute_sum4d(n):\n",
    "    \"\"\"Using list comprehension.\"\"\"\n",
    "    return sum([k for k in range(0, n, 2)])\n",
    "\n",
    "\n",
    "def compute_sum4e(n):\n",
    "    \"\"\"Using another variation of list comprehension.\"\"\"\n",
    "    return sum([k for k in range(0, n) if k % 2 == 0])\n",
    "\n",
    "\n",
    "def compute_sum5(n):\n",
    "    \"\"\"Using numerical python (numpy). This is very fast\n",
    "    (but would only pay off if n >> 10).\"\"\"\n",
    "    import numpy\n",
    "    return numpy.sum(2 * numpy.arange(0, (n + 1) // 2))\n",
    "\n",
    "\n",
    "def test_consistency():\n",
    "    \"\"\"Check that all compute_sum?? functions in this file produce\n",
    "    the same answer for all n>=2 and <N.\n",
    "    \"\"\"\n",
    "    def check_one_n(n):\n",
    "        \"\"\"Compare the output of compute_sum1 with all other functions\n",
    "        for a given n>=2. Raise AssertionError if outputs disagree.\"\"\"\n",
    "        funcs = [compute_sum1, compute_sum2, compute_sum3,\n",
    "                 compute_sum4a, compute_sum4b, compute_sum4c,\n",
    "                 compute_sum4d, compute_sum4e, compute_sum5]\n",
    "        ans1 = compute_sum1(n)\n",
    "        for f in funcs[1:]:\n",
    "            assert ans1 == f(n), \"%s(n)=%d not the same as %s(n)=%d \" \\\n",
    "                                  % (funcs[0], funcs[0](n), f, f(n))\n",
    "\n",
    "    #main testing loop in test_consistency function\n",
    "    for n in range(2, 1000):\n",
    "        check_one_n(n)\n",
    "\n",
    "if __name__ == \"__main__\": \n",
    "    m = 7\n",
    "    correct_result = 12\n",
    "    thisresult = compute_sum1(m)\n",
    "    print(\"this result is {}, expected to be {}\".format(\n",
    "        thisresult, correct_result))\n",
    "    # compare with correct result\n",
    "    assert thisresult == correct_result\n",
    "    # also check all other methods\n",
    "    assert compute_sum2(m) == correct_result\n",
    "    assert compute_sum3(m) == correct_result\n",
    "    assert compute_sum4a(m) == correct_result\n",
    "    assert compute_sum4b(m) == correct_result\n",
    "    assert compute_sum4c(m) == correct_result\n",
    "    assert compute_sum4d(m) == correct_result\n",
    "    assert compute_sum4e(m) == correct_result\n",
    "    assert compute_sum5(m) == correct_result\n",
    "\n",
    "    # a more systematic check for many values\n",
    "    test_consistency()"
   ]
  },
  {
   "cell_type": "markdown",
   "metadata": {
    "lang": "zh-cn"
   },
   "source": [
    "上面显示的所有不同实现都计算出相同的结果。从中可以学到很多东西：\n",
    "\n",
    "-对于一个给定的问题，存在大量（可能是无限个）解决方案。 （这意味着编写程序是一项需要创造力的任务！）\n",
    "\n",
    "-这些可能会达到相同的“结果”（在这种情况下为数字计算）。\n",
    "\n",
    "-不同的解决方案可能具有不同的特征。他们可能：\n",
    "\n",
    "    -更快或更慢\n",
    "\n",
    "    -使用更少或更多的内存\n",
    "\n",
    "    -更容易或更难理解（在阅读源代码时）\n",
    "\n",
    "    -可以考虑或多或少地优雅。"
   ]
  },
  {
   "cell_type": "markdown",
   "metadata": {
    "lang": "zh-cn"
   },
   "source": [
    "排序\n",
    "-------\n",
    "\n",
    "假设我们需要对一个由2个元组组成的用户ID和名称的列表进行排序，即"
   ]
  },
  {
   "cell_type": "code",
   "execution_count": 2,
   "metadata": {
    "collapsed": true
   },
   "outputs": [],
   "source": [
    "mylist = [(\"fangohr\", \"Hans Fangohr\",),\n",
    "          (\"admin\", \"The Administrator\"),\n",
    "          (\"guest\", \"The Guest\")]"
   ]
  },
  {
   "cell_type": "markdown",
   "metadata": {
    "lang": "zh-cn"
   },
   "source": [
    "我们想按用户ID的升序进行排序。如果有两个或更多相同的用户ID，则应按与这些用户ID关联的名称的顺序对其进行排序。此行为只是sort的默认行为（可追溯到如何比较序列）。"
   ]
  },
  {
   "cell_type": "code",
   "execution_count": 3,
   "metadata": {},
   "outputs": [
    {
     "name": "stdout",
     "output_type": "stream",
     "text": [
      "[('admin', 'The Administrator'), ('fangohr', 'Hans Fangohr'), ('guest', 'The Guest')]\n"
     ]
    }
   ],
   "source": [
    "stuff = mylist # collect your data\n",
    "stuff.sort()   # sort the data in place\n",
    "print(stuff)   # inspect the sorted data"
   ]
  },
  {
   "cell_type": "markdown",
   "metadata": {
    "lang": "zh-cn"
   },
   "source": [
    "通过最初仅比较前几个元素来比较序列。如果它们不同，则仅根据这些要素来做出决定。如果元素相等，则仅比较序列中的下一个元素...依此类推，直到找到差异，否则我们用完所有元素。例如："
   ]
  },
  {
   "cell_type": "code",
   "execution_count": 4,
   "metadata": {},
   "outputs": [
    {
     "data": {
      "text/plain": [
       "True"
      ]
     },
     "execution_count": 4,
     "metadata": {},
     "output_type": "execute_result"
    }
   ],
   "source": [
    "(2,0) > (1,0)"
   ]
  },
  {
   "cell_type": "code",
   "execution_count": 5,
   "metadata": {},
   "outputs": [
    {
     "data": {
      "text/plain": [
       "True"
      ]
     },
     "execution_count": 5,
     "metadata": {},
     "output_type": "execute_result"
    }
   ],
   "source": [
    "(2,1) > (1,3)"
   ]
  },
  {
   "cell_type": "code",
   "execution_count": 6,
   "metadata": {},
   "outputs": [
    {
     "data": {
      "text/plain": [
       "False"
      ]
     },
     "execution_count": 6,
     "metadata": {},
     "output_type": "execute_result"
    }
   ],
   "source": [
    "(2,1) > (2,1)"
   ]
  },
  {
   "cell_type": "code",
   "execution_count": 7,
   "metadata": {},
   "outputs": [
    {
     "data": {
      "text/plain": [
       "True"
      ]
     },
     "execution_count": 7,
     "metadata": {},
     "output_type": "execute_result"
    }
   ],
   "source": [
    "(2,2) > (2,1)"
   ]
  },
  {
   "cell_type": "markdown",
   "metadata": {
    "lang": "zh-cn"
   },
   "source": [
    "也可以这样做："
   ]
  },
  {
   "cell_type": "code",
   "execution_count": 8,
   "metadata": {
    "collapsed": true
   },
   "outputs": [],
   "source": [
    "stuff = sorted(stuff)"
   ]
  },
  {
   "cell_type": "markdown",
   "metadata": {
    "lang": "zh-cn"
   },
   "source": [
    "如果列表不是特别大，通常建议在列表的“ sort”方法上使用“ sorted”功能（*返回列表的排序副本*）（将列表更改为元素的排序顺序，并返回None）。\n",
    "\n",
    "但是，如果我们存储的数据存储在列表中的每个元组中，则名称放在首位，然后是ID，即："
   ]
  },
  {
   "cell_type": "code",
   "execution_count": 9,
   "metadata": {
    "collapsed": true
   },
   "outputs": [],
   "source": [
    "mylist2 = [(\"Hans Fangohr\", \"fangohr\"),\n",
    "           (\"The Administrator\", \"admin\"),\n",
    "           (\"The Guest\", \"guest\")]"
   ]
  },
  {
   "cell_type": "markdown",
   "metadata": {
    "lang": "zh-cn"
   },
   "source": [
    "我们想以id作为主键进行排序。执行此操作的第一种方法是将“ mylist2”的顺序更改为“ mylist”的顺序，并使用如上所示的“ sort”。\n",
    "\n",
    "第二种更整洁的方法依赖于能够解密用于分类功能的神秘帮助。 `list.sort（）`具有相同的选项，但是它的帮助不太有用。"
   ]
  },
  {
   "cell_type": "code",
   "execution_count": 10,
   "metadata": {},
   "outputs": [
    {
     "name": "stdout",
     "output_type": "stream",
     "text": [
      "Help on built-in function sorted in module builtins:\n",
      "\n",
      "sorted(iterable, key=None, reverse=False)\n",
      "    Return a new list containing all items from the iterable in ascending order.\n",
      "    \n",
      "    A custom key function can be supplied to customize the sort order, and the\n",
      "    reverse flag can be set to request the result in descending order.\n",
      "\n"
     ]
    }
   ],
   "source": [
    "# NBVAL_IGNORE_OUTPUT\n",
    "help(sorted)"
   ]
  },
  {
   "cell_type": "markdown",
   "metadata": {
    "lang": "zh-cn"
   },
   "source": [
    "您应该注意到，sorted和list.sort有两个关键字参数。其中第一个称为密​​钥。您可以使用它来提供*键功能*，该功能将用于转换项目以进行比较。\n",
    "\n",
    "让我们在练习中说明这一点，假设我们已经存储了一个像这样的对\n",
    "\n",
    "    对=名称，ID"
   ]
  },
  {
   "cell_type": "markdown",
   "metadata": {
    "lang": "zh-cn"
   },
   "source": [
    "（例如，在“ mylist2”中），并且我们希望根据ID进行排序并忽略名称。我们可以通过编写一个函数来实现此目的，该函数仅检索接收到的对中的第二个元素："
   ]
  },
  {
   "cell_type": "code",
   "execution_count": 11,
   "metadata": {
    "collapsed": true
   },
   "outputs": [],
   "source": [
    "def my_key(pair):\n",
    "    return pair[1]"
   ]
  },
  {
   "cell_type": "code",
   "execution_count": 12,
   "metadata": {},
   "outputs": [],
   "source": [
    "mylist2.sort(key=my_key)"
   ]
  },
  {
   "cell_type": "markdown",
   "metadata": {
    "lang": "zh-cn"
   },
   "source": [
    "这也可以与匿名函数一起使用："
   ]
  },
  {
   "cell_type": "code",
   "execution_count": 13,
   "metadata": {
    "collapsed": true
   },
   "outputs": [],
   "source": [
    "mylist2.sort(key=lambda p: p[1]) "
   ]
  },
  {
   "cell_type": "markdown",
   "metadata": {
    "lang": "zh-cn"
   },
   "source": [
    "### 效率\n",
    "\n",
    "对于列表中的每个元素，`key`函数将只被调用一次。这比在每个*comparison*上调用函数要有效得多（这是您在旧版Python中自定义排序的方式）。但是，如果要排序的列表很大，则调用Python函数的开销（与C函数的开销相比会比较大）可能会很明显。\n",
    "\n",
    "如果效率真的很重要（并且您已经证明这些功能花费了大量时间），则可以选择使用C（或其他低级语言）对其进行重新编码。"
   ]
  }
 ],
 "metadata": {
  "kernelspec": {
   "display_name": "Python 3",
   "language": "python",
   "name": "python3"
  },
  "language_info": {
   "codemirror_mode": {
    "name": "ipython",
    "version": 3
   },
   "file_extension": ".py",
   "mimetype": "text/x-python",
   "name": "python",
   "nbconvert_exporter": "python",
   "pygments_lexer": "ipython3",
   "version": "3.7.6"
  },
  "nbTranslate": {
   "displayLangs": [
    "zh-cn",
    "en"
   ],
   "hotkey": "alt-t",
   "langInMainMenu": true,
   "sourceLang": "en",
   "targetLang": "zh-cn",
   "useGoogleTranslate": true
  }
 },
 "nbformat": 4,
 "nbformat_minor": 1
}

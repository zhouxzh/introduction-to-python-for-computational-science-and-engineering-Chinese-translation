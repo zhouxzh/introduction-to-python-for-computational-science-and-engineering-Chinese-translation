{
 "cells": [
  {
   "cell_type": "markdown",
   "metadata": {
    "lang": "zh-cn"
   },
   "source": [
    "控制流\n",
    "============\n",
    "\n",
    "基本\n",
    "------\n",
    "\n",
    "对于使用python程序的给定文件，python解释器将从顶部开始，然后处理该文件。我们用一个简单的程序演示这一点，例如："
   ]
  },
  {
   "cell_type": "code",
   "execution_count": 1,
   "metadata": {},
   "outputs": [
    {
     "name": "stdout",
     "output_type": "stream",
     "text": [
      "Main program starts here\n",
      "4 * 4 = 16\n",
      "In last line of program -- bye\n"
     ]
    }
   ],
   "source": [
    "def f(x):\n",
    "    \"\"\"function that computes and returns x*x\"\"\"\n",
    "    return x * x\n",
    "\n",
    "print(\"Main program starts here\")\n",
    "print(\"4 * 4 = %s\" % f(4))\n",
    "print(\"In last line of program -- bye\")"
   ]
  },
  {
   "cell_type": "markdown",
   "metadata": {
    "lang": "zh-cn"
   },
   "source": [
    "基本规则是文件（或函数或任何命令序列）中的命令是从上到下处理的。如果在同一行中给出了多个命令（由<span> ; </span>分隔），则这些命令将从左至右进行处理（尽管不鼓励每行使用多个语句以保持良好的代码可读性。）\n",
    "\n",
    "在此示例中，解释器从顶部（第1行）开始。它找到<span>`def`</span>关键字，并为将来记住在此处定义了<span>`f`</span>函数。 （它不会执行函数主体，即第3行–仅在调用函数时才会发生。）解释器可以从缩进中看到函数主体停止的位置：第5行中的缩进不同于函数主体的缩进。函数主体中的第一行（第2行），因此函数主体已结束，执行应继续执行该行。 （空行对此分析无关紧要。）\n",
    "\n",
    "在第5行中，解释器将打印输出“ Main program starts here”。然后执行第6行。它包含表达式<span>`f（4）`</span>，该表达式将调用函数<span>`f（x）`</span>，该函数在第1行中定义，其中<span>`x`</span>将采用值<span>`4`</span>。 \\[Actually <span>`x`</span> is a reference to the object <span>`4`</span>.\\]然后执行<span>`f`</span>函数，并在第3行中计算并返回<span>`4 * 4`</span>。此值<span>`16`</span>在第6行中用于替换<span>`f（4）`</span>，然后在第6行中，对象16的字符串表示形式<span>`％s`</span>作为打印命令的一部分被打印出来。\n",
    "\n",
    "然后，解释器在程序结束之前移至第7行。\n",
    "\n",
    "现在，我们将了解进一步指导这种控制流程的各种可能性。\n",
    "\n",
    "###条件\n",
    "\n",
    "pythonid的<span>`True`</span>和<span>`False`</span>是特殊的内置对象："
   ]
  },
  {
   "cell_type": "code",
   "execution_count": 2,
   "metadata": {},
   "outputs": [
    {
     "name": "stdout",
     "output_type": "stream",
     "text": [
      "True\n"
     ]
    }
   ],
   "source": [
    "a = True\n",
    "print(a)"
   ]
  },
  {
   "cell_type": "code",
   "execution_count": 3,
   "metadata": {},
   "outputs": [
    {
     "data": {
      "text/plain": [
       "bool"
      ]
     },
     "execution_count": 3,
     "metadata": {},
     "output_type": "execute_result"
    }
   ],
   "source": [
    "type(a)"
   ]
  },
  {
   "cell_type": "code",
   "execution_count": 4,
   "metadata": {},
   "outputs": [
    {
     "name": "stdout",
     "output_type": "stream",
     "text": [
      "False\n"
     ]
    }
   ],
   "source": [
    "b = False\n",
    "print(b)"
   ]
  },
  {
   "cell_type": "code",
   "execution_count": 5,
   "metadata": {},
   "outputs": [
    {
     "data": {
      "text/plain": [
       "bool"
      ]
     },
     "execution_count": 5,
     "metadata": {},
     "output_type": "execute_result"
    }
   ],
   "source": [
    "type(b)"
   ]
  },
  {
   "cell_type": "markdown",
   "metadata": {
    "lang": "zh-cn"
   },
   "source": [
    "我们可以使用布尔逻辑对这两个逻辑值进行运算，例如逻辑和运算（<span>和</span>）："
   ]
  },
  {
   "cell_type": "code",
   "execution_count": 6,
   "metadata": {},
   "outputs": [
    {
     "data": {
      "text/plain": [
       "True"
      ]
     },
     "execution_count": 6,
     "metadata": {},
     "output_type": "execute_result"
    }
   ],
   "source": [
    "True and True          #logical and operation"
   ]
  },
  {
   "cell_type": "code",
   "execution_count": 7,
   "metadata": {},
   "outputs": [
    {
     "data": {
      "text/plain": [
       "False"
      ]
     },
     "execution_count": 7,
     "metadata": {},
     "output_type": "execute_result"
    }
   ],
   "source": [
    "True and False"
   ]
  },
  {
   "cell_type": "code",
   "execution_count": 8,
   "metadata": {},
   "outputs": [
    {
     "data": {
      "text/plain": [
       "False"
      ]
     },
     "execution_count": 8,
     "metadata": {},
     "output_type": "execute_result"
    }
   ],
   "source": [
    "False and True"
   ]
  },
  {
   "cell_type": "code",
   "execution_count": 9,
   "metadata": {},
   "outputs": [
    {
     "data": {
      "text/plain": [
       "True"
      ]
     },
     "execution_count": 9,
     "metadata": {},
     "output_type": "execute_result"
    }
   ],
   "source": [
    "True and True"
   ]
  },
  {
   "cell_type": "code",
   "execution_count": 10,
   "metadata": {},
   "outputs": [
    {
     "name": "stdout",
     "output_type": "stream",
     "text": [
      "False\n"
     ]
    }
   ],
   "source": [
    "c = a and b\n",
    "print(c)"
   ]
  },
  {
   "cell_type": "markdown",
   "metadata": {
    "lang": "zh-cn"
   },
   "source": [
    "还有逻辑或（<span>`或`</span>）和否定（<span>`not`</span>）："
   ]
  },
  {
   "cell_type": "code",
   "execution_count": 11,
   "metadata": {},
   "outputs": [
    {
     "data": {
      "text/plain": [
       "True"
      ]
     },
     "execution_count": 11,
     "metadata": {},
     "output_type": "execute_result"
    }
   ],
   "source": [
    "True or False"
   ]
  },
  {
   "cell_type": "code",
   "execution_count": 12,
   "metadata": {},
   "outputs": [
    {
     "data": {
      "text/plain": [
       "False"
      ]
     },
     "execution_count": 12,
     "metadata": {},
     "output_type": "execute_result"
    }
   ],
   "source": [
    "not True"
   ]
  },
  {
   "cell_type": "code",
   "execution_count": 13,
   "metadata": {},
   "outputs": [
    {
     "data": {
      "text/plain": [
       "True"
      ]
     },
     "execution_count": 13,
     "metadata": {},
     "output_type": "execute_result"
    }
   ],
   "source": [
    "not False"
   ]
  },
  {
   "cell_type": "code",
   "execution_count": 14,
   "metadata": {},
   "outputs": [
    {
     "data": {
      "text/plain": [
       "True"
      ]
     },
     "execution_count": 14,
     "metadata": {},
     "output_type": "execute_result"
    }
   ],
   "source": [
    "True and not False"
   ]
  },
  {
   "cell_type": "markdown",
   "metadata": {
    "lang": "zh-cn"
   },
   "source": [
    "在计算机代码中，我们经常需要评估某些表达式，该表达式为true或false（有时称为“谓词”）。例如："
   ]
  },
  {
   "cell_type": "code",
   "execution_count": 15,
   "metadata": {},
   "outputs": [
    {
     "data": {
      "text/plain": [
       "True"
      ]
     },
     "execution_count": 15,
     "metadata": {},
     "output_type": "execute_result"
    }
   ],
   "source": [
    "x = 30          # assign 30 to x\n",
    "x > 15          # is x greater than 15"
   ]
  },
  {
   "cell_type": "code",
   "execution_count": 16,
   "metadata": {},
   "outputs": [
    {
     "data": {
      "text/plain": [
       "False"
      ]
     },
     "execution_count": 16,
     "metadata": {},
     "output_type": "execute_result"
    }
   ],
   "source": [
    "x > 42"
   ]
  },
  {
   "cell_type": "code",
   "execution_count": 17,
   "metadata": {},
   "outputs": [
    {
     "data": {
      "text/plain": [
       "True"
      ]
     },
     "execution_count": 17,
     "metadata": {},
     "output_type": "execute_result"
    }
   ],
   "source": [
    "x == 30         # is x the same as 30?"
   ]
  },
  {
   "cell_type": "code",
   "execution_count": 18,
   "metadata": {},
   "outputs": [
    {
     "data": {
      "text/plain": [
       "False"
      ]
     },
     "execution_count": 18,
     "metadata": {},
     "output_type": "execute_result"
    }
   ],
   "source": [
    "x == 42"
   ]
  },
  {
   "cell_type": "code",
   "execution_count": 19,
   "metadata": {},
   "outputs": [
    {
     "data": {
      "text/plain": [
       "True"
      ]
     },
     "execution_count": 19,
     "metadata": {},
     "output_type": "execute_result"
    }
   ],
   "source": [
    "not x == 42     # is x not the same as 42?"
   ]
  },
  {
   "cell_type": "code",
   "execution_count": 20,
   "metadata": {},
   "outputs": [
    {
     "data": {
      "text/plain": [
       "True"
      ]
     },
     "execution_count": 20,
     "metadata": {},
     "output_type": "execute_result"
    }
   ],
   "source": [
    "x != 42         # is x not the same as 42?"
   ]
  },
  {
   "cell_type": "code",
   "execution_count": 21,
   "metadata": {},
   "outputs": [
    {
     "data": {
      "text/plain": [
       "False"
      ]
     },
     "execution_count": 21,
     "metadata": {},
     "output_type": "execute_result"
    }
   ],
   "source": [
    "x > 30          # is x greater than 30?"
   ]
  },
  {
   "cell_type": "code",
   "execution_count": 22,
   "metadata": {},
   "outputs": [
    {
     "data": {
      "text/plain": [
       "True"
      ]
     },
     "execution_count": 22,
     "metadata": {},
     "output_type": "execute_result"
    }
   ],
   "source": [
    "x >= 30  # is x greater than or equal to 30?"
   ]
  },
  {
   "cell_type": "markdown",
   "metadata": {
    "lang": "zh-cn"
   },
   "source": [
    "如果-然后-其他\n",
    "------------\n",
    "\n",
    "＃＃＃＃＃ 更多信息\n",
    "\n",
    "-[Python教程，第4.1节]中的If-then简介（http://docs.python.org/tutorial/controlflow.html#if-statements）\n",
    "\n",
    "<span>`if`</span>语句允许条件执行代码，例如："
   ]
  },
  {
   "cell_type": "code",
   "execution_count": 23,
   "metadata": {},
   "outputs": [
    {
     "name": "stdout",
     "output_type": "stream",
     "text": [
      "a is positive\n"
     ]
    }
   ],
   "source": [
    "a = 34\n",
    "if a > 0:\n",
    "    print(\"a is positive\")"
   ]
  },
  {
   "cell_type": "markdown",
   "metadata": {
    "lang": "zh-cn"
   },
   "source": [
    "如果条件错误，则if语句还可以具有<span>`else`</span>分支："
   ]
  },
  {
   "cell_type": "code",
   "execution_count": 24,
   "metadata": {},
   "outputs": [
    {
     "name": "stdout",
     "output_type": "stream",
     "text": [
      "a is positive\n"
     ]
    }
   ],
   "source": [
    "a = 34\n",
    "if a > 0:\n",
    "    print(\"a is positive\")\n",
    "else:\n",
    "    print(\"a is non-positive (i.e. negative or zero)\")"
   ]
  },
  {
   "cell_type": "markdown",
   "metadata": {
    "lang": "zh-cn"
   },
   "source": [
    "最后，还有一个<span>`elif`</span>（读作“ else if”）关键字，它可以检查几种（唯一的）可能性："
   ]
  },
  {
   "cell_type": "code",
   "execution_count": 25,
   "metadata": {},
   "outputs": [
    {
     "name": "stdout",
     "output_type": "stream",
     "text": [
      "a is positive\n"
     ]
    }
   ],
   "source": [
    "a = 17\n",
    "if a == 0:\n",
    "    print(\"a is zero\")\n",
    "elif a < 0:\n",
    "    print(\"a is negative\")\n",
    "else:\n",
    "    print(\"a is positive\")"
   ]
  },
  {
   "cell_type": "markdown",
   "metadata": {
    "lang": "zh-cn"
   },
   "source": [
    "对于循环\n",
    "--------\n",
    "\n",
    "＃＃＃＃＃ 更多信息\n",
    "\n",
    "-[Python教程，第4.2节]中的for循环简介（http://docs.python.org/tutorial/controlflow.html#for-statements）\n",
    "\n",
    "</span>循环的<span>`可以迭代序列（例如，可以是字符串或列表）。这是一个例子："
   ]
  },
  {
   "cell_type": "code",
   "execution_count": 26,
   "metadata": {},
   "outputs": [
    {
     "name": "stdout",
     "output_type": "stream",
     "text": [
      "dog DOG\n",
      "cat CAT\n",
      "mouse MOUSE\n"
     ]
    }
   ],
   "source": [
    "for animal in ['dog','cat','mouse']:\n",
    "    print(animal, animal.upper())"
   ]
  },
  {
   "cell_type": "markdown",
   "metadata": {
    "lang": "en"
   },
   "source": [
    "Together with the `range()` command ([in chapter 3](03-data-types-structures.ipynb#The-range&#40;&#41;-command)), one can iterate over increasing integers:"
   ]
  },
  {
   "cell_type": "markdown",
   "metadata": {
    "lang": "zh-cn"
   },
   "source": [
    "与`range（）`命令一起使用（[在第3章]（03-data-types-structures.ipynb＃The-range（）-命令）），可以迭代增加的整数："
   ]
  },
  {
   "cell_type": "code",
   "execution_count": 27,
   "metadata": {},
   "outputs": [
    {
     "name": "stdout",
     "output_type": "stream",
     "text": [
      "5\n",
      "6\n",
      "7\n",
      "8\n",
      "9\n"
     ]
    }
   ],
   "source": [
    "for i in range(5,10):\n",
    "    print(i)"
   ]
  },
  {
   "cell_type": "markdown",
   "metadata": {
    "lang": "zh-cn"
   },
   "source": [
    "While循环\n",
    "----------\n",
    "\n",
    "<span>`while`</span>关键字允许在条件为真时重复操作。假设我们想知道仅仅由于年利率为5％的利息而必须在储蓄帐户中保留100磅才能达到200磅的年限。这是一个计算将花费15年的程序："
   ]
  },
  {
   "cell_type": "code",
   "execution_count": 28,
   "metadata": {},
   "outputs": [
    {
     "name": "stdout",
     "output_type": "stream",
     "text": [
      "We need 15 years to reach 207.89281794113688 pounds.\n"
     ]
    }
   ],
   "source": [
    "mymoney = 100         # in GBP\n",
    "rate = 1.05           # 5% interest\n",
    "years = 0\n",
    "while mymoney < 200:  # repeat until 20 pounds reached\n",
    "    mymoney = mymoney * rate\n",
    "    years = years + 1\n",
    "print('We need', years, 'years to reach', mymoney, 'pounds.')"
   ]
  },
  {
   "cell_type": "markdown",
   "metadata": {
    "lang": "zh-cn"
   },
   "source": [
    "<span> if </span>和<span>while </span>语句中的关系运算符（比较）\n",
    "-------------------------------------------------- -----------------------------------------\n",
    "\n",
    "<span>`if`</span>语句和<span>`while`</span>循环的一般形式是相同的：在关键字<span>`if`</span>或<span>`while`</span>之后，有一个*condition*后跟一个冒号。在下一行中，将启动一个新的（因此会缩进！）命令块，如果条件为True，则执行该命令。\n",
    "\n",
    "例如，条件可以是两个变量<span>`a1`</span>和<span>`a2`</span>相等，表示为<span>`a1 == a2`</span>："
   ]
  },
  {
   "cell_type": "code",
   "execution_count": 29,
   "metadata": {},
   "outputs": [
    {
     "name": "stdout",
     "output_type": "stream",
     "text": [
      "a1 and a2 are the same\n"
     ]
    }
   ],
   "source": [
    "a1 = 42\n",
    "a2 = 42\n",
    "if a1 == a2:\n",
    "    print(\"a1 and a2 are the same\")"
   ]
  },
  {
   "cell_type": "markdown",
   "metadata": {
    "lang": "zh-cn"
   },
   "source": [
    "另一个示例是测试<span>`a1`</span>和<span>`a2`</span>是否不相同。为此，我们有两种可能性。选项1使用*inequality运算符* <span>`！=`</span>："
   ]
  },
  {
   "cell_type": "code",
   "execution_count": 30,
   "metadata": {
    "collapsed": true
   },
   "outputs": [],
   "source": [
    "if a1 != a2:\n",
    "    print(\"a1 and a2 are different\")"
   ]
  },
  {
   "cell_type": "markdown",
   "metadata": {
    "lang": "zh-cn"
   },
   "source": [
    "选项二在条件前使用关键字<span>`not`</span>："
   ]
  },
  {
   "cell_type": "code",
   "execution_count": 31,
   "metadata": {
    "collapsed": true
   },
   "outputs": [],
   "source": [
    "if not a1 == a2:\n",
    "    print(\"a1 and a2 are different\")"
   ]
  },
  {
   "cell_type": "markdown",
   "metadata": {
    "lang": "zh-cn"
   },
   "source": [
    "比较“更大” (<span>`>`</span>),“更小” (<span>`<`</span>) 和 “更大等于” (<span>`>=`</span>) 和 “更小的等于”(<span>`<=`</span>)很简单。\n",
    "\n",
    "最后，我们可以使用逻辑运算符“ <span>”和“ </span>”以及“ <span>”或“ </span>”来组合条件："
   ]
  },
  {
   "cell_type": "code",
   "execution_count": 32,
   "metadata": {},
   "outputs": [
    {
     "name": "stdout",
     "output_type": "stream",
     "text": [
      "Either a is greater than 10, or b is smaller than -5, or both.\n"
     ]
    }
   ],
   "source": [
    "if a > 10 and b > 20:\n",
    "    print(\"A is greater than 10 and b is greater than 20\")\n",
    "if a > 10 or b < -5:\n",
    "    print(\"Either a is greater than 10, or \"\n",
    "          \"b is smaller than -5, or both.\")"
   ]
  },
  {
   "cell_type": "markdown",
   "metadata": {
    "lang": "zh-cn"
   },
   "source": [
    "使用Python提示符尝试这些比较和逻辑表达式。例如："
   ]
  },
  {
   "cell_type": "code",
   "execution_count": 33,
   "metadata": {},
   "outputs": [
    {
     "name": "stdout",
     "output_type": "stream",
     "text": [
      "quite cold\n"
     ]
    }
   ],
   "source": [
    "T = -12.5\n",
    "if T < -20:\n",
    "    print(\"very cold\")\n",
    "\n",
    "if T < -10:\n",
    "    print(\"quite cold\")"
   ]
  },
  {
   "cell_type": "code",
   "execution_count": 34,
   "metadata": {},
   "outputs": [
    {
     "data": {
      "text/plain": [
       "False"
      ]
     },
     "execution_count": 34,
     "metadata": {},
     "output_type": "execute_result"
    }
   ],
   "source": [
    "T < -20"
   ]
  },
  {
   "cell_type": "code",
   "execution_count": 35,
   "metadata": {},
   "outputs": [
    {
     "data": {
      "text/plain": [
       "True"
      ]
     },
     "execution_count": 35,
     "metadata": {},
     "output_type": "execute_result"
    }
   ],
   "source": [
    "T < -10"
   ]
  },
  {
   "cell_type": "markdown",
   "metadata": {
    "lang": "zh-cn"
   },
   "source": [
    "例外情况\n",
    "----------\n",
    "\n",
    "即使语句或表达式在语法上是正确的，但在尝试执行它时也可能导致错误。在执行过程中检测到的错误称为*exception*，并不一定致命，它们可以被*catch*并在程序中处理。但是，大多数异常不由程序处理，并导致出现错误消息，如下所示"
   ]
  },
  {
   "cell_type": "code",
   "execution_count": 36,
   "metadata": {},
   "outputs": [
    {
     "ename": "ZeroDivisionError",
     "evalue": "division by zero",
     "output_type": "error",
     "traceback": [
      "\u001b[0;31m---------------------------------------------------------------------------\u001b[0m",
      "\u001b[0;31mZeroDivisionError\u001b[0m                         Traceback (most recent call last)",
      "\u001b[0;32m<ipython-input-36-9ce172bd90a7>\u001b[0m in \u001b[0;36m<module>\u001b[0;34m()\u001b[0m\n\u001b[0;32m----> 1\u001b[0;31m \u001b[0;36m10\u001b[0m \u001b[0;34m*\u001b[0m \u001b[0;34m(\u001b[0m\u001b[0;36m1\u001b[0m\u001b[0;34m/\u001b[0m\u001b[0;36m0\u001b[0m\u001b[0;34m)\u001b[0m\u001b[0;34m\u001b[0m\u001b[0m\n\u001b[0m",
      "\u001b[0;31mZeroDivisionError\u001b[0m: division by zero"
     ]
    }
   ],
   "source": [
    "# NBVAL_RAISES_EXCEPTION\n",
    "10 * (1/0)"
   ]
  },
  {
   "cell_type": "code",
   "execution_count": 8,
   "metadata": {},
   "outputs": [
    {
     "ename": "NameError",
     "evalue": "name 'spam' is not defined",
     "output_type": "error",
     "traceback": [
      "\u001b[0;31m---------------------------------------------------------------------------\u001b[0m",
      "\u001b[0;31mNameError\u001b[0m                                 Traceback (most recent call last)",
      "\u001b[0;32m<ipython-input-8-dc7ecd1cc0aa>\u001b[0m in \u001b[0;36m<module>\u001b[0;34m()\u001b[0m\n\u001b[1;32m      1\u001b[0m \u001b[0;31m# NBVAL_RAISES_EXCEPTION\u001b[0m\u001b[0;34m\u001b[0m\u001b[0;34m\u001b[0m\u001b[0m\n\u001b[0;32m----> 2\u001b[0;31m \u001b[0;36m4\u001b[0m \u001b[0;34m+\u001b[0m \u001b[0mspam\u001b[0m\u001b[0;34m*\u001b[0m\u001b[0;36m3\u001b[0m\u001b[0;34m\u001b[0m\u001b[0m\n\u001b[0m",
      "\u001b[0;31mNameError\u001b[0m: name 'spam' is not defined"
     ]
    }
   ],
   "source": [
    "# NBVAL_RAISES_EXCEPTION\n",
    "4 + spam*3"
   ]
  },
  {
   "cell_type": "code",
   "execution_count": 9,
   "metadata": {},
   "outputs": [
    {
     "ename": "TypeError",
     "evalue": "must be str, not int",
     "output_type": "error",
     "traceback": [
      "\u001b[0;31m---------------------------------------------------------------------------\u001b[0m",
      "\u001b[0;31mTypeError\u001b[0m                                 Traceback (most recent call last)",
      "\u001b[0;32m<ipython-input-9-3e373c48d944>\u001b[0m in \u001b[0;36m<module>\u001b[0;34m()\u001b[0m\n\u001b[1;32m      1\u001b[0m \u001b[0;31m# NBVAL_RAISES_EXCEPTION\u001b[0m\u001b[0;34m\u001b[0m\u001b[0;34m\u001b[0m\u001b[0m\n\u001b[0;32m----> 2\u001b[0;31m \u001b[0;34m'2'\u001b[0m \u001b[0;34m+\u001b[0m \u001b[0;36m2\u001b[0m\u001b[0;34m\u001b[0m\u001b[0m\n\u001b[0m",
      "\u001b[0;31mTypeError\u001b[0m: must be str, not int"
     ]
    }
   ],
   "source": [
    "# NBVAL_SKIP\n",
    "'2' + 2"
   ]
  },
  {
   "cell_type": "markdown",
   "metadata": {
    "lang": "zh-cn"
   },
   "source": [
    "使用所有选项捕获原理图异常"
   ]
  },
  {
   "cell_type": "code",
   "execution_count": 6,
   "metadata": {
    "collapsed": true
   },
   "outputs": [],
   "source": [
    "try:\n",
    "    # code body\n",
    "    pass\n",
    "except ArithmeticError:\n",
    "    # what to do if arithmetic error\n",
    "    pass\n",
    "except IndexError as the_exception:\n",
    "    # the_exception refers to the exeption in this block\n",
    "    pass\n",
    "except:\n",
    "    # what to do for ANY other exception\n",
    "    pass\n",
    "else:  # optional\n",
    "    # what to do if no exception raised\n",
    "    pass\n",
    "\n",
    "try:\n",
    "    # code body\n",
    "    pass\n",
    "finally:\n",
    "    # what to do ALWAYS\n",
    "    pass"
   ]
  },
  {
   "cell_type": "markdown",
   "metadata": {
    "lang": "zh-cn"
   },
   "source": [
    "从Python 2.5开始，您可以使用with语句来简化一些预定义函数的代码编写，尤其是<span>`open`</span>函数来打开文件：请参见<http://docs.python.org/tutorial/errors.html#predefined-clean-up-actions>。\n",
    "\n",
    "示例：我们尝试打开一个不存在的文件，Python将引发<span>`IOError`</span>类型的异常，代表输入输出错误："
   ]
  },
  {
   "cell_type": "code",
   "execution_count": 7,
   "metadata": {},
   "outputs": [
    {
     "ename": "FileNotFoundError",
     "evalue": "[Errno 2] No such file or directory: 'filenamethatdoesnotexist'",
     "output_type": "error",
     "traceback": [
      "\u001b[0;31m---------------------------------------------------------------------------\u001b[0m",
      "\u001b[0;31mFileNotFoundError\u001b[0m                         Traceback (most recent call last)",
      "\u001b[0;32m<ipython-input-7-1fcefadfdaf6>\u001b[0m in \u001b[0;36m<module>\u001b[0;34m()\u001b[0m\n\u001b[1;32m      1\u001b[0m \u001b[0;31m# NBVAL_RAISES_EXCEPTION\u001b[0m\u001b[0;34m\u001b[0m\u001b[0;34m\u001b[0m\u001b[0m\n\u001b[0;32m----> 2\u001b[0;31m \u001b[0mf\u001b[0m \u001b[0;34m=\u001b[0m \u001b[0mopen\u001b[0m\u001b[0;34m(\u001b[0m\u001b[0;34m\"filenamethatdoesnotexist\"\u001b[0m\u001b[0;34m,\u001b[0m \u001b[0;34m\"r\"\u001b[0m\u001b[0;34m)\u001b[0m\u001b[0;34m\u001b[0m\u001b[0m\n\u001b[0m",
      "\u001b[0;31mFileNotFoundError\u001b[0m: [Errno 2] No such file or directory: 'filenamethatdoesnotexist'"
     ]
    }
   ],
   "source": [
    "# NBVAL_RAISES_EXCEPTION\n",
    "f = open(\"filenamethatdoesnotexist\", \"r\")"
   ]
  },
  {
   "cell_type": "markdown",
   "metadata": {
    "lang": "zh-cn"
   },
   "source": [
    "如果我们使用用户界面来编写应用程序，而用户必须在其中键入或选择文件名，那么如果文件不存在，我们将不希望应用程序停止。相反，我们需要捕获此异常并采取相应的措施（例如，通过通知用户该文件名不存在的文件并询问他们是否要尝试另一个文件名）。这是捕获此异常的框架："
   ]
  },
  {
   "cell_type": "code",
   "execution_count": 41,
   "metadata": {},
   "outputs": [
    {
     "name": "stdout",
     "output_type": "stream",
     "text": [
      "Could not open that file\n"
     ]
    }
   ],
   "source": [
    "try:\n",
    "    f = open(\"filenamethatdoesnotexist\",\"r\")\n",
    "except IOError:\n",
    "    print(\"Could not open that file\")"
   ]
  },
  {
   "cell_type": "markdown",
   "metadata": {
    "lang": "zh-cn"
   },
   "source": [
    "关于异常及其在大型程序中的使用还有很多要说的。如果您有兴趣，请开始阅读[Python教程第8章：错误和异常]（http://docs.python.org/tutorial/errors.html#errors-and-exceptions）。\n",
    "\n",
    "###引发异常\n",
    "\n",
    "引发异常也称为“引发异常”。\n",
    "\n",
    "提出例外的可能性\n",
    "\n",
    "-`raise OverflowError`\n",
    "\n",
    "-`raise OverflowError，浴室满了（老式，现在不鼓励使用）\n",
    "\n",
    "-`raise OverflowError（浴满）\n",
    "\n",
    "-`e = OverflowError（浴满了）;提高e`\n",
    "\n",
    "####异常层次\n",
    "\n",
    "标准例外组织在继承层次结构中，例如OverflowError是ArithmeticError的子类（不是BathroomError）；例如，在查看<span>`help（’exceptions’）`</span>时可以看到这一点。\n",
    "\n",
    "您可以从任何标准异常中派生自己的异常。让每个模块定义自己的基本异常是一种很好的样式。"
   ]
  },
  {
   "cell_type": "markdown",
   "metadata": {
    "lang": "zh-cn"
   },
   "source": [
    "###创建我们自己的异常\n",
    "\n",
    "-您可以并且应该从内置的异常派生自己的异常。\n",
    "\n",
    "-要查看存在哪些内置异常，请查看模块异常（尝试<span>`help（’exceptions’）`</span>），或转到<http://docs.python.org/library/exceptions.html#bltin-exceptions>。\n",
    "\n",
    "### LBYL vs EAFP\n",
    "\n",
    "-LBYL（飞跃前请先看）vs\n",
    "\n",
    "-EAFP（更容易请求宽恕而不是允许）"
   ]
  },
  {
   "cell_type": "code",
   "execution_count": 42,
   "metadata": {
    "collapsed": true
   },
   "outputs": [],
   "source": [
    "numerator = 7\n",
    "denominator = 0"
   ]
  },
  {
   "cell_type": "markdown",
   "metadata": {
    "lang": "zh-cn"
   },
   "source": [
    "LBYL示例："
   ]
  },
  {
   "cell_type": "code",
   "execution_count": 43,
   "metadata": {},
   "outputs": [
    {
     "name": "stdout",
     "output_type": "stream",
     "text": [
      "Oops\n"
     ]
    }
   ],
   "source": [
    "if denominator == 0:\n",
    "    print(\"Oops\")\n",
    "else:\n",
    "    print(numerator/denominator)"
   ]
  },
  {
   "cell_type": "markdown",
   "metadata": {
    "lang": "zh-cn"
   },
   "source": [
    "寻求宽恕比获得许可更容易："
   ]
  },
  {
   "cell_type": "code",
   "execution_count": 44,
   "metadata": {},
   "outputs": [
    {
     "name": "stdout",
     "output_type": "stream",
     "text": [
      "Oops\n"
     ]
    }
   ],
   "source": [
    "try:\n",
    "    print(numerator/denominator)\n",
    "except ZeroDivisionError:\n",
    "    print(\"Oops\")"
   ]
  },
  {
   "cell_type": "markdown",
   "metadata": {
    "lang": "zh-cn"
   },
   "source": [
    "Python文档介绍了有关EAFP的信息：\n",
    "\n",
    ">寻求宽恕比获得许可更容易。这种通用的Python编码风格假定有效键或属性的存在，并在假定被证明为假的情况下捕获异常。这种干净快捷的样式的特点是存在许多try和except语句。该技术与C等其他许多语言通用的LBYL风格形成对比。\n",
    "\n",
    "资料来源：<http://docs.python.org/glossary.html#term-eafp>\n",
    "\n",
    "Python文档中介绍了有关LBYL的信息：\n",
    "\n",
    ">跳跃前先看。这种编码样式在进行调用或查找之前会明确测试前提条件。这种风格与EAFP方法相反，其特点是存在许多if语句。\n",
    ">\n",
    ">在多线程环境中，LBYL方法可能会在“外观”和“跳跃”之间引入竞争条件。例如，如果另一个线程在测试之后但在查找之前从映射中删除了密钥，则代码if if in mapping：return mapping\\[key\\]可能会失败。可以使用锁或使用EAFP方法解决此问题。\n",
    "\n",
    "资料来源：<http://docs.python.org/glossary.html#term-lbyl>\n",
    "\n",
    "EAFP是Python方式。"
   ]
  }
 ],
 "metadata": {
  "kernelspec": {
   "display_name": "Python 3",
   "language": "python",
   "name": "python3"
  },
  "language_info": {
   "codemirror_mode": {
    "name": "ipython",
    "version": 3
   },
   "file_extension": ".py",
   "mimetype": "text/x-python",
   "name": "python",
   "nbconvert_exporter": "python",
   "pygments_lexer": "ipython3",
   "version": "3.7.6"
  },
  "nbTranslate": {
   "displayLangs": [
    "zh-cn",
    "en"
   ],
   "hotkey": "alt-t",
   "langInMainMenu": true,
   "sourceLang": "en",
   "targetLang": "zh-cn",
   "useGoogleTranslate": true
  }
 },
 "nbformat": 4,
 "nbformat_minor": 1
}

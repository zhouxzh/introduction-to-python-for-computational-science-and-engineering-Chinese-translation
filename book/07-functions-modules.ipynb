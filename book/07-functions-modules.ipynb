{
 "cells": [
  {
   "cell_type": "markdown",
   "metadata": {
    "lang": "zh-cn"
   },
   "source": [
    "功能和模块\n",
    "=====================\n",
    "\n",
    "介绍\n",
    "------------\n",
    "\n",
    "函数使我们可以将多个语句分组为一个逻辑块。我们通过明确定义的界面与功能进行通信，为功能提供某些参数，并接收回一些信息。除此接口外，我们通常不了解函数如何精确地获取其返回的值\n",
    "\n",
    "例如函数`math.sqrt`：我们不知道它如何精确计算平方根，但是我们知道接口：如果将*x*传递给函数，它将返回（近似为）$\\sqrt{x}$。\n",
    "\n",
    "这种抽象是很有用的：在工程中，将系统分解成较小的（黑匣子）组件是一种常见的技术，这些组件都可以通过定义明确的接口一起工作，而无需了解彼此的内部实现功能。实际上，不必关心这些实现细节，可以帮助您更清晰地了解由许多这些组件组成的系统。\n",
    "\n",
    "函数提供了较大程序（和计算机模拟）中功能的基本构建块，并有助于控制过程的固有复杂性。\n",
    "\n",
    "我们可以将功能分组到一个Python模块中（请参阅[modules]（＃Modules）），并以此方式创建我们自己的功能库。\n",
    "\n",
    "使用功能\n",
    "---------------\n",
    "\n",
    "“功能”一词在数学和程序设计中具有不同的含义。在编程中，它指的是执行计算的命名操作序列。例如，在`math`模块中定义的函数`sqrt（）`计算给定值的平方根："
   ]
  },
  {
   "cell_type": "code",
   "execution_count": 1,
   "metadata": {},
   "outputs": [
    {
     "data": {
      "text/plain": [
       "2.0"
      ]
     },
     "execution_count": 1,
     "metadata": {},
     "output_type": "execute_result"
    }
   ],
   "source": [
    "from math import sqrt\n",
    "sqrt(4)"
   ]
  },
  {
   "cell_type": "markdown",
   "metadata": {
    "lang": "zh-cn"
   },
   "source": [
    "在此示例中，我们传递给函数sqrt的值为4。此值称为函数的*argument*。一个函数可能有多个参数。\n",
    "\n",
    "该函数将值2.0（其计算结果）返回到“调用上下文”。此值称为函数的*返回值*。\n",
    "\n",
    "通常说一个函数*接受*一个参数，而*返回*一个结果或返回值。\n",
    "\n",
    "####关于打印和返回值的常见困惑\n",
    "\n",
    "将值的*printing*与*returning*值混淆是一个初学者的常见错误。在以下示例中，很难看到函数`math.sin`是否返回值或是否输出该值："
   ]
  },
  {
   "cell_type": "code",
   "execution_count": 2,
   "metadata": {},
   "outputs": [
    {
     "data": {
      "text/plain": [
       "0.9092974268256817"
      ]
     },
     "execution_count": 2,
     "metadata": {},
     "output_type": "execute_result"
    }
   ],
   "source": [
    "import math\n",
    "math.sin(2)"
   ]
  },
  {
   "cell_type": "markdown",
   "metadata": {
    "lang": "zh-cn"
   },
   "source": [
    "我们导入`math`模块，并以`2`作为参数调用`math.sin`函数。实际上，“ math.sin（2）”调用将*返回*值“ 0.909 ...”而不打印出来。但是，由于我们尚未将返回值分配给变量，因此Python提示符将打印返回的对象。\n",
    "\n",
    "以下替代序列仅在返回值时有效："
   ]
  },
  {
   "cell_type": "code",
   "execution_count": 3,
   "metadata": {},
   "outputs": [
    {
     "name": "stdout",
     "output_type": "stream",
     "text": [
      "0.9092974268256817\n"
     ]
    }
   ],
   "source": [
    "x = math.sin(2)\n",
    "print(x)"
   ]
  },
  {
   "cell_type": "markdown",
   "metadata": {
    "lang": "zh-cn"
   },
   "source": [
    "函数调用“ math.sin（2）”的返回值被分配给变量“ x”，而“ x”则打印在下一行。\n",
    "\n",
    "通常，函数应“静默”执行（即不打印任何内容），并通过返回值报告其计算结果。\n",
    "\n",
    "关于在Python提示符下打印值和返回值的部分困惑，部分原因在于Python提示符打印（表示）返回的对象*if*如果未分配返回的对象。通常，看到返回的对象正是我们想要的（因为我们通常关心返回的对象），只是在学习Python时，这可能会引起函数返回值或打印值的混乱。\n",
    "\n",
    "＃＃＃＃＃ 更多信息\n",
    "\n",
    "-Think Python在[第3章（功能）]（http://www.greenteapress.com/thinkpython/html/book004.html）和[第6章（功能卓著的功能）]（http://www.greenteapress.com/thinkpython/html/book007.html）。"
   ]
  },
  {
   "cell_type": "markdown",
   "metadata": {
    "lang": "zh-cn"
   },
   "source": [
    "定义功能\n",
    "------------------\n",
    "\n",
    "函数定义的通用格式：\n",
    "\n",
    "```python\n",
    "def my_function(arg1, arg2, ..., argn):\n",
    "    \"\"\"Optional docstring.\"\"\"\n",
    "\n",
    "    # Implementation of the function\n",
    "\n",
    "    return result  # optional\n",
    "\n",
    "# this is not part of the function\n",
    "some_command\n",
    "```"
   ]
  },
  {
   "cell_type": "markdown",
   "metadata": {
    "lang": "zh-cn"
   },
   "source": [
    "Allen Downey的术语（在他的著作[Think Python]（http://www.greenteapress.com/thinkpython/html/index.html）中）区分了返回值的函数和不返回值的函数一个值。区别是指函数是提供返回值（=有结果）还是函数没有显式返回值（=无结果）。如果一个函数不使用`return`语句，我们通常会说该函数不返回任何内容（而实际上，在终止时，它将始终返回`None`对象-即使缺少`return`语句） 。\n",
    "\n",
    "例如，函数“ greeting”在被调用时将打印“ Hello World”（并且没有结果，因为它不返回值）。"
   ]
  },
  {
   "cell_type": "code",
   "execution_count": 4,
   "metadata": {
    "collapsed": true
   },
   "outputs": [],
   "source": [
    "def greeting():\n",
    "    print(\"Hello World!\")"
   ]
  },
  {
   "cell_type": "markdown",
   "metadata": {
    "lang": "zh-cn"
   },
   "source": [
    "如果我们调用该函数："
   ]
  },
  {
   "cell_type": "code",
   "execution_count": 5,
   "metadata": {},
   "outputs": [
    {
     "name": "stdout",
     "output_type": "stream",
     "text": [
      "Hello World!\n"
     ]
    }
   ],
   "source": [
    "greeting()"
   ]
  },
  {
   "cell_type": "markdown",
   "metadata": {
    "lang": "zh-cn"
   },
   "source": [
    "正如我们所期望的那样，它将“ Hello World”打印到标准输出。如果我们将函数的返回值分配给变量“ x”，则可以随后对其进行检查："
   ]
  },
  {
   "cell_type": "code",
   "execution_count": 6,
   "metadata": {},
   "outputs": [
    {
     "name": "stdout",
     "output_type": "stream",
     "text": [
      "Hello World!\n"
     ]
    }
   ],
   "source": [
    "x = greeting()"
   ]
  },
  {
   "cell_type": "code",
   "execution_count": 7,
   "metadata": {},
   "outputs": [
    {
     "name": "stdout",
     "output_type": "stream",
     "text": [
      "None\n"
     ]
    }
   ],
   "source": [
    "print(x)"
   ]
  },
  {
   "cell_type": "markdown",
   "metadata": {
    "lang": "zh-cn"
   },
   "source": [
    "并发现“ greeting”功能确实返回了“ None”对象。\n",
    "\n",
    "一个不返回任何值的函数的另一个示例（这意味着该函数中没有`return`关键字）将是："
   ]
  },
  {
   "cell_type": "code",
   "execution_count": 8,
   "metadata": {
    "collapsed": true
   },
   "outputs": [],
   "source": [
    "def printpluses(n): \n",
    "    print(n * \"+\")"
   ]
  },
  {
   "cell_type": "markdown",
   "metadata": {
    "lang": "zh-cn"
   },
   "source": [
    "通常，返回值的函数更有用，因为可以通过巧妙地组合使用它们来汇编代码（也许是另一个函数）。让我们看一些确实返回值的函数示例。\n",
    "\n",
    "假设我们需要定义一个函数来计算给定变量的平方。函数源可以是："
   ]
  },
  {
   "cell_type": "code",
   "execution_count": 9,
   "metadata": {
    "collapsed": true
   },
   "outputs": [],
   "source": [
    "def square(x):\n",
    "    return x * x"
   ]
  },
  {
   "cell_type": "markdown",
   "metadata": {
    "lang": "zh-cn"
   },
   "source": [
    "关键字`def`告诉Python那时我们正在*定义*一个函数。该函数带有一个参数（`x`）。该函数返回“ x * x”，这当然是$x^2$。这是显示如何定义和使用函数的文件清单：（请注意，左侧的数字是行号，而不是程序的一部分）"
   ]
  },
  {
   "cell_type": "code",
   "execution_count": 10,
   "metadata": {
    "attributes": {
     "classes": [
      "numberLines"
     ],
     "id": ""
    }
   },
   "outputs": [
    {
     "name": "stdout",
     "output_type": "stream",
     "text": [
      "0 * 0 = 0\n",
      "1 * 1 = 1\n",
      "2 * 2 = 4\n",
      "3 * 3 = 9\n",
      "4 * 4 = 16\n"
     ]
    }
   ],
   "source": [
    "def square(x):\n",
    "    return x * x\n",
    "\n",
    "for i in range(5):\n",
    "    i_squared = square(i)\n",
    "    print(i, '*', i, '=', i_squared)"
   ]
  },
  {
   "cell_type": "markdown",
   "metadata": {
    "lang": "zh-cn"
   },
   "source": [
    "值得一提的是，第1和2行定义平方函数，而第4至6行是主程序。"
   ]
  },
  {
   "cell_type": "markdown",
   "metadata": {
    "lang": "zh-cn"
   },
   "source": [
    "我们可以定义采用多个参数的函数："
   ]
  },
  {
   "cell_type": "code",
   "execution_count": 11,
   "metadata": {
    "collapsed": true
   },
   "outputs": [],
   "source": [
    "import math\n",
    "\n",
    "def hypot(x, y):\n",
    "    return math.sqrt(x * x + y * y)"
   ]
  },
  {
   "cell_type": "markdown",
   "metadata": {
    "lang": "zh-cn"
   },
   "source": [
    "还可以返回多个参数。这是一个函数示例，该函数将给定的字符串转换为所有大写字母和所有小写字母并返回两个版本。我们包含了主程序，以演示如何调用此函数："
   ]
  },
  {
   "cell_type": "code",
   "execution_count": 12,
   "metadata": {},
   "outputs": [
    {
     "name": "stdout",
     "output_type": "stream",
     "text": [
      "Banana in lowercase: banana and in uppercase BANANA\n"
     ]
    }
   ],
   "source": [
    "def upperAndLower(string):\n",
    "    return string.upper(), string.lower()\n",
    "\n",
    "testword = 'Banana'\n",
    "\n",
    "uppercase, lowercase = upperAndLower(testword)\n",
    "\n",
    "print(testword, 'in lowercase:', lowercase,\n",
    "      'and in uppercase', uppercase)"
   ]
  },
  {
   "cell_type": "markdown",
   "metadata": {
    "lang": "zh-cn"
   },
   "source": [
    "我们可以在一个文件中定义多个Python函数。这是具有两个功能的示例："
   ]
  },
  {
   "cell_type": "code",
   "execution_count": 13,
   "metadata": {},
   "outputs": [
    {
     "name": "stdout",
     "output_type": "stream",
     "text": [
      "*****************Hello world!*****************\n"
     ]
    }
   ],
   "source": [
    "def returnstars( n ):\n",
    "    return n * '*'\n",
    "\n",
    "def print_centred_in_stars( string ):\n",
    "    linelength = 46 \n",
    "    starstring = returnstars((linelength - len(string)) // 2)\n",
    "\n",
    "    print(starstring + string + starstring)\n",
    "\n",
    "print_centred_in_stars('Hello world!')"
   ]
  },
  {
   "cell_type": "markdown",
   "metadata": {
    "lang": "zh-cn"
   },
   "source": [
    "#####进一步阅读\n",
    "\n",
    "-[Python教程：第4.6节定义函数]（http://docs.python.org/tutorial/controlflow.html#defining-functions）\n",
    "\n",
    "默认值和可选参数\n",
    "--------------------------------------\n",
    "\n",
    "Python允许为函数参数定义*default*值。这是一个示例：该程序在执行时将打印以下输出：那么它如何工作？函数`print _mult_ table`具有两个参数：n和upto。第一个参数“ n”是“普通”变量。第二个参数`upto`的默认值为10。换句话说：如果该函数的用户仅提供一个参数，则它提供`n`的值，而`upto`的默认值为10。如果提供的话，第一个用于“ n”，第二个用于“ upto”（如上面的代码示例所示）。"
   ]
  },
  {
   "cell_type": "markdown",
   "metadata": {
    "lang": "zh-cn"
   },
   "source": [
    "模组\n",
    "-------\n",
    "\n",
    "模组\n",
    "\n",
    "-分组功能\n",
    "\n",
    "-提供名称空间\n",
    "\n",
    "-Python的标准库包含大量模块-“包含电池”\n",
    "\n",
    "  -尝试“帮助（模块）”\n",
    "\n",
    "-扩展Python的方法\n",
    "\n",
    "###导入模块"
   ]
  },
  {
   "cell_type": "code",
   "execution_count": 14,
   "metadata": {
    "collapsed": true
   },
   "outputs": [],
   "source": [
    "import math"
   ]
  },
  {
   "cell_type": "markdown",
   "metadata": {
    "lang": "zh-cn"
   },
   "source": [
    "这将在发出导入命令的名称空间中引入名称“ math”。 “ math”模块中的名称不会出现在封闭的名称空间中：它们必须通过名称“ math”来访问。例如：“ math.sin”。"
   ]
  },
  {
   "cell_type": "code",
   "execution_count": 15,
   "metadata": {
    "collapsed": true
   },
   "outputs": [],
   "source": [
    "import math, cmath"
   ]
  },
  {
   "cell_type": "markdown",
   "metadata": {
    "lang": "zh-cn"
   },
   "source": [
    "尽管[Python样式指南]（http://www.python.org/dev/peps/pep-0008/）建议不要这样做，但在同一条语句中可以导入多个模块。相反，我们应该写"
   ]
  },
  {
   "cell_type": "code",
   "execution_count": 16,
   "metadata": {
    "collapsed": true
   },
   "outputs": [],
   "source": [
    "import math\n",
    "import cmath\n",
    "\n",
    "import math as mathematics"
   ]
  },
  {
   "cell_type": "markdown",
   "metadata": {
    "lang": "zh-cn"
   },
   "source": [
    "本地已知模块的名称可以不同于其“正式”名称。典型的用途是\n",
    "\n",
    "-为避免名称与现有名称冲突\n",
    "\n",
    "-将名称更改为更易于管理的名称。例如，将SimpleHTTPServer导入为shs。不建议使用生产代码（因为有意义的名称越长，程序比起简短的，隐秘的名称就越容易理解），但是对于交互式地测试想法，能够使用简短的同义词可以使您的生活更加轻松。既然（导入的）模块是一流的对象，那么您当然可以简单地执行“ shs = SimpleHTTPServer”，以便在模块上获得更易于键入的句柄。\n",
    "\n",
    "<!-- -->"
   ]
  },
  {
   "cell_type": "code",
   "execution_count": 17,
   "metadata": {
    "collapsed": true
   },
   "outputs": [],
   "source": [
    "from math import sin"
   ]
  },
  {
   "cell_type": "markdown",
   "metadata": {
    "lang": "zh-cn"
   },
   "source": [
    "这将从`math`模块中导入`sin`函数，但是不会将名称math引入当前名称空间。它只会在当前名称空间中引入名称“ sin”。可以一次性从模块中提取多个名称："
   ]
  },
  {
   "cell_type": "code",
   "execution_count": 18,
   "metadata": {
    "collapsed": true
   },
   "outputs": [],
   "source": [
    "from math import sin, cos"
   ]
  },
  {
   "cell_type": "markdown",
   "metadata": {
    "lang": "zh-cn"
   },
   "source": [
    "最后，让我们看一下这种表示法："
   ]
  },
  {
   "cell_type": "code",
   "execution_count": 19,
   "metadata": {
    "collapsed": true
   },
   "outputs": [],
   "source": [
    "from math import *"
   ]
  },
  {
   "cell_type": "markdown",
   "metadata": {
    "lang": "zh-cn"
   },
   "source": [
    "再一次，这不会将名称math引入当前名称空间。但是，它确实将math模块的*​​所有公共名称*引入当前名称空间。从广义上讲，这样做不是一个好主意：\n",
    "\n",
    "-许多新名称将被转储到当前名称空间中。\n",
    "\n",
    "-您确定他们不会破坏已经存在的任何名称吗？\n",
    "\n",
    "-很难找到这些名称的来源\n",
    "\n",
    "-话虽如此，有些模块（包括标准库中的模块，建议以这种方式导入）。请谨慎使用！\n",
    "\n",
    "-这适用于交互式快速而肮脏的测试或小的计算。"
   ]
  },
  {
   "cell_type": "markdown",
   "metadata": {
    "lang": "zh-cn"
   },
   "source": [
    "###创建模块\n",
    "\n",
    "原则上，模块就是python文件。\n",
    "我们创建一个模块文件的示例，该文件保存在`module1.py`中："
   ]
  },
  {
   "cell_type": "code",
   "execution_count": 20,
   "metadata": {},
   "outputs": [
    {
     "name": "stdout",
     "output_type": "stream",
     "text": [
      "Overwriting module1.py\n"
     ]
    }
   ],
   "source": [
    "%%file module1.py\n",
    "def someusefulfunction():\n",
    "    pass\n",
    "\n",
    "print(\"My name is\", __name__)"
   ]
  },
  {
   "cell_type": "markdown",
   "metadata": {
    "lang": "zh-cn"
   },
   "source": [
    "我们可以将该文件（模块）作为普通的python程序执行（例如python module1.py）："
   ]
  },
  {
   "cell_type": "code",
   "execution_count": 21,
   "metadata": {},
   "outputs": [
    {
     "name": "stdout",
     "output_type": "stream",
     "text": [
      "My name is __main__\r\n"
     ]
    }
   ],
   "source": [
    "!python3 module1.py"
   ]
  },
  {
   "cell_type": "markdown",
   "metadata": {
    "lang": "zh-cn"
   },
   "source": [
    "我们注意到，如果执行了程序文件`module1.py`，Python魔术变量`__name__`的取值为`__main__`。\n",
    "\n",
    "另一方面，我们可以*import*`module1.py`到另一个文件中（可能名为`prog.py`），例如："
   ]
  },
  {
   "cell_type": "code",
   "execution_count": 2,
   "metadata": {},
   "outputs": [
    {
     "name": "stdout",
     "output_type": "stream",
     "text": [
      "My name is module1\n"
     ]
    }
   ],
   "source": [
    "import module1            # in file prog.py"
   ]
  },
  {
   "cell_type": "markdown",
   "metadata": {
    "lang": "zh-cn"
   },
   "source": [
    "当Python在`prog.py`中遇到`import module1`语句时，它将在当前工作目录中查找文件`module1.py`（如果找不到在sys中所有目录中的文件路径）并打开文件module1.py。从上至下解析文件module1.py时，它将在该文件中的所有函数定义添加到调用上下文（即prog.py中的主程序）的module1名称空间中。在这个例子中，只有函数“ someusefulfunction”。导入过程完成后，我们就可以使用prog.py中的module1.someusefulfunction了。如果Python在导入`module1.py`时遇到了除函数（和类）定义以外的语句，它将立即执行。在这种情况下，它将遇到语句`print（我的名字是__name__）。"
   ]
  },
  {
   "cell_type": "markdown",
   "metadata": {
    "lang": "zh-cn"
   },
   "source": [
    "请注意，如果我们*import*`module1.py`而不是自己执行，则与输出的区别：如果文件中的文件使用模块名，则模块内部的__name__是进口的。\n",
    "\n",
    "###使用\\ _\\_名称\\ _\\_\n",
    "\n",
    "综上所述，\n",
    "\n",
    "-如果模块文件是单独运行的，则`__name__`是`__main__`\n",
    "\n",
    "-如果导入了模块文件，则`__name__`是模块的名称（即不带后缀.py的模块文件名）。\n",
    "\n",
    "为此，我们可以在module1.py中使用以下if语句来编写仅在模块单独执行时仅运行的代码：这对于保留测试程序或功能演示非常有用。此“条件”主程序中模块的名称。通常，任何模块文件都具有这样的条件主程序来演示其功能。"
   ]
  },
  {
   "cell_type": "markdown",
   "metadata": {
    "lang": "zh-cn"
   },
   "source": [
    "###示例1\n",
    "\n",
    "下一个示例显示另一个文件“ vectools.py”的主程序，该文件用于演示该文件中定义的功能的功能："
   ]
  },
  {
   "cell_type": "code",
   "execution_count": 1,
   "metadata": {},
   "outputs": [
    {
     "name": "stdout",
     "output_type": "stream",
     "text": [
      "Overwriting vectools.py\n"
     ]
    }
   ],
   "source": [
    "%%file vectools.py\n",
    "from __future__ import division\n",
    "import math\n",
    "\n",
    "import numpy as N\n",
    "\n",
    "\n",
    "def norm(x):\n",
    "    \"\"\"returns the magnitude of a vector x\"\"\"\n",
    "    return math.sqrt(sum(x ** 2))\n",
    "\n",
    "\n",
    "def unitvector(x):\n",
    "    \"\"\"returns a unit vector x/|x|. x needs to be a numpy array.\"\"\"\n",
    "    xnorm = norm(x)\n",
    "    if xnorm == 0:\n",
    "        raise ValueError(\"Can't normalise vector with length 0\")\n",
    "    return x / norm(x)\n",
    "\n",
    "\n",
    "if __name__ == \"__main__\":\n",
    "    # a little demo of how the functions in this module can be used:\n",
    "    x1 = N.array([0, 1, 2])\n",
    "    print(\"The norm of \" + str(x1) + \" is \" + str(norm(x1)) + \".\")\n",
    "    print(\"The unitvector in direction of \" + str(x1) + \" is \" \\\n",
    "        + str(unitvector(x1)) + \".\")"
   ]
  },
  {
   "cell_type": "markdown",
   "metadata": {
    "lang": "zh-cn"
   },
   "source": [
    "如果使用`python vectools.py`执行该文件，则`__name__ == __main__`为true，并且输出为"
   ]
  },
  {
   "cell_type": "code",
   "execution_count": 24,
   "metadata": {},
   "outputs": [
    {
     "name": "stdout",
     "output_type": "stream",
     "text": [
      "The norm of [0 1 2] is 2.23606797749979.\r\n",
      "The unitvector in direction of [0 1 2] is [0.         0.4472136  0.89442719].\r\n"
     ]
    }
   ],
   "source": [
    "!python3 vectools.py"
   ]
  },
  {
   "cell_type": "markdown",
   "metadata": {
    "lang": "zh-cn"
   },
   "source": [
    "如果将此文件导入（即用作模块）到另一个python文件或python提示符下或在Jupyter Notebook中，则`__name__ == __main__`为false，并且语句块将不会执行。"
   ]
  },
  {
   "cell_type": "markdown",
   "metadata": {
    "lang": "zh-cn"
   },
   "source": [
    "这是在提供类库功能的文件中有条件地执行代码的一种常见方法。如果文件是自己运行的，则执行的代码通常包含一系列测试（以检查文件的功能是否执行了正确的操作-*回归测试*或<*>单元测试<* >），或有关如何使用文件中库功能的一些示例。\n",
    "\n",
    "###示例2\n",
    "\n",
    "即使不打算将Python程序用作模块文件，也应始终使用条件主程序是一个好习惯：\n",
    "\n",
    "-通常，后来发现文件中的功能可以重复使用（然后保存工作）\n",
    "\n",
    "-这对于回归测试很方便。\n",
    "\n",
    "假设进行了一次练习，编写了一个函数，该函数返回前5个质数，并打印它们。 （由于我们知道素数，因此当然有一个简单的解决方案，我们应该想象所需的计算会更复杂）。一个人可能会写"
   ]
  },
  {
   "cell_type": "code",
   "execution_count": 25,
   "metadata": {},
   "outputs": [
    {
     "name": "stdout",
     "output_type": "stream",
     "text": [
      "2 3 5 7 11 "
     ]
    }
   ],
   "source": [
    "def primes5():\n",
    "    return (2, 3, 5, 7, 11)\n",
    "\n",
    "for p in primes5():\n",
    "    print(\"%d\" % p, end=' ')"
   ]
  },
  {
   "cell_type": "markdown",
   "metadata": {
    "lang": "zh-cn"
   },
   "source": [
    "最好使用条件主函数，即："
   ]
  },
  {
   "cell_type": "code",
   "execution_count": 26,
   "metadata": {},
   "outputs": [
    {
     "name": "stdout",
     "output_type": "stream",
     "text": [
      "2 3 5 7 11 "
     ]
    }
   ],
   "source": [
    "def primes5():\n",
    "    return (2, 3, 5, 7, 11)\n",
    "\n",
    "if __name__==\"__main__\":\n",
    "    for p in primes5():\n",
    "        print(\"%d\" % p, end=' ')"
   ]
  },
  {
   "cell_type": "markdown",
   "metadata": {
    "lang": "zh-cn"
   },
   "source": [
    "纯粹主义者可能会认为以下内容更干净："
   ]
  },
  {
   "cell_type": "code",
   "execution_count": 27,
   "metadata": {},
   "outputs": [
    {
     "name": "stdout",
     "output_type": "stream",
     "text": [
      "2 3 5 7 11 "
     ]
    }
   ],
   "source": [
    "def primes5():\n",
    "    return (2, 3, 5, 7, 11)\n",
    "\n",
    "def main():\n",
    "    for p in primes5():\n",
    "        print(\"%d\" % p, end=' ')\n",
    "\n",
    "if __name__==\"__main__\":\n",
    "    main()"
   ]
  },
  {
   "cell_type": "markdown",
   "metadata": {
    "lang": "zh-cn"
   },
   "source": [
    "但最后两个选项中的任何一个都不错。\n",
    "\n",
    "[许多计算序列的方法]（＃Many-to-to-compute-a-series）中的示例演示了此技术。包含名称以“ test_”开头的函数与非常有用的py.test回归测试框架兼容（请参见<http://pytest.org/>）。\n",
    "\n",
    "####进一步阅读\n",
    "\n",
    "-[Python教程第6部分]（http://docs.python.org/tutorial/modules.html#modules）"
   ]
  }
 ],
 "metadata": {
  "anaconda-cloud": {},
  "kernelspec": {
   "display_name": "Python 3",
   "language": "python",
   "name": "python3"
  },
  "language_info": {
   "codemirror_mode": {
    "name": "ipython",
    "version": 3
   },
   "file_extension": ".py",
   "mimetype": "text/x-python",
   "name": "python",
   "nbconvert_exporter": "python",
   "pygments_lexer": "ipython3",
   "version": "3.7.6"
  },
  "nbTranslate": {
   "displayLangs": [
    "en",
    "zh-cn"
   ],
   "hotkey": "alt-t",
   "langInMainMenu": true,
   "sourceLang": "en",
   "targetLang": "zh-cn",
   "useGoogleTranslate": true
  }
 },
 "nbformat": 4,
 "nbformat_minor": 1
}

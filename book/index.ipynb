{
 "cells": [
  {
   "cell_type": "markdown",
   "metadata": {},
   "source": [
    "*Python for Computational Science and Engineering*\n",
    "\n",
    "The content of [this book](https://github.com/fangohr/introduction-to-python-for-computational-science-and-engineering/blob/master/Readme.md) is distributed into chapters, using one Jupyter Notebook for each chapter.\n",
    "\n",
    "You can read the book in different formats: [html](https://fangohr.github.io/introduction-to-python-for-computational-science-and-engineering/), [pdf](https://fangohr.github.io/introduction-to-python-for-computational-science-and-engineering/book.pdf), or you can use the [myBinder](https://mybinder.org/v2/gh/fangohr/introduction-to-python-for-computational-science-and-engineering/master?urlpath=tree/book/index.ipynb)\n",
    " environment, in which you can read the text and execute the examples in a browser (without having to install Python locally) using one Jupyter notebook per chapter, as mentioned above.\n",
    "\n",
    "If you have not used the Jupyter Notebook before, please read the section \"First steps with Jupyter Notebook\" below before you proceed.\n",
    "\n",
    "If you are reading this online using the interactive [myBinder](https://mybinder.org/v2/gh/fangohr/introduction-to-python-for-computational-science-and-engineering/master?urlpath=tree/book/index.ipynb) environment, then you can use the menu `File` -> `Open ...` to open the different chapters as an executable notebook (in the classic Notebook), or by selecting the chapter in the panel on the left (in JupyterLab). In either case, you can execute, change, and re-execute all examples as you like. I believe this interactive exploration can be of great value as part of the learning process.\n",
    "\n",
    "*First steps with Jupyter Notebook*\n",
    "\n",
    "1. Navigating the notebook:\n",
    "    - When you open a notebook, you will find that you can move a highlighted block (with a blue line at the left) with the cursor keys to move up and down. This block highlights a *cell*. (You can also use the mouse to select a cell.) This is called the [Command mode](https://jupyter-notebook.readthedocs.io/en/stable/examples/Notebook/Notebook%20Basics.html#Command-mode).\n",
    "\n",
    "2. Executing code:\n",
    "    - If you want to execute a cell (for example one that contains some Python code), you can press `Shift+ENTER`. If the cell creates some output, it will be displayed below the cell. (You may not notice if it just updates output that was displayed before, in particular if the new output is the same as the old output.)\n",
    "\n",
    "3. Editing code:\n",
    "    - If you want to *change* the code in the currently highlighted cell, you need to press `ENTER`. You have now entered the [Editing mode](https://jupyter-notebook.readthedocs.io/en/stable/examples/Notebook/Notebook%20Basics.html#Edit-mode), and the content of the cell can be edited. If you have completed your changes, and you want to execute them, use the `Shift+ENTER` short cut.\n",
    "\n",
    "Note that you can also edit blocks of text (or go into edit mode for a text cell unintentionally). Just press `Shift+ENTER` to render the text again, and go back into command mode.\n",
    "\n",
    "*Warning: Changes on mybinder are temporary*\n",
    "\n",
    "If you use this text book interactively on the mybinder service, then you have been given a temporary resource in the cloud to execute the code examples. The changes you have made to the notebook *will be lost* when your session ends (which is when you close the window, or the patience of the service has expired). Thus, the interactive exploration of the notebooks is good to help learn Python, computing and data science, but you should not attempt to write any code in these notebooks that you want to re-use the next day or later.\n",
    "\n",
    "*Comments? Questions?*\n",
    "\n",
    "For feedback, corrections, and questions please refer to the [home page](https://github.com/fangohr/introduction-to-python-for-computational-science-and-engineering/blob/master/Readme.md) of the book.\n",
    "\n",
    "Enjoy!"
   ]
  },
  {
   "cell_type": "markdown",
   "metadata": {},
   "source": [
    "![Logo, created with MayaVi](static/images/mayavi/mayavi-samp.png \"3d magnetisation vector field\")\n"
   ]
  }
 ],
 "metadata": {
  "anaconda-cloud": {},
  "kernelspec": {
   "display_name": "Python 3",
   "language": "python",
   "name": "python3"
  },
  "language_info": {
   "codemirror_mode": {
    "name": "ipython",
    "version": 3
   },
   "file_extension": ".py",
   "mimetype": "text/x-python",
   "name": "python",
   "nbconvert_exporter": "python",
   "pygments_lexer": "ipython3",
   "version": "3.9.1"
  }
 },
 "nbformat": 4,
 "nbformat_minor": 2
}

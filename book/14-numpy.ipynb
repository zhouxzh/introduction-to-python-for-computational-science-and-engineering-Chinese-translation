{
 "cells": [
  {
   "cell_type": "markdown",
   "metadata": {
    "lang": "zh-cn"
   },
   "source": [
    "数值Python（numpy）：数组\n",
    "===============================\n",
    "\n",
    "Numpy的介绍\n",
    "------------------\n",
    "\n",
    "NumPy软件包（称为NUMerical PYthon）提供对以下内容的访问\n",
    "\n",
    "- 该结构允许一种称为“ array”的新数据结构。\n",
    "\n",
    "- 它还提供有效的向量和矩阵运算。\n",
    "\n",
    "- 大量的线性代数运算（例如线性方程组的求解，特征向量和特征值的计算）。\n",
    "\n",
    "### 历史\n",
    "\n",
    "一些背景信息：还有其他两种实现提供与NumPy几乎相同的功能。这些被称为“数字”和“数字数组”：\n",
    "\n",
    "- 数值是为Python提供一系列数值方法（类似于Matlab）的第一项规定。它是从博士项目发展而来的。\n",
    "\n",
    "- Numarray是对Numeric的重新实现，具有某些改进（但出于我们的目的，Numeric和Numarray的行为实际上是相同的）。\n",
    "\n",
    "- 2006年初，我们决定将Numeric和Numarray的最佳方面合并到Scientific Python（<span>`scipy`</span>）包中，并在模块名称“ NumPy”下提供（希望是“最终”）“ array”数据类型。 。\n",
    "\n",
    "在以下材料中，我们将使用（新）SciPy提供的“ NumPy”软件包。如果由于某种原因对您不起作用，则可能是您的SciPy太旧了。在这种情况下，您会发现安装了“ Numeric”或“ numarray”，并且应提供几乎相同的功能。[5]\n",
    "\n",
    "### 数组\n",
    "\n",
    "我们引入了一种新的数据类型（由NumPy提供），称为“数组”。数组看上去与列表非常相似，但是数组只能保留相同类型的元素（而列表可以混合不同种类的对象）。这意味着数组的存储效率更高（因为我们不需要存储每个元素的类型）。它还使数组成为我们经常处理矢量和矩阵的数值计算选择的数据结构。\n",
    "\n",
    "向量和矩阵（以及具有两个以上索引的矩阵）在NumPy中都称为“数组”。\n",
    "\n",
    "#### 向量（一维数组）\n",
    "\n",
    "我们最需要的数据结构是向量。以下是一些有关如何生成一个的示例：\n",
    "\n",
    "- 使用<span>`numpy.array`</span>将列表（或元组）转换为数组："
   ]
  },
  {
   "cell_type": "code",
   "execution_count": 1,
   "metadata": {},
   "outputs": [
    {
     "name": "stdout",
     "output_type": "stream",
     "text": [
      "[0.  0.5 1.  1.5]\n"
     ]
    }
   ],
   "source": [
    "import numpy as N\n",
    "x = N.array([0, 0.5, 1, 1.5])\n",
    "print(x)"
   ]
  },
  {
   "cell_type": "markdown",
   "metadata": {
    "lang": "zh-cn"
   },
   "source": [
    "- 使用“ ArrayRANGE”创建向量："
   ]
  },
  {
   "cell_type": "code",
   "execution_count": 2,
   "metadata": {},
   "outputs": [
    {
     "name": "stdout",
     "output_type": "stream",
     "text": [
      "[0.  0.5 1.  1.5]\n"
     ]
    }
   ],
   "source": [
    "x = N.arange(0, 2, 0.5)\n",
    "print(x)"
   ]
  },
  {
   "cell_type": "markdown",
   "metadata": {
    "lang": "zh-cn"
   },
   "source": [
    "- 用零创建向量"
   ]
  },
  {
   "cell_type": "code",
   "execution_count": 3,
   "metadata": {},
   "outputs": [
    {
     "name": "stdout",
     "output_type": "stream",
     "text": [
      "[0. 0. 0. 0.]\n"
     ]
    }
   ],
   "source": [
    "x = N.zeros(4)\n",
    "print(x)"
   ]
  },
  {
   "cell_type": "markdown",
   "metadata": {
    "lang": "zh-cn"
   },
   "source": [
    "建立数组后，我们可以设置和检索单个值。例如："
   ]
  },
  {
   "cell_type": "code",
   "execution_count": 4,
   "metadata": {},
   "outputs": [
    {
     "name": "stdout",
     "output_type": "stream",
     "text": [
      "[3.4 0.  4.  0. ]\n",
      "3.4\n",
      "[3.4 0.  4. ]\n"
     ]
    }
   ],
   "source": [
    "x = N.zeros(4)\n",
    "x[0] = 3.4\n",
    "x[2] = 4\n",
    "print(x)\n",
    "print(x[0])\n",
    "print(x[0:-1])"
   ]
  },
  {
   "cell_type": "markdown",
   "metadata": {
    "lang": "zh-cn"
   },
   "source": [
    "请注意，一旦有了向量，就可以使用一条语句对向量中的每个元素执行计算："
   ]
  },
  {
   "cell_type": "code",
   "execution_count": 5,
   "metadata": {},
   "outputs": [
    {
     "name": "stdout",
     "output_type": "stream",
     "text": [
      "[0.  0.5 1.  1.5]\n",
      "[10.  10.5 11.  11.5]\n",
      "[0.   0.25 1.   2.25]\n",
      "[0.         0.47942554 0.84147098 0.99749499]\n"
     ]
    }
   ],
   "source": [
    "x = N.arange(0, 2, 0.5)\n",
    "print(x)\n",
    "print(x + 10)\n",
    "print(x ** 2)\n",
    "print(N.sin(x))"
   ]
  },
  {
   "cell_type": "markdown",
   "metadata": {
    "lang": "zh-cn"
   },
   "source": [
    "#### 矩阵（二维数组）\n",
    "\n",
    "这是创建二维数组的两种方法：\n",
    "\n",
    "- 通过将列表（或元组）列表转换为数组："
   ]
  },
  {
   "cell_type": "code",
   "execution_count": 6,
   "metadata": {},
   "outputs": [
    {
     "data": {
      "text/plain": [
       "array([[1, 2, 3],\n",
       "       [4, 5, 6]])"
      ]
     },
     "execution_count": 6,
     "metadata": {},
     "output_type": "execute_result"
    }
   ],
   "source": [
    "x = N.array([[1, 2, 3], [4, 5, 6]])\n",
    "x"
   ]
  },
  {
   "cell_type": "markdown",
   "metadata": {
    "lang": "zh-cn"
   },
   "source": [
    "- 使用<span>`zeros`</span>方法创建具有5行4列的矩阵"
   ]
  },
  {
   "cell_type": "code",
   "execution_count": 7,
   "metadata": {},
   "outputs": [
    {
     "data": {
      "text/plain": [
       "array([[0., 0., 0., 0.],\n",
       "       [0., 0., 0., 0.],\n",
       "       [0., 0., 0., 0.],\n",
       "       [0., 0., 0., 0.],\n",
       "       [0., 0., 0., 0.]])"
      ]
     },
     "execution_count": 7,
     "metadata": {},
     "output_type": "execute_result"
    }
   ],
   "source": [
    "x = N.zeros((5, 4))\n",
    "x"
   ]
  },
  {
   "cell_type": "markdown",
   "metadata": {
    "lang": "zh-cn"
   },
   "source": [
    "可以像这样查询矩阵的“形状”（这里有2行3列）："
   ]
  },
  {
   "cell_type": "code",
   "execution_count": 8,
   "metadata": {},
   "outputs": [
    {
     "name": "stdout",
     "output_type": "stream",
     "text": [
      "[[1 2 3]\n",
      " [4 5 6]]\n"
     ]
    },
    {
     "data": {
      "text/plain": [
       "(2, 3)"
      ]
     },
     "execution_count": 8,
     "metadata": {},
     "output_type": "execute_result"
    }
   ],
   "source": [
    "x=N.array([[1, 2, 3], [4, 5, 6]])\n",
    "print(x)\n",
    "x.shape"
   ]
  },
  {
   "cell_type": "markdown",
   "metadata": {
    "lang": "zh-cn"
   },
   "source": [
    "可以使用以下语法访问和设置各个元素："
   ]
  },
  {
   "cell_type": "code",
   "execution_count": 9,
   "metadata": {},
   "outputs": [
    {
     "data": {
      "text/plain": [
       "1"
      ]
     },
     "execution_count": 9,
     "metadata": {},
     "output_type": "execute_result"
    }
   ],
   "source": [
    "x=N.array([[1, 2, 3], [4, 5, 6]])\n",
    "x[0, 0] "
   ]
  },
  {
   "cell_type": "code",
   "execution_count": 10,
   "metadata": {},
   "outputs": [
    {
     "data": {
      "text/plain": [
       "2"
      ]
     },
     "execution_count": 10,
     "metadata": {},
     "output_type": "execute_result"
    }
   ],
   "source": [
    "x[0, 1]"
   ]
  },
  {
   "cell_type": "code",
   "execution_count": 11,
   "metadata": {},
   "outputs": [
    {
     "data": {
      "text/plain": [
       "3"
      ]
     },
     "execution_count": 11,
     "metadata": {},
     "output_type": "execute_result"
    }
   ],
   "source": [
    "x[0, 2]"
   ]
  },
  {
   "cell_type": "code",
   "execution_count": 12,
   "metadata": {},
   "outputs": [
    {
     "data": {
      "text/plain": [
       "4"
      ]
     },
     "execution_count": 12,
     "metadata": {},
     "output_type": "execute_result"
    }
   ],
   "source": [
    "x[1, 0]"
   ]
  },
  {
   "cell_type": "code",
   "execution_count": 13,
   "metadata": {},
   "outputs": [
    {
     "data": {
      "text/plain": [
       "array([1, 4])"
      ]
     },
     "execution_count": 13,
     "metadata": {},
     "output_type": "execute_result"
    }
   ],
   "source": [
    "x[:, 0]"
   ]
  },
  {
   "cell_type": "code",
   "execution_count": 14,
   "metadata": {},
   "outputs": [
    {
     "data": {
      "text/plain": [
       "array([1, 2, 3])"
      ]
     },
     "execution_count": 14,
     "metadata": {},
     "output_type": "execute_result"
    }
   ],
   "source": [
    "x[0,:]"
   ]
  },
  {
   "cell_type": "markdown",
   "metadata": {
    "lang": "en"
   },
   "source": [
    "### Convert from array to list or tuple\n",
    "\n",
    "To create an array back to a list or tuple, we can use the standard python functions <span>`list(s)`</span> and <span>`tuple(s)`</span> which take a sequence <span>`s`</span> as the input argument and return a list and tuple, respectively:"
   ]
  },
  {
   "cell_type": "markdown",
   "metadata": {
    "lang": "zh-cn"
   },
   "source": [
    "### 从数组转换为列表或元组\n",
    "\n",
    "要创建返回到列表或元组的数组，我们可以使用标准的python函数<span>和</span>和<span>和</span>，这些函数将<span>的</span>序列作为输入参数并返回一个列表和元组，分别是："
   ]
  },
  {
   "cell_type": "code",
   "execution_count": 15,
   "metadata": {},
   "outputs": [
    {
     "data": {
      "text/plain": [
       "array([ 1,  4, 10])"
      ]
     },
     "execution_count": 15,
     "metadata": {},
     "output_type": "execute_result"
    }
   ],
   "source": [
    "a = N.array([1, 4, 10])\n",
    "a"
   ]
  },
  {
   "cell_type": "code",
   "execution_count": 16,
   "metadata": {},
   "outputs": [
    {
     "data": {
      "text/plain": [
       "[1, 4, 10]"
      ]
     },
     "execution_count": 16,
     "metadata": {},
     "output_type": "execute_result"
    }
   ],
   "source": [
    "list(a)"
   ]
  },
  {
   "cell_type": "code",
   "execution_count": 17,
   "metadata": {},
   "outputs": [
    {
     "data": {
      "text/plain": [
       "(1, 4, 10)"
      ]
     },
     "execution_count": 17,
     "metadata": {},
     "output_type": "execute_result"
    }
   ],
   "source": [
    "tuple(a)"
   ]
  },
  {
   "cell_type": "markdown",
   "metadata": {
    "lang": "zh-cn"
   },
   "source": [
    "### 标准线性代数运算\n",
    "\n",
    "#### Maxtrix乘法\n",
    "\n",
    "可以使用<span>`numpy.matrixmultiply`</span>以通常的线性代数方式将两个数组相乘。这是一个例子："
   ]
  },
  {
   "cell_type": "code",
   "execution_count": 18,
   "metadata": {},
   "outputs": [],
   "source": [
    "import numpy as N\n",
    "import numpy.random       \n",
    "A = numpy.random.rand(5, 5)    # generates a random 5 by 5 matrix \n",
    "x = numpy.random.rand(5)       # generates a 5-element vector\n",
    "b=N.dot(A, x)                  # multiply matrix A with vector x "
   ]
  },
  {
   "cell_type": "markdown",
   "metadata": {
    "lang": "zh-cn"
   },
   "source": [
    "#### 线性方程组的求解\n",
    "\n",
    "求解方程组*A* **x** = **b**以矩阵形式（*ie* *A*是矩阵，**x**和**b**是向量，其中*A*和**b**是已知的，我们要查找未知向量**x**），我们可以使用<span>`numpy`</span>的线性代数包（<span>`linalg`</span>）："
   ]
  },
  {
   "cell_type": "code",
   "execution_count": 19,
   "metadata": {},
   "outputs": [],
   "source": [
    "import numpy.linalg as LA\n",
    "x = LA.solve(A, b)"
   ]
  },
  {
   "cell_type": "markdown",
   "metadata": {
    "lang": "zh-cn"
   },
   "source": [
    "#### 计算特征向量和特征值\n",
    "\n",
    "这是一个小例子，用于计算单位矩阵（<span>`eye`</span>）的\\[trivial\\]特征向量和特征值（<span>`eig`</span>）："
   ]
  },
  {
   "cell_type": "code",
   "execution_count": 20,
   "metadata": {},
   "outputs": [
    {
     "name": "stdout",
     "output_type": "stream",
     "text": [
      "[[1. 0. 0.]\n",
      " [0. 1. 0.]\n",
      " [0. 0. 1.]]\n"
     ]
    }
   ],
   "source": [
    "import numpy\n",
    "import numpy.linalg as LA\n",
    "A = numpy.eye(3)     #'eye'->I->1 (ones on the diagonal)\n",
    "print(A)"
   ]
  },
  {
   "cell_type": "code",
   "execution_count": 21,
   "metadata": {},
   "outputs": [
    {
     "name": "stdout",
     "output_type": "stream",
     "text": [
      "[1. 1. 1.]\n"
     ]
    }
   ],
   "source": [
    "evalues, evectors = LA.eig(A)\n",
    "print(evalues)"
   ]
  },
  {
   "cell_type": "code",
   "execution_count": 22,
   "metadata": {},
   "outputs": [
    {
     "name": "stdout",
     "output_type": "stream",
     "text": [
      "[[1. 0. 0.]\n",
      " [0. 1. 0.]\n",
      " [0. 0. 1.]]\n"
     ]
    }
   ],
   "source": [
    "print(evectors)"
   ]
  },
  {
   "cell_type": "markdown",
   "metadata": {
    "lang": "zh-cn"
   },
   "source": [
    "请注意，每个命令都提供自己的文档。例如，<span>`help（LA.eig）`</span>会告诉您所有有关特征向量和特征值函数的信息（一旦您将numpy.linalg作为LA导入）。"
   ]
  },
  {
   "cell_type": "markdown",
   "metadata": {
    "lang": "zh-cn"
   },
   "source": [
    "#### 多项式的曲线拟合\n",
    "\n",
    "假设我们有一个要拟合曲线的x-y数据（以最小化拟合与数据的最小平方偏差）。\n",
    "\n",
    "Numpy提供例程<span>`polyfit（x，y，n）`</span>（类似于Matlab的`polyfit`函数，该函数采用xid值的列表<span>`x`</span>作为数据点，列表<span>`y`</span>相同数据点的y值和多项式的期望阶次的确定，以尽可能最小二乘的方式拟合数据。"
   ]
  },
  {
   "cell_type": "code",
   "execution_count": 23,
   "metadata": {},
   "outputs": [
    {
     "data": {
      "text/plain": [
       "Text(0.5,0,'x')"
      ]
     },
     "execution_count": 23,
     "metadata": {},
     "output_type": "execute_result"
    },
    {
     "data": {
      "image/png": "[encoded data removed]",
      "text/plain": [
       "<Figure size 432x288 with 1 Axes>"
      ]
     },
     "metadata": {
      "needs_background": "light"
     },
     "output_type": "display_data"
    }
   ],
   "source": [
    "%matplotlib inline\n",
    "import numpy\n",
    "\n",
    "# demo curve fitting : xdata and ydata are input data\n",
    "xdata = numpy.array([0.0 , 1.0 , 2.0 , 3.0 , 4.0 , 5.0])\n",
    "ydata = numpy.array([0.0 , 0.8 , 0.9 , 0.1 , -0.8 , -1.0])\n",
    "# now do fit for cubic (order = 3) polynomial\n",
    "z = numpy.polyfit(xdata, ydata, 3)\n",
    "# z is an array of coefficients , highest first , i . e .\n",
    "#                 X^3            X^2          X             0\n",
    "# z = array ([ 0.08703704 , -0.81349206 , 1.69312169 , -0.03968254])\n",
    "# It is convenient to use ‘poly1d‘ objects for dealing with polynomials:\n",
    "p = numpy.poly1d(z) # creates a polynomial function p from coefficients\n",
    "                    # and p can be evaluated for all x then .\n",
    "\n",
    "# create plot\n",
    "xs = [0.1 * i for i in range (50)]\n",
    "ys = [p ( x ) for x in xs]   # evaluate p(x) for all x in list xs\n",
    "\n",
    "import pylab\n",
    "pylab.plot(xdata, ydata, 'o', label='data')\n",
    "pylab.plot(xs, ys, label='fitted curve')\n",
    "pylab.ylabel('y')\n",
    "pylab.xlabel('x')"
   ]
  },
  {
   "cell_type": "markdown",
   "metadata": {
    "lang": "zh-cn"
   },
   "source": [
    "这显示了拟合曲线（实线）以及精确计算出的数据点。"
   ]
  },
  {
   "cell_type": "markdown",
   "metadata": {
    "lang": "zh-cn"
   },
   "source": [
    "### 更多的例子\n",
    "\n",
    "…可以在这里找到：<http://www.scipy.org/Numpy_Example_List>\n",
    "\n",
    "### 适用于Matlab用户的Numpy\n",
    "\n",
    "在https://docs.scipy.org/doc/numpy-dev/user/numpy-for-matlab-users.html上有一个专门的网页，从一个（经验丰富的）Matlab用户的角度解释了Numpy。"
   ]
  },
  {
   "cell_type": "code",
   "execution_count": null,
   "metadata": {},
   "outputs": [],
   "source": []
  }
 ],
 "metadata": {
  "kernelspec": {
   "display_name": "Python 3",
   "language": "python",
   "name": "python3"
  },
  "language_info": {
   "codemirror_mode": {
    "name": "ipython",
    "version": 3
   },
   "file_extension": ".py",
   "mimetype": "text/x-python",
   "name": "python",
   "nbconvert_exporter": "python",
   "pygments_lexer": "ipython3",
   "version": "3.7.6"
  },
  "nbTranslate": {
   "displayLangs": [
    "zh-cn",
    "en"
   ],
   "hotkey": "alt-t",
   "langInMainMenu": true,
   "sourceLang": "en",
   "targetLang": "zh-cn",
   "useGoogleTranslate": true
  }
 },
 "nbformat": 4,
 "nbformat_minor": 2
}

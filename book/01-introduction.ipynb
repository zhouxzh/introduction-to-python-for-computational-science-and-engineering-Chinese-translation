{
 "cells": [
  {
   "cell_type": "markdown",
   "metadata": {
    "lang": "zh-cn"
   },
   "source": [
    "# 介绍\n",
    "\n",
    "\n",
    "本文总结了许多与使用Python进行计算工程和科学计算有关的核心思想。重点是介绍一些与数值计算算法相关的基本Python（编程）概念。后面的章节涉及数学库，例如<span>`numpy`</span>和<span>`scipy`</span>，它们各自提供的功能比这里介绍的要强大很多。我们旨在使读者能够独立利用可用的文档（在线以及通过软件包本身）来学习如何使用这些库的其他功能。\n",
    "\n",
    "## 计算建模\n",
    "\n",
    "### 介绍\n",
    "\n",
    "现在越来越多的研究人员利用计算机仿真来研究或开发一些工艺流程和系统：新的飞机原型首先通过计算机仿真来设计和测试，例如最新的A380。随着超级计算机、计算机集群甚至台式机和笔记本电脑的计算能力不断提高，这种趋势可能会持续下去。\n",
    "\n",
    "例如基础研究中通常使用计算机模拟来帮助理解实验测试，并在可能的情况下替代昂贵的样品或者实验生长和制造。在工业环境中，实际上如果通过仿真而不是通过构建和测试原型进行产品和设备的设计，通常更具有成本效益。在价格昂贵的样品领域尤其如此，例如纳米科学（制造小型物品的成本很高）和航空航天业（制造大型物品的成本很高）。在某些情况下，某些实验只能通过虚拟的方式进行（从天体物理学到研究大规模核事故或化学事故的影响）。计算建模，包括使用计算工具对数据进行后处理、分析和可视化，已经在工程、物理和化学领域中使用了数十年，而且由于计算资源的廉价可用性而变得越来越重要。计算模型在生物系统、经济、考古学、医学、卫生保健和许多其他领域的研究中也开始发挥更重要的作用。"
   ]
  },
  {
   "cell_type": "markdown",
   "metadata": {
    "lang": "zh-cn"
   },
   "source": [
    "### 计算建模\n",
    "\n",
    "为了利用计算机进行过程仿真研究，我们可以分开两个步骤：第一个步骤是开发实际系统的*模型*。在研究小物体的运动时，例如硬币在重力的影响下，我们也许可以忽略空气的摩擦：我们的模型可能仅需要考虑重力和硬币的惯性，即$a(t) = F/m = -9.81\\mathrm{m}/\\mathrm{s}^2$是真实系统的近似值。该模型通常使我们能够通过数学方程式来表达系统的行为（以某种近似形式），该数学方程式通常涉及常微分方程（ODE）或者偏微分方程（PDE）。\n",
    "\n",
    "在自然科学（例如物理学、化学和相关学科）中，找到合适的模型通常并不那么困难，尽管所得方程往往很难求解，并且在大多数情况下根本无法通过解析求解。\n",
    "\n",
    "另一方面，在没有通过数学框架很好地描述并且依赖于无法确定动作的对象（例如人类）的行为的主题中，要找到一个描述现实的好模型要困难得多。根据经验，在这些学科中，得出的方程式更易于求解，但很难找到，并且模型的有效性也存在更多的疑问。典型的例子包括模拟经济、使用全球资源、恐慌人群的行为等。\n",
    "\n",
    "到目前为止，我们仅讨论了描述现实的*模型*的开发，并且使用这些模型不一定完全涉及任何计算机或数字工作。实际上，如果模型的方程可以解析地求解，则应该这样做并写下方程的解。\n",
    "\n",
    "在实践中，几乎没有任何感兴趣的系统模型方程可以通过解析来求解，这就是计算机的用武之地：使用数值方法，我们至少可以研究特定边界条件集下的*模型*。对于上面考虑的示例，我们可能无法从数值解中轻易地看到，在重力影响下，硬币的速度会随时间线性变化（我们可以从该简单系统可用的解析解中轻松读取该值： $v(t) = t\\cdot 9.81 \\mathrm{m}/\\mathrm{s}^2+v_0$））。\n",
    "\n",
    "可以使用计算机计算的数值解将由数据组成，这些数据显示出特定初始速度*v*<sub>0</sub>（*v*<sub>0</sub>是此处的边界条件）下速度如何随时间变化的情况。该计算机程序将报告两个数字的长列表，其中保留（1）特定的时间值*t*<sub>*i*</sub>，（2）该时间值对应的速度*v*<sub>*i*</sub>。通过针对*t*<sub>*i*</sub>绘制所有*v*<sub>*i*</sub>，或通过数据拟合曲线，我们也许能够从数据中了解趋势（当然我们可以从分析解决方案中看到）。\n",
    "\n",
    "显然希望在可能的情况下找到一种分析解决方案，但是可能的问题数量很少。通常获得计算机模拟的数值结果非常有用（尽管与解析表达式相比，数值结果存在缺陷），因为这是研究系统的唯一可能方法。\n",
    "\n",
    "名称*计算*源自两个步骤：（1）*模型*，即查找真实系统的模型描述，以及（2）使用*求解所得模型方程的计算方法*，因为这是完全可以求解方程式的唯一方法。"
   ]
  },
  {
   "cell_type": "markdown",
   "metadata": {
    "lang": "zh-cn"
   },
   "source": [
    "### 编程以支持计算建模\n",
    "\n",
    "目前网络上已经存在着大量可以提供计算建模功能的软件包了。如果这些软件包满足研究或设计需求，并且通过现有工具适当地进行数据处理和可视化，则研究人员可以进行计算建模研究而无需任何深入的编程知识。\n",
    "\n",
    "在研究环境中（无论是在学术界还是在对新产品/思想/行业的研究中）通常会达到这样一个程度，即现有程序包将无法执行所需的仿真任务，或者可以通过分析现有程序包来学习更多内容新闻方式中的数据等。\n",
    "\n",
    "那时候就需要编程技能。随着我们使用越来越多的受软件控制的设备，对软件的构建模块和软件工程的基本概念有广泛的了解通常也很有用。\n",
    "\n",
    "人们常常忘记，人类无法做到的事情，计算机也是不能做的。但是计算机可以更快地完成它，并且犯错误的几率也要少得多。因此计算机执行的运算没有任何魔术：它们可以由人类完成，并且实际上已经使用了很多年（例如，参见上的Wikipedia条目[人类计算机](http://en.wikipedia.org/wiki/Human_computer)）。\n",
    "\n",
    "理解如何构建计算机仿真大致可以归结为：（1）找到模型（通常意味着找到正确的方程式），（2）知道如何用数值方法求解这些方程式，（3）实施计算这些解的方法（这是位编程）。"
   ]
  },
  {
   "cell_type": "markdown",
   "metadata": {
    "lang": "zh-cn"
   },
   "source": [
    "为什么要使用Python进行科学计算？\n",
    "------------------------------------\n",
    "\n",
    "Python语言的设计重点是生产力和代码可读性，例如通过以下方式：\n",
    "\n",
    "- 交互式python控制台\n",
    "\n",
    "- 通过空格缩进非常清晰易读的语法\n",
    "\n",
    "- 强大的自省能力\n",
    "\n",
    "- 完全模块化，支持层次化软件包\n",
    "\n",
    "- 基于异常的错误处理\n",
    "\n",
    "- 动态数据类型和自动内存管理\n",
    "\n",
    "*由于Python是一种解释型语言，并且其运行速度比编译后的代码慢许多倍，因此人们可能会问为什么有人应该考虑将这种“慢速”语言用于计算机仿真？*\n",
    "\n",
    "对此批评有两个答复：\n",
    "\n",
    "1. *实施时间与执行时间*：并不是单独的执行时间会影响计算项目的成本：还需要考虑开发和维护工作的成本。\n",
    "\n",
    "   在科学计算的早期（例如在1960/70/80中），计算时间是如此昂贵，以至于花很多时间在程序员身上花费很多人的时间来将计算性能提高百分之几是非常合理的。\n",
    "\n",
    "   但是，如今，CPU周期已经比程序员的时间便宜得多。对于通常运行次数很少的研究代码（在研究人员继续研究下一个问题之前），如果这样可以节省成本，则可以接受的是，代码仅以预期的可能速度的25％运行。研究人员（或程序员）工作时间的一个月。<font color=#FF0000> (可以这样理解吗:对于通常运行次数很少的研究代码，如果代码仅以预期的可能速度的25％运行可以节约成本，并节约研究人员一个月的时间，这样是可以接收的) </font>例如：如果一段代码的执行时间为10小时，并且可以预测它将运行大约100次，那么总执行时间约为1000小时。如果这可以减少到25％，并且可以节省750（CPU）小时，那就太好了。另一方面，值得花一个人一个月的时间来花费额外的等待时间（大约一个月）和750个CPU小时的成本吗？通常，答案不是。<font color=#FF0000> (这里阅读起来有点难理解，花费程序员一个月时间来节约等待的时间和750个CPU小时的成本？) </font>\n",
    "\n",
    "   *代码的可读性和维护性-简短的代码，更少的错误*：一个相关的问题是研究代码不仅用于一个项目，而且还会反复使用，不断发展、增长、分叉等。在这种情况下，通常有理由花更多的时间来加快代码速度。同时，大量的程序员时间将花在（1）引入所需的更改，（2）甚至在开始对更改版本的速度进行优化之前就进行了测试。为了能够以通常无法预料的方式来维护，扩展和修改代码，仅使用易于阅读且具有强大表达能力的语言是有帮助的。\n",
    "\n",
    "2. *如果通过编译语言执行时间紧迫的部分，那么编写优秀的Python代码可以非常快。\n",
    "\n",
    "   通常，少于5％的模拟项目代码库需要超过95％的执行时间。只要这些计算都能非常有效地进行，就不必担心代码的所有其他部分，因为它们的总执行时间并不重要。\n",
    "\n",
    "   程序的计算密集部分应进行调整以达到最佳性能。 Python提供了许多选项。\n",
    "\n",
    "   - 例如，<span>`numpy`</span> Python扩展为已编译且高效的LAPACK库提供了Python接口，这些库是数值线性代数中的准标准。如果可以将正在研究的问题表述为最终必须解决大型系统的代数方程式或计算特征值等，那么可以使用LAPACK库中的编译代码（通过Python-numpy包）。在此阶段，使用与本质上所使用的Fortran/C代码相同的Fortran/C性能执行计算。顺便说一下，Matlab正是利用了这一点：Matlab脚本语言非常慢（比Python慢大约10倍），但是Matlab通过将matix操作委托给已编译的LAPACK库而获得了强大的功能。\n",
    "\n",
    "   - 现有的数字C/Fortran库可以通过接口连接以在Python内部使用（例如使用Swig、Boost.Python和Cython）。\n",
    "\n",
    "   - 如果问题的计算需求在算法上是非标准的，并且无法使用现有的库，则可以通过编译语言扩展Python。\n",
    "\n",
    "    常用的是C，Fortran和C++来实现快速扩展。\n",
    "\n",
    "   - 我们列出了一些用于使用Python编译代码的工具：\n",
    "\n",
    "       - <span>`scipy.weave`</span>扩展名非常有用，如果只需要在C中表达一个简短的表达式。\n",
    "       - Cython接口越来越流行，它可以（1）在Python代码中半自动声明变量类型，将该代码自动转换为C，然后使用从Python编译的C代码。 Cython还用于通过接口快速包装现有的C库，以便可以从Python使用C库。\n",
    "\n",
    "       - Boost.Python专门用于在Python中包装C++代码。"
   ]
  },
  {
   "cell_type": "markdown",
   "metadata": {
    "lang": "zh-cn"
   },
   "source": [
    "*结论是Python对于大多数计算任务而言“足够快”，并且其用户友好的高级语言与已编译的低级语言相比常常弥补了速度降低的问题。在大多数情况下，将Python与针对代码的性能关键部分的量身定制的编译后代码相结合，几乎可以实现最佳速度。*"
   ]
  },
  {
   "cell_type": "markdown",
   "metadata": {
    "lang": "zh-cn"
   },
   "source": [
    "### 优化策略\n",
    "\n",
    "当在计算建模的上下文中讨论“代码优化”时，我们通常理解减少执行时间，并且我们本质上希望尽可能快地执行所需的计算。 （有时我们需要减少RAM的数量，减少输出到磁盘或网络的数据输入的数量。）同时我们需要确保我们不会花费过多的编程时间来实现这种速度：一如既往需要在程序员的时间和我们可以从中获得的进步之间取得平衡。"
   ]
  },
  {
   "cell_type": "markdown",
   "metadata": {
    "lang": "zh-cn"
   },
   "source": [
    "### 首先正确处理，然后快速处理\n",
    "\n",
    "为了有效地编写快速代码，我们注意到正确的顺序是（1）首先编写执行正确计算的程序。因此需要选择一种语言/方法，无论执行速度如何，都可以快速*编写代码并使其快速运行*。然后（2）更改程序或使用相同的语言从头开始重写它，以加快执行速度。在此过程中，请将结果与最先编写的慢版本进行比较，以确保优化不会引入错误。 （一旦我们熟悉了回归测试的概念，就应该在这里使用它们来将新的和希望更快的代码与原始代码进行比较。）\n",
    "\n",
    "Python中的一种常见模式是开始编写纯Python代码，然后开始使用内部使用已编译代码的Python库（例如Numpy提供的快速数组，以及来自scipy的例程，可以返回到已建立的数字代码，例如ODEPACK，LAPACK等） ）。如果需要，可以在仔细分析之后，开始用诸如C和Fortran之类的编译语言替换部分Python代码，以进一步提高执行速度（如上所述）。"
   ]
  },
  {
   "cell_type": "markdown",
   "metadata": {
    "lang": "zh-cn"
   },
   "source": [
    "### Python原型\n",
    "\n",
    "事实证明，即使必须使用C ++编写特定代码，（通常）在Python中对代码进行原型设计也通常更省时，并且一旦找到合适的设计（和类结构），将代码翻译为C ++。\n",
    "\n",
    "## 文献\n",
    "----------\n",
    "\n",
    "虽然本文是从介绍基本Python编程语言（的某些方面）开始的，但是您可能会发现，根据您的先前经验，您需要参考辅助资源以完全理解一些想法。\n",
    "\n",
    "我们反复参考以下文档：\n",
    "\n",
    "- 艾伦·唐尼（Allen Downey），*思考Python*。可以在线获取<http://www.greenteapress.com/thinkpython/thinkpython.html>的html和pdf格式，也可以从Amazon在线获得。\n",
    "\n",
    "- Python文档<http://www.python.org/doc/>，以及：\n",
    "\n",
    "- Python教程（<http://docs.python.org/tutorial/>）\n",
    "\n",
    "您可能还会发现以下链接有用：\n",
    "\n",
    "- <span>`numpy`</span>主页（<http://numpy.scipy.org/>）\n",
    "\n",
    "- <span>`scipy`</span>主页（<http://scipy.org/>）\n",
    "\n",
    "- <span>`matplotlib`</span>主页（<http://matplotlib.sourceforge.net/>）。\n",
    "\n",
    "- Python样式指南（<http://www.python.org/dev/peps/pep-0008/>"
   ]
  },
  {
   "cell_type": "markdown",
   "metadata": {
    "lang": "zh-cn"
   },
   "source": [
    "### 为初学者录制了有关Python的视频讲座\n",
    "\n",
    "你想听/听讲座吗？麻省理工学院的Eric Grimsom和John Guttag在<http://ocw.mit.edu/courses/electrical-engineering-and-computer-science/6-00-introduction-to-computer-science-and-programming-fall-2008/>上开设了24个系列的讲座，标题为《计算机科学与程序设计导论》，主要面向几乎没有编程经验的学生。目的是让学生了解计算在解决问题中可以发挥的作用。它还旨在帮助学生，无论其专业是什么，对他们编写小程序以实现有用目标的能力感到正当自信。\n",
    "\n",
    "### Python导师邮件列表\n",
    "\n",
    "还有一个Python导师邮件列表（<http://mail.python.org/mailman/listinfo/tutor>），欢迎初学者提出有关Python的问题。使用档案和发布您自己的查询（或实际上帮助其他人）都可能有助于理解语言。使用常规的邮件列表礼节（即礼貌，简洁等）。您可能需要阅读<http://www.catb.org/esr/faqs/smart-questions.html>，以获取有关如何在邮件列表中提问的一些指导。"
   ]
  },
  {
   "cell_type": "markdown",
   "metadata": {
    "lang": "zh-cn"
   },
   "source": [
    "Python版本\n",
    "--------------\n",
    "\n",
    "有两种版本的Python语言：Python 2.x和Python3.x。它们略有不同 — 引入了Python 3.x是为了解决自Python诞生以来就发现的语言设计缺陷。决定要接受一些不兼容，以实现更高的目标，即将来拥有更好的语言。\n",
    "\n",
    "对于科学计算，至关重要的是要使用数字库，例如[numpy](http://numpy.scipy.org/)，[scipy](http://www.scipy.org)和绘图软件包[ matplotlib](http://matplotlib.sourceforge.net/)。\n",
    "\n",
    "所有这些现在都可用于Python 3，并且在本书中我们将使用Python3.x。\n",
    "\n",
    "但是，仍在使用许多为Python 2编写的代码，了解它们之间的差异非常有用。最突出的例子是在Python 2.x中，“ print”命令是特殊的，而在Python 3中，它是一个普通的函数。例如，在Python 2.7中，我们可以编写：\n",
    "\n",
    "```python\n",
    "print“ Hello World”\n",
    "```"
   ]
  },
  {
   "cell_type": "markdown",
   "metadata": {
    "lang": "zh-cn"
   },
   "source": [
    "在Python 3这将导致SyntaxError。在Python 3中使用`print`的正确方法是作为一个函数，即"
   ]
  },
  {
   "cell_type": "code",
   "execution_count": 3,
   "metadata": {},
   "outputs": [
    {
     "name": "stdout",
     "output_type": "stream",
     "text": [
      "Hello World\n"
     ]
    }
   ],
   "source": [
    "print(\"Hello World\")"
   ]
  },
  {
   "cell_type": "markdown",
   "metadata": {
    "lang": "zh-cn"
   },
   "source": [
    "有关更多详细信息，请参见 [第5章：输入和输出](05-input-output.ipynb)。\n",
    "\n",
    "幸运的是，Python 2.7中也允许使用函数符号（即带有括号），因此我们的示例应在Python 3.x和Python 2.7中执行。 （还有其他区别。）"
   ]
  },
  {
   "cell_type": "markdown",
   "metadata": {
    "lang": "zh-cn"
   },
   "source": [
    "这些文档\n",
    "---------------\n",
    "\n",
    "该材料已从Latex转换为一组[Jupyter Notebooks](http://jupyter.org)，从而可以与示例进行交互。您可以通过单击并按下shift输入或单击工具栏中的<i class=\"fa fa-step-forward\"></i>按钮，以“ In []：”提示运行任何代码块。\n",
    "\n",
    "### `%% file`魔术\n",
    "\n",
    "我们现在使用笔记本电脑中的一些功能，这些功能是值得注意的：以特殊命令“ %% file FILENAME”开头的单元格将创建（或覆盖）名为“ FILENAME”的文件，其中包含所显示的内容在下面的单元格中。\n",
    "\n",
    "例如"
   ]
  },
  {
   "cell_type": "code",
   "execution_count": 4,
   "metadata": {},
   "outputs": [
    {
     "name": "stdout",
     "output_type": "stream",
     "text": [
      "Overwriting hello.txt\n"
     ]
    }
   ],
   "source": [
    "%%file hello.txt\n",
    "This is the content of the file hello.txt"
   ]
  },
  {
   "cell_type": "markdown",
   "metadata": {
    "lang": "zh-cn"
   },
   "source": [
    "为了确认文件已被写入，我们使用一些Python命令（目前不希望您理解）："
   ]
  },
  {
   "cell_type": "code",
   "execution_count": 5,
   "metadata": {},
   "outputs": [
    {
     "name": "stdout",
     "output_type": "stream",
     "text": [
      "This is the content of the file hello.txt\n",
      "\n"
     ]
    }
   ],
   "source": [
    "with open(\"hello.txt\") as f:\n",
    "    print(f.read())"
   ]
  },
  {
   "cell_type": "markdown",
   "metadata": {
    "lang": "zh-cn"
   },
   "source": [
    "### 执行外部shell命令的`!`\n",
    "\n",
    "如果要运行shell命令，可以键入它并在其前面加上`！`字符。这是一个示例：首先我们创建一个包含Python hello world程序的文件，然后执行它："
   ]
  },
  {
   "cell_type": "code",
   "execution_count": 6,
   "metadata": {},
   "outputs": [
    {
     "name": "stdout",
     "output_type": "stream",
     "text": [
      "Writing hello.py\n"
     ]
    }
   ],
   "source": [
    "%%file hello.py\n",
    "print(\"Hello World\")"
   ]
  },
  {
   "cell_type": "code",
   "execution_count": 7,
   "metadata": {},
   "outputs": [
    {
     "name": "stdout",
     "output_type": "stream",
     "text": [
      "Hello World\n"
     ]
    }
   ],
   "source": [
    "!python hello.py"
   ]
  },
  {
   "cell_type": "markdown",
   "metadata": {
    "lang": "zh-cn"
   },
   "source": [
    "### `＃NBVAL`标签\n",
    "\n",
    "在某些单元格中，您会找到标签，例如`#NBVAL _SKIP`，`＃NBVAL_IGNORE_OUTPUT`和`#NBVAL_ RAISES_EXCEPTION`。您可以忽略这些。\n",
    "\n",
    "（我们使用它们能够[自动执行所有笔记本](https://circleci.com/gh/fangohr/introduction-to-python-for-computational-science-and-engineering)检查所产生的输出是否为与笔记本中存储的内容相同。这是测试的高级主题，您可以在https://github.com/computationalmodelling/nbval上了解有关NBVAL的更多信息。"
   ]
  },
  {
   "cell_type": "markdown",
   "metadata": {
    "lang": "en"
   },
   "source": [
    "有关Jupyter和其他Python接口的更多信息，请参见[第11章](11-python-shells.ipynb)。"
   ]
  },
  {
   "cell_type": "markdown",
   "metadata": {
    "lang": "zh-cn"
   },
   "source": [
    "您的反馈\n",
    "-------------\n",
    "\n",
    "是需要的。如果您发现本文有任何错误，或对如何更改或扩展它有任何建议，请随时通过hans.fangohr@xfel.eu与Hans联系。\n",
    "\n",
    "如果您发现无法使用的网址（或指向错误的材料），请也通知汉斯。随着Internet内容的快速变化，没有反馈就很难跟上这些变化。"
   ]
  }
 ],
 "metadata": {
  "kernelspec": {
   "display_name": "Python 3",
   "language": "python",
   "name": "python3"
  },
  "language_info": {
   "codemirror_mode": {
    "name": "ipython",
    "version": 3
   },
   "file_extension": ".py",
   "mimetype": "text/x-python",
   "name": "python",
   "nbconvert_exporter": "python",
   "pygments_lexer": "ipython3",
   "version": "3.7.6"
  },
  "nbTranslate": {
   "displayLangs": [
    "en",
    "zh-cn"
   ],
   "hotkey": "alt-t",
   "langInMainMenu": true,
   "sourceLang": "en",
   "targetLang": "zh-cn",
   "useGoogleTranslate": true
  }
 },
 "nbformat": 4,
 "nbformat_minor": 4
}

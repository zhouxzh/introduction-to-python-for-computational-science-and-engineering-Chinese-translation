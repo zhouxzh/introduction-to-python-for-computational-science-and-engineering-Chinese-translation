{
 "cells": [
  {
   "cell_type": "markdown",
   "metadata": {
    "lang": "zh-cn"
   },
   "source": [
    "数据类型和数据结构\n",
    "=============================\n",
    "\n",
    "这是什么类型？\n",
    "----------------\n",
    "\n",
    "Python知道不同的数据类型。要查找变量的类型，可以使用`type（）`函数："
   ]
  },
  {
   "cell_type": "code",
   "execution_count": 1,
   "metadata": {},
   "outputs": [
    {
     "data": {
      "text/plain": [
       "int"
      ]
     },
     "execution_count": 1,
     "metadata": {},
     "output_type": "execute_result"
    }
   ],
   "source": [
    "a = 45\n",
    "type(a)"
   ]
  },
  {
   "cell_type": "code",
   "execution_count": 2,
   "metadata": {},
   "outputs": [
    {
     "data": {
      "text/plain": [
       "str"
      ]
     },
     "execution_count": 2,
     "metadata": {},
     "output_type": "execute_result"
    }
   ],
   "source": [
    "b = 'This is a string'\n",
    "type(b)"
   ]
  },
  {
   "cell_type": "code",
   "execution_count": 3,
   "metadata": {},
   "outputs": [
    {
     "data": {
      "text/plain": [
       "complex"
      ]
     },
     "execution_count": 3,
     "metadata": {},
     "output_type": "execute_result"
    }
   ],
   "source": [
    "c = 2 + 1j\n",
    "type(c)"
   ]
  },
  {
   "cell_type": "code",
   "execution_count": 4,
   "metadata": {},
   "outputs": [
    {
     "data": {
      "text/plain": [
       "list"
      ]
     },
     "execution_count": 4,
     "metadata": {},
     "output_type": "execute_result"
    }
   ],
   "source": [
    "d = [1, 3, 56]\n",
    "type(d)"
   ]
  },
  {
   "cell_type": "markdown",
   "metadata": {
    "lang": "zh-cn"
   },
   "source": [
    "数字\n",
    "-------\n",
    "\n",
    "##### 更多的信息\n",
    "\n",
    "- 数字的非正式介绍。 [Python教程，第3.1.1节](http://docs.python.org/tutorial/introduction.html#using-python-as-a-calculator)\n",
    "\n",
    "- Python库参考：数字类型的正式概述,<http://docs.python.org/library/stdtypes.html#numeric-types-int-float-long-complex>\n",
    "\n",
    "- Think Python，[第2.1节](http://www.greenteapress.com/thinkpython/html/book003.html)\n",
    "\n",
    "内置的数字类型是整数和浮点数（请参见[浮点数]（#Floating-Point-numbers））和复数浮点数（[complex number]（#Complex-numbers））。\n",
    "\n",
    "### 整数\n",
    "\n",
    "我们已经在[第2章](02-powerful-calculator.ipynb)中看到了整数的使用。注意整数除法问题（[整数除法](02-powerful-calculator.ipynb＃Integer-division)）。\n",
    "\n",
    "如果需要将包含整数的字符串转换为整数，可以使用`int( )`函数："
   ]
  },
  {
   "cell_type": "code",
   "execution_count": 5,
   "metadata": {},
   "outputs": [],
   "source": [
    "a = '34'       # a is a string containing the characters 3 and 4\n",
    "x = int(a)     # x is in integer number"
   ]
  },
  {
   "cell_type": "markdown",
   "metadata": {
    "lang": "zh-cn"
   },
   "source": [
    "函数`int()`还将浮点数转换为整数："
   ]
  },
  {
   "cell_type": "code",
   "execution_count": 6,
   "metadata": {},
   "outputs": [
    {
     "data": {
      "text/plain": [
       "7"
      ]
     },
     "execution_count": 6,
     "metadata": {},
     "output_type": "execute_result"
    }
   ],
   "source": [
    "int(7.0)"
   ]
  },
  {
   "cell_type": "code",
   "execution_count": 7,
   "metadata": {},
   "outputs": [
    {
     "data": {
      "text/plain": [
       "7"
      ]
     },
     "execution_count": 7,
     "metadata": {},
     "output_type": "execute_result"
    }
   ],
   "source": [
    "int(7.9)"
   ]
  },
  {
   "cell_type": "markdown",
   "metadata": {
    "lang": "zh-cn"
   },
   "source": [
    "注意，`int`将截断浮点数的任何非整数部分。要将浮点数“舍入”为整数，请使用“ round()”函数："
   ]
  },
  {
   "cell_type": "code",
   "execution_count": 8,
   "metadata": {},
   "outputs": [
    {
     "data": {
      "text/plain": [
       "8"
      ]
     },
     "execution_count": 8,
     "metadata": {},
     "output_type": "execute_result"
    }
   ],
   "source": [
    "round(7.9)"
   ]
  },
  {
   "cell_type": "markdown",
   "metadata": {
    "lang": "zh-cn"
   },
   "source": [
    "### 整数的极限\n",
    "\n",
    "Python 3中的整数是无限的。随着数字的增加，Python将自动根据需要分配更多的内存。这意味着我们无需特殊步骤即可计算非常大的数字。"
   ]
  },
  {
   "cell_type": "code",
   "execution_count": 9,
   "metadata": {},
   "outputs": [
    {
     "data": {
      "text/plain": [
       "70934557307860443711736098025989133248003781773149967193603515625"
      ]
     },
     "execution_count": 9,
     "metadata": {},
     "output_type": "execute_result"
    }
   ],
   "source": [
    "35**42"
   ]
  },
  {
   "cell_type": "markdown",
   "metadata": {
    "lang": "zh-cn"
   },
   "source": [
    "在许多其他编程语言中，例如C和FORTRAN，整数是固定大小的——最常见的是4个字节，允许$2^{32}$个不同的值——但具有多种不同大小的数据类型可用。对于适合这些限制的数字，计算可能会更快，但是您可能需要检查数字是否超出限制。计算超出限制的数字称为*整数溢出*，可能会产生奇怪的结果。\n",
    "\n",
    "即使在Python中，使用numpy时也需要注意这一点（请参阅[第14章](14-numpy.ipynb)）。 Numpy使用固定大小的整数，因为它会将许多整数存储在一起，并且需要高效地进行计算。 [Numpy数据类型](http://docs.scipy.org/doc/numpy/user/basics.types.html)包括一系列以其大小命名的整数类型，例如int16是一个16位整数，可能的值的个数为$2^{16}$。\n",
    "\n",
    "整数类型也可以是*signed*或*unsigned*。有符号整数允许使用正或负值，无符号整数仅允许使用正值。例如：\n",
    "\n",
    "* uint16（无符号）的范围从0到$2^{16}-1$\n",
    "* int16（带符号）的范围从$-2^{15}$到$2^{15}-1$"
   ]
  },
  {
   "cell_type": "markdown",
   "metadata": {
    "lang": "zh-cn"
   },
   "source": [
    "### 浮点数\n",
    "\n",
    "可以使用`float()`命令将包含浮点数的字符串转换为浮点数："
   ]
  },
  {
   "cell_type": "code",
   "execution_count": 10,
   "metadata": {},
   "outputs": [
    {
     "data": {
      "text/plain": [
       "35.342"
      ]
     },
     "execution_count": 10,
     "metadata": {},
     "output_type": "execute_result"
    }
   ],
   "source": [
    "a = '35.342'\n",
    "b = float(a)\n",
    "b"
   ]
  },
  {
   "cell_type": "code",
   "execution_count": 11,
   "metadata": {},
   "outputs": [
    {
     "data": {
      "text/plain": [
       "float"
      ]
     },
     "execution_count": 11,
     "metadata": {},
     "output_type": "execute_result"
    }
   ],
   "source": [
    "type(b)"
   ]
  },
  {
   "cell_type": "markdown",
   "metadata": {
    "lang": "zh-cn"
   },
   "source": [
    "### 复数\n",
    "\n",
    "Python（跟Fortran和Matlab类似）具有内置的复数。以下是如何使用复数的例子："
   ]
  },
  {
   "cell_type": "code",
   "execution_count": 12,
   "metadata": {},
   "outputs": [
    {
     "data": {
      "text/plain": [
       "(1+3j)"
      ]
     },
     "execution_count": 12,
     "metadata": {},
     "output_type": "execute_result"
    }
   ],
   "source": [
    "x = 1 + 3j\n",
    "x"
   ]
  },
  {
   "cell_type": "code",
   "execution_count": 13,
   "metadata": {},
   "outputs": [
    {
     "data": {
      "text/plain": [
       "3.1622776601683795"
      ]
     },
     "execution_count": 13,
     "metadata": {},
     "output_type": "execute_result"
    }
   ],
   "source": [
    "abs(x)               # 计算绝对值"
   ]
  },
  {
   "cell_type": "code",
   "execution_count": 14,
   "metadata": {},
   "outputs": [
    {
     "data": {
      "text/plain": [
       "3.0"
      ]
     },
     "execution_count": 14,
     "metadata": {},
     "output_type": "execute_result"
    }
   ],
   "source": [
    "x.imag"
   ]
  },
  {
   "cell_type": "code",
   "execution_count": 15,
   "metadata": {},
   "outputs": [
    {
     "data": {
      "text/plain": [
       "1.0"
      ]
     },
     "execution_count": 15,
     "metadata": {},
     "output_type": "execute_result"
    }
   ],
   "source": [
    "x.real"
   ]
  },
  {
   "cell_type": "code",
   "execution_count": 16,
   "metadata": {},
   "outputs": [
    {
     "data": {
      "text/plain": [
       "(-8+6j)"
      ]
     },
     "execution_count": 16,
     "metadata": {},
     "output_type": "execute_result"
    }
   ],
   "source": [
    "x * x"
   ]
  },
  {
   "cell_type": "code",
   "execution_count": 17,
   "metadata": {},
   "outputs": [
    {
     "data": {
      "text/plain": [
       "(10+0j)"
      ]
     },
     "execution_count": 17,
     "metadata": {},
     "output_type": "execute_result"
    }
   ],
   "source": [
    "x * x.conjugate()"
   ]
  },
  {
   "cell_type": "code",
   "execution_count": 18,
   "metadata": {},
   "outputs": [
    {
     "data": {
      "text/plain": [
       "(3+9j)"
      ]
     },
     "execution_count": 18,
     "metadata": {},
     "output_type": "execute_result"
    }
   ],
   "source": [
    "3 * x"
   ]
  },
  {
   "cell_type": "markdown",
   "metadata": {
    "lang": "zh-cn"
   },
   "source": [
    "请注意，如果您想执行更复杂的操作（例如取平方根等），则必须使用`cmath`模块（Complex MATHematics）："
   ]
  },
  {
   "cell_type": "code",
   "execution_count": 19,
   "metadata": {},
   "outputs": [
    {
     "data": {
      "text/plain": [
       "(1.442615274452683+1.0397782600555705j)"
      ]
     },
     "execution_count": 19,
     "metadata": {},
     "output_type": "execute_result"
    }
   ],
   "source": [
    "import cmath\n",
    "cmath.sqrt(x)"
   ]
  },
  {
   "cell_type": "markdown",
   "metadata": {
    "lang": "zh-cn"
   },
   "source": [
    "### 适用于所有数字类型的函数\n",
    "\n",
    "函数abs()返回数字的绝对值（也称为模数）："
   ]
  },
  {
   "cell_type": "code",
   "execution_count": 20,
   "metadata": {},
   "outputs": [
    {
     "data": {
      "text/plain": [
       "45.463"
      ]
     },
     "execution_count": 20,
     "metadata": {},
     "output_type": "execute_result"
    }
   ],
   "source": [
    "a = -45.463\n",
    "abs(a)"
   ]
  },
  {
   "cell_type": "markdown",
   "metadata": {
    "lang": "zh-cn"
   },
   "source": [
    "注意，`abs()`也适用于复数（请参见上文）。\n",
    "\n",
    "序列\n",
    "---------\n",
    "\n",
    "字符串、列表和元组是一种*序列*。它们可以用相同的方式*索引*和*切片*。\n",
    "\n",
    "元组和字符串是“不可变的”（这基本上意味着我们不能更改元组中的单个元素，也不能更改字符串中的单个字符），而列表是“可变的”（*例如*，我们可以更改列表中的元素。）\n",
    "\n",
    "序列共享以下操作\n",
    "\n",
    "* `a[i]` 返回`a`的第i个元素\n",
    "* `a[i：j]` 返回元素i直到j-1\n",
    "* `len(a)` 按返回元素的个数\n",
    "* `min（a）` 返回最小值\n",
    "* `max(a)` 返回最大值\n",
    "* `x in a` 如果x是a中的元素，则a中的x返回True。\n",
    "* `a + b` 连接`a`和`b`\n",
    "* `n * a` 创建序列`a`的`n`个副本"
   ]
  },
  {
   "cell_type": "markdown",
   "metadata": {
    "lang": "zh-cn"
   },
   "source": [
    "### 序列类型1：字符串\n",
    "\n",
    "##### 更多的信息\n",
    "\n",
    "- 字符串简介，[Python教程3.1.2](http://docs.python.org/tutorial/introduction.html#strings)\n",
    "\n",
    "字符串是（不可变的）字符序列。可以使用单引号定义一个字符串："
   ]
  },
  {
   "cell_type": "code",
   "execution_count": 21,
   "metadata": {},
   "outputs": [],
   "source": [
    "a = 'Hello World'"
   ]
  },
  {
   "cell_type": "markdown",
   "metadata": {
    "lang": "zh-cn"
   },
   "source": [
    "双引号："
   ]
  },
  {
   "cell_type": "code",
   "execution_count": 22,
   "metadata": {},
   "outputs": [],
   "source": [
    "a = \"Hello World\""
   ]
  },
  {
   "cell_type": "markdown",
   "metadata": {
    "lang": "zh-cn"
   },
   "source": [
    "或任何一种的三重引号"
   ]
  },
  {
   "cell_type": "code",
   "execution_count": 23,
   "metadata": {},
   "outputs": [],
   "source": [
    "a = \"\"\"Hello World\"\"\"\n",
    "a = '''Hello World'''"
   ]
  },
  {
   "cell_type": "markdown",
   "metadata": {
    "lang": "zh-cn"
   },
   "source": [
    "字符串的类型为`str`，空字符串由`\"\"`给出："
   ]
  },
  {
   "cell_type": "code",
   "execution_count": 24,
   "metadata": {},
   "outputs": [
    {
     "data": {
      "text/plain": [
       "str"
      ]
     },
     "execution_count": 24,
     "metadata": {},
     "output_type": "execute_result"
    }
   ],
   "source": [
    "a = \"Hello World\"\n",
    "type(a)"
   ]
  },
  {
   "cell_type": "code",
   "execution_count": 25,
   "metadata": {},
   "outputs": [
    {
     "data": {
      "text/plain": [
       "str"
      ]
     },
     "execution_count": 25,
     "metadata": {},
     "output_type": "execute_result"
    }
   ],
   "source": [
    "b = \"\"\n",
    "type(b)"
   ]
  },
  {
   "cell_type": "code",
   "execution_count": 26,
   "metadata": {},
   "outputs": [
    {
     "data": {
      "text/plain": [
       "str"
      ]
     },
     "execution_count": 26,
     "metadata": {},
     "output_type": "execute_result"
    }
   ],
   "source": [
    "type(\"Hello World\")"
   ]
  },
  {
   "cell_type": "code",
   "execution_count": 27,
   "metadata": {},
   "outputs": [
    {
     "data": {
      "text/plain": [
       "str"
      ]
     },
     "execution_count": 27,
     "metadata": {},
     "output_type": "execute_result"
    }
   ],
   "source": [
    "type(\"\")"
   ]
  },
  {
   "cell_type": "markdown",
   "metadata": {
    "lang": "zh-cn"
   },
   "source": [
    "字符串中的字符数（即*length*）可以使用`len()`函数获得："
   ]
  },
  {
   "cell_type": "code",
   "execution_count": 28,
   "metadata": {},
   "outputs": [
    {
     "data": {
      "text/plain": [
       "10"
      ]
     },
     "execution_count": 28,
     "metadata": {},
     "output_type": "execute_result"
    }
   ],
   "source": [
    "a = \"Hello Moon\"\n",
    "len(a)"
   ]
  },
  {
   "cell_type": "code",
   "execution_count": 29,
   "metadata": {},
   "outputs": [
    {
     "data": {
      "text/plain": [
       "4"
      ]
     },
     "execution_count": 29,
     "metadata": {},
     "output_type": "execute_result"
    }
   ],
   "source": [
    "a = 'test'\n",
    "len(a)"
   ]
  },
  {
   "cell_type": "code",
   "execution_count": 30,
   "metadata": {},
   "outputs": [
    {
     "data": {
      "text/plain": [
       "12"
      ]
     },
     "execution_count": 30,
     "metadata": {},
     "output_type": "execute_result"
    }
   ],
   "source": [
    "len('another test')"
   ]
  },
  {
   "cell_type": "markdown",
   "metadata": {
    "lang": "zh-cn"
   },
   "source": [
    "您可以使用`+`运算符组合（“连接”）两个字符串："
   ]
  },
  {
   "cell_type": "code",
   "execution_count": 31,
   "metadata": {},
   "outputs": [
    {
     "data": {
      "text/plain": [
       "'Hello World'"
      ]
     },
     "execution_count": 31,
     "metadata": {},
     "output_type": "execute_result"
    }
   ],
   "source": [
    "'Hello ' + 'World'"
   ]
  },
  {
   "cell_type": "markdown",
   "metadata": {
    "lang": "zh-cn"
   },
   "source": [
    "字符串有许多有用的方法，例如`upper()`以大写形式返回字符串："
   ]
  },
  {
   "cell_type": "code",
   "execution_count": 32,
   "metadata": {},
   "outputs": [
    {
     "data": {
      "text/plain": [
       "'THIS IS A TEST SENTENCE.'"
      ]
     },
     "execution_count": 32,
     "metadata": {},
     "output_type": "execute_result"
    }
   ],
   "source": [
    "a = \"This is a test sentence.\"\n",
    "a.upper()"
   ]
  },
  {
   "cell_type": "markdown",
   "metadata": {
    "lang": "zh-cn"
   },
   "source": [
    "可用的字符串函数列表可以在Python参考文档中找到。如果有Python提示，则应使用`dir`和`help`函数来检索此信息，*例如*`dir()`提供函数列表，`help()`可用于学习关于每一种函数。\n",
    "\n",
    "一个特别有用的函数是`split()`，它将一个字符串转换为一个字符串列表："
   ]
  },
  {
   "cell_type": "code",
   "execution_count": 33,
   "metadata": {},
   "outputs": [
    {
     "data": {
      "text/plain": [
       "['This', 'is', 'a', 'test', 'sentence.']"
      ]
     },
     "execution_count": 33,
     "metadata": {},
     "output_type": "execute_result"
    }
   ],
   "source": [
    "a = \"This is a test sentence.\"\n",
    "a.split()"
   ]
  },
  {
   "cell_type": "markdown",
   "metadata": {
    "lang": "zh-cn"
   },
   "source": [
    "`split()`函数将在找到*空格*的地方将字符串进行分隔。空格可以是打印成空格的任何字符，例如一个空格、多个空格或一个制表符。\n",
    "\n",
    "通过将分隔符作为参数传递给`split()`函数，把字符串分成不同的部分。例如，假设我们要获取每一个完整句子的列表："
   ]
  },
  {
   "cell_type": "code",
   "execution_count": 34,
   "metadata": {},
   "outputs": [
    {
     "data": {
      "text/plain": [
       "['The dog is hungry', ' The cat is bored', ' The snake is awake', '']"
      ]
     },
     "execution_count": 34,
     "metadata": {},
     "output_type": "execute_result"
    }
   ],
   "source": [
    "a = \"The dog is hungry. The cat is bored. The snake is awake.\"\n",
    "a.split(\".\")"
   ]
  },
  {
   "cell_type": "markdown",
   "metadata": {
    "lang": "zh-cn"
   },
   "source": [
    "与`split`相反的字符串函数是`join`，可以按下面这种方法使用："
   ]
  },
  {
   "cell_type": "code",
   "execution_count": 35,
   "metadata": {},
   "outputs": [
    {
     "data": {
      "text/plain": [
       "['The dog is hungry', ' The cat is bored', ' The snake is awake', '']"
      ]
     },
     "execution_count": 35,
     "metadata": {},
     "output_type": "execute_result"
    }
   ],
   "source": [
    "a = \"The dog is hungry. The cat is bored. The snake is awake.\"\n",
    "s = a.split('.')\n",
    "s"
   ]
  },
  {
   "cell_type": "code",
   "execution_count": 36,
   "metadata": {},
   "outputs": [
    {
     "data": {
      "text/plain": [
       "'The dog is hungry. The cat is bored. The snake is awake.'"
      ]
     },
     "execution_count": 36,
     "metadata": {},
     "output_type": "execute_result"
    }
   ],
   "source": [
    "\".\".join(s)"
   ]
  },
  {
   "cell_type": "code",
   "execution_count": 37,
   "metadata": {},
   "outputs": [
    {
     "data": {
      "text/plain": [
       "'The dog is hungry STOP The cat is bored STOP The snake is awake STOP'"
      ]
     },
     "execution_count": 37,
     "metadata": {},
     "output_type": "execute_result"
    }
   ],
   "source": [
    "\" STOP\".join(s)"
   ]
  },
  {
   "cell_type": "markdown",
   "metadata": {
    "lang": "zh-cn"
   },
   "source": [
    "### 序列类型2：列表\n",
    "\n",
    "##### 更多的信息\n",
    "\n",
    "- 列表简介，[Python教程，第3.1.4节](http://docs.python.org/tutorial/introduction.html#lists)\n",
    "\n",
    "列表是一个对象序列。对象可以是任何类型，例如整数："
   ]
  },
  {
   "cell_type": "code",
   "execution_count": 38,
   "metadata": {},
   "outputs": [],
   "source": [
    "a = [34, 12, 54]"
   ]
  },
  {
   "cell_type": "markdown",
   "metadata": {
    "lang": "zh-cn"
   },
   "source": [
    "或者字符串："
   ]
  },
  {
   "cell_type": "code",
   "execution_count": 39,
   "metadata": {},
   "outputs": [],
   "source": [
    "a = ['dog', 'cat', 'mouse']"
   ]
  },
  {
   "cell_type": "markdown",
   "metadata": {
    "lang": "zh-cn"
   },
   "source": [
    "一个空列表由`[]`表示："
   ]
  },
  {
   "cell_type": "code",
   "execution_count": 40,
   "metadata": {},
   "outputs": [],
   "source": [
    "a = []"
   ]
  },
  {
   "cell_type": "markdown",
   "metadata": {
    "lang": "zh-cn"
   },
   "source": [
    "类型是`list`："
   ]
  },
  {
   "cell_type": "code",
   "execution_count": 41,
   "metadata": {},
   "outputs": [
    {
     "data": {
      "text/plain": [
       "list"
      ]
     },
     "execution_count": 41,
     "metadata": {},
     "output_type": "execute_result"
    }
   ],
   "source": [
    "type(a)"
   ]
  },
  {
   "cell_type": "code",
   "execution_count": 42,
   "metadata": {},
   "outputs": [
    {
     "data": {
      "text/plain": [
       "list"
      ]
     },
     "execution_count": 42,
     "metadata": {},
     "output_type": "execute_result"
    }
   ],
   "source": [
    "type([])"
   ]
  },
  {
   "cell_type": "markdown",
   "metadata": {
    "lang": "zh-cn"
   },
   "source": [
    "与字符串一样，可以使用len()函数获得列表中元素的个数："
   ]
  },
  {
   "cell_type": "code",
   "execution_count": 43,
   "metadata": {},
   "outputs": [
    {
     "data": {
      "text/plain": [
       "3"
      ]
     },
     "execution_count": 43,
     "metadata": {},
     "output_type": "execute_result"
    }
   ],
   "source": [
    "a = ['dog', 'cat', 'mouse']\n",
    "len(a)"
   ]
  },
  {
   "cell_type": "markdown",
   "metadata": {
    "lang": "zh-cn"
   },
   "source": [
    "也可以在同一列表中*混合*不同类型："
   ]
  },
  {
   "cell_type": "code",
   "execution_count": 44,
   "metadata": {},
   "outputs": [],
   "source": [
    "a = [123, 'duck', -42, 17, 0, 'elephant']"
   ]
  },
  {
   "cell_type": "markdown",
   "metadata": {
    "lang": "zh-cn"
   },
   "source": [
    "在Python中，列表是一个对象，因此列表可能包含其他列表（因为列表保留了对象序列）："
   ]
  },
  {
   "cell_type": "code",
   "execution_count": 45,
   "metadata": {},
   "outputs": [],
   "source": [
    "a = [1, 4, 56, [5, 3, 1], 300, 400]"
   ]
  },
  {
   "cell_type": "markdown",
   "metadata": {
    "lang": "zh-cn"
   },
   "source": [
    "您可以使用“ +”运算符组合（“连接”）两个列表："
   ]
  },
  {
   "cell_type": "code",
   "execution_count": 46,
   "metadata": {},
   "outputs": [
    {
     "data": {
      "text/plain": [
       "[3, 4, 5, 34, 35, 100]"
      ]
     },
     "execution_count": 46,
     "metadata": {},
     "output_type": "execute_result"
    }
   ],
   "source": [
    "[3, 4, 5] + [34, 35, 100]"
   ]
  },
  {
   "cell_type": "markdown",
   "metadata": {
    "lang": "zh-cn"
   },
   "source": [
    "或者，您可以使用`append()`函数将一个对象添加到列表的末尾："
   ]
  },
  {
   "cell_type": "code",
   "execution_count": 47,
   "metadata": {},
   "outputs": [
    {
     "data": {
      "text/plain": [
       "[34, 56, 23, 42]"
      ]
     },
     "execution_count": 47,
     "metadata": {},
     "output_type": "execute_result"
    }
   ],
   "source": [
    "a = [34, 56, 23]\n",
    "a.append(42)\n",
    "a"
   ]
  },
  {
   "cell_type": "markdown",
   "metadata": {
    "lang": "zh-cn"
   },
   "source": [
    "您可以把一个对象作为参数传递给`remove()`函数，通过`remove()`函数把列表中的这个对象删除。\n",
    "例如："
   ]
  },
  {
   "cell_type": "code",
   "execution_count": 48,
   "metadata": {},
   "outputs": [
    {
     "data": {
      "text/plain": [
       "[34, 23, 42]"
      ]
     },
     "execution_count": 48,
     "metadata": {},
     "output_type": "execute_result"
    }
   ],
   "source": [
    "a = [34, 56, 23, 42]\n",
    "a.remove(56)\n",
    "a"
   ]
  },
  {
   "cell_type": "markdown",
   "metadata": {
    "lang": "en"
   },
   "source": [
    "#### range()函数\n",
    "\n",
    "有一种特殊的列表是经常被使用的（通常与`for-loops`一起使用），因此存在一个用于生成该列表的函数：`range(n)`命令生成从0开始一直到n的整数序列*但不是包括n* 。这里有一些例子："
   ]
  },
  {
   "cell_type": "code",
   "execution_count": 49,
   "metadata": {},
   "outputs": [
    {
     "data": {
      "text/plain": [
       "[0, 1, 2]"
      ]
     },
     "execution_count": 49,
     "metadata": {},
     "output_type": "execute_result"
    }
   ],
   "source": [
    "list(range(3))"
   ]
  },
  {
   "cell_type": "code",
   "execution_count": 50,
   "metadata": {},
   "outputs": [
    {
     "data": {
      "text/plain": [
       "[0, 1, 2, 3, 4, 5, 6, 7, 8, 9]"
      ]
     },
     "execution_count": 50,
     "metadata": {},
     "output_type": "execute_result"
    }
   ],
   "source": [
    "list(range(10))"
   ]
  },
  {
   "cell_type": "markdown",
   "metadata": {
    "lang": "zh-cn"
   },
   "source": [
    "这个函数通常与for循环一起使用。例如，要打印数字0<sup>2</sup>,1<sup>2</sup>,2<sup>2</sup>,3<sup>2</sup>,…,10<sup>2</sup>，可以使用以下程序："
   ]
  },
  {
   "cell_type": "code",
   "execution_count": 51,
   "metadata": {},
   "outputs": [
    {
     "name": "stdout",
     "output_type": "stream",
     "text": [
      "0\n",
      "1\n",
      "4\n",
      "9\n",
      "16\n",
      "25\n",
      "36\n",
      "49\n",
      "64\n",
      "81\n",
      "100\n"
     ]
    }
   ],
   "source": [
    "for i in range(11):\n",
    "    print(i ** 2)"
   ]
  },
  {
   "cell_type": "markdown",
   "metadata": {
    "lang": "zh-cn"
   },
   "source": [
    "range命令对于整数序列的产生采用采选参数的方法，序列的开头（开始）采用一个可选参数，对于步长采用另一可选参数。这通常写为`range（[start]，stop，[step]）`，其中方括号（start和step）中的参数是可选的。这里有几个例子："
   ]
  },
  {
   "cell_type": "code",
   "execution_count": 52,
   "metadata": {},
   "outputs": [
    {
     "data": {
      "text/plain": [
       "[3, 4, 5, 6, 7, 8, 9]"
      ]
     },
     "execution_count": 52,
     "metadata": {},
     "output_type": "execute_result"
    }
   ],
   "source": [
    "list(range(3, 10))            # start=3"
   ]
  },
  {
   "cell_type": "code",
   "execution_count": 53,
   "metadata": {},
   "outputs": [
    {
     "data": {
      "text/plain": [
       "[3, 5, 7, 9]"
      ]
     },
     "execution_count": 53,
     "metadata": {},
     "output_type": "execute_result"
    }
   ],
   "source": [
    "list(range(3, 10, 2))         # start=3, step=2"
   ]
  },
  {
   "cell_type": "code",
   "execution_count": 54,
   "metadata": {},
   "outputs": [
    {
     "data": {
      "text/plain": [
       "[10, 9, 8, 7, 6, 5, 4, 3, 2, 1]"
      ]
     },
     "execution_count": 54,
     "metadata": {},
     "output_type": "execute_result"
    }
   ],
   "source": [
    "list(range(10, 0, -1))        # start=10,step=-1"
   ]
  },
  {
   "cell_type": "markdown",
   "metadata": {
    "lang": "zh-cn"
   },
   "source": [
    "我们为什么需要调用函数`list(range())`？\n",
    "\n",
    "在Python 3中，`range()`根据需要生成数字。当在for循环中使用`range()`时，这样做会更有效，因为它不会占用数字列表来占用内存。将其传递给list()会强制其生成所有数字，因此我们可以看到它的作用。\n",
    "\n",
    "为了在Python 2中获得相同的有效行为，请使用`xrange()`而不是`range()`。"
   ]
  },
  {
   "cell_type": "markdown",
   "metadata": {
    "lang": "zh-cn"
   },
   "source": [
    "### 序列类型3：元组\n",
    "\n",
    "*元组*是一种（不可变的）序列对象。元组的行为与列表非常相似，但它们不能被修改（即是不可变的）。\n",
    "\n",
    "例如，序列中的对象可以是任何类型："
   ]
  },
  {
   "cell_type": "code",
   "execution_count": 55,
   "metadata": {},
   "outputs": [
    {
     "data": {
      "text/plain": [
       "(12, 13, 'dog')"
      ]
     },
     "execution_count": 55,
     "metadata": {},
     "output_type": "execute_result"
    }
   ],
   "source": [
    "a = (12, 13, 'dog')\n",
    "a"
   ]
  },
  {
   "cell_type": "code",
   "execution_count": 56,
   "metadata": {},
   "outputs": [
    {
     "data": {
      "text/plain": [
       "12"
      ]
     },
     "execution_count": 56,
     "metadata": {},
     "output_type": "execute_result"
    }
   ],
   "source": [
    "a[0]"
   ]
  },
  {
   "cell_type": "markdown",
   "metadata": {
    "lang": "zh-cn"
   },
   "source": [
    "定义一个元组不是一定需要圆括号的：仅用逗号分隔的一系列对象就足以定义一个元组："
   ]
  },
  {
   "cell_type": "code",
   "execution_count": 57,
   "metadata": {},
   "outputs": [
    {
     "data": {
      "text/plain": [
       "(100, 200, 'duck')"
      ]
     },
     "execution_count": 57,
     "metadata": {},
     "output_type": "execute_result"
    }
   ],
   "source": [
    "a = 100, 200, 'duck'\n",
    "a"
   ]
  },
  {
   "cell_type": "markdown",
   "metadata": {
    "lang": "zh-cn"
   },
   "source": [
    "尽管在实际的使用中，最好使用圆括号来定义元组，因为这样可以清楚的表明这是一个元组的定义。\n",
    "\n",
    "元组也可以用于对两个变量进行赋值："
   ]
  },
  {
   "cell_type": "code",
   "execution_count": 58,
   "metadata": {},
   "outputs": [
    {
     "data": {
      "text/plain": [
       "10"
      ]
     },
     "execution_count": 58,
     "metadata": {},
     "output_type": "execute_result"
    }
   ],
   "source": [
    "x, y = 10, 20\n",
    "x"
   ]
  },
  {
   "cell_type": "code",
   "execution_count": 59,
   "metadata": {},
   "outputs": [
    {
     "data": {
      "text/plain": [
       "20"
      ]
     },
     "execution_count": 59,
     "metadata": {},
     "output_type": "execute_result"
    }
   ],
   "source": [
    "y"
   ]
  },
  {
   "cell_type": "markdown",
   "metadata": {
    "lang": "zh-cn"
   },
   "source": [
    "这种用法可以用于在一行代码内*交换*两个不同的对象，例如"
   ]
  },
  {
   "cell_type": "code",
   "execution_count": 60,
   "metadata": {},
   "outputs": [
    {
     "data": {
      "text/plain": [
       "2"
      ]
     },
     "execution_count": 60,
     "metadata": {},
     "output_type": "execute_result"
    }
   ],
   "source": [
    "x = 1\n",
    "y = 2\n",
    "x, y = y, x\n",
    "x"
   ]
  },
  {
   "cell_type": "code",
   "execution_count": 61,
   "metadata": {},
   "outputs": [
    {
     "data": {
      "text/plain": [
       "1"
      ]
     },
     "execution_count": 61,
     "metadata": {},
     "output_type": "execute_result"
    }
   ],
   "source": [
    "y"
   ]
  },
  {
   "cell_type": "markdown",
   "metadata": {
    "lang": "zh-cn"
   },
   "source": [
    "空元组由`()`给出"
   ]
  },
  {
   "cell_type": "code",
   "execution_count": 62,
   "metadata": {},
   "outputs": [
    {
     "data": {
      "text/plain": [
       "0"
      ]
     },
     "execution_count": 62,
     "metadata": {},
     "output_type": "execute_result"
    }
   ],
   "source": [
    "t = ()\n",
    "len(t)"
   ]
  },
  {
   "cell_type": "code",
   "execution_count": 63,
   "metadata": {},
   "outputs": [
    {
     "data": {
      "text/plain": [
       "tuple"
      ]
     },
     "execution_count": 63,
     "metadata": {},
     "output_type": "execute_result"
    }
   ],
   "source": [
    "type(t)"
   ]
  },
  {
   "cell_type": "markdown",
   "metadata": {
    "lang": "zh-cn"
   },
   "source": [
    "对于只包含一个值的元组，一开始看起来可能有些奇怪："
   ]
  },
  {
   "cell_type": "code",
   "execution_count": 64,
   "metadata": {},
   "outputs": [
    {
     "data": {
      "text/plain": [
       "tuple"
      ]
     },
     "execution_count": 64,
     "metadata": {},
     "output_type": "execute_result"
    }
   ],
   "source": [
    "t = (42,)\n",
    "type(t)"
   ]
  },
  {
   "cell_type": "code",
   "execution_count": 65,
   "metadata": {},
   "outputs": [
    {
     "data": {
      "text/plain": [
       "1"
      ]
     },
     "execution_count": 65,
     "metadata": {},
     "output_type": "execute_result"
    }
   ],
   "source": [
    "len(t)"
   ]
  },
  {
   "cell_type": "markdown",
   "metadata": {
    "lang": "zh-cn"
   },
   "source": [
    "额外的逗号是用来区分（42，）与（42），在后一种情况下，括号将被理解为定义运算符优先级：（42）简化为`42`，这只是一个数字："
   ]
  },
  {
   "cell_type": "code",
   "execution_count": 66,
   "metadata": {},
   "outputs": [
    {
     "data": {
      "text/plain": [
       "int"
      ]
     },
     "execution_count": 66,
     "metadata": {},
     "output_type": "execute_result"
    }
   ],
   "source": [
    "t = (42)\n",
    "type(t)"
   ]
  },
  {
   "cell_type": "markdown",
   "metadata": {
    "lang": "zh-cn"
   },
   "source": [
    "这个例子表明了元组的不变性："
   ]
  },
  {
   "cell_type": "code",
   "execution_count": 67,
   "metadata": {},
   "outputs": [
    {
     "data": {
      "text/plain": [
       "12"
      ]
     },
     "execution_count": 67,
     "metadata": {},
     "output_type": "execute_result"
    }
   ],
   "source": [
    "a = (12, 13, 'dog')\n",
    "a[0]"
   ]
  },
  {
   "cell_type": "code",
   "execution_count": 68,
   "metadata": {},
   "outputs": [
    {
     "ename": "TypeError",
     "evalue": "'tuple' object does not support item assignment",
     "output_type": "error",
     "traceback": [
      "\u001b[1;31m---------------------------------------------------------------------------\u001b[0m",
      "\u001b[1;31mTypeError\u001b[0m                                 Traceback (most recent call last)",
      "\u001b[1;32m<ipython-input-68-a907c75b4c69>\u001b[0m in \u001b[0;36m<module>\u001b[1;34m\u001b[0m\n\u001b[0;32m      1\u001b[0m \u001b[1;31m# NBVAL_RAISES_EXCEPTION\u001b[0m\u001b[1;33m\u001b[0m\u001b[1;33m\u001b[0m\u001b[1;33m\u001b[0m\u001b[0m\n\u001b[1;32m----> 2\u001b[1;33m \u001b[0ma\u001b[0m\u001b[1;33m[\u001b[0m\u001b[1;36m0\u001b[0m\u001b[1;33m]\u001b[0m \u001b[1;33m=\u001b[0m \u001b[1;36m1\u001b[0m\u001b[1;33m\u001b[0m\u001b[1;33m\u001b[0m\u001b[0m\n\u001b[0m",
      "\u001b[1;31mTypeError\u001b[0m: 'tuple' object does not support item assignment"
     ]
    }
   ],
   "source": [
    "# NBVAL_RAISES_EXCEPTION\n",
    "a[0] = 1"
   ]
  },
  {
   "cell_type": "markdown",
   "metadata": {
    "lang": "zh-cn"
   },
   "source": [
    "不变性是元组和列表（后者是可变的）之间的主要区别。当我们不想更改内容时，应使用元组。\n",
    "\n",
    "请注意，返回多个值的Python函数以元组返回这些值（这很有意义，因为您不希望更改这些值）。\n",
    "\n",
    "### 索引序列\n",
    "\n",
    "##### 更多信息\n",
    "\n",
    "-在[Python教程，第3.1.2节](http://docs.python.org/tutorial/introduction.html#strings)中介绍了字符串和索引，相关部分在引入字符串之后开始。\n",
    "\n",
    "可以使用对象的索引和方括号（`[`和`]`）访问列表中的各个对象："
   ]
  },
  {
   "cell_type": "code",
   "execution_count": 69,
   "metadata": {},
   "outputs": [
    {
     "data": {
      "text/plain": [
       "'dog'"
      ]
     },
     "execution_count": 69,
     "metadata": {},
     "output_type": "execute_result"
    }
   ],
   "source": [
    "a = ['dog', 'cat', 'mouse']\n",
    "a[0]"
   ]
  },
  {
   "cell_type": "code",
   "execution_count": 70,
   "metadata": {},
   "outputs": [
    {
     "data": {
      "text/plain": [
       "'cat'"
      ]
     },
     "execution_count": 70,
     "metadata": {},
     "output_type": "execute_result"
    }
   ],
   "source": [
    "a[1]"
   ]
  },
  {
   "cell_type": "code",
   "execution_count": 71,
   "metadata": {},
   "outputs": [
    {
     "data": {
      "text/plain": [
       "'mouse'"
      ]
     },
     "execution_count": 71,
     "metadata": {},
     "output_type": "execute_result"
    }
   ],
   "source": [
    "a[2]"
   ]
  },
  {
   "cell_type": "markdown",
   "metadata": {
    "lang": "zh-cn"
   },
   "source": [
    "请注意Python从零开始计算索引（与C类似，但与Fortran和Matlab不同）！\n",
    "\n",
    "Python提供了一个方便的快捷方式来检索列表中的最后一个元素：使用索引“ -1”，其中的减号表示它是列表的从后面往前计算的元素。同样，索引“ -2”将返回倒数第二个元素："
   ]
  },
  {
   "cell_type": "code",
   "execution_count": 72,
   "metadata": {},
   "outputs": [
    {
     "data": {
      "text/plain": [
       "'mouse'"
      ]
     },
     "execution_count": 72,
     "metadata": {},
     "output_type": "execute_result"
    }
   ],
   "source": [
    "a = ['dog', 'cat', 'mouse']\n",
    "a[-1]"
   ]
  },
  {
   "cell_type": "code",
   "execution_count": 73,
   "metadata": {},
   "outputs": [
    {
     "data": {
      "text/plain": [
       "'cat'"
      ]
     },
     "execution_count": 73,
     "metadata": {},
     "output_type": "execute_result"
    }
   ],
   "source": [
    "a[-2]"
   ]
  },
  {
   "cell_type": "markdown",
   "metadata": {
    "lang": "zh-cn"
   },
   "source": [
    "如果您愿意，可以将索引`a [-1]`当作`a[len(a) - 1]`的简写。\n",
    "\n",
    "请记住字符串（如列表）也是序列类型，可以用相同的方式索引："
   ]
  },
  {
   "cell_type": "code",
   "execution_count": 74,
   "metadata": {},
   "outputs": [
    {
     "data": {
      "text/plain": [
       "'H'"
      ]
     },
     "execution_count": 74,
     "metadata": {},
     "output_type": "execute_result"
    }
   ],
   "source": [
    "a = \"Hello World!\" \n",
    "a[0]"
   ]
  },
  {
   "cell_type": "code",
   "execution_count": 75,
   "metadata": {},
   "outputs": [
    {
     "data": {
      "text/plain": [
       "'e'"
      ]
     },
     "execution_count": 75,
     "metadata": {},
     "output_type": "execute_result"
    }
   ],
   "source": [
    "a[1]"
   ]
  },
  {
   "cell_type": "code",
   "execution_count": 76,
   "metadata": {},
   "outputs": [
    {
     "data": {
      "text/plain": [
       "'d'"
      ]
     },
     "execution_count": 76,
     "metadata": {},
     "output_type": "execute_result"
    }
   ],
   "source": [
    "a[10]"
   ]
  },
  {
   "cell_type": "code",
   "execution_count": 77,
   "metadata": {},
   "outputs": [
    {
     "data": {
      "text/plain": [
       "'!'"
      ]
     },
     "execution_count": 77,
     "metadata": {},
     "output_type": "execute_result"
    }
   ],
   "source": [
    "a[-1]"
   ]
  },
  {
   "cell_type": "code",
   "execution_count": 78,
   "metadata": {},
   "outputs": [
    {
     "data": {
      "text/plain": [
       "'d'"
      ]
     },
     "execution_count": 78,
     "metadata": {},
     "output_type": "execute_result"
    }
   ],
   "source": [
    "a[-2]"
   ]
  },
  {
   "cell_type": "markdown",
   "metadata": {
    "lang": "zh-cn"
   },
   "source": [
    "### 切片顺序\n",
    "\n",
    "##### 更多信息\n",
    "\n",
    "- [Python教程，第3.1.2节](http://docs.python.org/tutorial/introduction.html#strings)可以找到字符串，索引和切片的简介\n",
    "\n",
    "序列中的*切片*可用于检索多个元素。例如："
   ]
  },
  {
   "cell_type": "code",
   "execution_count": 79,
   "metadata": {},
   "outputs": [
    {
     "data": {
      "text/plain": [
       "'Hel'"
      ]
     },
     "execution_count": 79,
     "metadata": {},
     "output_type": "execute_result"
    }
   ],
   "source": [
    "a = \"Hello World!\"\n",
    "a[0:3]"
   ]
  },
  {
   "cell_type": "markdown",
   "metadata": {
    "lang": "zh-cn"
   },
   "source": [
    "通过编写`a[0:3]`，我们请求从元素0开始的前三个元素。类似地："
   ]
  },
  {
   "cell_type": "code",
   "execution_count": 80,
   "metadata": {},
   "outputs": [
    {
     "data": {
      "text/plain": [
       "'ell'"
      ]
     },
     "execution_count": 80,
     "metadata": {},
     "output_type": "execute_result"
    }
   ],
   "source": [
    "a[1:4]"
   ]
  },
  {
   "cell_type": "code",
   "execution_count": 81,
   "metadata": {},
   "outputs": [
    {
     "data": {
      "text/plain": [
       "'He'"
      ]
     },
     "execution_count": 81,
     "metadata": {},
     "output_type": "execute_result"
    }
   ],
   "source": [
    "a[0:2]"
   ]
  },
  {
   "cell_type": "code",
   "execution_count": 82,
   "metadata": {},
   "outputs": [
    {
     "data": {
      "text/plain": [
       "'Hello '"
      ]
     },
     "execution_count": 82,
     "metadata": {},
     "output_type": "execute_result"
    }
   ],
   "source": [
    "a[0:6]"
   ]
  },
  {
   "cell_type": "markdown",
   "metadata": {
    "lang": "zh-cn"
   },
   "source": [
    "我们可以使用负索引来引用序列的结尾："
   ]
  },
  {
   "cell_type": "code",
   "execution_count": 83,
   "metadata": {},
   "outputs": [
    {
     "data": {
      "text/plain": [
       "'Hello World'"
      ]
     },
     "execution_count": 83,
     "metadata": {},
     "output_type": "execute_result"
    }
   ],
   "source": [
    "a[0:-1]"
   ]
  },
  {
   "cell_type": "markdown",
   "metadata": {
    "lang": "zh-cn"
   },
   "source": [
    "也可以省略开始或结束索引，这将返回从第一个元素开始的所有元素或者直到序列结束为止的所有元素。这里有一些例子可以使这一点更加清楚："
   ]
  },
  {
   "cell_type": "code",
   "execution_count": 84,
   "metadata": {},
   "outputs": [
    {
     "data": {
      "text/plain": [
       "'Hello'"
      ]
     },
     "execution_count": 84,
     "metadata": {},
     "output_type": "execute_result"
    }
   ],
   "source": [
    "a = \"Hello World!\"\n",
    "a[:5]"
   ]
  },
  {
   "cell_type": "code",
   "execution_count": 85,
   "metadata": {},
   "outputs": [
    {
     "data": {
      "text/plain": [
       "' World!'"
      ]
     },
     "execution_count": 85,
     "metadata": {},
     "output_type": "execute_result"
    }
   ],
   "source": [
    "a[5:]"
   ]
  },
  {
   "cell_type": "code",
   "execution_count": 86,
   "metadata": {},
   "outputs": [
    {
     "data": {
      "text/plain": [
       "'d!'"
      ]
     },
     "execution_count": 86,
     "metadata": {},
     "output_type": "execute_result"
    }
   ],
   "source": [
    "a[-2:]"
   ]
  },
  {
   "cell_type": "code",
   "execution_count": 87,
   "metadata": {},
   "outputs": [
    {
     "data": {
      "text/plain": [
       "'Hello World!'"
      ]
     },
     "execution_count": 87,
     "metadata": {},
     "output_type": "execute_result"
    }
   ],
   "source": [
    "a[:]"
   ]
  },
  {
   "cell_type": "markdown",
   "metadata": {
    "lang": "zh-cn"
   },
   "source": [
    "请注意，`a[:]`将生成`a`的一份*复制*。某些经验丰富的人在切片中使用索引是非常直观的。如果您对切片感到不舒服，请查看[Python教程（第3.1.2节）]（http://docs.python.org/tutorial/introduction.html#strings）中的引文：\n",
    "\n",
    "> 记住切片工作原理的最佳方法是将索引视为指向字符之间，第一个字符的左边缘编号为0。然后，由5个字符组成的字符串的最后一个字符的右侧边缘具有索引5，对于例：\n",
    ">\n",
    ">      +---+---+---+---+---+ \n",
    ">      | H | e | l | l | o |\n",
    ">      +---+---+---+---+---+ \n",
    ">      0   1   2   3   4   5   <-- 用于切片\n",
    ">     -5  -4  -3  -2  -1       <-- 用于从结束开始的切片 \n",
    ">\n",
    "> 第一行数字给出切片索引0 ... 5在字符串中的位置；第二行给出相应的负索引。从i到j的切片由分别标记为i和j的边之间的所有字符组成。\n",
    "\n",
    "因此重要的声明是，对于*切片*，我们应该考虑指向字符之间的索引。\n",
    "\n",
    "对于*索引*，最好考虑引用字符的索引。这是一个总结这些规则的小图：\n",
    "\n",
    "       0   1   2   3   4    <-- 用于索引 \n",
    "      -5  -4  -3  -2  -1    <-- 用于从结束开始计算的索引 \n",
    "     +---+---+---+---+---+          \n",
    "     | H | e | l | l | o |\n",
    "     +---+---+---+---+---+ \n",
    "     0   1   2   3   4   5  <-- 用于切片\n",
    "    -5  -4  -3  -2  -1      <-- 用于从结束开始的切片 \n",
    "                             "
   ]
  },
  {
   "cell_type": "markdown",
   "metadata": {
    "lang": "zh-cn"
   },
   "source": [
    "如果您不确定正确的索引是什么，那么在编写程序之前或同时，在Python提示符下尝试一个小的示例来测试事物始终是一种比较好的技巧。\n",
    "\n",
    "### 字典\n",
    "\n",
    "字典也称为“关联数组”和“哈希表”。字典是一种*键值对*的*无序*组。\n",
    "\n",
    "可以使用大括号创建一个空字典："
   ]
  },
  {
   "cell_type": "code",
   "execution_count": 88,
   "metadata": {},
   "outputs": [],
   "source": [
    "d = {}"
   ]
  },
  {
   "cell_type": "markdown",
   "metadata": {
    "lang": "zh-cn"
   },
   "source": [
    "关键字-值对可以这样添加："
   ]
  },
  {
   "cell_type": "code",
   "execution_count": 89,
   "metadata": {},
   "outputs": [],
   "source": [
    "d['today'] = '22 deg C'    # 'today' is the keyword"
   ]
  },
  {
   "cell_type": "code",
   "execution_count": 90,
   "metadata": {},
   "outputs": [],
   "source": [
    "d['yesterday'] = '19 deg C'"
   ]
  },
  {
   "cell_type": "markdown",
   "metadata": {
    "lang": "zh-cn"
   },
   "source": [
    "d.keys()返回所有键的列表："
   ]
  },
  {
   "cell_type": "code",
   "execution_count": 91,
   "metadata": {},
   "outputs": [
    {
     "data": {
      "text/plain": [
       "dict_keys(['today', 'yesterday'])"
      ]
     },
     "execution_count": 91,
     "metadata": {},
     "output_type": "execute_result"
    }
   ],
   "source": [
    "d.keys()"
   ]
  },
  {
   "cell_type": "markdown",
   "metadata": {
    "lang": "zh-cn"
   },
   "source": [
    "我们可以通过使用关键字作为索引来检索值："
   ]
  },
  {
   "cell_type": "code",
   "execution_count": 92,
   "metadata": {},
   "outputs": [
    {
     "data": {
      "text/plain": [
       "'22 deg C'"
      ]
     },
     "execution_count": 92,
     "metadata": {},
     "output_type": "execute_result"
    }
   ],
   "source": [
    "d['today']"
   ]
  },
  {
   "cell_type": "markdown",
   "metadata": {
    "lang": "zh-cn"
   },
   "source": [
    "如果在创建字典时已经知道数据的大小，则填充字典的其他方法是："
   ]
  },
  {
   "cell_type": "code",
   "execution_count": 93,
   "metadata": {},
   "outputs": [
    {
     "data": {
      "text/plain": [
       "{2: 4, 3: 9, 4: 16, 5: 25}"
      ]
     },
     "execution_count": 93,
     "metadata": {},
     "output_type": "execute_result"
    }
   ],
   "source": [
    "d2 = {2:4, 3:9, 4:16, 5:25}\n",
    "d2"
   ]
  },
  {
   "cell_type": "code",
   "execution_count": 94,
   "metadata": {},
   "outputs": [
    {
     "data": {
      "text/plain": [
       "{'a': 1, 'b': 2, 'c': 3}"
      ]
     },
     "execution_count": 94,
     "metadata": {},
     "output_type": "execute_result"
    }
   ],
   "source": [
    "d3 = dict(a=1, b=2, c=3)\n",
    "d3"
   ]
  },
  {
   "cell_type": "markdown",
   "metadata": {
    "lang": "zh-cn"
   },
   "source": [
    "函数`dict()`创建一个空字典。\n",
    "\n",
    "其他有用的字典方法包括`values()`、`items()`和`get()`。您可以使用`in`来检查值的存在。"
   ]
  },
  {
   "cell_type": "code",
   "execution_count": 95,
   "metadata": {},
   "outputs": [
    {
     "data": {
      "text/plain": [
       "dict_values(['22 deg C', '19 deg C'])"
      ]
     },
     "execution_count": 95,
     "metadata": {},
     "output_type": "execute_result"
    }
   ],
   "source": [
    "d.values()"
   ]
  },
  {
   "cell_type": "code",
   "execution_count": 96,
   "metadata": {},
   "outputs": [
    {
     "data": {
      "text/plain": [
       "dict_items([('today', '22 deg C'), ('yesterday', '19 deg C')])"
      ]
     },
     "execution_count": 96,
     "metadata": {},
     "output_type": "execute_result"
    }
   ],
   "source": [
    "d.items()"
   ]
  },
  {
   "cell_type": "code",
   "execution_count": 97,
   "metadata": {},
   "outputs": [
    {
     "data": {
      "text/plain": [
       "'22 deg C'"
      ]
     },
     "execution_count": 97,
     "metadata": {},
     "output_type": "execute_result"
    }
   ],
   "source": [
    "d.get('today','unknown')"
   ]
  },
  {
   "cell_type": "code",
   "execution_count": 98,
   "metadata": {},
   "outputs": [
    {
     "data": {
      "text/plain": [
       "'unknown'"
      ]
     },
     "execution_count": 98,
     "metadata": {},
     "output_type": "execute_result"
    }
   ],
   "source": [
    "d.get('tomorrow','unknown')"
   ]
  },
  {
   "cell_type": "code",
   "execution_count": 99,
   "metadata": {},
   "outputs": [
    {
     "data": {
      "text/plain": [
       "True"
      ]
     },
     "execution_count": 99,
     "metadata": {},
     "output_type": "execute_result"
    }
   ],
   "source": [
    "'today' in d"
   ]
  },
  {
   "cell_type": "code",
   "execution_count": 100,
   "metadata": {},
   "outputs": [
    {
     "data": {
      "text/plain": [
       "False"
      ]
     },
     "execution_count": 100,
     "metadata": {},
     "output_type": "execute_result"
    }
   ],
   "source": [
    "'tomorrow' in d"
   ]
  },
  {
   "cell_type": "markdown",
   "metadata": {
    "lang": "zh-cn"
   },
   "source": [
    "如果该键存在，则方法`get(key,default)`将提供给定`key`的值，否则将返回`default`对象。\n",
    "\n",
    "这是一个更复杂的示例："
   ]
  },
  {
   "cell_type": "code",
   "execution_count": 101,
   "metadata": {
    "lang": "en"
   },
   "outputs": [
    {
     "name": "stdout",
     "output_type": "stream",
     "text": [
      "Peter requests Pint of bitter\n",
      "Paul requests Half pint of Hoegarden\n",
      "Mary requests Gin Tonic\n"
     ]
    }
   ],
   "source": [
    "# NBVAL_IGNORE_OUTPUT\n",
    "order = {}        # 创建一个空字典\n",
    "\n",
    "#按照客人到来的顺序添加订单\n",
    "order['Peter'] = 'Pint of bitter'\n",
    "order['Paul'] = 'Half pint of Hoegarden'\n",
    "order['Mary'] = 'Gin Tonic'\n",
    "\n",
    "#在酒吧下达订单\n",
    "for person in order.keys():\n",
    "    print(person, \"requests\", order[person])"
   ]
  },
  {
   "cell_type": "markdown",
   "metadata": {
    "lang": "zh-cn"
   },
   "source": [
    "更多的技术：\n",
    "\n",
    "- 关键字可以是任何（不可变的）Python对象。这包括：\n",
    "\n",
    "    - 数字\n",
    "\n",
    "    - 字符串\n",
    "\n",
    "    - 元组。\n",
    "\n",
    "- 字典在检索值时非常快（在提供键的情况下）\n",
    "\n",
    "另一个示例展示了使用字典胜过列表对的优势："
   ]
  },
  {
   "cell_type": "code",
   "execution_count": 102,
   "metadata": {},
   "outputs": [
    {
     "name": "stdout",
     "output_type": "stream",
     "text": [
      "Hans works in room 1033\n",
      "Andy C works in room 1031\n",
      "Ken works in room 1027\n"
     ]
    }
   ],
   "source": [
    "# NBVAL_IGNORE_OUTPUT\n",
    "dic = {}                        #创建空字典\n",
    "\n",
    "dic[\"Hans\"]   = \"room 1033\"     #填写字典\n",
    "dic[\"Andy C\"] = \"room 1031\"     #\"Andy C\" 是一个键\n",
    "dic[\"Ken\"]    = \"room 1027\"     #\"room 1027\" 是一个值\n",
    "\n",
    "for key in dic.keys():\n",
    "    print(key, \"works in\", dic[key])"
   ]
  },
  {
   "cell_type": "markdown",
   "metadata": {
    "lang": "zh-cn"
   },
   "source": [
    "不使用字典："
   ]
  },
  {
   "cell_type": "code",
   "execution_count": 103,
   "metadata": {},
   "outputs": [
    {
     "name": "stdout",
     "output_type": "stream",
     "text": [
      "Hans works in room 1033\n",
      "Andy C works in room 1031\n",
      "Ken works in room 1027\n"
     ]
    }
   ],
   "source": [
    "people = [\"Hans\",\"Andy C\",\"Ken\"]\n",
    "rooms  = [\"room 1033\",\"room 1031\",\"room 1027\"]\n",
    "\n",
    "#由于我们有两个列表，在这里列表的长度可能会不一致\n",
    "if not len( people ) == len( rooms ):\n",
    "    raise RuntimeError(\"people and rooms differ in length\")\n",
    "\n",
    "for i in range( len( rooms ) ):\n",
    "    print(people[i],\"works in\",rooms[i])"
   ]
  },
  {
   "cell_type": "markdown",
   "metadata": {
    "lang": "zh-cn"
   },
   "source": [
    "将参数传递给函数\n",
    "------------------------------\n",
    "\n",
    "本节包含一些更高级的想法，并使用了仅在本文后面介绍的概念。该部分在以后的阶段可能更容易理解。\n",
    "\n",
    "当对象传递给函数时，Python始终将对对象的引用（值）传递给函数。实际上，这是通过引用调用函数，尽管可以将其称为通过（引用的）值调用。\n",
    "\n",
    "在更详细地讨论Python的情况之前，我们将回顾按值和引用传递的参数。\n",
    "\n",
    "### 按值调用\n",
    "\n",
    "可能有人希望，如果我们按值将对象传递给函数，则在函数内部对该值的修改将不会影响该对象（因为我们不传递对象本身，而只传递其值（即副本））。这是此行为的示例（在C中）：\n",
    "\n",
    "```c\n",
    "#include <stdio.h>\n",
    "\n",
    "void pass_by_value(int m) {\n",
    "  printf(\"in pass_by_value: received m=%d\\n\",m);\n",
    "  m=42;\n",
    "  printf(\"in pass_by_value: changed to m=%d\\n\",m);\n",
    "}\n",
    "\n",
    "int main(void) {\n",
    "  int global_m = 1;\n",
    "  printf(\"global_m=%d\\n\",global_m);\n",
    "  pass_by_value(global_m);\n",
    "  printf(\"global_m=%d\\n\",global_m);\n",
    "  return 0;\n",
    "}\n",
    "```\n",
    "\n",
    "连同相应的输出：\n",
    "\n",
    "    global_m=1\n",
    "    in pass_by_value: received m=1\n",
    "    in pass_by_value: changed to m=42\n",
    "    global_m=1\n",
    "\n",
    "\n",
    "当函数`pass_by_value`将其输入参数更改为`42`时，不会修改全局变量`global_m`的值`1`。"
   ]
  },
  {
   "cell_type": "markdown",
   "metadata": {
    "lang": "zh-cn"
   },
   "source": [
    "### 通过引用调用函数\n",
    "\n",
    "另一方面，通过引用调用函数意味着赋予该函数的对象是对该对象的引用。这意味着该函数将看到与调用代码中相同的对象（因为它们引用的是同一对象：我们可以将引用视为指向该对象所在的内存位置的指针）。作用在函数内部对象上的任何更改都将在调用级别在对象中可见（因为该函数实际上是在同一个对象上操作，而不是对它的副本操作）。\n",
    "\n",
    "这是一个使用C语言中的指针显示此示例：\n",
    "\n",
    "```c\n",
    "#include <stdio.h>\n",
    "\n",
    "void pass_by_reference(int *m) {\n",
    "  printf(\"in pass_by_reference: received m=%d\\n\",*m);\n",
    "  *m=42;\n",
    "  printf(\"in pass_by_reference: changed to m=%d\\n\",*m);\n",
    "}\n",
    "\n",
    "int main(void) {\n",
    "  int global_m = 1;\n",
    "  printf(\"global_m=%d\\n\",global_m);\n",
    "  pass_by_reference(&global_m);\n",
    "  printf(\"global_m=%d\\n\",global_m);\n",
    "  return 0;\n",
    "}\n",
    "```\n",
    "\n",
    "连同相应的输出：\n",
    "\n",
    "    global_m=1\n",
    "    in pass_by_reference: received m=1\n",
    "    in pass_by_reference: changed to m=42\n",
    "    global_m=42"
   ]
  },
  {
   "cell_type": "markdown",
   "metadata": {
    "lang": "zh-cn"
   },
   "source": [
    "C++通过在函数定义的参数名称前面添加“＆”号来提供将参数作为引用传递的功能：\n",
    "\n",
    "```cpp\n",
    "#include <stdio.h>\n",
    "\n",
    "void pass_by_reference(int &m) {\n",
    "  printf(\"in pass_by_reference: received m=%d\\n\",m);\n",
    "  m=42;\n",
    "  printf(\"in pass_by_reference: changed to m=%d\\n\",m);\n",
    "}\n",
    "\n",
    "int main(void) {\n",
    "  int global_m = 1;\n",
    "  printf(\"global_m=%d\\n\",global_m);\n",
    "  pass_by_reference(global_m);\n",
    "  printf(\"global_m=%d\\n\",global_m);\n",
    "  return 0;\n",
    "}\n",
    "```\n",
    "\n",
    "连同相应的输出：\n",
    "\n",
    "    global_m=1\n",
    "    in pass_by_reference: received m=1\n",
    "    in pass_by_reference: changed to m=42\n",
    "    global_m=42"
   ]
  },
  {
   "cell_type": "markdown",
   "metadata": {
    "lang": "zh-cn"
   },
   "source": [
    "### Python中参数传递\n",
    "\n",
    "在Python中，对象作为对对象的引用（可以认为是一个指针）的值传递。根据引用在函数中的使用方式以及引用的对象的类型，这可能导致不同的传递引用行为（其中，作为函数参数接收的对象的任何更改都将立即反映在调用级别中）。\n",
    "\n",
    "这里是三个例子来讨论这一点。我们首先将一个列表传递给一个函数，该列表对序列中的所有元素进行迭代，并使每个元素的值加倍："
   ]
  },
  {
   "cell_type": "code",
   "execution_count": 1,
   "metadata": {},
   "outputs": [
    {
     "name": "stdout",
     "output_type": "stream",
     "text": [
      "In main: s=[0, 1, 2, 3, 10]\n",
      "in double_the_values: l = [0, 1, 2, 3, 10]\n",
      "in double_the_values: changed l to l = [0, 2, 4, 6, 20]\n",
      "In main: s=[0, 2, 4, 6, 20]\n"
     ]
    }
   ],
   "source": [
    "def double_the_values(l):\n",
    "    print(\"in double_the_values: l = %s\" % l)\n",
    "    for i in range(len(l)):\n",
    "        l[i] = l[i] * 2\n",
    "    print(\"in double_the_values: changed l to l = %s\" % l)\n",
    "\n",
    "l_global = [0, 1, 2, 3, 10]\n",
    "print(\"In main: s=%s\" % l_global)\n",
    "double_the_values(l_global)\n",
    "print(\"In main: s=%s\" % l_global)"
   ]
  },
  {
   "cell_type": "markdown",
   "metadata": {
    "lang": "zh-cn"
   },
   "source": [
    "变量`l`是对列表对象的引用。行`l[i] = l[i] * 2`首先计算右侧，并读取索引为`i`的元素，然后将其乘以2。然后对该新对象的引用存储在列表对象`l`中索引为`i`的位置。因此，我们修改了通过`l`引用的列表对象。\n",
    "\n",
    "对列表对象的引用永远不会改变：行`l[i] = l[i]* 2`会更改列表`l`的元素`l[i]`，但不会更改引用`l`为列表。因此，函数和调用级别都分别通过引用`l`和`global_l`在同一对象上进行操作。\n",
    "\n",
    "相反，这是一个示例，其中不修改函数内列表的元素：产生以下输出："
   ]
  },
  {
   "cell_type": "code",
   "execution_count": 105,
   "metadata": {},
   "outputs": [
    {
     "name": "stdout",
     "output_type": "stream",
     "text": [
      "In main: l=Hello\n",
      "in double_the_list: l = Hello\n",
      "in double_the_list: changed l to l = HelloHello\n",
      "In main: l=Hello\n"
     ]
    }
   ],
   "source": [
    "def double_the_list(l):\n",
    "    print(\"in double_the_list: l = %s\" % l)\n",
    "    l = l + l\n",
    "    print(\"in double_the_list: changed l to l = %s\" % l)\n",
    "\n",
    "l_global = \"Hello\"\n",
    "print(\"In main: l=%s\" % l_global)\n",
    "double_the_list(l_global)\n",
    "print(\"In main: l=%s\" % l_global)"
   ]
  },
  {
   "cell_type": "markdown",
   "metadata": {
    "lang": "zh-cn"
   },
   "source": [
    "这里究竟发生了什么呢？在评估`l = l + l`的过程中，创建了一个新的对象，其中包含`l + l`，然后将名称`l`绑定到该对象。在此过程中，我们将丢失对赋予该功能的列表对象`l`的引用（因此，我们不会更改赋予该功能的列表对象）。\n",
    "\n",
    "最后，让我们看看产生此输出的是："
   ]
  },
  {
   "cell_type": "code",
   "execution_count": 106,
   "metadata": {},
   "outputs": [
    {
     "name": "stdout",
     "output_type": "stream",
     "text": [
      "In main: s=42\n",
      "in double_the_value: l = 42\n",
      "in double_the_values: changed l to l = 84\n",
      "In main: s=42\n"
     ]
    }
   ],
   "source": [
    "def double_the_value(l):\n",
    "    print(\"in double_the_value: l = %s\" % l)\n",
    "    l = 2 * l\n",
    "    print(\"in double_the_values: changed l to l = %s\" % l)\n",
    "\n",
    "l_global = 42\n",
    "print(\"In main: s=%s\" % l_global)\n",
    "double_the_value(l_global)\n",
    "print(\"In main: s=%s\" % l_global)"
   ]
  },
  {
   "cell_type": "markdown",
   "metadata": {
    "lang": "zh-cn"
   },
   "source": [
    "在此示例中，我们还将函数中的值加倍（从42到84）。但是，当我们将对象84绑定到python名称`l`（即行`l = l * 2`）时，我们创建了一个新对象（84），并将新对象绑定到`l`。在此过程中，我们会丢失对函数中对象42的引用。这不影响对象42本身，也不影响对象的引用`l_global`。\n",
    "\n",
    "总而言之，Python将参数传递给函数的行为似乎有所不同（如果我们从按值传递与按引用传递的角度来看）。但是，它总是按值调用，其中值是对所讨论对象的引用，并且可以在每种情况下通过相同的推理来解释其行为。"
   ]
  },
  {
   "cell_type": "markdown",
   "metadata": {
    "lang": "zh-cn"
   },
   "source": [
    "### 对性能考虑\n",
    "\n",
    "按值调用函数调用要求在将值传递给函数之前先对其进行复制。从性能角度（执行时间和内存要求）来看，如果该值很大，那么这可能是一个昂贵的过程。 （想象一下，该值是一个`numpy.array`对象，其大小可能为几兆字节或几千兆字节。）\n",
    "\n",
    "人们通常更喜欢通过引用来调用大型数据对象，因为在这种情况下，仅传递指向数据对象的指针，而与对象的实际大小无关，因此通常比按值调用要快。\n",
    "\n",
    "因此，Python的（有效）通过引用进行调用的方法非常有效。但是，我们需要注意，我们的函数不要在不需要的地方修改它们给出的数据。\n",
    "\n",
    "### 数据的无意修改\n",
    "\n",
    "通常，函数不应修改作为输入的数据。\n",
    "\n",
    "例如，以下代码演示了确定列表最大值的尝试，并且 – 在无意间 – 修改了过程中的列表："
   ]
  },
  {
   "cell_type": "code",
   "execution_count": 107,
   "metadata": {},
   "outputs": [
    {
     "name": "stdout",
     "output_type": "stream",
     "text": [
      "in main before caling mymax(s): s=[-45, 3, 6, 2, -1]\n",
      "mymax(s)=6\n",
      "in main after calling mymax(s): s=[-45, 3, 6, 6, 6]\n"
     ]
    }
   ],
   "source": [
    "def mymax(s):  # demonstrating side effect\n",
    "    if len(s) == 0:\n",
    "        raise ValueError('mymax() arg is an empty sequence')\n",
    "    elif len(s) == 1:\n",
    "        return s[0]\n",
    "    else:\n",
    "        for i in range(1, len(s)):\n",
    "            if s[i] < s[i - 1]:\n",
    "                s[i] = s[i - 1]\n",
    "        return s[len(s) - 1]\n",
    "\n",
    "s = [-45, 3, 6, 2, -1]\n",
    "print(\"in main before caling mymax(s): s=%s\" % s)\n",
    "print(\"mymax(s)=%s\" % mymax(s))\n",
    "print(\"in main after calling mymax(s): s=%s\" % s)"
   ]
  },
  {
   "cell_type": "markdown",
   "metadata": {
    "lang": "zh-cn"
   },
   "source": [
    "`mymax()`函数的用户不会期望函数执行时修改输入参数。我们通常应该避免这种情况。有几种方法可以找到针对给定问题的更好的解决方案：\n",
    "\n",
    "- 在这种情况下，我们可以使用Python内置函数`max()`来获取序列的最大值。\n",
    "\n",
    "- 如果我们觉得需要坚持在列表\\[实际上这不是必须的\\]中存储临时值，则可以先创建传入列表`s`的副本，然后继续执行算法（请参见[下面](#复制-对象)）。\n",
    "\n",
    "- 使用另一种算法，该算法使用额外的临时变量，而不是为此滥用列表。例如：\n",
    "\n",
    "- 我们可以将一个元组（而不是一个列表）传递给该函数：一个元组是*不变的*，因此永远不能被修改（这将导致在函数尝试向其中的元素写入内容时引发异常。）。\n",
    "\n",
    "### 复制对象\n",
    "\n",
    "Python提供了`id()`函数，该函数返回每个对象唯一的整数。（在当前的CPython实现中，这是内存地址。）我们可以使用它来识别两个对象是否相同。\n",
    "\n",
    "要复制序列对象（包括列表），我们可以对其进行切片，*例如*如果a是列表，则`a[]`将返回a的副本。这是一个示范："
   ]
  },
  {
   "cell_type": "code",
   "execution_count": 108,
   "metadata": {},
   "outputs": [
    {
     "data": {
      "text/plain": [
       "[0, 1, 2, 3, 4, 5, 6, 7, 8, 9]"
      ]
     },
     "execution_count": 108,
     "metadata": {},
     "output_type": "execute_result"
    }
   ],
   "source": [
    "a = list(range(10))\n",
    "a"
   ]
  },
  {
   "cell_type": "code",
   "execution_count": 109,
   "metadata": {},
   "outputs": [
    {
     "data": {
      "text/plain": [
       "[42, 1, 2, 3, 4, 5, 6, 7, 8, 9]"
      ]
     },
     "execution_count": 109,
     "metadata": {},
     "output_type": "execute_result"
    }
   ],
   "source": [
    "b = a\n",
    "b[0] = 42\n",
    "a              # changing b changes a"
   ]
  },
  {
   "cell_type": "code",
   "execution_count": 110,
   "metadata": {},
   "outputs": [
    {
     "data": {
      "text/plain": [
       "2221553095560"
      ]
     },
     "execution_count": 110,
     "metadata": {},
     "output_type": "execute_result"
    }
   ],
   "source": [
    "# NBVAL_IGNORE_OUTPUT\n",
    "id(a)"
   ]
  },
  {
   "cell_type": "code",
   "execution_count": 111,
   "metadata": {},
   "outputs": [
    {
     "data": {
      "text/plain": [
       "2221553095560"
      ]
     },
     "execution_count": 111,
     "metadata": {},
     "output_type": "execute_result"
    }
   ],
   "source": [
    "# NBVAL_IGNORE_OUTPUT\n",
    "id(b)"
   ]
  },
  {
   "cell_type": "code",
   "execution_count": 112,
   "metadata": {},
   "outputs": [
    {
     "data": {
      "text/plain": [
       "2221553065352"
      ]
     },
     "execution_count": 112,
     "metadata": {},
     "output_type": "execute_result"
    }
   ],
   "source": [
    "# NBVAL_IGNORE_OUTPUT\n",
    "c = a[:] \n",
    "id(c)          # c is a different object"
   ]
  },
  {
   "cell_type": "code",
   "execution_count": 113,
   "metadata": {},
   "outputs": [
    {
     "data": {
      "text/plain": [
       "[42, 1, 2, 3, 4, 5, 6, 7, 8, 9]"
      ]
     },
     "execution_count": 113,
     "metadata": {},
     "output_type": "execute_result"
    }
   ],
   "source": [
    "c[0] = 100       \n",
    "a              # changing c does not affect a"
   ]
  },
  {
   "cell_type": "markdown",
   "metadata": {
    "lang": "zh-cn"
   },
   "source": [
    "Python的标准库提供了`复制`模块，该模块提供了可用于创建对象副本的复制功能。我们本可以使用`import copy; c = copy.deepcopy（a）替代`c = a [:]`。\n",
    "\n",
    "平等与同一性\n",
    "------------------------------\n",
    "\n",
    "一个相关的问题涉及对象的相等性。\n",
    "\n",
    "### 平等\n",
    "\n",
    "运算符`<`、 `>`、`==`、`>=`、`<=`以及`!=`比较两个对象的*数值*。这些对象不必具有相同的类型。例如："
   ]
  },
  {
   "cell_type": "code",
   "execution_count": 114,
   "metadata": {},
   "outputs": [
    {
     "data": {
      "text/plain": [
       "float"
      ]
     },
     "execution_count": 114,
     "metadata": {},
     "output_type": "execute_result"
    }
   ],
   "source": [
    "a = 1.0; b = 1\n",
    "type(a)"
   ]
  },
  {
   "cell_type": "code",
   "execution_count": 115,
   "metadata": {},
   "outputs": [
    {
     "data": {
      "text/plain": [
       "int"
      ]
     },
     "execution_count": 115,
     "metadata": {},
     "output_type": "execute_result"
    }
   ],
   "source": [
    "type(b)"
   ]
  },
  {
   "cell_type": "code",
   "execution_count": 116,
   "metadata": {},
   "outputs": [
    {
     "data": {
      "text/plain": [
       "True"
      ]
     },
     "execution_count": 116,
     "metadata": {},
     "output_type": "execute_result"
    }
   ],
   "source": [
    "a == b"
   ]
  },
  {
   "cell_type": "markdown",
   "metadata": {
    "lang": "zh-cn"
   },
   "source": [
    "因此，`==`运算符检查两个对象的值是否相等。\n",
    "\n",
    "### 身份/相同性\n",
    "\n",
    "要查看两个对象a和b是否相同（即`a`和`b`是指向内存中相同位置的引用），我们可以使用`is`运算符（上例继续）："
   ]
  },
  {
   "cell_type": "code",
   "execution_count": 117,
   "metadata": {},
   "outputs": [
    {
     "data": {
      "text/plain": [
       "False"
      ]
     },
     "execution_count": 117,
     "metadata": {},
     "output_type": "execute_result"
    }
   ],
   "source": [
    "a is b"
   ]
  },
  {
   "cell_type": "markdown",
   "metadata": {
    "lang": "zh-cn"
   },
   "source": [
    "当然，它们在这里是不同的，因为它们不是同一类型。\n",
    "\n",
    "我们还可以询问`id`函数，该函数根据Python 2.7中的文档字符串“ *返回对象的身份”。这可以保证在同时存在的对象之间是唯一的。 （提示：这是对象的内存地址。）*”"
   ]
  },
  {
   "cell_type": "code",
   "execution_count": 118,
   "metadata": {},
   "outputs": [
    {
     "data": {
      "text/plain": [
       "2221553122320"
      ]
     },
     "execution_count": 118,
     "metadata": {},
     "output_type": "execute_result"
    }
   ],
   "source": [
    "# NBVAL_IGNORE_OUTPUT\n",
    "id(a)"
   ]
  },
  {
   "cell_type": "code",
   "execution_count": 119,
   "metadata": {},
   "outputs": [
    {
     "data": {
      "text/plain": [
       "140732614418832"
      ]
     },
     "execution_count": 119,
     "metadata": {},
     "output_type": "execute_result"
    }
   ],
   "source": [
    "# NBVAL_IGNORE_OUTPUT\n",
    "id(b)"
   ]
  },
  {
   "cell_type": "markdown",
   "metadata": {
    "lang": "zh-cn"
   },
   "source": [
    "这表明` a`和`b`分别存储在内存中的不同位置。\n",
    "\n",
    "### 示例：等价与特征\n",
    "\n",
    "我们以一个涉及列表的示例结束："
   ]
  },
  {
   "cell_type": "code",
   "execution_count": 120,
   "metadata": {},
   "outputs": [
    {
     "data": {
      "text/plain": [
       "True"
      ]
     },
     "execution_count": 120,
     "metadata": {},
     "output_type": "execute_result"
    }
   ],
   "source": [
    "x = [0, 1, 2]\n",
    "y = x\n",
    "x == y"
   ]
  },
  {
   "cell_type": "code",
   "execution_count": 121,
   "metadata": {},
   "outputs": [
    {
     "data": {
      "text/plain": [
       "True"
      ]
     },
     "execution_count": 121,
     "metadata": {},
     "output_type": "execute_result"
    }
   ],
   "source": [
    "x is y"
   ]
  },
  {
   "cell_type": "code",
   "execution_count": 122,
   "metadata": {},
   "outputs": [
    {
     "data": {
      "text/plain": [
       "2221553705224"
      ]
     },
     "execution_count": 122,
     "metadata": {},
     "output_type": "execute_result"
    }
   ],
   "source": [
    "# NBVAL_IGNORE_OUTPUT\n",
    "id(x)"
   ]
  },
  {
   "cell_type": "code",
   "execution_count": 123,
   "metadata": {},
   "outputs": [
    {
     "data": {
      "text/plain": [
       "2221553705224"
      ]
     },
     "execution_count": 123,
     "metadata": {},
     "output_type": "execute_result"
    }
   ],
   "source": [
    "# NBVAL_IGNORE_OUTPUT\n",
    "id(y)"
   ]
  },
  {
   "cell_type": "markdown",
   "metadata": {
    "lang": "zh-cn"
   },
   "source": [
    "这里，`x`和`y`是对同一块内存的引用，因此它们是相同的，`is`运算符对此进行了确认。要记住的重要一点是，第2行（`y = x`）创建了一个新的引用`y`，该引用与`x`所引用的列表对象相同。\n",
    "\n",
    "因此，我们可以更改`x`的元素，并且`y`将同时更改，因为`x`和`y`都引用同一个对象："
   ]
  },
  {
   "cell_type": "code",
   "execution_count": 124,
   "metadata": {},
   "outputs": [
    {
     "data": {
      "text/plain": [
       "[0, 1, 2]"
      ]
     },
     "execution_count": 124,
     "metadata": {},
     "output_type": "execute_result"
    }
   ],
   "source": [
    "x"
   ]
  },
  {
   "cell_type": "code",
   "execution_count": 125,
   "metadata": {},
   "outputs": [
    {
     "data": {
      "text/plain": [
       "[0, 1, 2]"
      ]
     },
     "execution_count": 125,
     "metadata": {},
     "output_type": "execute_result"
    }
   ],
   "source": [
    "y"
   ]
  },
  {
   "cell_type": "code",
   "execution_count": 126,
   "metadata": {},
   "outputs": [
    {
     "data": {
      "text/plain": [
       "True"
      ]
     },
     "execution_count": 126,
     "metadata": {},
     "output_type": "execute_result"
    }
   ],
   "source": [
    "x is y"
   ]
  },
  {
   "cell_type": "code",
   "execution_count": 127,
   "metadata": {},
   "outputs": [
    {
     "data": {
      "text/plain": [
       "[100, 1, 2]"
      ]
     },
     "execution_count": 127,
     "metadata": {},
     "output_type": "execute_result"
    }
   ],
   "source": [
    "x[0] = 100\n",
    "y"
   ]
  },
  {
   "cell_type": "code",
   "execution_count": 128,
   "metadata": {},
   "outputs": [
    {
     "data": {
      "text/plain": [
       "[100, 1, 2]"
      ]
     },
     "execution_count": 128,
     "metadata": {},
     "output_type": "execute_result"
    }
   ],
   "source": [
    "x"
   ]
  },
  {
   "cell_type": "markdown",
   "metadata": {
    "lang": "zh-cn"
   },
   "source": [
    "相反，如果我们使用`z=x [:]`（而不是`z=x`）来创建新名称`z`，则切片操作`x[:]`实际上会创建列表的副本`x`，新的参考`z`指向副本。 `x`和`z`的*value*相等，但是`x`和`z`不是同一对象（它们是不相同的）："
   ]
  },
  {
   "cell_type": "code",
   "execution_count": 129,
   "metadata": {},
   "outputs": [
    {
     "data": {
      "text/plain": [
       "[100, 1, 2]"
      ]
     },
     "execution_count": 129,
     "metadata": {},
     "output_type": "execute_result"
    }
   ],
   "source": [
    "x"
   ]
  },
  {
   "cell_type": "code",
   "execution_count": 130,
   "metadata": {},
   "outputs": [
    {
     "data": {
      "text/plain": [
       "True"
      ]
     },
     "execution_count": 130,
     "metadata": {},
     "output_type": "execute_result"
    }
   ],
   "source": [
    "z = x[:]            # create copy of x before assigning to z\n",
    "z == x              # same value"
   ]
  },
  {
   "cell_type": "code",
   "execution_count": 131,
   "metadata": {},
   "outputs": [
    {
     "data": {
      "text/plain": [
       "False"
      ]
     },
     "execution_count": 131,
     "metadata": {},
     "output_type": "execute_result"
    }
   ],
   "source": [
    "z is x              # are not the same object"
   ]
  },
  {
   "cell_type": "code",
   "execution_count": 132,
   "metadata": {},
   "outputs": [
    {
     "data": {
      "text/plain": [
       "2221553735816"
      ]
     },
     "execution_count": 132,
     "metadata": {},
     "output_type": "execute_result"
    }
   ],
   "source": [
    "# NBVAL_IGNORE_OUTPUT\n",
    "id(z)               # confirm by looking at ids"
   ]
  },
  {
   "cell_type": "code",
   "execution_count": 133,
   "metadata": {},
   "outputs": [
    {
     "data": {
      "text/plain": [
       "2221553705224"
      ]
     },
     "execution_count": 133,
     "metadata": {},
     "output_type": "execute_result"
    }
   ],
   "source": [
    "# NBVAL_IGNORE_OUTPUT\n",
    "id(x)"
   ]
  },
  {
   "cell_type": "code",
   "execution_count": 134,
   "metadata": {},
   "outputs": [
    {
     "data": {
      "text/plain": [
       "[100, 1, 2]"
      ]
     },
     "execution_count": 134,
     "metadata": {},
     "output_type": "execute_result"
    }
   ],
   "source": [
    "x"
   ]
  },
  {
   "cell_type": "code",
   "execution_count": 135,
   "metadata": {},
   "outputs": [
    {
     "data": {
      "text/plain": [
       "[100, 1, 2]"
      ]
     },
     "execution_count": 135,
     "metadata": {},
     "output_type": "execute_result"
    }
   ],
   "source": [
    "z"
   ]
  },
  {
   "cell_type": "markdown",
   "metadata": {
    "lang": "zh-cn"
   },
   "source": [
    "因此，我们可以更改`x`而不更改`z`，例如（续）"
   ]
  },
  {
   "cell_type": "code",
   "execution_count": 136,
   "metadata": {},
   "outputs": [
    {
     "data": {
      "text/plain": [
       "[42, 1, 2]"
      ]
     },
     "execution_count": 136,
     "metadata": {},
     "output_type": "execute_result"
    }
   ],
   "source": [
    "x[0] = 42\n",
    "x"
   ]
  },
  {
   "cell_type": "code",
   "execution_count": 137,
   "metadata": {},
   "outputs": [
    {
     "data": {
      "text/plain": [
       "[100, 1, 2]"
      ]
     },
     "execution_count": 137,
     "metadata": {},
     "output_type": "execute_result"
    }
   ],
   "source": [
    "z"
   ]
  }
 ],
 "metadata": {
  "kernelspec": {
   "display_name": "Python 3",
   "language": "python",
   "name": "python3"
  },
  "language_info": {
   "codemirror_mode": {
    "name": "ipython",
    "version": 3
   },
   "file_extension": ".py",
   "mimetype": "text/x-python",
   "name": "python",
   "nbconvert_exporter": "python",
   "pygments_lexer": "ipython3",
   "version": "3.7.6"
  },
  "nbTranslate": {
   "displayLangs": [
    "zh-cn",
    "en"
   ],
   "hotkey": "alt-t",
   "langInMainMenu": true,
   "sourceLang": "en",
   "targetLang": "zh-cn",
   "useGoogleTranslate": true
  }
 },
 "nbformat": 4,
 "nbformat_minor": 1
}

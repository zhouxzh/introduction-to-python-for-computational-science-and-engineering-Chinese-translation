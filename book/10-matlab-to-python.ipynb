{
 "cells": [
  {
   "cell_type": "markdown",
   "metadata": {
    "lang": "zh-cn"
   },
   "source": [
    "从Matlab到Python\n",
    "=====================\n",
    "\n",
    "重要命令\n",
    "------------------\n",
    "\n",
    "### for循环\n",
    "\n",
    "Matlab:\n",
    "\n",
    "```octave\n",
    "for i = 1:10\n",
    "    disp(i)\n",
    "end\n",
    "```"
   ]
  },
  {
   "cell_type": "markdown",
   "metadata": {
    "lang": "zh-cn"
   },
   "source": [
    "Matlab在属于for循环的块末尾需要`end`关键字。\n",
    "\n",
    "Python："
   ]
  },
  {
   "cell_type": "code",
   "execution_count": 1,
   "metadata": {
    "scrolled": true
   },
   "outputs": [
    {
     "name": "stdout",
     "output_type": "stream",
     "text": [
      "1\n",
      "2\n",
      "3\n",
      "4\n",
      "5\n",
      "6\n",
      "7\n",
      "8\n",
      "9\n",
      "10\n"
     ]
    }
   ],
   "source": [
    "for i in range(1,11):\n",
    "    print(i)"
   ]
  },
  {
   "cell_type": "markdown",
   "metadata": {
    "lang": "zh-cn"
   },
   "source": [
    "Python在`for`行的处需要一个冒号（“：”）。 （这很重要，以前在Matlab中编程时，常常会忘记这一点。）Python要求在for循环中执行的命令要缩进。\n",
    "\n",
    "### if-then语句\n",
    "\n",
    "Matlab:\n",
    "\n",
    "```octave\n",
    "if a==0\n",
    "    disp('a is zero')\n",
    "elseif a<0\n",
    "    disp('a is negative')\n",
    "elseif a==42\n",
    "    disp('a is 42')\n",
    "else\n",
    "    disp('a is positive')\n",
    "end\n",
    "```"
   ]
  },
  {
   "cell_type": "markdown",
   "metadata": {
    "lang": "zh-cn"
   },
   "source": [
    "Matlab在属于for循环的代码块的最末端需要`end`关键字。\n",
    "\n",
    "Python："
   ]
  },
  {
   "cell_type": "code",
   "execution_count": 2,
   "metadata": {},
   "outputs": [
    {
     "name": "stdout",
     "output_type": "stream",
     "text": [
      "a is negative\n"
     ]
    }
   ],
   "source": [
    "a = -5\n",
    "\n",
    "if a==0:\n",
    "    print('a is zero')\n",
    "elif a<0:\n",
    "    print('a is negative')\n",
    "elif a==42:\n",
    "    print('a is 42')\n",
    "else:\n",
    "    print('a is positive')"
   ]
  },
  {
   "cell_type": "markdown",
   "metadata": {
    "lang": "zh-cn"
   },
   "source": [
    "Python在每个条件之后（即在以“ if”，“ elif”，“ else”开头的行中）都需要冒号（“：”）。Python要求在if-then-else的每个部分中执行命令要缩进的语句。\n",
    "\n",
    "### 索引\n",
    "\n",
    "Matlab对矩阵和向量的索引从1开始（类似于Fortran），而Python的索引从0开始（类似于C）。\n",
    "\n",
    "### 矩阵\n",
    "\n",
    "在Matlab中，每个对象都是一个矩阵。在Python中，有一个专门的扩展库名为numpy（请参见\\[cha:numer-pyth-numpy\\]节），它提供了array对象，而array对象又提供了相应的功能。与Matlab相似，“ numpy”对象实际上基于二进制库，并且在那里执行非常快。\n",
    "\n",
    "<https://docs.scipy.org/doc/numpy-dev/user/numpy-for-matlab-users.html>上有Matlab用户专用的numpy简介。"
   ]
  }
 ],
 "metadata": {
  "kernelspec": {
   "display_name": "Python 3",
   "language": "python",
   "name": "python3"
  },
  "language_info": {
   "codemirror_mode": {
    "name": "ipython",
    "version": 3
   },
   "file_extension": ".py",
   "mimetype": "text/x-python",
   "name": "python",
   "nbconvert_exporter": "python",
   "pygments_lexer": "ipython3",
   "version": "3.7.6"
  },
  "nbTranslate": {
   "displayLangs": [
    "zh-cn",
    "en"
   ],
   "hotkey": "alt-t",
   "langInMainMenu": true,
   "sourceLang": "en",
   "targetLang": "zh-cn",
   "useGoogleTranslate": true
  }
 },
 "nbformat": 4,
 "nbformat_minor": 1
}

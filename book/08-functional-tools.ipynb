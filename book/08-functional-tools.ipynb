{
 "cells": [
  {
   "cell_type": "markdown",
   "metadata": {
    "lang": "zh-cn"
   },
   "source": [
    "功能工具\n",
    "================\n",
    "\n",
    "Python提供了一些内置命令，例如map，filter，reduce和lambda（用于创建匿名函数）和列表理解。这些是功能语言中的典型命令，其中LISP可能是最著名的。\n",
    "\n",
    "函数式编程非常强大，Python的优势之一是它允许使用（i）命令式/过程式编程风格，（ii）面向对象风格和（iii）函数风格进行编程。程序员可以选择从哪种样式中选择工具，以及如何混合使用它们以最佳地解决给定的问题。\n",
    "\n",
    "在本章中，我们提供一些使用上面列出的命令的示例。\n",
    "\n",
    "匿名功能\n",
    "-------------------\n",
    "\n",
    "到目前为止，我们在Python中看到的所有函数都是通过`def`关键字定义的，例如："
   ]
  },
  {
   "cell_type": "code",
   "execution_count": 1,
   "metadata": {},
   "outputs": [],
   "source": [
    "def f(x):\n",
    "     return x ** 2"
   ]
  },
  {
   "cell_type": "markdown",
   "metadata": {
    "lang": "zh-cn"
   },
   "source": [
    "该功能的名称为“ f”。定义函数后（例如，Python解释器碰到了“ def”行），我们可以使用其名称来调用该函数，例如"
   ]
  },
  {
   "cell_type": "code",
   "execution_count": 2,
   "metadata": {},
   "outputs": [],
   "source": [
    "y = f(6)"
   ]
  },
  {
   "cell_type": "markdown",
   "metadata": {
    "lang": "zh-cn"
   },
   "source": [
    "有时，我们需要定义一个只能使用一次的函数，或者我们想要创建一个函数但不需要为其命名（例如创建闭包）。在这种情况下，由于没有名称，因此称为*匿名*函数。在Python中，关键字lambda可以创建一个匿名函数。\n",
    "\n",
    "我们首先创建一个（命名的）函数，检查其类型和行为："
   ]
  },
  {
   "cell_type": "code",
   "execution_count": 3,
   "metadata": {},
   "outputs": [
    {
     "data": {
      "text/plain": [
       "<function __main__.f(x)>"
      ]
     },
     "execution_count": 3,
     "metadata": {},
     "output_type": "execute_result"
    }
   ],
   "source": [
    "def f(x):\n",
    "    return x ** 2\n",
    "\n",
    "f"
   ]
  },
  {
   "cell_type": "code",
   "execution_count": 4,
   "metadata": {},
   "outputs": [
    {
     "data": {
      "text/plain": [
       "function"
      ]
     },
     "execution_count": 4,
     "metadata": {},
     "output_type": "execute_result"
    }
   ],
   "source": [
    "type(f)"
   ]
  },
  {
   "cell_type": "code",
   "execution_count": 5,
   "metadata": {},
   "outputs": [
    {
     "data": {
      "text/plain": [
       "100"
      ]
     },
     "execution_count": 5,
     "metadata": {},
     "output_type": "execute_result"
    }
   ],
   "source": [
    "f(10)"
   ]
  },
  {
   "cell_type": "markdown",
   "metadata": {
    "lang": "zh-cn"
   },
   "source": [
    "现在，我们对匿名函数执行相同的操作："
   ]
  },
  {
   "cell_type": "code",
   "execution_count": 6,
   "metadata": {},
   "outputs": [
    {
     "data": {
      "text/plain": [
       "<function __main__.<lambda>(x)>"
      ]
     },
     "execution_count": 6,
     "metadata": {},
     "output_type": "execute_result"
    }
   ],
   "source": [
    "lambda x: x ** 2"
   ]
  },
  {
   "cell_type": "code",
   "execution_count": 7,
   "metadata": {},
   "outputs": [
    {
     "data": {
      "text/plain": [
       "function"
      ]
     },
     "execution_count": 7,
     "metadata": {},
     "output_type": "execute_result"
    }
   ],
   "source": [
    "type(lambda x: x ** 2)"
   ]
  },
  {
   "cell_type": "code",
   "execution_count": 8,
   "metadata": {},
   "outputs": [
    {
     "data": {
      "text/plain": [
       "100"
      ]
     },
     "execution_count": 8,
     "metadata": {},
     "output_type": "execute_result"
    }
   ],
   "source": [
    "(lambda x: x ** 2)(10)"
   ]
  },
  {
   "cell_type": "markdown",
   "metadata": {
    "lang": "zh-cn"
   },
   "source": [
    "这完全以相同的方式工作，但是–由于匿名函数没有名称–我们需要在每次需要时（通过`lambda`表达式）定义函数。\n",
    "\n",
    "匿名函数可以采用多个参数："
   ]
  },
  {
   "cell_type": "code",
   "execution_count": 9,
   "metadata": {},
   "outputs": [
    {
     "data": {
      "text/plain": [
       "30"
      ]
     },
     "execution_count": 9,
     "metadata": {},
     "output_type": "execute_result"
    }
   ],
   "source": [
    "(lambda x, y: x + y)(10, 20)"
   ]
  },
  {
   "cell_type": "code",
   "execution_count": 10,
   "metadata": {},
   "outputs": [
    {
     "data": {
      "text/plain": [
       "60"
      ]
     },
     "execution_count": 10,
     "metadata": {},
     "output_type": "execute_result"
    }
   ],
   "source": [
    "(lambda x, y, z: (x + y) * z )(10, 20, 2)"
   ]
  },
  {
   "cell_type": "markdown",
   "metadata": {
    "lang": "zh-cn"
   },
   "source": [
    "我们将看到一些使用“ lambda”的示例，这些示例将阐明典型的用例。\n",
    "\n",
    "地图\n",
    "---\n",
    "\n",
    "映射函数“ lst2 = map（f，s）”将函数“ f”应用于序列“ s”中的所有元素。\n",
    "map的结果可以变成一个与s长度相同的列表："
   ]
  },
  {
   "cell_type": "code",
   "execution_count": 11,
   "metadata": {},
   "outputs": [
    {
     "data": {
      "text/plain": [
       "[0, 1, 4, 9, 16, 25, 36, 49, 64, 81]"
      ]
     },
     "execution_count": 11,
     "metadata": {},
     "output_type": "execute_result"
    }
   ],
   "source": [
    "def f(x): \n",
    "    return x ** 2\n",
    "lst2 = list(map(f, range(10)))\n",
    "lst2"
   ]
  },
  {
   "cell_type": "code",
   "execution_count": 12,
   "metadata": {},
   "outputs": [
    {
     "data": {
      "text/plain": [
       "['Banana', 'Apple', 'Orange']"
      ]
     },
     "execution_count": 12,
     "metadata": {},
     "output_type": "execute_result"
    }
   ],
   "source": [
    "list(map(str.capitalize, ['banana', 'apple', 'orange']))"
   ]
  },
  {
   "cell_type": "markdown",
   "metadata": {
    "lang": "zh-cn"
   },
   "source": [
    "通常，这与匿名函数“ lambda”结合使用："
   ]
  },
  {
   "cell_type": "code",
   "execution_count": 13,
   "metadata": {},
   "outputs": [
    {
     "data": {
      "text/plain": [
       "[0, 1, 4, 9, 16, 25, 36, 49, 64, 81]"
      ]
     },
     "execution_count": 13,
     "metadata": {},
     "output_type": "execute_result"
    }
   ],
   "source": [
    "list(map(lambda x: x ** 2, range(10) ))"
   ]
  },
  {
   "cell_type": "code",
   "execution_count": 14,
   "metadata": {},
   "outputs": [
    {
     "data": {
      "text/plain": [
       "['Banana', 'Apple', 'Orange']"
      ]
     },
     "execution_count": 14,
     "metadata": {},
     "output_type": "execute_result"
    }
   ],
   "source": [
    "list(map(lambda s: s.capitalize(), ['banana', 'apple', 'orange']))"
   ]
  },
  {
   "cell_type": "markdown",
   "metadata": {
    "lang": "zh-cn"
   },
   "source": [
    "过滤\n",
    "------\n",
    "\n",
    "过滤器函数lst2 = filter（f，lst）将函数f应用于序列s中的所有元素。函数“ f”应返回“ True”或“ False”。这将使列表仅包含序列`s`的元素*s*<sub>*i*</sub>，对于这些元素，`f`(*s*<sub>*i*</sub>)返回了True。"
   ]
  },
  {
   "cell_type": "code",
   "execution_count": 15,
   "metadata": {},
   "outputs": [
    {
     "data": {
      "text/plain": [
       "[6, 7, 8, 9, 10]"
      ]
     },
     "execution_count": 15,
     "metadata": {},
     "output_type": "execute_result"
    }
   ],
   "source": [
    "def greater_than_5(x):\n",
    "    if x > 5:\n",
    "            return True\n",
    "    else:\n",
    "            return False\n",
    "\n",
    "list(filter(greater_than_5, range(11)))"
   ]
  },
  {
   "cell_type": "markdown",
   "metadata": {
    "lang": "zh-cn"
   },
   "source": [
    "使用`lambda`可以大大简化此过程："
   ]
  },
  {
   "cell_type": "code",
   "execution_count": 16,
   "metadata": {},
   "outputs": [
    {
     "data": {
      "text/plain": [
       "[6, 7, 8, 9, 10]"
      ]
     },
     "execution_count": 16,
     "metadata": {},
     "output_type": "execute_result"
    }
   ],
   "source": [
    "list(filter(lambda x: x > 5, range(11)))"
   ]
  },
  {
   "cell_type": "code",
   "execution_count": 17,
   "metadata": {},
   "outputs": [
    {
     "data": {
      "text/plain": [
       "['smith', 'bob']"
      ]
     },
     "execution_count": 17,
     "metadata": {},
     "output_type": "execute_result"
    }
   ],
   "source": [
    "known_names = ['smith', 'miller', 'bob']\n",
    "list(filter( lambda name : name in known_names, \\\n",
    "     ['ago', 'smith', 'bob', 'carl']))"
   ]
  },
  {
   "cell_type": "markdown",
   "metadata": {
    "lang": "zh-cn"
   },
   "source": [
    "清单理解\n",
    "------------------\n",
    "\n",
    "列表理解提供了一种简洁的方法来创建和修改列表，而无需使用map（），filter（）和/或lambda。所得的列表定义往往比使用这些构造构建的列表更清晰。每个列表理解都包含一个表达式，后跟一个“ for”子句，然后是零个或多个“ for”或“ if”子句。结果将是一个列表，该列表是通过在紧随其后的for和if子句的上下文中评估表达式而得出的。如果表达式的计算结果为元组，则必须将其括起来。\n",
    "\n",
    "一些示例将使这一点更加清楚："
   ]
  },
  {
   "cell_type": "code",
   "execution_count": 18,
   "metadata": {},
   "outputs": [
    {
     "data": {
      "text/plain": [
       "['banana', 'loganberry', 'passion fruit']"
      ]
     },
     "execution_count": 18,
     "metadata": {},
     "output_type": "execute_result"
    }
   ],
   "source": [
    "freshfruit = ['  banana', '  loganberry ', 'passion fruit  ']\n",
    "[weapon.strip() for weapon in freshfruit]"
   ]
  },
  {
   "cell_type": "code",
   "execution_count": 19,
   "metadata": {},
   "outputs": [
    {
     "data": {
      "text/plain": [
       "[6, 12, 18]"
      ]
     },
     "execution_count": 19,
     "metadata": {},
     "output_type": "execute_result"
    }
   ],
   "source": [
    "vec = [2, 4, 6]\n",
    "[3 * x for x in vec]"
   ]
  },
  {
   "cell_type": "code",
   "execution_count": 20,
   "metadata": {},
   "outputs": [
    {
     "data": {
      "text/plain": [
       "[12, 18]"
      ]
     },
     "execution_count": 20,
     "metadata": {},
     "output_type": "execute_result"
    }
   ],
   "source": [
    "[3 * x for x in vec if x > 3]"
   ]
  },
  {
   "cell_type": "code",
   "execution_count": 21,
   "metadata": {},
   "outputs": [
    {
     "data": {
      "text/plain": [
       "[]"
      ]
     },
     "execution_count": 21,
     "metadata": {},
     "output_type": "execute_result"
    }
   ],
   "source": [
    "[3 * x for x in vec if x < 2]"
   ]
  },
  {
   "cell_type": "code",
   "execution_count": 22,
   "metadata": {},
   "outputs": [
    {
     "data": {
      "text/plain": [
       "[[2, 4], [4, 16], [6, 36]]"
      ]
     },
     "execution_count": 22,
     "metadata": {},
     "output_type": "execute_result"
    }
   ],
   "source": [
    "[[x, x ** 2] for x in vec]"
   ]
  },
  {
   "cell_type": "markdown",
   "metadata": {
    "lang": "zh-cn"
   },
   "source": [
    "我们还可以使用列表推导来修改`range`命令返回的整数列表，以使列表中的后续元素增加非整数分数："
   ]
  },
  {
   "cell_type": "code",
   "execution_count": 23,
   "metadata": {},
   "outputs": [
    {
     "data": {
      "text/plain": [
       "[0.0, 0.5, 1.0, 1.5, 2.0, 2.5, 3.0, 3.5, 4.0, 4.5]"
      ]
     },
     "execution_count": 23,
     "metadata": {},
     "output_type": "execute_result"
    }
   ],
   "source": [
    "[x*0.5 for x in range(10)]"
   ]
  },
  {
   "cell_type": "markdown",
   "metadata": {
    "lang": "zh-cn"
   },
   "source": [
    "现在，让我们回顾一下“过滤器”部分中的示例"
   ]
  },
  {
   "cell_type": "code",
   "execution_count": 24,
   "metadata": {},
   "outputs": [
    {
     "data": {
      "text/plain": [
       "[6, 7, 8, 9, 10]"
      ]
     },
     "execution_count": 24,
     "metadata": {},
     "output_type": "execute_result"
    }
   ],
   "source": [
    "[x for x in range(11) if x>5 ]"
   ]
  },
  {
   "cell_type": "code",
   "execution_count": 25,
   "metadata": {},
   "outputs": [
    {
     "data": {
      "text/plain": [
       "['smith', 'bob']"
      ]
     },
     "execution_count": 25,
     "metadata": {},
     "output_type": "execute_result"
    }
   ],
   "source": [
    "[name for name in ['ago','smith','bob','carl'] \\\n",
    "      if name in known_names]"
   ]
  },
  {
   "cell_type": "markdown",
   "metadata": {
    "lang": "zh-cn"
   },
   "source": [
    "以及“地图”部分中的示例"
   ]
  },
  {
   "cell_type": "code",
   "execution_count": 26,
   "metadata": {},
   "outputs": [
    {
     "data": {
      "text/plain": [
       "[0, 1, 4, 9, 16, 25, 36, 49, 64, 81]"
      ]
     },
     "execution_count": 26,
     "metadata": {},
     "output_type": "execute_result"
    }
   ],
   "source": [
    "[x ** 2 for x in range(10) ]"
   ]
  },
  {
   "cell_type": "code",
   "execution_count": 27,
   "metadata": {},
   "outputs": [
    {
     "data": {
      "text/plain": [
       "['Banana', 'Apple', 'Orange']"
      ]
     },
     "execution_count": 27,
     "metadata": {},
     "output_type": "execute_result"
    }
   ],
   "source": [
    "[fruit.capitalize() for fruit in ['banana', 'apple', 'orange'] ]"
   ]
  },
  {
   "cell_type": "markdown",
   "metadata": {
    "lang": "zh-cn"
   },
   "source": [
    "所有这些都可以通过列表理解来表达。\n",
    "\n",
    "更多细节\n",
    "\n",
    "- Python教程[5.1.4列表理解]（http://docs.python.org/tutorial/datastructures.html#list-comprehensions）"
   ]
  },
  {
   "cell_type": "markdown",
   "metadata": {
    "lang": "zh-cn"
   },
   "source": [
    "减少\n",
    "------\n",
    "\n",
    "“减少”功能采用二进制函数“ f（x，y）”，序列“ s”和起始值“ a0”。然后将函数“ f”应用于起始值“ a0”和序列中的第一个元素：“ a1 = f（a0，s [0]）”。然后，按如下方式处理序列的第二个元素（s [1]）：使用参数a1和s [1]调用函数f，即a2 = f（a1，s [ 1]）。以这种方式，处理整个序列。 Reduce返回单个元素。\n",
    "\n",
    "例如，如果函数`f（x，y）`返回`x + y`，可用于计算序列中的数字总和："
   ]
  },
  {
   "cell_type": "code",
   "execution_count": 28,
   "metadata": {},
   "outputs": [],
   "source": [
    "from functools import reduce"
   ]
  },
  {
   "cell_type": "code",
   "execution_count": 29,
   "metadata": {},
   "outputs": [
    {
     "data": {
      "text/plain": [
       "55"
      ]
     },
     "execution_count": 29,
     "metadata": {},
     "output_type": "execute_result"
    }
   ],
   "source": [
    "def add(x, y):\n",
    "    return x + y\n",
    "\n",
    "reduce(add, [1, 2, 3, 4, 5, 6, 7, 8, 9, 10], 0)"
   ]
  },
  {
   "cell_type": "code",
   "execution_count": 30,
   "metadata": {},
   "outputs": [
    {
     "data": {
      "text/plain": [
       "155"
      ]
     },
     "execution_count": 30,
     "metadata": {},
     "output_type": "execute_result"
    }
   ],
   "source": [
    "reduce(add, [1, 2, 3, 4, 5, 6, 7, 8, 9, 10], 100)"
   ]
  },
  {
   "cell_type": "markdown",
   "metadata": {
    "lang": "zh-cn"
   },
   "source": [
    "我们可以修改函数“ add”以提供有关该过程的更多详细信息："
   ]
  },
  {
   "cell_type": "code",
   "execution_count": 31,
   "metadata": {},
   "outputs": [
    {
     "name": "stdout",
     "output_type": "stream",
     "text": [
      "add(x=0, y=1) -> 1\n",
      "add(x=1, y=2) -> 3\n",
      "add(x=3, y=3) -> 6\n",
      "add(x=6, y=4) -> 10\n",
      "add(x=10, y=5) -> 15\n",
      "add(x=15, y=6) -> 21\n",
      "add(x=21, y=7) -> 28\n",
      "add(x=28, y=8) -> 36\n",
      "add(x=36, y=9) -> 45\n",
      "add(x=45, y=10) -> 55\n"
     ]
    },
    {
     "data": {
      "text/plain": [
       "55"
      ]
     },
     "execution_count": 31,
     "metadata": {},
     "output_type": "execute_result"
    }
   ],
   "source": [
    "def add_verbose(x, y):\n",
    "    print(\"add(x=%s, y=%s) -> %s\" % (x, y, x+y))\n",
    "    return x+y\n",
    "\n",
    "reduce(add_verbose, [1, 2, 3, 4, 5, 6, 7, 8, 9, 10], 0)"
   ]
  },
  {
   "cell_type": "markdown",
   "metadata": {
    "lang": "zh-cn"
   },
   "source": [
    "使用不对称函数“ f”（例如“ add_len（n，s）”）（其中s是一个序列，并且该函数返回“ n + len（s）”（来自Thomas Fischbacher的建议））可能是有益的："
   ]
  },
  {
   "cell_type": "code",
   "execution_count": 32,
   "metadata": {},
   "outputs": [
    {
     "data": {
      "text/plain": [
       "12"
      ]
     },
     "execution_count": 32,
     "metadata": {},
     "output_type": "execute_result"
    }
   ],
   "source": [
    "def add_len(n, s):\n",
    "    return n + len(s)\n",
    "\n",
    "reduce(add_len, [\"This\",\"is\",\"a\",\"test.\"],0)"
   ]
  },
  {
   "cell_type": "markdown",
   "metadata": {
    "lang": "zh-cn"
   },
   "source": [
    "和以前一样，我们将使用更详细的二进制函数版本来查看发生的情况："
   ]
  },
  {
   "cell_type": "code",
   "execution_count": 33,
   "metadata": {},
   "outputs": [
    {
     "name": "stdout",
     "output_type": "stream",
     "text": [
      "add_len(n=0, s=This) -> 4\n",
      "add_len(n=4, s=is) -> 6\n",
      "add_len(n=6, s=a) -> 7\n",
      "add_len(n=7, s=test.) -> 12\n"
     ]
    },
    {
     "data": {
      "text/plain": [
       "12"
      ]
     },
     "execution_count": 33,
     "metadata": {},
     "output_type": "execute_result"
    }
   ],
   "source": [
    "def add_len_verbose(n, s):\n",
    "    print(\"add_len(n=%d, s=%s) -> %d\" % (n, s, n+len(s)))\n",
    "    return n+len(s)\n",
    "\n",
    "reduce(add_len_verbose, [\"This\", \"is\", \"a\", \"test.\"], 0)"
   ]
  },
  {
   "cell_type": "markdown",
   "metadata": {
    "lang": "zh-cn"
   },
   "source": [
    "了解reduce函数的作用的另一种方法是查看以下函数（由Thomas Fischbacher友好提供），该函数的行为类似于“ reduce”，但解释了其作用：\n",
    "\n",
    "这是使用`explain_reduce`函数的示例："
   ]
  },
  {
   "cell_type": "code",
   "execution_count": 34,
   "metadata": {},
   "outputs": [],
   "source": [
    "def explain_reduce(f, xs, start=None):\n",
    "    \"\"\"This function behaves like reduce, but explains what it does,\n",
    "    step-by-step.\n",
    "    (Author: Thomas Fischbacher, modifications Hans Fangohr)\"\"\"\n",
    "    nr_xs = len(xs)\n",
    "    if start == None:\n",
    "        if nr_xs == 0:\n",
    "            raise ValueError(\"No starting value given - cannot \" + \\\n",
    "                              \"process empty list!\")\n",
    "        if nr_xs == 1:\n",
    "            print(\"reducing over 1-element list without starting \" + \\\n",
    "                  \"value: returning that element.\")\n",
    "            return xs[0]\n",
    "        else:\n",
    "            print(\"reducing over list with >= 2 elements without \" +\\\n",
    "                  \"starting value: using the first element as a \" +\\\n",
    "                  \"start value.\")\n",
    "            return explain_reduce(f, xs[1:], xs[0])\n",
    "    else:\n",
    "        s = start\n",
    "        for n in range(len(xs)):\n",
    "            x = xs[n]\n",
    "            print(\"Step %d: value-so-far=%s next-list-element=%s\"\\\n",
    "                  % (n, str(s), str(x)))\n",
    "            s = f(s, x)\n",
    "        print(\"Done. Final result=%s\" % str(s))\n",
    "        return s"
   ]
  },
  {
   "cell_type": "code",
   "execution_count": 35,
   "metadata": {},
   "outputs": [
    {
     "data": {
      "text/plain": [
       "15"
      ]
     },
     "execution_count": 35,
     "metadata": {},
     "output_type": "execute_result"
    }
   ],
   "source": [
    "def f(a, b):\n",
    "    return a + b\n",
    "\n",
    "reduce(f, [1, 2, 3, 4, 5], 0)"
   ]
  },
  {
   "cell_type": "code",
   "execution_count": 36,
   "metadata": {},
   "outputs": [
    {
     "name": "stdout",
     "output_type": "stream",
     "text": [
      "Step 0: value-so-far=0 next-list-element=1\n",
      "Step 1: value-so-far=1 next-list-element=2\n",
      "Step 2: value-so-far=3 next-list-element=3\n",
      "Step 3: value-so-far=6 next-list-element=4\n",
      "Step 4: value-so-far=10 next-list-element=5\n",
      "Done. Final result=15\n"
     ]
    },
    {
     "data": {
      "text/plain": [
       "15"
      ]
     },
     "execution_count": 36,
     "metadata": {},
     "output_type": "execute_result"
    }
   ],
   "source": [
    "explain_reduce(f, [1, 2, 3, 4, 5], 0)"
   ]
  },
  {
   "cell_type": "markdown",
   "metadata": {
    "lang": "zh-cn"
   },
   "source": [
    "reduce通常与lambda结合使用："
   ]
  },
  {
   "cell_type": "code",
   "execution_count": 37,
   "metadata": {},
   "outputs": [
    {
     "data": {
      "text/plain": [
       "15"
      ]
     },
     "execution_count": 37,
     "metadata": {},
     "output_type": "execute_result"
    }
   ],
   "source": [
    "reduce(lambda x, y: x + y, [1, 2, 3, 4, 5], 0)"
   ]
  },
  {
   "cell_type": "markdown",
   "metadata": {
    "lang": "zh-cn"
   },
   "source": [
    "还有一个`operator`模块，它提供标准的Python运算符作为函数。例如，当Python评估`a + b`之类的代码时，将执行函数`operator.__add__（a，b）`。这些通常比“ lambda”表达式快。我们可以将上面的示例写为"
   ]
  },
  {
   "cell_type": "code",
   "execution_count": 38,
   "metadata": {},
   "outputs": [
    {
     "data": {
      "text/plain": [
       "15"
      ]
     },
     "execution_count": 38,
     "metadata": {},
     "output_type": "execute_result"
    }
   ],
   "source": [
    "import operator\n",
    "reduce(operator.__add__, [1, 2, 3, 4, 5], 0)"
   ]
  },
  {
   "cell_type": "markdown",
   "metadata": {
    "lang": "zh-cn"
   },
   "source": [
    "使用“帮助（“操作员”）查看操作员功能的完整列表。\n",
    "\n",
    "为什么不只使用for循环？\n",
    "---------------------------\n",
    "\n",
    "让我们比较一下本章开头介绍的示例（i）使用for循环和（ii）列表理解。再次，我们要计算数字0<sup>2</sup>, 1<sup>2</sup>, 2<sup>2</sup>, 3<sup>2</sup>, ... 对于给定的*n*，最多可达(*n* − 1)<sup>2</sup>。\n",
    "\n",
    "使用 *n*=10 的for循环实现（i）："
   ]
  },
  {
   "cell_type": "code",
   "execution_count": 39,
   "metadata": {},
   "outputs": [],
   "source": [
    "y = []\n",
    "for i in range(10):\n",
    "    y.append(i**2)"
   ]
  },
  {
   "cell_type": "markdown",
   "metadata": {
    "lang": "zh-cn"
   },
   "source": [
    "使用列表理解的实现（ii）："
   ]
  },
  {
   "cell_type": "code",
   "execution_count": 40,
   "metadata": {},
   "outputs": [],
   "source": [
    "y = [x**2 for x in range(10)]"
   ]
  },
  {
   "cell_type": "markdown",
   "metadata": {
    "lang": "en"
   },
   "source": [
    "or using `map`:"
   ]
  },
  {
   "cell_type": "markdown",
   "metadata": {
    "lang": "zh-cn"
   },
   "source": [
    "或使用`map`："
   ]
  },
  {
   "cell_type": "code",
   "execution_count": 41,
   "metadata": {},
   "outputs": [],
   "source": [
    "y = map(lambda x: x**2, range(10))"
   ]
  },
  {
   "cell_type": "markdown",
   "metadata": {
    "lang": "zh-cn"
   },
   "source": [
    "使用列表理解和`map`的版本适合一行代码，而for循环则需要3行。此示例说明功能代码会产生非常简洁的表达式。通常，程序员犯的错误数是编写的每行代码，因此，我们拥有的代码行越少，需要查找的错误就越少。\n",
    "\n",
    "通常，程序员会发现，与使用for循环分别处理列表中的每个元素相比，本章介绍的列表处理工具似乎不那么直观，但是随着时间的推移，它们开始重视一种更具功能性的编程风格。\n",
    "\n",
    "速度\n",
    "-----\n",
    "\n",
    "与在列表元素上使用显式（for或while）循环相比，本章中描述的功能工具还可以更快。\n",
    "\n",
    "下面的程序“ list _comprehension_ speed.py”使用4种不同的方法为*N*的大数值计算$\\\\sum\\_{i=0}^{N-1} i^2$并记录执行时间：\n",
    "\n",
    "-方法1：for循环（使用预先分配的列表，将*i* undefined</sup>存储在列表中，然后使用内置的sum函数）\n",
    "\n",
    "-方法2：无列表的for循环（随着for循环的进行，更新总和）\n",
    "\n",
    "-方法3：使用清单推导\n",
    "\n",
    "-方法4：使用numpy。 （在第14章（14-numpy.ipynb）中讨论了Numpy）\n",
    "\n",
    "这是一个可能的计算此的程序："
   ]
  },
  {
   "cell_type": "code",
   "execution_count": 42,
   "metadata": {},
   "outputs": [
    {
     "name": "stdout",
     "output_type": "stream",
     "text": [
      "N = 10000000\n",
      "for-loop1: 3.309s\n",
      "for-loop2: 2.501s\n",
      "listcomp : 2.322s\n",
      "numpy    : 0.083s\n",
      "Slowest method is 39.7 times slower than the fastest method.\n"
     ]
    }
   ],
   "source": [
    "# NBVAL_IGNORE_OUTPUT\n",
    "\"\"\"Compare calculation of \\sum_i x_i^2 with\n",
    "i going from zero to N-1.\n",
    "\n",
    "We use (i) for loops and list, (ii) for-loop, (iii) list comprehension\n",
    "and (iv) numpy.\n",
    "\n",
    "We use floating numbers to avoid using Python's long int (which would\n",
    "be likely to make the timings less representative).\n",
    "\"\"\"\n",
    "\n",
    "import time\n",
    "import numpy\n",
    "N = 10000000\n",
    "\n",
    "\n",
    "def timeit(f, args):\n",
    "    \"\"\"Given a function f and a tuple args containing\n",
    "    the arguments for f, this function calls f(*args),\n",
    "    and measures and returns the execution time in\n",
    "    seconds.\n",
    "\n",
    "    Return value is tuple: entry 0 is the time,\n",
    "    entry 1 is the return value of f.\"\"\"\n",
    "\n",
    "    starttime = time.time()\n",
    "    y = f(*args)    # use tuple args as input arguments\n",
    "    endtime = time.time()\n",
    "    return endtime - starttime, y\n",
    "\n",
    "\n",
    "def forloop1(N):\n",
    "    s = 0\n",
    "    for i in range(N):\n",
    "        s += float(i) * float(i)\n",
    "    return s\n",
    "\n",
    "\n",
    "def forloop2(N):\n",
    "    y = [0] * N\n",
    "    for i in range(N):\n",
    "        y[i] = float(i) ** 2\n",
    "    return sum(y)\n",
    "\n",
    "\n",
    "def listcomp(N):\n",
    "    return sum([float(x) * x for x in range(N)])\n",
    "\n",
    "\n",
    "def numpy_(N):\n",
    "    return numpy.sum(numpy.arange(0, N, dtype='d') ** 2)\n",
    "\n",
    "# main program starts\n",
    "timings = []\n",
    "print(\"N =\", N)\n",
    "forloop1_time, f1_res = timeit(forloop1, (N,))\n",
    "timings.append(forloop1_time)\n",
    "print(\"for-loop1: {:5.3f}s\".format(forloop1_time))\n",
    "forloop2_time, f2_res = timeit(forloop2, (N,))\n",
    "timings.append(forloop2_time)\n",
    "print(\"for-loop2: {:5.3f}s\".format(forloop2_time))\n",
    "listcomp_time, lc_res = timeit(listcomp, (N,))\n",
    "timings.append(listcomp_time)\n",
    "print(\"listcomp : {:5.3f}s\".format(listcomp_time))\n",
    "numpy_time, n_res = timeit(numpy_, (N,))\n",
    "timings.append(numpy_time)\n",
    "print(\"numpy    : {:5.3f}s\".format(numpy_time))\n",
    "\n",
    "# ensure that different methods provide identical results\n",
    "assert f1_res == f2_res\n",
    "assert f1_res == lc_res\n",
    "\n",
    "# Allow a bit of difference for the numpy calculation\n",
    "numpy.testing.assert_approx_equal(f1_res, n_res)\n",
    "\n",
    "print(\"Slowest method is {:.1f} times slower than the fastest method.\"\n",
    "      .format(max(timings)/min(timings)))"
   ]
  },
  {
   "cell_type": "markdown",
   "metadata": {
    "lang": "zh-cn"
   },
   "source": [
    "实际的执行性能取决于计算机。相对性能可能取决于我们使用的Python版本及其支持库（例如numpy）。\n",
    "\n",
    "使用当前版本（运行OS X的x84机器上的python 3.6，numpy 1.11），我们看到方法1和2（无列表且带预分配列表的for循环）最慢，紧随其后的是稍快的方法列表理解。最快的方法是数字4（使用numpy）。"
   ]
  },
  {
   "cell_type": "markdown",
   "metadata": {
    "lang": "zh-cn"
   },
   "source": [
    "`%% timeit`魔术\n",
    "-------------------\n",
    "\n",
    "如果我们使用IPython作为外壳（或运行Python内核的Jupyter笔记本中的单元），则有一种更加复杂的方法来测量上述时间：如果单元以`%%timeit`开头，则IPython将在该单元中重复运行命令并获得（平均）计时。这对于定时执行相对较快的命令特别有用。\n",
    "\n",
    "让我们使用`timeit`魔术将列表理解与显式循环进行比较："
   ]
  },
  {
   "cell_type": "code",
   "execution_count": 1,
   "metadata": {},
   "outputs": [
    {
     "name": "stdout",
     "output_type": "stream",
     "text": [
      "47.1 µs ± 446 ns per loop (mean ± std. dev. of 7 runs, 10000 loops each)\n"
     ]
    }
   ],
   "source": [
    "%%timeit\n",
    "y = [x**2 for x in range(100)]"
   ]
  },
  {
   "cell_type": "code",
   "execution_count": 2,
   "metadata": {},
   "outputs": [
    {
     "name": "stdout",
     "output_type": "stream",
     "text": [
      "51.7 µs ± 314 ns per loop (mean ± std. dev. of 7 runs, 10000 loops each)\n"
     ]
    }
   ],
   "source": [
    "%%timeit\n",
    "y = []\n",
    "for x in range(100):\n",
    "    y.append(x**2)"
   ]
  }
 ],
 "metadata": {
  "anaconda-cloud": {},
  "kernelspec": {
   "display_name": "Python 3",
   "language": "python",
   "name": "python3"
  },
  "language_info": {
   "codemirror_mode": {
    "name": "ipython",
    "version": 3
   },
   "file_extension": ".py",
   "mimetype": "text/x-python",
   "name": "python",
   "nbconvert_exporter": "python",
   "pygments_lexer": "ipython3",
   "version": "3.7.6"
  },
  "nbTranslate": {
   "displayLangs": [
    "en",
    "zh-cn"
   ],
   "hotkey": "alt-t",
   "langInMainMenu": true,
   "sourceLang": "en",
   "targetLang": "zh-cn",
   "useGoogleTranslate": true
  }
 },
 "nbformat": 4,
 "nbformat_minor": 1
}

{
 "cells": [
  {
   "cell_type": "markdown",
   "metadata": {
    "lang": "zh-cn"
   },
   "source": [
    "输入输出\n",
    "================\n",
    "\n",
    "在本节中，我们描述打印，包括使用`print`函数，旧式的`%`格式说明符和新式的`{}`格式说明符。\n",
    "\n",
    "打印到标准输出（通常是屏幕）\n",
    "-------------------------------------------------\n",
    "\n",
    "`print`函数是将信息打印到通常是屏幕的“标准输出设备”上的最常用命令。\n",
    "\n",
    "有两种使用打印的模式。\n",
    "\n",
    "### 简单打印\n",
    "\n",
    "使用print命令最简单的方法是列出要打印的变量，以逗号分隔。这里有一些例子："
   ]
  },
  {
   "cell_type": "code",
   "execution_count": 1,
   "metadata": {},
   "outputs": [
    {
     "name": "stdout",
     "output_type": "stream",
     "text": [
      "10\n"
     ]
    }
   ],
   "source": [
    "a = 10\n",
    "b = 'test text'\n",
    "print(a)"
   ]
  },
  {
   "cell_type": "code",
   "execution_count": 2,
   "metadata": {},
   "outputs": [
    {
     "name": "stdout",
     "output_type": "stream",
     "text": [
      "test text\n"
     ]
    }
   ],
   "source": [
    "print(b)"
   ]
  },
  {
   "cell_type": "code",
   "execution_count": 3,
   "metadata": {},
   "outputs": [
    {
     "name": "stdout",
     "output_type": "stream",
     "text": [
      "10 test text\n"
     ]
    }
   ],
   "source": [
    "print(a, b)"
   ]
  },
  {
   "cell_type": "code",
   "execution_count": 4,
   "metadata": {},
   "outputs": [
    {
     "name": "stdout",
     "output_type": "stream",
     "text": [
      "The answer is 10\n"
     ]
    }
   ],
   "source": [
    "print(\"The answer is\", a)"
   ]
  },
  {
   "cell_type": "code",
   "execution_count": 5,
   "metadata": {},
   "outputs": [
    {
     "name": "stdout",
     "output_type": "stream",
     "text": [
      "The answer is 10 and the string contains test text\n"
     ]
    }
   ],
   "source": [
    "print(\"The answer is\", a, \"and the string contains\", b)"
   ]
  },
  {
   "cell_type": "code",
   "execution_count": 6,
   "metadata": {},
   "outputs": [
    {
     "name": "stdout",
     "output_type": "stream",
     "text": [
      "The answer is 10 and the string reads test text\n"
     ]
    }
   ],
   "source": [
    "print(\"The answer is\", a, \"and the string reads\", b)"
   ]
  },
  {
   "cell_type": "markdown",
   "metadata": {
    "lang": "zh-cn"
   },
   "source": [
    "Python在每个要打印的对象之间添加一个空格。\n",
    "\n",
    "每次打印调用后，Python都会打印一行新内容。要抑制这种情况，请使用参数`end =`："
   ]
  },
  {
   "cell_type": "code",
   "execution_count": 7,
   "metadata": {},
   "outputs": [
    {
     "name": "stdout",
     "output_type": "stream",
     "text": [
      "Printing in line one...still printing in line one.\n"
     ]
    }
   ],
   "source": [
    "print(\"Printing in line one\", end='')\n",
    "print(\"...still printing in line one.\")"
   ]
  },
  {
   "cell_type": "markdown",
   "metadata": {
    "lang": "zh-cn"
   },
   "source": [
    "### 格式化打印\n",
    "\n",
    "更复杂的格式化输出格式的方法使用的语法与Matlab的`fprintf`非常相似（因此也类似于C的`printf`）。\n",
    "\n",
    "总体结构是，有一个包含格式说明符的字符串，后跟一个百分号和一个元组，其中包含要打印的变量以代替格式说明符。"
   ]
  },
  {
   "cell_type": "code",
   "execution_count": 8,
   "metadata": {},
   "outputs": [
    {
     "name": "stdout",
     "output_type": "stream",
     "text": [
      "a = 10 b = 20\n"
     ]
    }
   ],
   "source": [
    "print(\"a = %d b = %d\" % (10,20))"
   ]
  },
  {
   "cell_type": "markdown",
   "metadata": {
    "lang": "zh-cn"
   },
   "source": [
    "字符串可以包含格式标识符（例如，将`%f`格式化为浮点型，将`%d`格式化为整数，将`%s`格式化为字符串）："
   ]
  },
  {
   "cell_type": "code",
   "execution_count": 9,
   "metadata": {},
   "outputs": [
    {
     "name": "stdout",
     "output_type": "stream",
     "text": [
      "Pi =  3.14\n"
     ]
    }
   ],
   "source": [
    "from math import pi\n",
    "print(\"Pi = %5.2f\" % pi)"
   ]
  },
  {
   "cell_type": "code",
   "execution_count": 10,
   "metadata": {},
   "outputs": [
    {
     "name": "stdout",
     "output_type": "stream",
     "text": [
      "Pi =      3.142\n"
     ]
    }
   ],
   "source": [
    "print(\"Pi = %10.3f\" % pi)"
   ]
  },
  {
   "cell_type": "code",
   "execution_count": 11,
   "metadata": {},
   "outputs": [
    {
     "name": "stdout",
     "output_type": "stream",
     "text": [
      "Pi = 3.14159265\n"
     ]
    }
   ],
   "source": [
    "print(\"Pi = %10.8f\" % pi)"
   ]
  },
  {
   "cell_type": "code",
   "execution_count": 12,
   "metadata": {},
   "outputs": [
    {
     "name": "stdout",
     "output_type": "stream",
     "text": [
      "Pi = 3\n"
     ]
    }
   ],
   "source": [
    "print(\"Pi = %d\" % pi)"
   ]
  },
  {
   "cell_type": "markdown",
   "metadata": {
    "lang": "zh-cn"
   },
   "source": [
    "类型为`%W.Df`的格式说明符表示浮点数的打印总宽度应为W字符，小数点后面应为D位数。 （例如这与Matlab和C相同。）\n",
    "\n",
    "要打印多个对象，请提供多个格式说明符并在元组中列出几个对象："
   ]
  },
  {
   "cell_type": "code",
   "execution_count": 13,
   "metadata": {},
   "outputs": [
    {
     "name": "stdout",
     "output_type": "stream",
     "text": [
      "Pi = 3.141593, 142*pi = 446.106157 and pi^2 = 9.869604.\n"
     ]
    }
   ],
   "source": [
    "print(\"Pi = %f, 142*pi = %f and pi^2 = %f.\" % (pi,142*pi,pi**2))"
   ]
  },
  {
   "cell_type": "markdown",
   "metadata": {
    "lang": "zh-cn"
   },
   "source": [
    "注意格式说明符和变量元组到字符串的转换不依赖于`print`命令："
   ]
  },
  {
   "cell_type": "code",
   "execution_count": 14,
   "metadata": {},
   "outputs": [
    {
     "data": {
      "text/plain": [
       "'pi = 3.141593'"
      ]
     },
     "execution_count": 14,
     "metadata": {},
     "output_type": "execute_result"
    }
   ],
   "source": [
    "from math import pi\n",
    "\"pi = %f\" % pi"
   ]
  },
  {
   "cell_type": "markdown",
   "metadata": {
    "lang": "zh-cn"
   },
   "source": [
    "这意味着我们可以在任何需要的地方将对象转换为字符串，然后我们可以决定稍后再打印字符串–无需将格式与执行打印的代码紧密耦合。\n",
    "\n",
    "以天文单位为例的常用格式说明符概述："
   ]
  },
  {
   "cell_type": "code",
   "execution_count": 15,
   "metadata": {},
   "outputs": [
    {
     "data": {
      "text/plain": [
       "'149597870700.000000'"
      ]
     },
     "execution_count": 15,
     "metadata": {},
     "output_type": "execute_result"
    }
   ],
   "source": [
    "AU = 149597870700  # astronomical unit [m]\n",
    "\"%f\" % AU        # line 1 in table"
   ]
  },
  {
   "cell_type": "markdown",
   "metadata": {
    "lang": "zh-cn"
   },
   "source": [
    "| 格式         |         类型         |  AU的输出|\n",
    "|:------------------|:---------------------:|----------------------:|\n",
    "| `%f` |     浮点数    |  `149597870700.000000`|\n",
    "| `%e` |  科学计数法 |         `1.495979e+11`|\n",
    "| `%g` |  shorter of %e or %f  |          `1.49598e+11`|\n",
    "| `%d` |        整数        |         `149597870700`|\n",
    "| `%s` |  `str()` |         `149597870700`|\n",
    "| `%r` | `repr()` |        `149597870700L`|\n",
    "\n",
    "### “ str”和“\\_\\_str\\_\\_”\n",
    "\n",
    "Python中的所有对象都应提供方法`__str__`，该方法返回对象的漂亮字符串表示形式。当我们将`str`函数应用到对象`a`时，将调用方法`a.__str__()`："
   ]
  },
  {
   "cell_type": "code",
   "execution_count": 16,
   "metadata": {},
   "outputs": [
    {
     "data": {
      "text/plain": [
       "'3.14'"
      ]
     },
     "execution_count": 16,
     "metadata": {},
     "output_type": "execute_result"
    }
   ],
   "source": [
    "a = 3.14\n",
    "a.__str__()"
   ]
  },
  {
   "cell_type": "code",
   "execution_count": 17,
   "metadata": {},
   "outputs": [
    {
     "data": {
      "text/plain": [
       "'3.14'"
      ]
     },
     "execution_count": 17,
     "metadata": {},
     "output_type": "execute_result"
    }
   ],
   "source": [
    "str(a)"
   ]
  },
  {
   "cell_type": "markdown",
   "metadata": {
    "lang": "en"
   },
   "source": [
    "The `str` function is extremely convenient as it allows us to print more complicated objects, such as"
   ]
  },
  {
   "cell_type": "markdown",
   "metadata": {
    "lang": "zh-cn"
   },
   "source": [
    "str函数非常方便，因为它允许我们打印更复杂的对象，例如"
   ]
  },
  {
   "cell_type": "code",
   "execution_count": 18,
   "metadata": {},
   "outputs": [
    {
     "data": {
      "text/plain": [
       "\"[3, 4.2, ['apple', 'banana'], (0, 1)]\""
      ]
     },
     "execution_count": 18,
     "metadata": {},
     "output_type": "execute_result"
    }
   ],
   "source": [
    "b = [3, 4.2, ['apple', 'banana'], (0, 1)]\n",
    "str(b)"
   ]
  },
  {
   "cell_type": "markdown",
   "metadata": {
    "lang": "zh-cn"
   },
   "source": [
    "Python进行打印的方式是它使用列表对象的`__str__`方法。这将打印方括号“ [”，然后调用第一个对象的`__str__`方法，即整数3。这将生成“ 3”。然后，列表对象的`__ str __`方法将打印逗号`，`并继续调用列表中下一个元素（即`4.2`）的`__ str __`方法。打印自己。这样，通过要求复合对象将自己转换为字符串，可以将其表示为字符串。\n",
    "\n",
    "当我们将对象“ x”的字符串方法隐式调用时\n",
    "\n",
    "-使用“％s”格式说明符来打印“ x”\n",
    "\n",
    "-将对象“ x”直接传递给打印命令：\n",
    "\n",
    "<!-- -->"
   ]
  },
  {
   "cell_type": "code",
   "execution_count": 19,
   "metadata": {},
   "outputs": [
    {
     "name": "stdout",
     "output_type": "stream",
     "text": [
      "[3, 4.2, ['apple', 'banana'], (0, 1)]\n"
     ]
    }
   ],
   "source": [
    "print(b)"
   ]
  },
  {
   "cell_type": "code",
   "execution_count": 20,
   "metadata": {},
   "outputs": [
    {
     "name": "stdout",
     "output_type": "stream",
     "text": [
      "[3, 4.2, ['apple', 'banana'], (0, 1)]\n"
     ]
    }
   ],
   "source": [
    "print(\"%s\" % b)"
   ]
  },
  {
   "cell_type": "markdown",
   "metadata": {
    "lang": "zh-cn"
   },
   "source": [
    "### “repr” 和 “\\_\\_repr\\_\\_”\n",
    "\n",
    "第二个函数“ repr”应将给定的对象转换为字符串表示形式*，以便可以使用“ eval”函数*将该字符串用于重新创建对象。 repr函数通常会提供比str更详细的字符串。将`repr`应用于对象`x`将尝试调用`x.__repr__（）`。"
   ]
  },
  {
   "cell_type": "code",
   "execution_count": 21,
   "metadata": {},
   "outputs": [
    {
     "data": {
      "text/plain": [
       "'3.141592653589793'"
      ]
     },
     "execution_count": 21,
     "metadata": {},
     "output_type": "execute_result"
    }
   ],
   "source": [
    "from math import pi as a1\n",
    "str(a1)"
   ]
  },
  {
   "cell_type": "code",
   "execution_count": 22,
   "metadata": {},
   "outputs": [
    {
     "data": {
      "text/plain": [
       "'3.141592653589793'"
      ]
     },
     "execution_count": 22,
     "metadata": {},
     "output_type": "execute_result"
    }
   ],
   "source": [
    "repr(a1)"
   ]
  },
  {
   "cell_type": "code",
   "execution_count": 23,
   "metadata": {},
   "outputs": [
    {
     "data": {
      "text/plain": [
       "3.141592653589793"
      ]
     },
     "execution_count": 23,
     "metadata": {},
     "output_type": "execute_result"
    }
   ],
   "source": [
    "number_as_string = repr(a1)\n",
    "a2 = eval(number_as_string)  # evaluate string \n",
    "a2"
   ]
  },
  {
   "cell_type": "code",
   "execution_count": 24,
   "metadata": {},
   "outputs": [
    {
     "data": {
      "text/plain": [
       "0.0"
      ]
     },
     "execution_count": 24,
     "metadata": {},
     "output_type": "execute_result"
    }
   ],
   "source": [
    "a2-a1                      # -> repr is exact representation"
   ]
  },
  {
   "cell_type": "code",
   "execution_count": 25,
   "metadata": {},
   "outputs": [
    {
     "data": {
      "text/plain": [
       "0.0"
      ]
     },
     "execution_count": 25,
     "metadata": {},
     "output_type": "execute_result"
    }
   ],
   "source": [
    "a1-eval(repr(a1))"
   ]
  },
  {
   "cell_type": "code",
   "execution_count": 26,
   "metadata": {},
   "outputs": [
    {
     "data": {
      "text/plain": [
       "0.0"
      ]
     },
     "execution_count": 26,
     "metadata": {},
     "output_type": "execute_result"
    }
   ],
   "source": [
    "a1-eval(str(a1))           # -> str has lost a few digits"
   ]
  },
  {
   "cell_type": "markdown",
   "metadata": {
    "lang": "zh-cn"
   },
   "source": [
    "我们可以分别使用格式说明符``%s and ``%r，将对象转换为其`str（）`或`repr`表示形式。"
   ]
  },
  {
   "cell_type": "code",
   "execution_count": 27,
   "metadata": {},
   "outputs": [
    {
     "data": {
      "text/plain": [
       "'3.141592653589793'"
      ]
     },
     "execution_count": 27,
     "metadata": {},
     "output_type": "execute_result"
    }
   ],
   "source": [
    "import math\n",
    "\"%s\" % math.pi"
   ]
  },
  {
   "cell_type": "code",
   "execution_count": 28,
   "metadata": {},
   "outputs": [
    {
     "data": {
      "text/plain": [
       "'3.141592653589793'"
      ]
     },
     "execution_count": 28,
     "metadata": {},
     "output_type": "execute_result"
    }
   ],
   "source": [
    "\"%r\" % math.pi"
   ]
  },
  {
   "cell_type": "markdown",
   "metadata": {
    "lang": "zh-cn"
   },
   "source": [
    "###新型字符串格式\n",
    "\n",
    "一个新的内置格式系统可以为复杂的情况提供更大的灵活性，但会花费更长的时间。\n",
    "\n",
    "示例中的基本思想："
   ]
  },
  {
   "cell_type": "code",
   "execution_count": 29,
   "metadata": {},
   "outputs": [
    {
     "data": {
      "text/plain": [
       "'Peter needs 4 pints'"
      ]
     },
     "execution_count": 29,
     "metadata": {},
     "output_type": "execute_result"
    }
   ],
   "source": [
    "\"{} needs {} pints\".format('Peter', 4)     # insert values in order"
   ]
  },
  {
   "cell_type": "code",
   "execution_count": 30,
   "metadata": {},
   "outputs": [
    {
     "data": {
      "text/plain": [
       "'Peter needs 4 pints'"
      ]
     },
     "execution_count": 30,
     "metadata": {},
     "output_type": "execute_result"
    }
   ],
   "source": [
    "\"{0} needs {1} pints\".format('Peter', 4)   # index which element"
   ]
  },
  {
   "cell_type": "code",
   "execution_count": 31,
   "metadata": {},
   "outputs": [
    {
     "data": {
      "text/plain": [
       "'4 needs Peter pints'"
      ]
     },
     "execution_count": 31,
     "metadata": {},
     "output_type": "execute_result"
    }
   ],
   "source": [
    "\"{1} needs {0} pints\".format('Peter', 4)"
   ]
  },
  {
   "cell_type": "code",
   "execution_count": 32,
   "metadata": {},
   "outputs": [
    {
     "data": {
      "text/plain": [
       "'Peter needs 4 pints'"
      ]
     },
     "execution_count": 32,
     "metadata": {},
     "output_type": "execute_result"
    }
   ],
   "source": [
    "\"{name} needs {number} pints\".format(    # reference element to\n",
    "    name='Peter',number=4)               # print by name"
   ]
  },
  {
   "cell_type": "code",
   "execution_count": 33,
   "metadata": {},
   "outputs": [
    {
     "data": {
      "text/plain": [
       "'Pi is approximately 3.141593.'"
      ]
     },
     "execution_count": 33,
     "metadata": {},
     "output_type": "execute_result"
    }
   ],
   "source": [
    "\"Pi is approximately {:f}.\".format(math.pi)     # can use old-style format options for float"
   ]
  },
  {
   "cell_type": "code",
   "execution_count": 34,
   "metadata": {},
   "outputs": [
    {
     "data": {
      "text/plain": [
       "'Pi is approximately 3.14.'"
      ]
     },
     "execution_count": 34,
     "metadata": {},
     "output_type": "execute_result"
    }
   ],
   "source": [
    "\"Pi is approximately {:.2f}.\".format(math.pi)   # and precision"
   ]
  },
  {
   "cell_type": "code",
   "execution_count": 35,
   "metadata": {
    "scrolled": true
   },
   "outputs": [
    {
     "data": {
      "text/plain": [
       "'Pi is approximately   3.14.'"
      ]
     },
     "execution_count": 35,
     "metadata": {},
     "output_type": "execute_result"
    }
   ],
   "source": [
    "\"Pi is approximately {:6.2f}.\".format(math.pi)  # and width"
   ]
  },
  {
   "cell_type": "markdown",
   "metadata": {
    "lang": "zh-cn"
   },
   "source": [
    "这是字符串格式化的一种强大而优雅的方式，正在逐渐被越来越多地使用。\n",
    "\n",
    "＃＃＃＃＃ 更多信息\n",
    "\n",
    "-范例<http://docs.python.org/library/string.html#format-examples>\n",
    "\n",
    "-[Python增强建议3101]（http://www.python.org/dev/peps/pep-3101/）\n",
    "\n",
    "-[Python库字符串格式化操作]（http://docs.python.org/library/stdtypes.html#string-formatting-operations）\n",
    "\n",
    "-[旧字串格式]（http://docs.python.org/tutorial/inputoutput.html#old-string-formatting）\n",
    "\n",
    "-[Fancier输出格式简介，Python教程，第7.1节]（http://docs.python.org/tutorial/inputoutput.html）"
   ]
  },
  {
   "cell_type": "markdown",
   "metadata": {
    "lang": "zh-cn"
   },
   "source": [
    "###从Python 2到Python 3的更改：`print`\n",
    "\n",
    "从Python 2到Python 3的一个变化（也许是最明显的变化）是`print`命令失去了它的特殊状态。在Python 2中，我们可以使用以下命令打印“ Hello World”：\n",
    "\n",
    "python\n",
    "打印“ Hello world”＃在Python 2.x中有效\n",
    "```"
   ]
  },
  {
   "cell_type": "markdown",
   "metadata": {
    "lang": "zh-cn"
   },
   "source": [
    "实际上，我们将参数“ Hello World”称为“ print”函数。调用Python中的所有其他函数时，会将参数括在括号中，即"
   ]
  },
  {
   "cell_type": "code",
   "execution_count": 36,
   "metadata": {},
   "outputs": [
    {
     "name": "stdout",
     "output_type": "stream",
     "text": [
      "Hello World\n"
     ]
    }
   ],
   "source": [
    "print(\"Hello World\")               # valid in Python 3.x"
   ]
  },
  {
   "cell_type": "markdown",
   "metadata": {
    "lang": "zh-cn"
   },
   "source": [
    "这是Python 3中新的惯例*必需*（对于最新版本的Python 2.x，则是*allowed*）。\n",
    "\n",
    "我们所了解的有关使用百分比运算符设置字符串格式的所有内容仍以相同的方式工作："
   ]
  },
  {
   "cell_type": "code",
   "execution_count": 37,
   "metadata": {},
   "outputs": [
    {
     "data": {
      "text/plain": [
       "'my pi = 3.141593'"
      ]
     },
     "execution_count": 37,
     "metadata": {},
     "output_type": "execute_result"
    }
   ],
   "source": [
    "import math\n",
    "a = math.pi\n",
    "\"my pi = %f\" % a           # string formatting"
   ]
  },
  {
   "cell_type": "code",
   "execution_count": 38,
   "metadata": {},
   "outputs": [
    {
     "name": "stdout",
     "output_type": "stream",
     "text": [
      "my pi = 3.141593\n"
     ]
    }
   ],
   "source": [
    "print(\"my pi = %f\" % a)    # valid print in 2.7 and 3.x"
   ]
  },
  {
   "cell_type": "code",
   "execution_count": 39,
   "metadata": {},
   "outputs": [
    {
     "data": {
      "text/plain": [
       "'Short pi = 3.14, longer pi = 3.141592653590.'"
      ]
     },
     "execution_count": 39,
     "metadata": {},
     "output_type": "execute_result"
    }
   ],
   "source": [
    "\"Short pi = %.2f, longer pi = %.12f.\" % (a, a)"
   ]
  },
  {
   "cell_type": "code",
   "execution_count": 40,
   "metadata": {},
   "outputs": [
    {
     "name": "stdout",
     "output_type": "stream",
     "text": [
      "Short pi = 3.14, longer pi = 3.141592653590.\n"
     ]
    }
   ],
   "source": [
    "print(\"Short pi = %.2f, longer pi = %.12f.\" % (a, a))"
   ]
  },
  {
   "cell_type": "code",
   "execution_count": 41,
   "metadata": {},
   "outputs": [
    {
     "name": "stdout",
     "output_type": "stream",
     "text": [
      "Short pi = 3.14, longer pi = 3.141592653590.\n"
     ]
    }
   ],
   "source": [
    "print(\"Short pi = %.2f, longer pi = %.12f.\" % (a, a))"
   ]
  },
  {
   "cell_type": "code",
   "execution_count": 42,
   "metadata": {},
   "outputs": [
    {
     "name": "stdout",
     "output_type": "stream",
     "text": [
      "Writing text to file. This is the first line.\n",
      "And the second line.\n"
     ]
    }
   ],
   "source": [
    "# 1. Write a file\n",
    "out_file = open(\"test.txt\", \"w\")          #'w' stands for Writing\n",
    "out_file.write(\"Writing text to file. This is the first line.\\n\"+\\\n",
    "               \"And the second line.\")\n",
    "out_file.close()                          #close the file\n",
    " \n",
    "# 2. Read a file\n",
    "in_file = open(\"test.txt\", \"r\")           #'r' stands for Reading\n",
    "text = in_file.read()                     #read complete file into \n",
    "                                          #string variable text\n",
    "in_file.close()                           #close the file\n",
    " \n",
    "# 3. Display data\n",
    "print(text)"
   ]
  },
  {
   "cell_type": "markdown",
   "metadata": {
    "lang": "zh-cn"
   },
   "source": [
    "读写文件\n",
    "-------------------------\n",
    "\n",
    "这是一个程序\n",
    "\n",
    "1.将一些文本写入名为“ test.txt”的文件，\n",
    "\n",
    "2.然后再次阅读文本，然后\n",
    "\n",
    "3.将其打印到屏幕上。\n",
    "\n",
    "<!-- -->"
   ]
  },
  {
   "cell_type": "markdown",
   "metadata": {
    "lang": "zh-cn"
   },
   "source": [
    "存储在文件test.txt中的数据是：\n",
    "\n",
    "```\n",
    "将文本写入文件。这是第一行。\n",
    "和第二行。\n",
    "```"
   ]
  },
  {
   "cell_type": "markdown",
   "metadata": {
    "lang": "zh-cn"
   },
   "source": [
    "更详细地讲，您已经使用“ open”命令打开了一个文件，并将该打开文件对象分配给了变量“ out _file”。然后，我们使用`out_ file.write`方法将数据写入文件。注意，在上面的示例中，我们为`write`方法提供了一个字符串。当然，我们可以使用我们之前讨论的所有格式-请参阅[格式化打印]（＃Formatted-printing）和[新样式格式]（＃New-style-string-formatting）。例如，要使用表table.txt编写此文件，可以使用此Python程序。读写完成后，最好关闭文件close（）。如果以受控方式保留Python程序（即不通过断电或Python语言或操作系统中的深度较小的漏洞），则一旦文件对象被破坏，它将关闭所有打开的文件。但是，尽快关闭它们是更好的样式。\n",
    "\n",
    "###文件阅读示例\n",
    "\n",
    "对于以下示例，我们使用名为“ myfile.txt”的文件，其中包含以下3行文本：\n",
    "\n",
    "    这是第一行。\n",
    "    这是第二行。\n",
    "    这是第三行也是最后一行。"
   ]
  },
  {
   "cell_type": "code",
   "execution_count": 43,
   "metadata": {
    "collapsed": true
   },
   "outputs": [],
   "source": [
    "f = open('myfile.txt', 'w')\n",
    "f.write('This is the first line.\\n'\n",
    "        'This is the second line.\\n'\n",
    "        'This is a third and last line.')\n",
    "f.close()"
   ]
  },
  {
   "cell_type": "markdown",
   "metadata": {
    "lang": "zh-cn"
   },
   "source": [
    "#### fileobject.read（）\n",
    "\n",
    "`fileobject.read（）`方法读取整个文件，并将其作为一个字符串（包括换行符）返回。"
   ]
  },
  {
   "cell_type": "code",
   "execution_count": 44,
   "metadata": {},
   "outputs": [
    {
     "data": {
      "text/plain": [
       "'This is the first line.\\nThis is the second line.\\nThis is a third and last line.'"
      ]
     },
     "execution_count": 44,
     "metadata": {},
     "output_type": "execute_result"
    }
   ],
   "source": [
    "f = open('myfile.txt', 'r')\n",
    "f.read()"
   ]
  },
  {
   "cell_type": "code",
   "execution_count": 45,
   "metadata": {
    "collapsed": true
   },
   "outputs": [],
   "source": [
    "f.close()"
   ]
  },
  {
   "cell_type": "markdown",
   "metadata": {
    "lang": "zh-cn"
   },
   "source": [
    "#### fileobject.readlines（）\n",
    "\n",
    "`fileobject.readlines（）`方法返回一个字符串列表，其中列表的每个元素对应于字符串中的一行："
   ]
  },
  {
   "cell_type": "code",
   "execution_count": 46,
   "metadata": {},
   "outputs": [
    {
     "data": {
      "text/plain": [
       "['This is the first line.\\n',\n",
       " 'This is the second line.\\n',\n",
       " 'This is a third and last line.']"
      ]
     },
     "execution_count": 46,
     "metadata": {},
     "output_type": "execute_result"
    }
   ],
   "source": [
    "f = open('myfile.txt', 'r')\n",
    "f.readlines()"
   ]
  },
  {
   "cell_type": "code",
   "execution_count": 47,
   "metadata": {
    "collapsed": true
   },
   "outputs": [],
   "source": [
    "f.close()"
   ]
  },
  {
   "cell_type": "markdown",
   "metadata": {
    "lang": "zh-cn"
   },
   "source": [
    "这通常用于遍历各行，并对每行进行某些操作。例如："
   ]
  },
  {
   "cell_type": "code",
   "execution_count": 48,
   "metadata": {},
   "outputs": [
    {
     "name": "stdout",
     "output_type": "stream",
     "text": [
      "24 characters\n",
      "25 characters\n",
      "30 characters\n"
     ]
    }
   ],
   "source": [
    "f = open('myfile.txt', 'r')\n",
    "for line in f.readlines():\n",
    "    print(\"%d characters\" % len(line))\n",
    "f.close()"
   ]
  },
  {
   "cell_type": "markdown",
   "metadata": {
    "lang": "zh-cn"
   },
   "source": [
    "注意，当调用`readlines（）`方法时，它将把整个文件读入一个字符串列表。如果我们知道文件很小并且可以放入机器的内存中，那么这没问题。\n",
    "\n",
    "如果是这样，我们还可以在处理数据之前关闭文件，即："
   ]
  },
  {
   "cell_type": "code",
   "execution_count": 49,
   "metadata": {},
   "outputs": [
    {
     "name": "stdout",
     "output_type": "stream",
     "text": [
      "24 characters\n",
      "25 characters\n",
      "30 characters\n"
     ]
    }
   ],
   "source": [
    "f = open('myfile.txt', 'r')\n",
    "lines = f.readlines()\n",
    "f.close()\n",
    "for line in lines:\n",
    "    print(\"%d characters\" % len(line))"
   ]
  },
  {
   "cell_type": "markdown",
   "metadata": {
    "lang": "zh-cn"
   },
   "source": [
    "####遍历行（文件对象）\n",
    "\n",
    "逐行读取文件的可能性更小：（i）一次只能读取一行（因此也适用于大文件），并且（ii）产生更紧凑的代码："
   ]
  },
  {
   "cell_type": "code",
   "execution_count": 50,
   "metadata": {},
   "outputs": [
    {
     "name": "stdout",
     "output_type": "stream",
     "text": [
      "24 characters\n",
      "25 characters\n",
      "30 characters\n"
     ]
    }
   ],
   "source": [
    "f = open('myfile.txt', 'r')\n",
    "for line in f:\n",
    "    print(\"%d characters\" % len(line))\n",
    "f.close()"
   ]
  },
  {
   "cell_type": "markdown",
   "metadata": {
    "lang": "zh-cn"
   },
   "source": [
    "在这里，文件处理程序f充当迭代器，它将在for循环的每个后续迭代中返回下一行，直到到达文件末尾（然后for循环终止）。\n",
    "\n",
    "#####进一步阅读\n",
    "\n",
    "[文件对象的方法，教程，第7.2.1节]（http://docs.python.org/tutorial/inputoutput.html#methods-of-file-objects）"
   ]
  }
 ],
 "metadata": {
  "kernelspec": {
   "display_name": "Python 3",
   "language": "python",
   "name": "python3"
  },
  "language_info": {
   "codemirror_mode": {
    "name": "ipython",
    "version": 3
   },
   "file_extension": ".py",
   "mimetype": "text/x-python",
   "name": "python",
   "nbconvert_exporter": "python",
   "pygments_lexer": "ipython3",
   "version": "3.7.6"
  },
  "nbTranslate": {
   "displayLangs": [
    "zh-cn",
    "en"
   ],
   "hotkey": "alt-t",
   "langInMainMenu": true,
   "sourceLang": "en",
   "targetLang": "zh-cn",
   "useGoogleTranslate": true
  }
 },
 "nbformat": 4,
 "nbformat_minor": 1
}

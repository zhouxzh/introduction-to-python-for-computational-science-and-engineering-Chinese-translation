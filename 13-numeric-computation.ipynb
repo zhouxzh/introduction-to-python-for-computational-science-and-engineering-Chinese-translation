{
 "cells": [
  {
   "cell_type": "markdown",
   "metadata": {
    "lang": "zh-cn"
   },
   "source": [
    "数值计算\n",
    "=====================\n",
    "\n",
    "数字和数字\n",
    "-------------------\n",
    "\n",
    "我们已经看到（[Numbers](03-data-types-structures.ipynb#Numbers)）Python知道不同的*ty​​pes*数字：\n",
    "\n",
    "- 浮点数，例如3.14\n",
    "\n",
    "- 如42这样的整数\n",
    "\n",
    "- 复杂的数字，例如3.14 + 1 *j*\n",
    "\n",
    "### 数字类型的局限性\n",
    "\n",
    "`int`的局限性\n",
    "\n",
    "数学提供了set = {1，2，3，...}的自然数的无限集合。由于计算机的大小为*有限*，因此不可能在计算机中表示所有这些数字。相反，仅代表一小部分数字。\n",
    "\n",
    "int类型可以（通常[3]）表示-2147483648和+2147483647之间的数字，并且对应4个字节（即4\\*8位，以及2<sup>32</sup> = 4294967296），其范围是-2147483648和+2147483647 ）。\n",
    "\n",
    "您可以想象，硬件使用这样的表来使用位对整数进行编码（为简单起见，为此我们仅使用8位）：\n",
    "\n",
    "|  自然数|  位表示|\n",
    "|---------------:|-------------------:|\n",
    "|               0|            00000000|\n",
    "|               1|            00000001|\n",
    "|               2|            00000010|\n",
    "|               3|            00000011|\n",
    "|               4|            00000100|\n",
    "|               5|            00000101|\n",
    "|               ⋮|                   ⋮|\n",
    "|             254|            11111110|\n",
    "|             255|            11111111|\n",
    "\n",
    "使用8位，我们可以表示256个自然数（例如，从0到255），因为我们有2<sup>8</sup> = 256种不同的方式来组合八个0和1。\n",
    "\n",
    "我们还可以使用略有不同的表来描述256个整数，范围从-127到+128。\n",
    "\n",
    "这是*原则上*在计算机中表示整数的方式。根据所使用的字节数，只能表示介于最小值和最大值之间的整数。在当今的硬件上，通常使用4或8个字节来表示一个整数，这正好导致-2147483648和+2147483647的最小值和最大值（如上图所示）为4个字节，而+9223372036854775807为8个字节的最大整数（≈9.2 ⋅ 10<sup>18</sup>）。\n",
    "\n",
    "#### float的局限性\n",
    "\n",
    "计算机中的浮点数与数学浮点数不同。 （这与（数学上的）整数完全相同，与计算机中的整数不同）：无限整数集中的*subset*只能由`int`数据表示键入，如[数字和数字]（＃数字和数字）中所示。那么浮点数在计算机中如何表示？\n",
    "\n",
    "- 任何实数*x*都可以写为*x* = *a* ⋅ 10<sup>*b*</sup>\n",
    "     其中*a*是尾数，*b*是指数。\n",
    "\n",
    "- 例子：\n",
    "\n",
    "| x                                 | a       | b  |\n",
    "|-----------------------------------|---------|----|\n",
    "| 123.45 = 1.23456 ⋅ 10<sup>2</sup> | 1.23456 |  2 |\n",
    "| 1000000 = 1.0 ⋅ 10<sup>6</sup>    | 1.00000 |  6 |\n",
    "| 0.0000024 = 2.4 ⋅ 10<sup>-6</sup> | 2.40000 | -6 |"
   ]
  },
  {
   "cell_type": "markdown",
   "metadata": {
    "lang": "zh-cn"
   },
   "source": [
    "- 因此，我们可以使用2个整数来编码一个浮点数！\n",
    "\n",
    "    *x* = *a*⋅10<sup> *b* </sup>"
   ]
  },
  {
   "cell_type": "markdown",
   "metadata": {
    "lang": "zh-cn"
   },
   "source": [
    "- 遵循（大致）IEEE-754标准，一个浮点*x*使用8个字节：这64位被拆分为\n",
    "\n",
    "    -指数*b*的10位\n",
    "\n",
    "    -尾数*a*的54位。\n",
    "\n",
    "这导致\n",
    "\n",
    "- 可能的最大浮点数≈10<sup>308</sup>（*b*的质量度量）\n",
    "\n",
    "- 最小可能的（正数）浮点型≈10<sup>-308</sup>（*b*的质量度量）\n",
    "\n",
    "- 1.0与下一个更大数字≈10<sup>−16</sup>之间的距离（*a*的质量度量）"
   ]
  },
  {
   "cell_type": "markdown",
   "metadata": {
    "lang": "zh-cn"
   },
   "source": [
    "请注意，这*实际上*是如何存储浮点数的方法（实际上有点复杂）。\n",
    "\n",
    "#### 复杂数字的局限性\n",
    "\n",
    "`复数`数字类型与`float`数据类型具有基本相同的限制（请参阅[floats的限制](#Limitations-of-floats)），因为复数由两个` floats`组成：一个代表实数部分，另一部分是虚构部分。\n",
    "\n",
    "#### …这些数字类型具有实用价值吗？\n",
    "\n",
    "实际上，我们通常不会在日常生活中发现超过10<sup>300</sup>的数字（这是一个具有300个零的数字！），因此浮点数涵盖了我们通常需要的数字范围。\n",
    "\n",
    "但是，请注意，在科学计算中，会使用较小和较大的数字，这些数字可能（通常在中间结果中）超过浮点数的范围。\n",
    "\n",
    "- 例如，假设我们必须取常数ℏ = 1.0545716 ⋅ 10<sup>−34</sup>*k**g**m*<sup>2</sup>/*s*:\n",
    "\n",
    "- ℏ<sup>4</sup> = 1.2368136958909421 ⋅ 10<sup>−136</sup>*k**g*<sup>4</sup>*m*<sup>8</sup>/*s*<sup>4</sup>，这是我们可表示的最小正数的“一半”浮点数为10<sup>-308</sup>。\n",
    "\n",
    "如果存在任何可能超出浮点数范围的危险，则必须*重新缩放*我们的方程式，以便（理想情况下）所有数字都是阶数统一的。重新调整方程式的比例，使所有相关数字都近似为1，这在调试我们的代码时也很有用：如果出现的数字远大于或小于1，则可能表明有错误。\n",
    "\n",
    "### 使用浮点数（粗心）\n",
    "\n",
    "我们已经知道，我们需要注意浮点值不会超出计算机中可以表示的浮点数范围。\n",
    "\n",
    "由于必须在内部表示浮点数的方式还有另一个复杂之处：并非所有浮点数都可以在计算机中精确表示。可以精确表示数字1.0，但是数字0.1、0.2和0.3不能："
   ]
  },
  {
   "cell_type": "code",
   "execution_count": 1,
   "metadata": {},
   "outputs": [
    {
     "data": {
      "text/plain": [
       "'1.00000000000000000000'"
      ]
     },
     "execution_count": 1,
     "metadata": {},
     "output_type": "execute_result"
    }
   ],
   "source": [
    "'%.20f' % 1.0"
   ]
  },
  {
   "cell_type": "code",
   "execution_count": 2,
   "metadata": {},
   "outputs": [
    {
     "data": {
      "text/plain": [
       "'0.10000000000000000555'"
      ]
     },
     "execution_count": 2,
     "metadata": {},
     "output_type": "execute_result"
    }
   ],
   "source": [
    "'%.20f' % 0.1"
   ]
  },
  {
   "cell_type": "code",
   "execution_count": 3,
   "metadata": {},
   "outputs": [
    {
     "data": {
      "text/plain": [
       "'0.20000000000000001110'"
      ]
     },
     "execution_count": 3,
     "metadata": {},
     "output_type": "execute_result"
    }
   ],
   "source": [
    "'%.20f' % 0.2"
   ]
  },
  {
   "cell_type": "code",
   "execution_count": 4,
   "metadata": {},
   "outputs": [
    {
     "data": {
      "text/plain": [
       "'0.29999999999999998890'"
      ]
     },
     "execution_count": 4,
     "metadata": {},
     "output_type": "execute_result"
    }
   ],
   "source": [
    "'%.20f' % 0.3"
   ]
  },
  {
   "cell_type": "markdown",
   "metadata": {
    "lang": "zh-cn"
   },
   "source": [
    "取而代之的是选择浮点数“最接近实数”。\n",
    "\n",
    "这可能会引起问题。假设我们需要一个循环，其中x取值0.1、0.2、0.3，...，0.9、1.0。我们可能很想写这样的东西：\n",
    "\n",
    "```python\n",
    "x = 0.0\n",
    "while not x == 1.0:\n",
    "    x = x + 0.1\n",
    "    print ( \" x =%19.17f\" % ( x ))\n",
    "```"
   ]
  },
  {
   "cell_type": "markdown",
   "metadata": {
    "lang": "zh-cn"
   },
   "source": [
    "但是，此循环永远不会终止。这是程序输出的前11行：\n",
    "\n",
    "    x = 0.10000000000000001\n",
    "    x = 0.20000000000000001\n",
    "    x = 0.30000000000000004\n",
    "    x = 0.40000000000000002\n",
    "    x = 0.5\n",
    "    x = 0.59999999999999998\n",
    "    x = 0.6999999999999999999\n",
    "    x = 0.79999999999999993993\n",
    "    x = 0.89999999999999991\n",
    "    x = 0.99999999999999989\n",
    "    x = 1.09999999999999987"
   ]
  },
  {
   "cell_type": "markdown",
   "metadata": {
    "lang": "zh-cn"
   },
   "source": [
    "因为变量`x`永远不会精确地取值为1.0，所以while循环将永远继续。\n",
    "\n",
    "因此：*切勿比较两个浮点数是否相等。*"
   ]
  },
  {
   "cell_type": "markdown",
   "metadata": {
    "lang": "zh-cn"
   },
   "source": [
    "### 谨慎使用浮点数1\n",
    "\n",
    "有许多替代方法可以解决此问题。例如，我们可以比较两个浮点数之间的距离："
   ]
  },
  {
   "cell_type": "code",
   "execution_count": 5,
   "metadata": {},
   "outputs": [
    {
     "name": "stdout",
     "output_type": "stream",
     "text": [
      " x =0.10000000000000001\n",
      " x =0.20000000000000001\n",
      " x =0.30000000000000004\n",
      " x =0.40000000000000002\n",
      " x =0.50000000000000000\n",
      " x =0.59999999999999998\n",
      " x =0.69999999999999996\n",
      " x =0.79999999999999993\n",
      " x =0.89999999999999991\n",
      " x =0.99999999999999989\n"
     ]
    }
   ],
   "source": [
    "x = 0.0\n",
    "while abs(x - 1.0) > 1e-8:\n",
    "    x = x + 0.1\n",
    "    print ( \" x =%19.17f\" % ( x ))"
   ]
  },
  {
   "cell_type": "markdown",
   "metadata": {
    "lang": "zh-cn"
   },
   "source": [
    "### 谨慎使用浮点数2\n",
    "\n",
    "或者，我们可以（对于本示例）遍历整数序列并从整数计算浮点数："
   ]
  },
  {
   "cell_type": "code",
   "execution_count": 6,
   "metadata": {},
   "outputs": [
    {
     "name": "stdout",
     "output_type": "stream",
     "text": [
      " x =0.10000000000000001\n",
      " x =0.20000000000000001\n",
      " x =0.30000000000000004\n",
      " x =0.40000000000000002\n",
      " x =0.50000000000000000\n",
      " x =0.60000000000000009\n",
      " x =0.70000000000000007\n",
      " x =0.80000000000000004\n",
      " x =0.90000000000000002\n",
      " x =1.00000000000000000\n"
     ]
    }
   ],
   "source": [
    "for i in range (1 , 11):\n",
    "    x = i * 0.1\n",
    "    print(\" x =%19.17f\" % ( x ))"
   ]
  },
  {
   "cell_type": "code",
   "execution_count": 7,
   "metadata": {},
   "outputs": [],
   "source": [
    "x=0.10000000000000001\n",
    "x=0.20000000000000001\n",
    "x=0.30000000000000004\n",
    "x=0.40000000000000002\n",
    "x=                0.5\n",
    "x=0.60000000000000009\n",
    "x=0.70000000000000007\n",
    "x=0.80000000000000004\n",
    "x=0.90000000000000002\n",
    "x=                  1"
   ]
  },
  {
   "cell_type": "markdown",
   "metadata": {
    "lang": "zh-cn"
   },
   "source": [
    "如果将其与[使用浮点数（粗心）](#Using-floating-point-numbers-&#40;carelessly&#41;)中程序的输出进行比较，则可以看到浮点数不同。这意味着-在数值计算中-0.1 + 0.1 + 0.1 + 0.1 + 0.1 + 0.1 + 0.1 + 0.1 + 0.1 + 0.1 + 0.1 + 0.1 = 1.0是不正确的。"
   ]
  },
  {
   "cell_type": "markdown",
   "metadata": {
    "lang": "zh-cn"
   },
   "source": [
    "### 符号计算\n",
    "\n",
    "使用sympy包，我们可以任意精度。使用<span>`sympy.Rational`</span>，我们可以精确地以符号形式定义分数1/10。如该脚本所示，将这10次相加将精确得出值1。"
   ]
  },
  {
   "cell_type": "code",
   "execution_count": 8,
   "metadata": {},
   "outputs": [
    {
     "name": "stdout",
     "output_type": "stream",
     "text": [
      "Current x=1/10 = 0.1 \n",
      " Reached x=1/10 \n",
      "Current x= 1/5 = 0.2 \n",
      " Reached x=1/5 \n",
      "Current x=3/10 = 0.3 \n",
      " Reached x=3/10 \n",
      "Current x= 2/5 = 0.4 \n",
      " Reached x=2/5 \n",
      "Current x= 1/2 = 0.5 \n",
      " Reached x=1/2 \n",
      "Current x= 3/5 = 0.6 \n",
      " Reached x=3/5 \n",
      "Current x=7/10 = 0.7 \n",
      " Reached x=7/10 \n",
      "Current x= 4/5 = 0.8 \n",
      " Reached x=4/5 \n",
      "Current x=9/10 = 0.9 \n",
      " Reached x=9/10 \n",
      "Current x=   1 = 1.0 \n",
      " Reached x=1 \n"
     ]
    }
   ],
   "source": [
    "from sympy import Rational\n",
    "dx = Rational (1 ,10)\n",
    "x = 0\n",
    "while x != 1.0:\n",
    "    x = x + dx\n",
    "    print(\"Current x=%4s = %3.1f \" % (x , x . evalf ()))\n",
    "    print(\" Reached x=%s \" % x)"
   ]
  },
  {
   "cell_type": "markdown",
   "metadata": {
    "lang": "zh-cn"
   },
   "source": [
    "但是，这种符号计算要慢得多，因为它是通过软件而不是基于CPU的浮点运算完成的。下一个程序近似了相对性能："
   ]
  },
  {
   "cell_type": "code",
   "execution_count": 9,
   "metadata": {},
   "outputs": [
    {
     "name": "stdout",
     "output_type": "stream",
     "text": [
      "loop using float dx:\n",
      " deviation is -1.88483681995422e-08\n",
      "float loop n=100000 takes 0.01202 seconds\n",
      "loop using sympy symbolic dx:\n",
      " deviation is                0\n",
      "sympy loop n = 100000 takes 1.92798 seconds\n",
      "Symbolic loop is a factor 160.4 slower.\n"
     ]
    }
   ],
   "source": [
    "# NBVAL_IGNORE_OUTPUT\n",
    "from sympy import Rational\n",
    "dx_symbolic = Rational (1 ,10)\n",
    "dx = 0.1\n",
    "\n",
    "def loop_sympy (n):\n",
    "    x = 0\n",
    "    for i in range(n):\n",
    "        x = x + dx_symbolic\n",
    "    return x\n",
    "\n",
    "def loop_float(n):\n",
    "    x =0\n",
    "    for i in range(n):\n",
    "        x = x + dx\n",
    "    return x\n",
    "\n",
    "def time_this (f, n):\n",
    "    import time\n",
    "    starttime = time.time()\n",
    "    result = f(n)\n",
    "    stoptime = time.time()\n",
    "    print(\" deviation is %16.15g\" % ( n * dx_symbolic - result ))\n",
    "    return stoptime - starttime\n",
    "\n",
    "n = 100000\n",
    "print(\"loop using float dx:\")\n",
    "time_float = time_this(loop_float, n)\n",
    "print(\"float loop n=%d takes %6.5f seconds\" % (n, time_float))\n",
    "print(\"loop using sympy symbolic dx:\")\n",
    "time_sympy = time_this (loop_sympy, n)\n",
    "print(\"sympy loop n =% d takes %6.5f seconds\" % (n , time_sympy ))\n",
    "print(\"Symbolic loop is a factor %.1f slower.\" % ( time_sympy / time_float ))"
   ]
  },
  {
   "cell_type": "markdown",
   "metadata": {
    "lang": "zh-cn"
   },
   "source": [
    "当然，这是一个人工的例子：我们添加了符号代码来证明这些舍入错误源自硬件（以及编程语言）中浮点数的近似表示。我们原则上可以通过使用符号表达式进行计算来避免这些复杂性，但是实际上这太慢了。[4]"
   ]
  },
  {
   "cell_type": "markdown",
   "metadata": {
    "lang": "zh-cn"
   },
   "source": [
    "### 摘要\n",
    "\n",
    "总而言之，我们了解到\n",
    "\n",
    "- 数值计算中使用的浮点数和整数通常与“数学数”有很大不同（符号计算是精确的，并使用“数学数”）：\n",
    "\n",
    "    - 有一个可以表示的最大数和一个最小数（对于整数和浮点数）\n",
    "\n",
    "    - 在此范围内，不是每个浮点数都可以在计算机中表示出来。\n",
    "\n",
    "- 我们通过以下方式处理此限制：\n",
    "\n",
    "    - 绝不比较两个浮点数是否相等（相反，我们计算差的绝对值）\n",
    "\n",
    "    - 使用*稳定*的算法（这意味着该算法可以纠正与正确数字的微小偏差。我们尚未在本文中显示任何此类示例。）\n",
    "\n",
    "- 注意，关于数值和算法技巧以及使数值计算尽可能准确的方法还有很多要说的，但这不在本节的讨论范围之内。"
   ]
  },
  {
   "cell_type": "markdown",
   "metadata": {
    "lang": "zh-cn"
   },
   "source": [
    "### 练习：无限循环或有限循环\n",
    "\n",
    "1.以下代码计算什么？循环会结束吗？为什么？\n",
    "\n",
    "```python\n",
    "eps = 1.0\n",
    "while 1.0 + eps > 1.0:\n",
    "    eps = eps / 2.0\n",
    "print(eps)\n",
    "```"
   ]
  }
 ],
 "metadata": {
  "kernelspec": {
   "display_name": "Python 3",
   "language": "python",
   "name": "python3"
  },
  "language_info": {
   "codemirror_mode": {
    "name": "ipython",
    "version": 3
   },
   "file_extension": ".py",
   "mimetype": "text/x-python",
   "name": "python",
   "nbconvert_exporter": "python",
   "pygments_lexer": "ipython3",
   "version": "3.7.6"
  },
  "nbTranslate": {
   "displayLangs": [
    "zh-cn",
    "en"
   ],
   "hotkey": "alt-t",
   "langInMainMenu": true,
   "sourceLang": "en",
   "targetLang": "zh-cn",
   "useGoogleTranslate": true
  }
 },
 "nbformat": 4,
 "nbformat_minor": 1
}
